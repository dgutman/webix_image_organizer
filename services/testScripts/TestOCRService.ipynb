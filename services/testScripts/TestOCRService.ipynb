{
 "cells": [
  {
   "cell_type": "code",
   "execution_count": 1,
   "metadata": {},
   "outputs": [],
   "source": [
    "#Testing DSA OCR service features\n",
    "import girder_client\n",
    "import ocr\n",
    "import server\n",
    "from IPython.display import Image as IPImage\n",
    "\n",
    "# import PIL\n",
    "# from PIL import Image\n",
    "import requests\n",
    "%load_ext autoreload\n",
    "%autoreload 2"
   ]
  },
  {
   "cell_type": "code",
   "execution_count": 2,
   "metadata": {},
   "outputs": [
    {
     "name": "stdout",
     "output_type": "stream",
     "text": [
      "Login or email: admin\n",
      "Password for admin: ········\n"
     ]
    }
   ],
   "source": [
    "gc=girder_client.GirderClient(apiUrl=\"http://transplant.digitalslidearchive.emory.edu:8080/api/v1\")\n",
    "gc.authenticate(interactive=True)"
   ]
  },
  {
   "cell_type": "code",
   "execution_count": null,
   "metadata": {},
   "outputs": [
    {
     "name": "stdout",
     "output_type": "stream",
     "text": [
      "Scanning folder 2019-03-14\n"
     ]
    },
    {
     "name": "stderr",
     "output_type": "stream",
     "text": [
      "100%|██████████| 359/359 [00:00<00:00, 245436.86it/s]\n"
     ]
    },
    {
     "name": "stdout",
     "output_type": "stream",
     "text": [
      "http://0.0.0.0:5000/label?ids=5cb8e67be62914006760898f\n",
      "358 Had a data matrix alraedy\n",
      "Scanning folder 2019-03-15\n"
     ]
    },
    {
     "name": "stderr",
     "output_type": "stream",
     "text": [
      "100%|██████████| 277/277 [00:00<00:00, 169238.49it/s]\n"
     ]
    },
    {
     "name": "stdout",
     "output_type": "stream",
     "text": [
      "635 Had a data matrix alraedy\n",
      "Scanning folder 2019-03-16\n"
     ]
    },
    {
     "name": "stderr",
     "output_type": "stream",
     "text": [
      "100%|██████████| 155/155 [00:00<00:00, 194471.17it/s]\n"
     ]
    },
    {
     "name": "stdout",
     "output_type": "stream",
     "text": [
      "790 Had a data matrix alraedy\n",
      "Scanning folder 2019-03-18\n"
     ]
    },
    {
     "name": "stderr",
     "output_type": "stream",
     "text": [
      "100%|██████████| 306/306 [00:00<00:00, 111896.86it/s]\n"
     ]
    },
    {
     "name": "stdout",
     "output_type": "stream",
     "text": [
      "http://0.0.0.0:5000/label?ids=5cb8e7a8e629140067609344,5cb8e7bbe6291400676093d4,5cb8e816e6291400676096bf,5cb8e83ce6291400676097d4\n",
      "1092 Had a data matrix alraedy\n",
      "Scanning folder 2019-03-19\n"
     ]
    },
    {
     "name": "stderr",
     "output_type": "stream",
     "text": [
      "100%|██████████| 380/380 [00:00<00:00, 305566.63it/s]\n"
     ]
    },
    {
     "name": "stdout",
     "output_type": "stream",
     "text": [
      "http://0.0.0.0:5000/label?ids=5cb8e8d0e629140067609cb8,5cb8e868e629140067609950,5cb8e8a9e629140067609b60,5cb8e860e62914006760990d\n",
      "1468 Had a data matrix alraedy\n",
      "Scanning folder 2019-03-20\n"
     ]
    },
    {
     "name": "stderr",
     "output_type": "stream",
     "text": [
      "100%|██████████| 382/382 [00:00<00:00, 212383.90it/s]\n"
     ]
    },
    {
     "name": "stdout",
     "output_type": "stream",
     "text": [
      "http://0.0.0.0:5000/label?ids=5cb8e90fe629140067609ebf,5cb8e976e62914006760a1f6\n",
      "1848 Had a data matrix alraedy\n",
      "Scanning folder 2019-03-21\n"
     ]
    },
    {
     "name": "stderr",
     "output_type": "stream",
     "text": [
      "\r",
      "  0%|          | 0/412 [00:00<?, ?it/s]"
     ]
    },
    {
     "name": "stdout",
     "output_type": "stream",
     "text": [
      "You have a batch of 10\n",
      "http://localhost:5000/label?ids=5cb8ea69e62914006760a9db,5cb8e9c7e62914006760a495,5cb8e9ede62914006760a5de,5cb8ea3be62914006760a854,5cb8ea50e62914006760a902,5cb8e9f9e62914006760a642,5cb8e9d4e62914006760a50c,5cb8e9aee62914006760a3ca,5cb8e9f7e62914006760a637,5cb8ea4fe62914006760a8f6\n"
     ]
    },
    {
     "name": "stderr",
     "output_type": "stream",
     "text": [
      "\r",
      " 63%|██████▎   | 259/412 [00:35<00:20,  7.34it/s]"
     ]
    },
    {
     "name": "stdout",
     "output_type": "stream",
     "text": [
      "You have a batch of 10\n",
      "http://localhost:5000/label?ids=5cb8ea31e62914006760a7f9,5cb8e9d5e62914006760a51a,5cb8ea17e62914006760a71d,5cb8e9c2e62914006760a470,5cb8ea46e62914006760a8af,5cb8ea50e62914006760a8fe,5cb8e9fee62914006760a660,5cb8ea2ee62914006760a7df,5cb8e9d9e62914006760a532,5cb8ea3fe62914006760a877\n"
     ]
    },
    {
     "name": "stderr",
     "output_type": "stream",
     "text": [
      "\r",
      " 65%|██████▌   | 269/412 [01:15<03:05,  1.30s/it]"
     ]
    },
    {
     "name": "stdout",
     "output_type": "stream",
     "text": [
      "You have a batch of 10\n",
      "http://localhost:5000/label?ids=5cb8e9aee62914006760a3ce,5cb8ea6de62914006760aa05,5cb8ea11e62914006760a6ee,5cb8e9afe62914006760a3d4,5cb8ea63e62914006760a9ac,5cb8e9efe62914006760a5e9,5cb8e9dae62914006760a53e,5cb8ea54e62914006760a921,5cb8ea3de62914006760a862,5cb8ea64e62914006760a9bc\n"
     ]
    },
    {
     "name": "stderr",
     "output_type": "stream",
     "text": [
      "\r",
      " 68%|██████▊   | 279/412 [01:53<04:32,  2.05s/it]"
     ]
    },
    {
     "name": "stdout",
     "output_type": "stream",
     "text": [
      "You have a batch of 10\n",
      "http://localhost:5000/label?ids=5cb8ea34e62914006760a811,5cb8ea69e62914006760a9d9,5cb8e9d9e62914006760a538,5cb8ea00e62914006760a678,5cb8ea55e62914006760a927,5cb8ea30e62914006760a7ef,5cb8e9c3e62914006760a474,5cb8ea4de62914006760a8f0,5cb8ea1de62914006760a751,5cb8e9d0e62914006760a4f0\n"
     ]
    },
    {
     "name": "stderr",
     "output_type": "stream",
     "text": [
      "\r",
      " 70%|███████   | 289/412 [02:34<05:26,  2.66s/it]"
     ]
    },
    {
     "name": "stdout",
     "output_type": "stream",
     "text": [
      "You have a batch of 10\n",
      "http://localhost:5000/label?ids=5cb8ea5ee62914006760a980,5cb8e9dbe62914006760a545,5cb8ea37e62914006760a82e,5cb8e9ebe62914006760a5ca,5cb8e9afe62914006760a3da,5cb8ea44e62914006760a89d,5cb8ea48e62914006760a8c3,5cb8ea55e62914006760a929,5cb8ea10e62914006760a6ea,5cb8e9efe62914006760a5e7\n"
     ]
    },
    {
     "name": "stderr",
     "output_type": "stream",
     "text": [
      "\r",
      " 73%|███████▎  | 299/412 [03:18<06:00,  3.19s/it]"
     ]
    },
    {
     "name": "stdout",
     "output_type": "stream",
     "text": [
      "You have a batch of 10\n",
      "http://localhost:5000/label?ids=5cb8ea0ae62914006760a6c5,5cb8e9e4e62914006760a58e,5cb8e9b0e62914006760a3de,5cb8e9dee62914006760a55d,5cb8ea08e62914006760a6af,5cb8ea42e62914006760a88d,5cb8e9d5e62914006760a516,5cb8ea01e62914006760a67c,5cb8e9fde62914006760a65e,5cb8ea3ee62914006760a86a\n"
     ]
    },
    {
     "name": "stderr",
     "output_type": "stream",
     "text": [
      "\r",
      " 75%|███████▌  | 309/412 [03:59<05:56,  3.46s/it]"
     ]
    },
    {
     "name": "stdout",
     "output_type": "stream",
     "text": [
      "You have a batch of 10\n",
      "http://localhost:5000/label?ids=5cb8ea68e62914006760a9d7,5cb8ea1ee62914006760a753,5cb8ea21e62914006760a76c,5cb8ea27e62914006760a798,5cb8ea5de62914006760a976,5cb8ea07e62914006760a6ab,5cb8ea2ae62914006760a7b8,5cb8e9d2e62914006760a502,5cb8ea29e62914006760a7b4,5cb8ea16e62914006760a717\n"
     ]
    },
    {
     "name": "stderr",
     "output_type": "stream",
     "text": [
      "\r",
      " 77%|███████▋  | 319/412 [04:40<05:39,  3.65s/it]"
     ]
    },
    {
     "name": "stdout",
     "output_type": "stream",
     "text": [
      "You have a batch of 10\n",
      "http://localhost:5000/label?ids=5cb8ea2be62914006760a7c9,5cb8e9b1e62914006760a3e4,5cb8e9b0e62914006760a3e2,5cb8ea0ee62914006760a6dc,5cb8e9b1e62914006760a3e6,5cb8e9e1e62914006760a577,5cb8e9cee62914006760a4db,5cb8ea36e62914006760a826,5cb8ea07e62914006760a6ad,5cb8ea09e62914006760a6b5\n"
     ]
    },
    {
     "name": "stderr",
     "output_type": "stream",
     "text": [
      "\r",
      " 80%|███████▉  | 329/412 [05:20<05:11,  3.75s/it]"
     ]
    },
    {
     "name": "stdout",
     "output_type": "stream",
     "text": [
      "You have a batch of 10\n",
      "http://localhost:5000/label?ids=5cb8ea4de62914006760a8e8,5cb8ea11e62914006760a6f2,5cb8ea2de62914006760a7d7,5cb8e9b2e62914006760a3e9,5cb8ea66e62914006760a9c0,5cb8e9bbe62914006760a42d,5cb8e9bbe62914006760a431,5cb8e9dbe62914006760a543,5cb8e9dce62914006760a547,5cb8e9c1e62914006760a46c\n"
     ]
    },
    {
     "name": "stderr",
     "output_type": "stream",
     "text": [
      "\r",
      " 82%|████████▏ | 339/412 [05:56<04:31,  3.72s/it]"
     ]
    },
    {
     "name": "stdout",
     "output_type": "stream",
     "text": [
      "You have a batch of 10\n",
      "http://localhost:5000/label?ids=5cb8ea12e62914006760a6fa,5cb8ea67e62914006760a9d3,5cb8e9b2e62914006760a3eb,5cb8e9f9e62914006760a640,5cb8ea08e62914006760a6b3,5cb8ea37e62914006760a82a,5cb8e9b3e62914006760a3ef,5cb8e9bce62914006760a43a,5cb8ea20e62914006760a767,5cb8e9bce62914006760a435\n"
     ]
    },
    {
     "name": "stderr",
     "output_type": "stream",
     "text": [
      "\r",
      " 85%|████████▍ | 349/412 [06:28<03:44,  3.56s/it]"
     ]
    },
    {
     "name": "stdout",
     "output_type": "stream",
     "text": [
      "You have a batch of 10\n",
      "http://localhost:5000/label?ids=5cb8ea49e62914006760a8cc,5cb8e9cae62914006760a4bb,5cb8ea0ee62914006760a6e0,5cb8e9e3e62914006760a589,5cb8ea25e62914006760a792,5cb8e9f2e62914006760a605,5cb8e9e6e62914006760a59e,5cb8e9bde62914006760a43c,5cb8e9cde62914006760a4cf,5cb8e9bde62914006760a442\n"
     ]
    },
    {
     "name": "stderr",
     "output_type": "stream",
     "text": [
      "\r",
      " 87%|████████▋ | 359/412 [07:02<03:05,  3.50s/it]"
     ]
    },
    {
     "name": "stdout",
     "output_type": "stream",
     "text": [
      "You have a batch of 10\n",
      "http://localhost:5000/label?ids=5cb8ea61e62914006760a99e,5cb8ea61e62914006760a99a,5cb8e9fde62914006760a65c,5cb8ea0ee62914006760a6d6,5cb8ea0be62914006760a6c9,5cb8ea32e62914006760a805,5cb8ea5fe62914006760a98c,5cb8ea5fe62914006760a986,5cb8e9dee62914006760a55f,5cb8e9e5e62914006760a592\n"
     ]
    },
    {
     "name": "stderr",
     "output_type": "stream",
     "text": [
      "\r",
      " 90%|████████▉ | 369/412 [07:34<02:26,  3.41s/it]"
     ]
    },
    {
     "name": "stdout",
     "output_type": "stream",
     "text": [
      "You have a batch of 10\n",
      "http://localhost:5000/label?ids=5cb8ea04e62914006760a695,5cb8e9cbe62914006760a4c1,5cb8ea5ce62914006760a96b,5cb8e9e8e62914006760a5be,5cb8e9e2e62914006760a57b,5cb8ea1fe62914006760a761,5cb8e9e3e62914006760a585,5cb8ea53e62914006760a919,5cb8e9f3e62914006760a60b,5cb8ea41e62914006760a889\n"
     ]
    },
    {
     "name": "stderr",
     "output_type": "stream",
     "text": [
      "\r",
      " 92%|█████████▏| 379/412 [08:08<01:52,  3.41s/it]"
     ]
    },
    {
     "name": "stdout",
     "output_type": "stream",
     "text": [
      "You have a batch of 10\n",
      "http://localhost:5000/label?ids=5cb8e9bee62914006760a448,5cb8e9ffe62914006760a66c,5cb8e9d3e62914006760a50a,5cb8e9e7e62914006760a5b0,5cb8ea6be62914006760a9ef,5cb8ea5be62914006760a961,5cb8ea45e62914006760a8ab,5cb8ea58e62914006760a941,5cb8e9bee62914006760a44e,5cb8e9d0e62914006760a4ee\n"
     ]
    },
    {
     "name": "stderr",
     "output_type": "stream",
     "text": [
      "\r",
      " 94%|█████████▍| 389/412 [08:41<01:17,  3.38s/it]"
     ]
    },
    {
     "name": "stdout",
     "output_type": "stream",
     "text": [
      "You have a batch of 10\n",
      "http://localhost:5000/label?ids=5cb8ea24e62914006760a780,5cb8e9bfe62914006760a452,5cb8ea57e62914006760a937,5cb8e9cce62914006760a4c5,5cb8ea4be62914006760a8da,5cb8ea64e62914006760a9b6,5cb8ea5be62914006760a95d,5cb8e9fce62914006760a65a,5cb8ea06e62914006760a6a7,5cb8e9bfe62914006760a456\n"
     ]
    },
    {
     "name": "stderr",
     "output_type": "stream",
     "text": [
      "\r",
      " 97%|█████████▋| 399/412 [09:14<00:43,  3.37s/it]"
     ]
    },
    {
     "name": "stdout",
     "output_type": "stream",
     "text": [
      "You have a batch of 10\n",
      "http://localhost:5000/label?ids=5cb8ea0ae62914006760a6bf,5cb8ea3ae62914006760a846,5cb8ea6ee62914006760aa0b,5cb8e9eee62914006760a5e3,5cb8e9b3e62914006760a3f5,5cb8e9e7e62914006760a5ac,5cb8ea5ce62914006760a965,5cb8e9c0e62914006760a45a,5cb8ea3ae62914006760a84b,5cb8e9cce62914006760a4cb\n"
     ]
    },
    {
     "name": "stderr",
     "output_type": "stream",
     "text": [
      "100%|██████████| 412/412 [09:47<00:00,  1.42s/it]\n"
     ]
    },
    {
     "name": "stdout",
     "output_type": "stream",
     "text": [
      "http://0.0.0.0:5000/label?ids=5cb8ea09e62914006760a6b9,5cb8ea08e62914006760a6b1,5cb8e9e8e62914006760a5b6\n",
      "2097 Had a data matrix alraedy\n",
      "Scanning folder 2019-03-22\n"
     ]
    },
    {
     "name": "stderr",
     "output_type": "stream",
     "text": [
      "\r",
      "  0%|          | 0/400 [00:00<?, ?it/s]"
     ]
    },
    {
     "name": "stdout",
     "output_type": "stream",
     "text": [
      "You have a batch of 10\n",
      "http://localhost:5000/label?ids=5cb8ead1e62914006760ad3a,5cb8eaa1e62914006760abe1,5cb8ea9fe62914006760abcb,5cb8eacde62914006760ad18,5cb8ead0e62914006760ad2d,5cb8eafbe62914006760ae4a,5cb8ea6fe62914006760aa10,5cb8ea6fe62914006760aa16,5cb8ea6fe62914006760aa1c,5cb8eacfe62914006760ad26\n"
     ]
    },
    {
     "name": "stderr",
     "output_type": "stream",
     "text": [
      "\r",
      "  2%|▎         | 10/400 [00:33<21:37,  3.33s/it]"
     ]
    },
    {
     "name": "stdout",
     "output_type": "stream",
     "text": [
      "You have a batch of 10\n",
      "http://localhost:5000/label?ids=5cb8ea9ae62914006760aba5,5cb8ea70e62914006760aa20,5cb8ea71e62914006760aa22,5cb8eae5e62914006760adba,5cb8ea71e62914006760aa25,5cb8eab9e62914006760ac7e,5cb8eab3e62914006760ac53,5cb8eac1e62914006760acac,5cb8eafee62914006760ae5f,5cb8ea9ee62914006760abc7\n"
     ]
    },
    {
     "name": "stderr",
     "output_type": "stream",
     "text": [
      "\r",
      "  5%|▌         | 20/400 [01:06<21:02,  3.32s/it]"
     ]
    },
    {
     "name": "stdout",
     "output_type": "stream",
     "text": [
      "You have a batch of 10\n",
      "http://localhost:5000/label?ids=5cb8ea71e62914006760aa2c,5cb8ead1e62914006760ad3e,5cb8eaa0e62914006760abd9,5cb8eadde62914006760ad99,5cb8eb1be62914006760af47,5cb8eaf4e62914006760ae1e,5cb8eaf1e62914006760ae07,5cb8eac3e62914006760acbf,5cb8ea72e62914006760aa31,5cb8eaf2e62914006760ae0d\n"
     ]
    },
    {
     "name": "stderr",
     "output_type": "stream",
     "text": [
      "\r",
      "  8%|▊         | 30/400 [01:43<21:17,  3.45s/it]"
     ]
    },
    {
     "name": "stdout",
     "output_type": "stream",
     "text": [
      "You have a batch of 10\n",
      "http://localhost:5000/label?ids=5cb8eab8e62914006760ac78,5cb8ead5e62914006760ad54,5cb8eacce62914006760ad0e,5cb8ea9fe62914006760abd1,5cb8eb1ae62914006760af37,5cb8ea72e62914006760aa37,5cb8ea73e62914006760aa39,5cb8ea73e62914006760aa3d,5cb8ea74e62914006760aa41,5cb8eafce62914006760ae56\n"
     ]
    },
    {
     "name": "stderr",
     "output_type": "stream",
     "text": [
      "\r",
      " 10%|█         | 40/400 [02:21<21:20,  3.56s/it]"
     ]
    },
    {
     "name": "stdout",
     "output_type": "stream",
     "text": [
      "You have a batch of 10\n",
      "http://localhost:5000/label?ids=5cb8ea9be62914006760abab,5cb8eaa4e62914006760abf2,5cb8eabbe62914006760ac84,5cb8ea9ce62914006760abaf,5cb8eb17e62914006760af27,5cb8ea74e62914006760aa47,5cb8eacbe62914006760ad03,5cb8ea9de62914006760abb9,5cb8eb01e62914006760ae73,5cb8eaf4e62914006760ae1c\n"
     ]
    },
    {
     "name": "stderr",
     "output_type": "stream",
     "text": [
      "\r",
      " 12%|█▎        | 50/400 [02:59<21:02,  3.61s/it]"
     ]
    },
    {
     "name": "stdout",
     "output_type": "stream",
     "text": [
      "You have a batch of 10\n",
      "http://localhost:5000/label?ids=5cb8ea74e62914006760aa4b,5cb8ea75e62914006760aa51,5cb8ea76e62914006760aa55,5cb8ead9e62914006760ad79,5cb8eaa1e62914006760abdf,5cb8eac6e62914006760acd9,5cb8eb1ce62914006760af4c,5cb8eb19e62914006760af31,5cb8ea76e62914006760aa5b,5cb8eaf9e62914006760ae3e\n"
     ]
    },
    {
     "name": "stderr",
     "output_type": "stream",
     "text": [
      "\r",
      " 15%|█▌        | 60/400 [03:35<20:29,  3.62s/it]"
     ]
    },
    {
     "name": "stdout",
     "output_type": "stream",
     "text": [
      "You have a batch of 10\n",
      "http://localhost:5000/label?ids=5cb8ea77e62914006760aa61,5cb8ea9de62914006760abbd,5cb8eaede62914006760adf1,5cb8ea9ae62914006760aba1,5cb8ea9be62914006760aba9,5cb8ea9ce62914006760abb3,5cb8ea77e62914006760aa67,5cb8eaf1e62914006760ae0b,5cb8eb1de62914006760af50,5cb8ead2e62914006760ad40\n"
     ]
    },
    {
     "name": "stderr",
     "output_type": "stream",
     "text": [
      "\r",
      " 18%|█▊        | 70/400 [04:16<20:44,  3.77s/it]"
     ]
    },
    {
     "name": "stdout",
     "output_type": "stream",
     "text": [
      "You have a batch of 10\n",
      "http://localhost:5000/label?ids=5cb8ea78e62914006760aa6d,5cb8ea79e62914006760aa73,5cb8ea79e62914006760aa75,5cb8eab7e62914006760ac70,5cb8eb22e62914006760af82,5cb8eaf8e62914006760ae3c,5cb8eaefe62914006760ae01,5cb8eb13e62914006760af07,5cb8ea79e62914006760aa7b,5cb8ea7ae62914006760aa83\n"
     ]
    },
    {
     "name": "stderr",
     "output_type": "stream",
     "text": [
      "\r",
      " 20%|██        | 80/400 [04:54<20:08,  3.78s/it]"
     ]
    },
    {
     "name": "stdout",
     "output_type": "stream",
     "text": [
      "You have a batch of 10\n",
      "http://localhost:5000/label?ids=5cb8eabee62914006760ac98,5cb8eb10e62914006760aee8,5cb8eb1ee62914006760af5e,5cb8eaf6e62914006760ae2e,5cb8eabae62914006760ac82,5cb8ea7ae62914006760aa87,5cb8ea7be62914006760aa8c,5cb8eaa0e62914006760abd5,5cb8eabae62914006760ac80,5cb8eabfe62914006760aca2\n"
     ]
    },
    {
     "name": "stderr",
     "output_type": "stream",
     "text": [
      "\r",
      " 22%|██▎       | 90/400 [05:32<19:34,  3.79s/it]"
     ]
    },
    {
     "name": "stdout",
     "output_type": "stream",
     "text": [
      "You have a batch of 10\n",
      "http://localhost:5000/label?ids=5cb8eaebe62914006760ade9,5cb8ead7e62914006760ad65,5cb8ea7be62914006760aa90,5cb8eafee62914006760ae5d,5cb8ead0e62914006760ad30,5cb8eabee62914006760ac9a,5cb8ea7ce62914006760aa94,5cb8eb1ae62914006760af3b,5cb8ea7ce62914006760aa96,5cb8eacee62914006760ad22\n"
     ]
    },
    {
     "name": "stderr",
     "output_type": "stream",
     "text": [
      "\r",
      " 25%|██▌       | 100/400 [06:05<18:11,  3.64s/it]"
     ]
    },
    {
     "name": "stdout",
     "output_type": "stream",
     "text": [
      "You have a batch of 10\n",
      "http://localhost:5000/label?ids=5cb8ea7de62914006760aa9c,5cb8ea7de62914006760aaa0,5cb8eaa2e62914006760abe3,5cb8ea7ee62914006760aaa2,5cb8eb1be62914006760af43,5cb8eac2e62914006760acb9,5cb8ea7ee62914006760aaa8,5cb8ea9be62914006760aba7,5cb8eabbe62914006760ac86,5cb8ea7fe62914006760aaac\n"
     ]
    },
    {
     "name": "stderr",
     "output_type": "stream",
     "text": [
      "\r",
      " 28%|██▊       | 110/400 [06:41<17:26,  3.61s/it]"
     ]
    },
    {
     "name": "stdout",
     "output_type": "stream",
     "text": [
      "You have a batch of 10\n",
      "http://localhost:5000/label?ids=5cb8ea7fe62914006760aaae,5cb8ea80e62914006760aab2,5cb8eafae62914006760ae46,5cb8eac7e62914006760acdd,5cb8eb23e62914006760af86,5cb8ea80e62914006760aab6,5cb8eb01e62914006760ae71,5cb8eab6e62914006760ac69,5cb8eaece62914006760adeb,5cb8ead9e62914006760ad73\n"
     ]
    },
    {
     "name": "stderr",
     "output_type": "stream",
     "text": [
      "\r",
      " 30%|███       | 120/400 [07:10<15:56,  3.42s/it]"
     ]
    },
    {
     "name": "stdout",
     "output_type": "stream",
     "text": [
      "You have a batch of 10\n",
      "http://localhost:5000/label?ids=5cb8ea80e62914006760aaba,5cb8eaa2e62914006760abe5,5cb8eb00e62914006760ae6d,5cb8eadbe62914006760ad8f,5cb8ea81e62914006760aac0,5cb8eb13e62914006760af03,5cb8ea81e62914006760aac4,5cb8ea82e62914006760aac6,5cb8eae4e62914006760adb8,5cb8eadae62914006760ad7d\n"
     ]
    },
    {
     "name": "stderr",
     "output_type": "stream",
     "text": [
      "\r",
      " 32%|███▎      | 130/400 [07:43<15:07,  3.36s/it]"
     ]
    },
    {
     "name": "stdout",
     "output_type": "stream",
     "text": [
      "You have a batch of 10\n",
      "http://localhost:5000/label?ids=5cb8eacde62914006760ad12,5cb8ea82e62914006760aac8,5cb8eaffe62914006760ae67,5cb8eb13e62914006760af01,5cb8ea82e62914006760aace,5cb8eb11e62914006760aef9,5cb8eaf2e62914006760ae11,5cb8eafbe62914006760ae48,5cb8eae6e62914006760adc4,5cb8eac0e62914006760acaa\n"
     ]
    },
    {
     "name": "stderr",
     "output_type": "stream",
     "text": [
      "\r",
      " 35%|███▌      | 140/400 [08:17<14:37,  3.37s/it]"
     ]
    },
    {
     "name": "stdout",
     "output_type": "stream",
     "text": [
      "You have a batch of 10\n",
      "http://localhost:5000/label?ids=5cb8ea83e62914006760aad2,5cb8eafde62914006760ae58,5cb8ead4e62914006760ad52,5cb8eb14e62914006760af12,5cb8eafce62914006760ae4c,5cb8eb19e62914006760af33,5cb8ea83e62914006760aad8,5cb8eaebe62914006760ade7,5cb8eacfe62914006760ad28,5cb8eab8e62914006760ac72\n"
     ]
    },
    {
     "name": "stderr",
     "output_type": "stream",
     "text": [
      "\r",
      " 38%|███▊      | 150/400 [08:51<14:05,  3.38s/it]"
     ]
    },
    {
     "name": "stdout",
     "output_type": "stream",
     "text": [
      "You have a batch of 10\n",
      "http://localhost:5000/label?ids=5cb8ead5e62914006760ad59,5cb8ea84e62914006760aadc,5cb8eb22e62914006760af7c,5cb8eafde62914006760ae5a,5cb8eab5e62914006760ac67,5cb8eaede62914006760adef,5cb8eb12e62914006760aeff,5cb8ea84e62914006760aade,5cb8eae2e62914006760ada6,5cb8eb11e62914006760aef4\n"
     ]
    },
    {
     "name": "stderr",
     "output_type": "stream",
     "text": [
      "\r",
      " 40%|████      | 160/400 [09:30<14:09,  3.54s/it]"
     ]
    },
    {
     "name": "stdout",
     "output_type": "stream",
     "text": [
      "You have a batch of 10\n",
      "http://localhost:5000/label?ids=5cb8eae8e62914006760add2,5cb8eab4e62914006760ac59,5cb8ea85e62914006760aae1,5cb8eafae62914006760ae42,5cb8ea85e62914006760aae5,5cb8ea9ee62914006760abc1,5cb8eaa3e62914006760abf0,5cb8ea86e62914006760aae9,5cb8eac4e62914006760acc7,5cb8eb13e62914006760af05\n"
     ]
    },
    {
     "name": "stderr",
     "output_type": "stream",
     "text": [
      "\r",
      " 42%|████▎     | 170/400 [10:01<13:01,  3.40s/it]"
     ]
    },
    {
     "name": "stdout",
     "output_type": "stream",
     "text": [
      "You have a batch of 10\n",
      "http://localhost:5000/label?ids=5cb8ea86e62914006760aaf1,5cb8eac5e62914006760accc,5cb8eaffe62914006760ae6b,5cb8ea87e62914006760aaf5,5cb8eaa3e62914006760abeb,5cb8eaf6e62914006760ae2a,5cb8ea87e62914006760aaf7,5cb8ea88e62914006760aafd,5cb8eacbe62914006760ad01,5cb8eaeae62914006760ade0\n"
     ]
    },
    {
     "name": "stderr",
     "output_type": "stream",
     "text": [
      "\r",
      " 45%|████▌     | 180/400 [10:37<12:44,  3.47s/it]"
     ]
    },
    {
     "name": "stdout",
     "output_type": "stream",
     "text": [
      "You have a batch of 10\n",
      "http://localhost:5000/label?ids=5cb8eb00e62914006760ae6f,5cb8eaf5e62914006760ae24,5cb8ea88e62914006760ab01,5cb8eb12e62914006760aefd,5cb8eaffe62914006760ae61,5cb8ead6e62914006760ad63,5cb8eab5e62914006760ac63,5cb8eac4e62914006760acc5,5cb8eac2e62914006760acb3,5cb8eb0fe62914006760aee4\n"
     ]
    },
    {
     "name": "stderr",
     "output_type": "stream",
     "text": [
      "\r",
      " 48%|████▊     | 190/400 [11:11<12:03,  3.45s/it]"
     ]
    },
    {
     "name": "stdout",
     "output_type": "stream",
     "text": [
      "You have a batch of 10\n",
      "http://localhost:5000/label?ids=5cb8eac6e62914006760acd3,5cb8ea89e62914006760ab03,5cb8eb1ee62914006760af5a,5cb8eadbe62914006760ad8b,5cb8eab5e62914006760ac5d,5cb8eafae62914006760ae44,5cb8eaf5e62914006760ae28,5cb8eae5e62914006760adc0,5cb8eae9e62914006760adda,5cb8ea89e62914006760ab07\n"
     ]
    },
    {
     "name": "stderr",
     "output_type": "stream",
     "text": [
      "\r",
      " 50%|█████     | 200/400 [11:41<11:00,  3.30s/it]"
     ]
    },
    {
     "name": "stdout",
     "output_type": "stream",
     "text": [
      "You have a batch of 10\n",
      "http://localhost:5000/label?ids=5cb8eadde62914006760ad9d,5cb8eabce62914006760ac8a,5cb8eb01e62914006760ae75,5cb8eaa4e62914006760abf4,5cb8eb20e62914006760af70,5cb8eb02e62914006760ae77,5cb8eab1e62914006760ac47,5cb8ea8ae62914006760ab15,5cb8ea8ae62914006760ab0f,5cb8ea8be62914006760ab17\n"
     ]
    },
    {
     "name": "stderr",
     "output_type": "stream",
     "text": [
      "\r",
      " 52%|█████▎    | 210/400 [12:13<10:23,  3.28s/it]"
     ]
    },
    {
     "name": "stdout",
     "output_type": "stream",
     "text": [
      "You have a batch of 10\n",
      "http://localhost:5000/label?ids=5cb8eae3e62914006760adb4,5cb8eb25e62914006760af96,5cb8eac2e62914006760acb1,5cb8eb02e62914006760ae7d,5cb8eaa5e62914006760abf8,5cb8eaa5e62914006760abf6,5cb8eb03e62914006760ae83,5cb8eae6e62914006760adc6,5cb8ea8be62914006760ab1b,5cb8eb04e62914006760ae85\n"
     ]
    },
    {
     "name": "stderr",
     "output_type": "stream",
     "text": [
      "\r",
      " 55%|█████▌    | 220/400 [12:43<09:34,  3.19s/it]"
     ]
    },
    {
     "name": "stdout",
     "output_type": "stream",
     "text": [
      "You have a batch of 10\n",
      "http://localhost:5000/label?ids=5cb8eaa6e62914006760abfa,5cb8eadbe62914006760ad89,5cb8ea8ce62914006760ab23,5cb8ead7e62914006760ad6b,5cb8eaa6e62914006760abfc,5cb8eae2e62914006760ada8,5cb8eb17e62914006760af21,5cb8eaa6e62914006760abfe,5cb8eaa7e62914006760ac00,5cb8eaf6e62914006760ae2c\n"
     ]
    },
    {
     "name": "stderr",
     "output_type": "stream",
     "text": [
      "\r",
      " 57%|█████▊    | 230/400 [13:17<09:17,  3.28s/it]"
     ]
    },
    {
     "name": "stdout",
     "output_type": "stream",
     "text": [
      "You have a batch of 10\n",
      "http://localhost:5000/label?ids=5cb8eb03e62914006760ae81,5cb8eaf1e62914006760ae09,5cb8eb24e62914006760af90,5cb8eb04e62914006760ae87,5cb8eab7e62914006760ac6d,5cb8eb10e62914006760aeee,5cb8ead3e62914006760ad46,5cb8eb20e62914006760af6e,5cb8eab9e62914006760ac7c,5cb8eae8e62914006760add4\n"
     ]
    },
    {
     "name": "stderr",
     "output_type": "stream",
     "text": [
      "\r",
      " 60%|██████    | 240/400 [13:51<08:49,  3.31s/it]"
     ]
    },
    {
     "name": "stdout",
     "output_type": "stream",
     "text": [
      "You have a batch of 10\n",
      "http://localhost:5000/label?ids=5cb8eaa7e62914006760ac02,5cb8eafce62914006760ae52,5cb8ea8de62914006760ab2b,5cb8eaa7e62914006760ac06,5cb8eb25e62914006760af94,5cb8eab1e62914006760ac49,5cb8eaefe62914006760adff,5cb8eaeee62914006760adf3,5cb8eadee62914006760ada1,5cb8ea8ce62914006760ab29\n"
     ]
    },
    {
     "name": "stderr",
     "output_type": "stream",
     "text": [
      "\r",
      " 62%|██████▎   | 250/400 [14:24<08:13,  3.29s/it]"
     ]
    },
    {
     "name": "stdout",
     "output_type": "stream",
     "text": [
      "You have a batch of 10\n",
      "http://localhost:5000/label?ids=5cb8ea8de62914006760ab2d,5cb8ea8de62914006760ab33,5cb8eb1fe62914006760af62,5cb8eae9e62914006760add6,5cb8eb04e62914006760ae8d,5cb8eac1e62914006760acaf,5cb8ea8ee62914006760ab39,5cb8ea8ee62914006760ab3d,5cb8ea8fe62914006760ab41,5cb8ea8fe62914006760ab47\n"
     ]
    },
    {
     "name": "stderr",
     "output_type": "stream",
     "text": [
      "\r",
      " 65%|██████▌   | 260/400 [14:58<07:46,  3.33s/it]"
     ]
    },
    {
     "name": "stdout",
     "output_type": "stream",
     "text": [
      "You have a batch of 10\n",
      "http://localhost:5000/label?ids=5cb8eab2e62914006760ac4b,5cb8eb05e62914006760ae91,5cb8eb05e62914006760ae93,5cb8eaf0e62914006760ae03,5cb8eadce62914006760ad93,5cb8ea90e62914006760ab4a,5cb8eab4e62914006760ac5b,5cb8eb24e62914006760af92,5cb8eaa8e62914006760ac0a,5cb8eaa8e62914006760ac0e\n"
     ]
    },
    {
     "name": "stderr",
     "output_type": "stream",
     "text": [
      "\r",
      " 68%|██████▊   | 270/400 [15:31<07:12,  3.33s/it]"
     ]
    },
    {
     "name": "stdout",
     "output_type": "stream",
     "text": [
      "You have a batch of 10\n",
      "http://localhost:5000/label?ids=5cb8ead8e62914006760ad71,5cb8ea90e62914006760ab50,5cb8eb06e62914006760ae95,5cb8ea91e62914006760ab5a,5cb8ea90e62914006760ab56,5cb8ead3e62914006760ad4c,5cb8ea91e62914006760ab5e,5cb8eac5e62914006760accf,5cb8eabde62914006760ac92,5cb8eb1ee62914006760af58\n"
     ]
    },
    {
     "name": "stderr",
     "output_type": "stream",
     "text": [
      "\r",
      " 70%|███████   | 280/400 [16:04<06:38,  3.32s/it]"
     ]
    },
    {
     "name": "stdout",
     "output_type": "stream",
     "text": [
      "You have a batch of 10\n",
      "http://localhost:5000/label?ids=5cb8eac0e62914006760aca6,5cb8ea92e62914006760ab62,5cb8eacee62914006760ad1e,5cb8eb06e62914006760ae97,5cb8eaa9e62914006760ac10,5cb8eb06e62914006760ae99,5cb8eb18e62914006760af2d,5cb8eaaae62914006760ac14,5cb8eb1ce62914006760af49,5cb8eaa9e62914006760ac12\n"
     ]
    },
    {
     "name": "stderr",
     "output_type": "stream",
     "text": [
      "\r",
      " 72%|███████▎  | 290/400 [16:38<06:07,  3.35s/it]"
     ]
    },
    {
     "name": "stdout",
     "output_type": "stream",
     "text": [
      "You have a batch of 10\n",
      "http://localhost:5000/label?ids=5cb8eaece62914006760aded,5cb8eb07e62914006760ae9f,5cb8eae4e62914006760adb6,5cb8eae7e62914006760adce,5cb8ea92e62914006760ab68,5cb8eb07e62914006760aea3,5cb8eabce62914006760ac8c,5cb8eb16e62914006760af1d,5cb8eb15e62914006760af17,5cb8eaaae62914006760ac18\n"
     ]
    },
    {
     "name": "stderr",
     "output_type": "stream",
     "text": [
      "\r",
      " 75%|███████▌  | 300/400 [17:10<05:28,  3.29s/it]"
     ]
    },
    {
     "name": "stdout",
     "output_type": "stream",
     "text": [
      "You have a batch of 10\n",
      "http://localhost:5000/label?ids=5cb8eb1fe62914006760af68,5cb8eaabe62914006760ac1c,5cb8eacde62914006760ad10,5cb8eb17e62914006760af1f,5cb8eadae62914006760ad85,5cb8eaabe62914006760ac20,5cb8eaf3e62914006760ae19,5cb8eab6e62914006760ac6b,5cb8eb1de62914006760af54,5cb8eaace62914006760ac24\n"
     ]
    },
    {
     "name": "stderr",
     "output_type": "stream",
     "text": [
      "\r",
      " 78%|███████▊  | 310/400 [17:43<04:57,  3.30s/it]"
     ]
    },
    {
     "name": "stdout",
     "output_type": "stream",
     "text": [
      "You have a batch of 10\n",
      "http://localhost:5000/label?ids=5cb8eb14e62914006760af0b,5cb8eaf7e62914006760ae30,5cb8eb08e62914006760aea5,5cb8eb08e62914006760aeaa,5cb8eaf9e62914006760ae40,5cb8eaace62914006760ac22,5cb8ead2e62914006760ad42,5cb8eb09e62914006760aeb2,5cb8eb09e62914006760aeae,5cb8ead8e62914006760ad6f\n"
     ]
    },
    {
     "name": "stderr",
     "output_type": "stream",
     "text": [
      "\r",
      " 80%|████████  | 320/400 [18:19<04:29,  3.37s/it]"
     ]
    },
    {
     "name": "stdout",
     "output_type": "stream",
     "text": [
      "You have a batch of 10\n",
      "http://localhost:5000/label?ids=5cb8eaeee62914006760adf9,5cb8eb16e62914006760af1b,5cb8eb21e62914006760af72,5cb8eab2e62914006760ac4f,5cb8ea93e62914006760ab6c,5cb8eb0fe62914006760aee6,5cb8eabde62914006760ac96,5cb8eaebe62914006760ade5,5cb8eabbe62914006760ac88,5cb8ea93e62914006760ab6e\n"
     ]
    },
    {
     "name": "stderr",
     "output_type": "stream",
     "text": [
      "\r",
      " 82%|████████▎ | 330/400 [18:56<04:04,  3.49s/it]"
     ]
    },
    {
     "name": "stdout",
     "output_type": "stream",
     "text": [
      "You have a batch of 10\n",
      "http://localhost:5000/label?ids=5cb8eb21e62914006760af78,5cb8ea94e62914006760ab70,5cb8ea94e62914006760ab72,5cb8eaade62914006760ac26,5cb8eb0ae62914006760aebc,5cb8eb0ae62914006760aeb8,5cb8eab0e62914006760ac45,5cb8eb0be62914006760aebe,5cb8ea95e62914006760ab7a,5cb8eb23e62914006760af8c\n"
     ]
    },
    {
     "name": "stderr",
     "output_type": "stream",
     "text": [
      "\r",
      " 85%|████████▌ | 340/400 [19:36<03:37,  3.63s/it]"
     ]
    },
    {
     "name": "stdout",
     "output_type": "stream",
     "text": [
      "You have a batch of 10\n",
      "http://localhost:5000/label?ids=5cb8eaade62914006760ac2c,5cb8eaade62914006760ac31,5cb8ea95e62914006760ab7e,5cb8eb18e62914006760af2f,5cb8eb0be62914006760aec0,5cb8eab3e62914006760ac57,5cb8ea96e62914006760ab84,5cb8eb17e62914006760af29,5cb8eb0be62914006760aec6,5cb8eabfe62914006760ac9c\n"
     ]
    },
    {
     "name": "stderr",
     "output_type": "stream",
     "text": [
      "\r",
      " 88%|████████▊ | 350/400 [20:16<03:07,  3.76s/it]"
     ]
    },
    {
     "name": "stdout",
     "output_type": "stream",
     "text": [
      "You have a batch of 10\n",
      "http://localhost:5000/label?ids=5cb8eb0ce62914006760aeca,5cb8eaaee62914006760ac33,5cb8eabfe62914006760ac9e,5cb8eac7e62914006760acdf,5cb8eac8e62914006760ace9,5cb8ea94e62914006760ab76,5cb8eb0ce62914006760aecc,5cb8eac8e62914006760aced,5cb8eaaee62914006760ac35,5cb8eac7e62914006760ace5\n"
     ]
    },
    {
     "name": "stderr",
     "output_type": "stream",
     "text": [
      "\r",
      " 90%|█████████ | 360/400 [20:56<02:32,  3.81s/it]"
     ]
    },
    {
     "name": "stdout",
     "output_type": "stream",
     "text": [
      "You have a batch of 10\n",
      "http://localhost:5000/label?ids=5cb8ea96e62914006760ab88,5cb8eacbe62914006760ad0a,5cb8eac9e62914006760acf5,5cb8eaafe62914006760ac37,5cb8eb0de62914006760aed2,5cb8eb25e62914006760af98,5cb8ea97e62914006760ab8c,5cb8eaafe62914006760ac3b,5cb8ea97e62914006760ab8a,5cb8ead1e62914006760ad36\n"
     ]
    },
    {
     "name": "stderr",
     "output_type": "stream",
     "text": [
      "\r",
      " 92%|█████████▎| 370/400 [21:29<01:50,  3.68s/it]"
     ]
    },
    {
     "name": "stdout",
     "output_type": "stream",
     "text": [
      "You have a batch of 10\n",
      "http://localhost:5000/label?ids=5cb8eb0de62914006760aed6,5cb8eac9e62914006760acf1,5cb8ead6e62914006760ad5f,5cb8ea98e62914006760ab8e,5cb8eb0ee62914006760aede,5cb8eaf7e62914006760ae32,5cb8eb0de62914006760aed8,5cb8eb0ee62914006760aee2,5cb8eaafe62914006760ac3e,5cb8eae3e62914006760adb0\n"
     ]
    },
    {
     "name": "stderr",
     "output_type": "stream",
     "text": [
      "\r",
      " 95%|█████████▌| 380/400 [22:08<01:14,  3.73s/it]"
     ]
    },
    {
     "name": "stdout",
     "output_type": "stream",
     "text": [
      "You have a batch of 10\n",
      "http://localhost:5000/label?ids=5cb8ea98e62914006760ab92,5cb8eadde62914006760ad97,5cb8eaeae62914006760ade3,5cb8eb26e62914006760af9a,5cb8eb26e62914006760af9d,5cb8eab0e62914006760ac41,5cb8eadae62914006760ad82,5cb8eacae62914006760acf7,5cb8eaeee62914006760adfd,5cb8eb27e62914006760afa1\n"
     ]
    },
    {
     "name": "stderr",
     "output_type": "stream",
     "text": [
      "\r",
      " 98%|█████████▊| 390/400 [22:46<00:37,  3.74s/it]"
     ]
    },
    {
     "name": "stdout",
     "output_type": "stream",
     "text": [
      "You have a batch of 10\n",
      "http://localhost:5000/label?ids=5cb8eae3e62914006760adaa,5cb8eb27e62914006760afa8,5cb8ea99e62914006760ab96,5cb8ea99e62914006760ab9d,5cb8eacae62914006760acfd,5cb8eaf0e62914006760ae05,5cb8eb28e62914006760afad,5cb8eaf3e62914006760ae15,5cb8eaf8e62914006760ae38,5cb8eae7e62914006760adc8\n"
     ]
    },
    {
     "name": "stderr",
     "output_type": "stream",
     "text": [
      "100%|██████████| 400/400 [23:23<00:00,  3.75s/it]\n"
     ]
    },
    {
     "name": "stdout",
     "output_type": "stream",
     "text": [
      "2097 Had a data matrix alraedy\n",
      "Scanning folder 2019-03-23\n"
     ]
    },
    {
     "name": "stderr",
     "output_type": "stream",
     "text": [
      "\r",
      "  0%|          | 0/82 [00:00<?, ?it/s]"
     ]
    },
    {
     "name": "stdout",
     "output_type": "stream",
     "text": [
      "You have a batch of 10\n",
      "http://localhost:5000/label?ids=5cb8eb28e62914006760afb2,5cb8eb29e62914006760afb6,5cb8eb29e62914006760afba,5cb8eb2ae62914006760afbe,5cb8eb2ae62914006760afc0,5cb8eb2be62914006760afc4,5cb8eb2be62914006760afc8,5cb8eb2ce62914006760afcc,5cb8eb2ce62914006760afd0,5cb8eb2de62914006760afd6\n"
     ]
    },
    {
     "name": "stderr",
     "output_type": "stream",
     "text": [
      "\r",
      " 12%|█▏        | 10/82 [00:38<04:35,  3.82s/it]"
     ]
    },
    {
     "name": "stdout",
     "output_type": "stream",
     "text": [
      "You have a batch of 10\n",
      "http://localhost:5000/label?ids=5cb8eb2de62914006760afdc,5cb8eb2ee62914006760afe0,5cb8eb2ee62914006760afe6,5cb8eb2fe62914006760afe8,5cb8eb2fe62914006760afec,5cb8eb30e62914006760afee,5cb8eb30e62914006760aff0,5cb8eb30e62914006760aff7,5cb8eb31e62914006760affb,5cb8eb31e62914006760b001\n"
     ]
    },
    {
     "name": "stderr",
     "output_type": "stream",
     "text": [
      "\r",
      " 24%|██▍       | 20/82 [01:11<03:48,  3.69s/it]"
     ]
    },
    {
     "name": "stdout",
     "output_type": "stream",
     "text": [
      "You have a batch of 10\n",
      "http://localhost:5000/label?ids=5cb8eb32e62914006760b005,5cb8eb32e62914006760b00b,5cb8eb33e62914006760b00f,5cb8eb33e62914006760b015,5cb8eb34e62914006760b019,5cb8eb34e62914006760b01f,5cb8eb35e62914006760b023,5cb8eb35e62914006760b028,5cb8eb36e62914006760b02c,5cb8eb36e62914006760b033\n"
     ]
    },
    {
     "name": "stderr",
     "output_type": "stream",
     "text": [
      "\r",
      " 37%|███▋      | 30/82 [01:46<03:08,  3.62s/it]"
     ]
    },
    {
     "name": "stdout",
     "output_type": "stream",
     "text": [
      "You have a batch of 10\n",
      "http://localhost:5000/label?ids=5cb8eb37e62914006760b037,5cb8eb37e62914006760b03d,5cb8eb38e62914006760b041,5cb8eb38e62914006760b047,5cb8eb39e62914006760b04b,5cb8eb39e62914006760b051,5cb8eb3ae62914006760b055,5cb8eb3ae62914006760b058,5cb8eb3be62914006760b05e,5cb8eb3be62914006760b064\n"
     ]
    },
    {
     "name": "stderr",
     "output_type": "stream",
     "text": [
      "\r",
      " 49%|████▉     | 40/82 [02:21<02:29,  3.57s/it]"
     ]
    },
    {
     "name": "stdout",
     "output_type": "stream",
     "text": [
      "You have a batch of 10\n",
      "http://localhost:5000/label?ids=5cb8eb3ce62914006760b06a,5cb8eb3ce62914006760b06c,5cb8eb3de62914006760b072,5cb8eb3de62914006760b076,5cb8eb3ee62914006760b07a,5cb8eb3ee62914006760b07f,5cb8eb3fe62914006760b084,5cb8eb3fe62914006760b08a,5cb8eb40e62914006760b08c,5cb8eb40e62914006760b08e\n"
     ]
    },
    {
     "name": "stderr",
     "output_type": "stream",
     "text": [
      "\r",
      " 61%|██████    | 50/82 [02:54<01:51,  3.50s/it]"
     ]
    },
    {
     "name": "stdout",
     "output_type": "stream",
     "text": [
      "You have a batch of 10\n",
      "http://localhost:5000/label?ids=5cb8eb40e62914006760b094,5cb8eb41e62914006760b09a,5cb8eb41e62914006760b09e,5cb8eb42e62914006760b0a2,5cb8eb42e62914006760b0a4,5cb8eb43e62914006760b0a8,5cb8eb43e62914006760b0af,5cb8eb44e62914006760b0b4,5cb8eb44e62914006760b0b9,5cb8eb45e62914006760b0bb\n"
     ]
    },
    {
     "name": "stderr",
     "output_type": "stream",
     "text": [
      "\r",
      " 73%|███████▎  | 60/82 [03:26<01:14,  3.40s/it]"
     ]
    },
    {
     "name": "stdout",
     "output_type": "stream",
     "text": [
      "You have a batch of 10\n",
      "http://localhost:5000/label?ids=5cb8eb45e62914006760b0bd,5cb8eb45e62914006760b0bf,5cb8eb46e62914006760b0c1,5cb8eb46e62914006760b0c3,5cb8eb47e62914006760b0c5,5cb8eb47e62914006760b0c8,5cb8eb48e62914006760b0cb,5cb8eb48e62914006760b0cf,5cb8eb48e62914006760b0d5,5cb8eb49e62914006760b0d9\n"
     ]
    },
    {
     "name": "stderr",
     "output_type": "stream",
     "text": [
      "\r",
      " 85%|████████▌ | 70/82 [03:59<00:40,  3.38s/it]"
     ]
    },
    {
     "name": "stdout",
     "output_type": "stream",
     "text": [
      "You have a batch of 10\n",
      "http://localhost:5000/label?ids=5cb8eb4ae62914006760b0dd,5cb8eb4ae62914006760b0df,5cb8eb4ae62914006760b0e1,5cb8eb4be62914006760b0e3,5cb8eb4be62914006760b0e9,5cb8eb4ce62914006760b0ed,5cb8eb4ce62914006760b0ef,5cb8eb4de62914006760b0f1,5cb8eb4de62914006760b0f5,5cb8eb4de62914006760b0f9\n"
     ]
    },
    {
     "name": "stderr",
     "output_type": "stream",
     "text": [
      "100%|██████████| 82/82 [04:32<00:00,  3.32s/it]\n"
     ]
    },
    {
     "name": "stdout",
     "output_type": "stream",
     "text": [
      "http://0.0.0.0:5000/label?ids=5cb8eb4ee62914006760b0fd,5cb8eb4ee62914006760b100\n",
      "2097 Had a data matrix alraedy\n",
      "Scanning folder 2019-03-25\n"
     ]
    },
    {
     "name": "stderr",
     "output_type": "stream",
     "text": [
      "\r",
      "  0%|          | 0/204 [00:00<?, ?it/s]"
     ]
    },
    {
     "name": "stdout",
     "output_type": "stream",
     "text": [
      "You have a batch of 10\n",
      "http://localhost:5000/label?ids=5cb8eb96e62914006760b34a,5cb8eb94e62914006760b333,5cb8eb94e62914006760b33b,5cb8eb9be62914006760b374,5cb8eb4fe62914006760b103,5cb8eb8de62914006760b2ff,5cb8eb82e62914006760b29a,5cb8eb76e62914006760b23a,5cb8eb4fe62914006760b109,5cb8eb69e62914006760b1c9\n"
     ]
    },
    {
     "name": "stderr",
     "output_type": "stream",
     "text": [
      "\r",
      "  5%|▍         | 10/204 [00:35<11:23,  3.53s/it]"
     ]
    },
    {
     "name": "stdout",
     "output_type": "stream",
     "text": [
      "You have a batch of 10\n",
      "http://localhost:5000/label?ids=5cb8eb77e62914006760b23d,5cb8ebade62914006760b415,5cb8eb86e62914006760b2c0,5cb8eb4fe62914006760b10d,5cb8eb91e62914006760b31d,5cb8eb50e62914006760b10f,5cb8eb74e62914006760b228,5cb8eb8de62914006760b2fb,5cb8eb97e62914006760b352,5cb8eb7fe62914006760b281\n"
     ]
    },
    {
     "name": "stderr",
     "output_type": "stream",
     "text": [
      "\r",
      " 10%|▉         | 20/204 [01:15<11:17,  3.68s/it]"
     ]
    },
    {
     "name": "stdout",
     "output_type": "stream",
     "text": [
      "You have a batch of 10\n",
      "http://localhost:5000/label?ids=5cb8eb79e62914006760b253,5cb8eb51e62914006760b111,5cb8eb88e62914006760b2d6,5cb8eb51e62914006760b115,5cb8eb51e62914006760b119,5cb8eb52e62914006760b11d,5cb8ebaae62914006760b3f0,5cb8eb87e62914006760b2c4,5cb8eb73e62914006760b222,5cb8eb89e62914006760b2dc\n"
     ]
    },
    {
     "name": "stderr",
     "output_type": "stream",
     "text": [
      "\r",
      " 15%|█▍        | 30/204 [01:51<10:37,  3.66s/it]"
     ]
    },
    {
     "name": "stdout",
     "output_type": "stream",
     "text": [
      "You have a batch of 10\n",
      "http://localhost:5000/label?ids=5cb8eba0e62914006760b3a2,5cb8eb52e62914006760b11f,5cb8eb83e62914006760b29e,5cb8eb9ae62914006760b370,5cb8eb99e62914006760b36a,5cb8eb53e62914006760b121,5cb8eb78e62914006760b249,5cb8eb8ee62914006760b305,5cb8eba7e62914006760b3dc,5cb8eb53e62914006760b127\n"
     ]
    },
    {
     "name": "stderr",
     "output_type": "stream",
     "text": [
      "\r",
      " 20%|█▉        | 40/204 [02:31<10:15,  3.75s/it]"
     ]
    },
    {
     "name": "stdout",
     "output_type": "stream",
     "text": [
      "You have a batch of 10\n",
      "http://localhost:5000/label?ids=5cb8eb99e62914006760b360,5cb8eb53e62914006760b12b,5cb8eb54e62914006760b12d,5cb8eb72e62914006760b21a,5cb8ebade62914006760b40e,5cb8eb81e62914006760b296,5cb8eb54e62914006760b133,5cb8eb55e62914006760b137,5cb8eb88e62914006760b2cc,5cb8eba6e62914006760b3d3\n"
     ]
    },
    {
     "name": "stderr",
     "output_type": "stream",
     "text": [
      "\r",
      " 25%|██▍       | 50/204 [03:05<09:20,  3.64s/it]"
     ]
    },
    {
     "name": "stdout",
     "output_type": "stream",
     "text": [
      "You have a batch of 10\n",
      "http://localhost:5000/label?ids=5cb8eb55e62914006760b139,5cb8eb6ee62914006760b1f6,5cb8eb96e62914006760b348,5cb8eb6be62914006760b1df,5cb8eb6de62914006760b1f0,5cb8eb98e62914006760b35e,5cb8eb56e62914006760b13b,5cb8eb56e62914006760b13d,5cb8eb57e62914006760b13f,5cb8eba7e62914006760b3df\n"
     ]
    },
    {
     "name": "stderr",
     "output_type": "stream",
     "text": [
      "\r",
      " 29%|██▉       | 60/204 [03:38<08:32,  3.56s/it]"
     ]
    },
    {
     "name": "stdout",
     "output_type": "stream",
     "text": [
      "You have a batch of 10\n",
      "http://localhost:5000/label?ids=5cb8eb93e62914006760b32f,5cb8eb6de62914006760b1ec,5cb8eb97e62914006760b35a,5cb8eb77e62914006760b241,5cb8eb57e62914006760b145,5cb8eb92e62914006760b327,5cb8eb6ee62914006760b1fa,5cb8eb95e62914006760b33d,5cb8eb9ce62914006760b37c,5cb8eb57e62914006760b149\n"
     ]
    },
    {
     "name": "stderr",
     "output_type": "stream",
     "text": [
      "\r",
      " 34%|███▍      | 70/204 [04:16<08:04,  3.61s/it]"
     ]
    },
    {
     "name": "stdout",
     "output_type": "stream",
     "text": [
      "You have a batch of 10\n",
      "http://localhost:5000/label?ids=5cb8eb7ae62914006760b257,5cb8eb80e62914006760b287,5cb8eb58e62914006760b14b,5cb8eb58e62914006760b14e,5cb8eb7de62914006760b26f,5cb8eb59e62914006760b154,5cb8eb85e62914006760b2b4,5cb8eb95e62914006760b344,5cb8eba2e62914006760b3b3,5cb8eb7ae62914006760b25d\n"
     ]
    },
    {
     "name": "stderr",
     "output_type": "stream",
     "text": [
      "\r",
      " 39%|███▉      | 80/204 [04:46<07:07,  3.44s/it]"
     ]
    },
    {
     "name": "stdout",
     "output_type": "stream",
     "text": [
      "You have a batch of 10\n",
      "http://localhost:5000/label?ids=5cb8eb7ce62914006760b26b,5cb8eb8be62914006760b2ef,5cb8eba1e62914006760b3a5,5cb8eb59e62914006760b15b,5cb8eb5ae62914006760b160,5cb8eb6fe62914006760b200,5cb8eb5be62914006760b162,5cb8eb5be62914006760b164,5cb8eba4e62914006760b3c5,5cb8eb5ce62914006760b166\n"
     ]
    },
    {
     "name": "stderr",
     "output_type": "stream",
     "text": [
      "\r",
      " 44%|████▍     | 90/204 [05:18<06:23,  3.36s/it]"
     ]
    },
    {
     "name": "stdout",
     "output_type": "stream",
     "text": [
      "You have a batch of 10\n",
      "http://localhost:5000/label?ids=5cb8eb5ce62914006760b168,5cb8eb5ce62914006760b16a,5cb8eb81e62914006760b290,5cb8eb5de62914006760b16c,5cb8eba5e62914006760b3cf,5cb8eb5de62914006760b170,5cb8eb93e62914006760b331,5cb8eb92e62914006760b321,5cb8eb83e62914006760b2a4,5cb8eba1e62914006760b3a7\n"
     ]
    },
    {
     "name": "stderr",
     "output_type": "stream",
     "text": [
      "\r",
      " 49%|████▉     | 100/204 [05:51<05:46,  3.34s/it]"
     ]
    },
    {
     "name": "stdout",
     "output_type": "stream",
     "text": [
      "You have a batch of 10\n",
      "http://localhost:5000/label?ids=5cb8eb7fe62914006760b27f,5cb8eb72e62914006760b21c,5cb8eba0e62914006760b39f,5cb8eb70e62914006760b20e,5cb8eb76e62914006760b238,5cb8eb71e62914006760b214,5cb8eba2e62914006760b3ad,5cb8eb88e62914006760b2d0,5cb8eb5de62914006760b179,5cb8ebaae62914006760b3f2\n"
     ]
    },
    {
     "name": "stderr",
     "output_type": "stream",
     "text": [
      "\r",
      " 54%|█████▍    | 110/204 [06:34<05:41,  3.63s/it]"
     ]
    },
    {
     "name": "stdout",
     "output_type": "stream",
     "text": [
      "You have a batch of 10\n",
      "http://localhost:5000/label?ids=5cb8eb79e62914006760b24d,5cb8eb5ee62914006760b17e,5cb8eb5fe62914006760b180,5cb8ebace62914006760b408,5cb8eb5fe62914006760b182,5cb8eb77e62914006760b23f,5cb8eb60e62914006760b184,5cb8eb60e62914006760b186,5cb8eb99e62914006760b366,5cb8eb84e62914006760b2aa\n"
     ]
    }
   ],
   "source": [
    "## 5cb8e68ae629140067608a4c\n",
    "## Folders\n",
    "import tqdm\n",
    "\n",
    "alreadyHadDataMatrix = 0\n",
    "batchSize = 10\n",
    "\n",
    "\n",
    "for f in gc.listFolder('5cb8e389e6291400676076bf',parentFolderType='collection'):\n",
    "    print(\"Scanning folder %s\" % f['name'])\n",
    "    IDS_to_Process = []\n",
    "\n",
    "    for i in tqdm.tqdm(list(gc.listItem(f['_id']))):\n",
    "        if ('meta' in i):\n",
    "            if ('dataMatrixOutput' in i['meta']):\n",
    "                alreadyHadDataMatrix+=1\n",
    "                #print (\"Meta Tag alraedy exists\")\n",
    "\n",
    "        else:\n",
    "            IDS_to_Process.append(i['_id'])\n",
    "            if(len(IDS_to_Process)%batchSize == 0):\n",
    "                print(\"You have a batch of %s\"%batchSize)\n",
    "                labelUpdateUrl = \"http://localhost:5000/label?ids=%s\" % ( \",\".join(IDS_to_Process))\n",
    "                print(labelUpdateUrl)\n",
    "                requests.get(labelUpdateUrl)\n",
    "                IDS_to_Process = [] ### Reset the cache\n",
    "\n",
    "\n",
    "    ## Don't forget to process the last batch\n",
    "    if(len(IDS_to_Process)>0):\n",
    "        \n",
    "        labelUpdateUrl = \"http://0.0.0.0:5000/label?ids=%s\" % ( \",\".join(IDS_to_Process))\n",
    "        print(labelUpdateUrl)\n",
    "        requests.get(labelUpdateUrl)\n",
    "\n",
    "    print(alreadyHadDataMatrix,\"Had a data matrix alraedy\")\n",
    "\n",
    "\n",
    "    "
   ]
  },
  {
   "cell_type": "code",
   "execution_count": 4,
   "metadata": {
    "scrolled": true
   },
   "outputs": [],
   "source": [
    "img = server.get_image(gc,i['_id'],label=True)"
   ]
  },
  {
   "cell_type": "code",
   "execution_count": null,
   "metadata": {},
   "outputs": [],
   "source": [
    "r,r,md = ocr.basic_ocr(img)\n"
   ]
  },
  {
   "cell_type": "code",
   "execution_count": null,
   "metadata": {},
   "outputs": [],
   "source": []
  },
  {
   "cell_type": "code",
   "execution_count": null,
   "metadata": {},
   "outputs": [],
   "source": [
    "print(\"http://0.0.0.0:5000/label?ids=%s\" % ( \",\".join(IDS_to_Process)))"
   ]
  },
  {
   "cell_type": "code",
   "execution_count": null,
   "metadata": {},
   "outputs": [],
   "source": [
    "#curl -X GET --header 'Accept: image/jpeg' --header 'Girder-Token: GOL44tmAFOVRBzzBJApVRrfUh87CQkh7CGPuvsBwSnmUHsrWQoig4PjUPzSCmL4H' 'http://transplant.digitalslidearchive.emory.edu:8080/api/v1/'\n",
    "\n",
    "imgId = '5cb8e742e62914006760903a'\n",
    "\n",
    "%time labelImg = gc.get('item/%s/tiles/images/label?encoding=JPEG&width=256'%imgId,jsonResp=False)"
   ]
  },
  {
   "cell_type": "code",
   "execution_count": null,
   "metadata": {},
   "outputs": [],
   "source": []
  },
  {
   "cell_type": "code",
   "execution_count": null,
   "metadata": {},
   "outputs": [],
   "source": [
    "IPImage(labelImg.content)"
   ]
  },
  {
   "cell_type": "code",
   "execution_count": null,
   "metadata": {},
   "outputs": [],
   "source": []
  },
  {
   "cell_type": "code",
   "execution_count": null,
   "metadata": {},
   "outputs": [],
   "source": []
  },
  {
   "cell_type": "code",
   "execution_count": null,
   "metadata": {},
   "outputs": [],
   "source": [
    "import numpy as np\n",
    "from PIL import Image\n",
    "import numpy as np\n",
    "\n",
    "import cv2\n",
    "\n",
    "\n",
    "img_array = np.frombuffer(labelImg.content, dtype=np.uint8)\n",
    "img = cv2.imdecode(img_array, cv2.IMREAD_COLOR)\n",
    "\n",
    "\n",
    "procImg = img\n",
    "#cv2.cvtColor(img, cv2.COLOR_RGB2GRAY)\n",
    "\n",
    "(h,w,d) = procImg.shape\n",
    "wStart = int(w*0.05)\n",
    "wEnd = int(w*0.8)\n",
    "hStart = int(h*0)\n",
    "hEnd = int(h*0.55)\n",
    "\n",
    "print(h,w,d)\n",
    "procImg = procImg[50:400,50:600,]\n",
    "\n",
    "print(wStart,wEnd,hStart,hEnd)\n",
    "\n",
    "%time result = ocr.pytesseract.image_to_string(procImg)\n",
    "print(result)\n",
    "\n",
    "Image.fromarray(procImg)\n",
    "\n"
   ]
  },
  {
   "cell_type": "code",
   "execution_count": null,
   "metadata": {},
   "outputs": [],
   "source": [
    "%time ocr.decode(procImg)"
   ]
  },
  {
   "cell_type": "code",
   "execution_count": null,
   "metadata": {},
   "outputs": [],
   "source": [
    "from pylibdmtx.pylibdmtx import decode\n",
    "from PIL import Image\n",
    "decode(labelImg.content)"
   ]
  }
 ],
 "metadata": {
  "kernelspec": {
   "display_name": "Python 3",
   "language": "python",
   "name": "python3"
  },
  "language_info": {
   "codemirror_mode": {
    "name": "ipython",
    "version": 3
   },
   "file_extension": ".py",
   "mimetype": "text/x-python",
   "name": "python",
   "nbconvert_exporter": "python",
   "pygments_lexer": "ipython3",
   "version": "3.7.3"
  }
 },
 "nbformat": 4,
 "nbformat_minor": 2
}
