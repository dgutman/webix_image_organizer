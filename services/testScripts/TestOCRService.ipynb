{
 "cells": [
  {
   "cell_type": "code",
   "execution_count": 1,
   "metadata": {},
   "outputs": [
    {
     "ename": "ImportError",
     "evalue": "Unable to find dmtx shared library",
     "output_type": "error",
     "traceback": [
      "\u001b[0;31m---------------------------------------------------------------------------\u001b[0m",
      "\u001b[0;31mImportError\u001b[0m                               Traceback (most recent call last)",
      "\u001b[0;32m<ipython-input-1-1ce168e4acb6>\u001b[0m in \u001b[0;36m<module>\u001b[0;34m\u001b[0m\n\u001b[1;32m      6\u001b[0m \u001b[0;34m\u001b[0m\u001b[0m\n\u001b[1;32m      7\u001b[0m \u001b[0;34m\u001b[0m\u001b[0m\n\u001b[0;32m----> 8\u001b[0;31m \u001b[0;32mimport\u001b[0m  \u001b[0mocr\u001b[0m\u001b[0;34m\u001b[0m\u001b[0;34m\u001b[0m\u001b[0m\n\u001b[0m\u001b[1;32m      9\u001b[0m \u001b[0;32mimport\u001b[0m \u001b[0mserver\u001b[0m\u001b[0;34m\u001b[0m\u001b[0;34m\u001b[0m\u001b[0m\n\u001b[1;32m     10\u001b[0m \u001b[0;32mfrom\u001b[0m \u001b[0mIPython\u001b[0m\u001b[0;34m.\u001b[0m\u001b[0mdisplay\u001b[0m \u001b[0;32mimport\u001b[0m \u001b[0mImage\u001b[0m \u001b[0;32mas\u001b[0m \u001b[0mIPImage\u001b[0m\u001b[0;34m\u001b[0m\u001b[0;34m\u001b[0m\u001b[0m\n",
      "\u001b[0;32m~/devel/webix_image_organizer/services/ocr.py\u001b[0m in \u001b[0;36m<module>\u001b[0;34m\u001b[0m\n\u001b[1;32m      5\u001b[0m \u001b[0;32mimport\u001b[0m \u001b[0mnumpy\u001b[0m \u001b[0;32mas\u001b[0m \u001b[0mnp\u001b[0m\u001b[0;34m\u001b[0m\u001b[0;34m\u001b[0m\u001b[0m\n\u001b[1;32m      6\u001b[0m \u001b[0;32mfrom\u001b[0m \u001b[0mpytesseract\u001b[0m \u001b[0;32mimport\u001b[0m \u001b[0mpytesseract\u001b[0m\u001b[0;34m\u001b[0m\u001b[0;34m\u001b[0m\u001b[0m\n\u001b[0;32m----> 7\u001b[0;31m \u001b[0;32mfrom\u001b[0m \u001b[0mpylibdmtx\u001b[0m\u001b[0;34m.\u001b[0m\u001b[0mpylibdmtx\u001b[0m \u001b[0;32mimport\u001b[0m \u001b[0mdecode\u001b[0m\u001b[0;34m\u001b[0m\u001b[0;34m\u001b[0m\u001b[0m\n\u001b[0m\u001b[1;32m      8\u001b[0m \u001b[0;34m\u001b[0m\u001b[0m\n\u001b[1;32m      9\u001b[0m \u001b[0;34m\u001b[0m\u001b[0m\n",
      "\u001b[0;32m//anaconda3/envs/HTAN/lib/python3.7/site-packages/pylibdmtx/pylibdmtx.py\u001b[0m in \u001b[0;36m<module>\u001b[0;34m\u001b[0m\n\u001b[1;32m      8\u001b[0m \u001b[0;34m\u001b[0m\u001b[0m\n\u001b[1;32m      9\u001b[0m \u001b[0;32mfrom\u001b[0m \u001b[0;34m.\u001b[0m\u001b[0mpylibdmtx_error\u001b[0m \u001b[0;32mimport\u001b[0m \u001b[0mPyLibDMTXError\u001b[0m\u001b[0;34m\u001b[0m\u001b[0;34m\u001b[0m\u001b[0m\n\u001b[0;32m---> 10\u001b[0;31m from .wrapper import (\n\u001b[0m\u001b[1;32m     11\u001b[0m     \u001b[0mc_ubyte_p\u001b[0m\u001b[0;34m,\u001b[0m \u001b[0mdmtxImageCreate\u001b[0m\u001b[0;34m,\u001b[0m \u001b[0mdmtxImageDestroy\u001b[0m\u001b[0;34m,\u001b[0m \u001b[0mdmtxDecodeCreate\u001b[0m\u001b[0;34m,\u001b[0m\u001b[0;34m\u001b[0m\u001b[0;34m\u001b[0m\u001b[0m\n\u001b[1;32m     12\u001b[0m     \u001b[0mdmtxDecodeDestroy\u001b[0m\u001b[0;34m,\u001b[0m \u001b[0mdmtxRegionDestroy\u001b[0m\u001b[0;34m,\u001b[0m \u001b[0mdmtxMessageDestroy\u001b[0m\u001b[0;34m,\u001b[0m \u001b[0mdmtxTimeAdd\u001b[0m\u001b[0;34m,\u001b[0m\u001b[0;34m\u001b[0m\u001b[0;34m\u001b[0m\u001b[0m\n",
      "\u001b[0;32m//anaconda3/envs/HTAN/lib/python3.7/site-packages/pylibdmtx/wrapper.py\u001b[0m in \u001b[0;36m<module>\u001b[0;34m\u001b[0m\n\u001b[1;32m     68\u001b[0m \u001b[0;34m\u001b[0m\u001b[0m\n\u001b[1;32m     69\u001b[0m \u001b[0;31m# Define this function early so that it can be used in the definitions below.\u001b[0m\u001b[0;34m\u001b[0m\u001b[0;34m\u001b[0m\u001b[0;34m\u001b[0m\u001b[0m\n\u001b[0;32m---> 70\u001b[0;31m \u001b[0m_dmtxVersion\u001b[0m \u001b[0;34m=\u001b[0m \u001b[0mlibdmtx_function\u001b[0m\u001b[0;34m(\u001b[0m\u001b[0;34m'dmtxVersion'\u001b[0m\u001b[0;34m,\u001b[0m \u001b[0mc_char_p\u001b[0m\u001b[0;34m)\u001b[0m\u001b[0;34m\u001b[0m\u001b[0;34m\u001b[0m\u001b[0m\n\u001b[0m\u001b[1;32m     71\u001b[0m \u001b[0;34m\u001b[0m\u001b[0m\n\u001b[1;32m     72\u001b[0m \u001b[0;32mdef\u001b[0m \u001b[0mdmtxVersion\u001b[0m\u001b[0;34m(\u001b[0m\u001b[0;34m)\u001b[0m\u001b[0;34m:\u001b[0m\u001b[0;34m\u001b[0m\u001b[0;34m\u001b[0m\u001b[0m\n",
      "\u001b[0;32m//anaconda3/envs/HTAN/lib/python3.7/site-packages/pylibdmtx/wrapper.py\u001b[0m in \u001b[0;36mlibdmtx_function\u001b[0;34m(fname, restype, *args)\u001b[0m\n\u001b[1;32m     56\u001b[0m     \"\"\"\n\u001b[1;32m     57\u001b[0m     \u001b[0mprototype\u001b[0m \u001b[0;34m=\u001b[0m \u001b[0mCFUNCTYPE\u001b[0m\u001b[0;34m(\u001b[0m\u001b[0mrestype\u001b[0m\u001b[0;34m,\u001b[0m \u001b[0;34m*\u001b[0m\u001b[0margs\u001b[0m\u001b[0;34m)\u001b[0m\u001b[0;34m\u001b[0m\u001b[0;34m\u001b[0m\u001b[0m\n\u001b[0;32m---> 58\u001b[0;31m     \u001b[0;32mreturn\u001b[0m \u001b[0mprototype\u001b[0m\u001b[0;34m(\u001b[0m\u001b[0;34m(\u001b[0m\u001b[0mfname\u001b[0m\u001b[0;34m,\u001b[0m \u001b[0mload_libdmtx\u001b[0m\u001b[0;34m(\u001b[0m\u001b[0;34m)\u001b[0m\u001b[0;34m)\u001b[0m\u001b[0;34m)\u001b[0m\u001b[0;34m\u001b[0m\u001b[0;34m\u001b[0m\u001b[0m\n\u001b[0m\u001b[1;32m     59\u001b[0m \u001b[0;34m\u001b[0m\u001b[0m\n\u001b[1;32m     60\u001b[0m \u001b[0;34m\u001b[0m\u001b[0m\n",
      "\u001b[0;32m//anaconda3/envs/HTAN/lib/python3.7/site-packages/pylibdmtx/wrapper.py\u001b[0m in \u001b[0;36mload_libdmtx\u001b[0;34m()\u001b[0m\n\u001b[1;32m     37\u001b[0m     \u001b[0;32mglobal\u001b[0m \u001b[0mEXTERNAL_DEPENDENCIES\u001b[0m\u001b[0;34m\u001b[0m\u001b[0;34m\u001b[0m\u001b[0m\n\u001b[1;32m     38\u001b[0m     \u001b[0;32mif\u001b[0m \u001b[0;32mnot\u001b[0m \u001b[0mLIBDMTX\u001b[0m\u001b[0;34m:\u001b[0m\u001b[0;34m\u001b[0m\u001b[0;34m\u001b[0m\u001b[0m\n\u001b[0;32m---> 39\u001b[0;31m         \u001b[0mLIBDMTX\u001b[0m \u001b[0;34m=\u001b[0m \u001b[0mdmtx_library\u001b[0m\u001b[0;34m.\u001b[0m\u001b[0mload\u001b[0m\u001b[0;34m(\u001b[0m\u001b[0;34m)\u001b[0m\u001b[0;34m\u001b[0m\u001b[0;34m\u001b[0m\u001b[0m\n\u001b[0m\u001b[1;32m     40\u001b[0m         \u001b[0mEXTERNAL_DEPENDENCIES\u001b[0m \u001b[0;34m=\u001b[0m \u001b[0;34m[\u001b[0m\u001b[0mLIBDMTX\u001b[0m\u001b[0;34m]\u001b[0m\u001b[0;34m\u001b[0m\u001b[0;34m\u001b[0m\u001b[0m\n\u001b[1;32m     41\u001b[0m \u001b[0;34m\u001b[0m\u001b[0m\n",
      "\u001b[0;32m//anaconda3/envs/HTAN/lib/python3.7/site-packages/pylibdmtx/dmtx_library.py\u001b[0m in \u001b[0;36mload\u001b[0;34m()\u001b[0m\n\u001b[1;32m     45\u001b[0m         \u001b[0mpath\u001b[0m \u001b[0;34m=\u001b[0m \u001b[0mfind_library\u001b[0m\u001b[0;34m(\u001b[0m\u001b[0;34m'dmtx'\u001b[0m\u001b[0;34m)\u001b[0m\u001b[0;34m\u001b[0m\u001b[0;34m\u001b[0m\u001b[0m\n\u001b[1;32m     46\u001b[0m         \u001b[0;32mif\u001b[0m \u001b[0;32mnot\u001b[0m \u001b[0mpath\u001b[0m\u001b[0;34m:\u001b[0m\u001b[0;34m\u001b[0m\u001b[0;34m\u001b[0m\u001b[0m\n\u001b[0;32m---> 47\u001b[0;31m             \u001b[0;32mraise\u001b[0m \u001b[0mImportError\u001b[0m\u001b[0;34m(\u001b[0m\u001b[0;34m'Unable to find dmtx shared library'\u001b[0m\u001b[0;34m)\u001b[0m\u001b[0;34m\u001b[0m\u001b[0;34m\u001b[0m\u001b[0m\n\u001b[0m\u001b[1;32m     48\u001b[0m         \u001b[0mlibdmtx\u001b[0m \u001b[0;34m=\u001b[0m \u001b[0mcdll\u001b[0m\u001b[0;34m.\u001b[0m\u001b[0mLoadLibrary\u001b[0m\u001b[0;34m(\u001b[0m\u001b[0mpath\u001b[0m\u001b[0;34m)\u001b[0m\u001b[0;34m\u001b[0m\u001b[0;34m\u001b[0m\u001b[0m\n\u001b[1;32m     49\u001b[0m \u001b[0;34m\u001b[0m\u001b[0m\n",
      "\u001b[0;31mImportError\u001b[0m: Unable to find dmtx shared library"
     ]
    }
   ],
   "source": [
    "#Testing DSA OCR service features\n",
    "import girder_client, os,sys\n",
    "module_path = os.path.abspath(os.path.join('..'))\n",
    "if module_path not in sys.path:\n",
    "    sys.path.append(module_path)\n",
    "    \n",
    "\n",
    "import  ocr\n",
    "import server\n",
    "from IPython.display import Image as IPImage\n",
    "    \n",
    "    \n",
    "# import PIL\n",
    "# from PIL import Image\n",
    "import requests\n",
    "%load_ext autoreload\n",
    "%autoreload 2"
   ]
  },
  {
   "cell_type": "code",
   "execution_count": null,
   "metadata": {},
   "outputs": [],
   "source": [
    "!pip install pylibdmtx"
   ]
  },
  {
   "cell_type": "code",
   "execution_count": null,
   "metadata": {},
   "outputs": [],
   "source": [
    "gc=girder_client.GirderClient(apiUrl=\"http://transplant.digitalslidearchive.emory.edu:8080/api/v1\")\n",
    "gc.authenticate(interactive=True)"
   ]
  },
  {
   "cell_type": "code",
   "execution_count": null,
   "metadata": {},
   "outputs": [],
   "source": [
    "## 5cb8e68ae629140067608a4c\n",
    "## Folders\n",
    "import tqdm\n",
    "\n",
    "alreadyHadDataMatrix = 0\n",
    "batchSize = 10\n",
    "\n",
    "\n",
    "for f in gc.listFolder('5cb8e389e6291400676076bf',parentFolderType='collection'):\n",
    "    print(\"Scanning folder %s\" % f['name'])\n",
    "    IDS_to_Process = []\n",
    "\n",
    "    for i in tqdm.tqdm(list(gc.listItem(f['_id']))):\n",
    "        if ('meta' in i):\n",
    "            if ('dataMatrixOutput' in i['meta']):\n",
    "                alreadyHadDataMatrix+=1\n",
    "                #print (\"Meta Tag alraedy exists\")\n",
    "\n",
    "        else:\n",
    "            IDS_to_Process.append(i['_id'])\n",
    "            if(len(IDS_to_Process)%batchSize == 0):\n",
    "                print(\"You have a batch of %s\"%batchSize)\n",
    "                labelUpdateUrl = \"http://localhost:5000/label?ids=%s\" % ( \",\".join(IDS_to_Process))\n",
    "                print(labelUpdateUrl)\n",
    "                requests.get(labelUpdateUrl)\n",
    "                IDS_to_Process = [] ### Reset the cache\n",
    "\n",
    "\n",
    "    ## Don't forget to process the last batch\n",
    "    if(len(IDS_to_Process)>0):\n",
    "        \n",
    "        labelUpdateUrl = \"http://0.0.0.0:5000/label?ids=%s\" % ( \",\".join(IDS_to_Process))\n",
    "        print(labelUpdateUrl)\n",
    "        requests.get(labelUpdateUrl)\n",
    "\n",
    "    print(alreadyHadDataMatrix,\"Had a data matrix alraedy\")\n",
    "\n",
    "\n",
    "    "
   ]
  },
  {
   "cell_type": "code",
   "execution_count": null,
   "metadata": {
    "scrolled": true
   },
   "outputs": [],
   "source": [
    "img = server.get_image(gc,i['_id'],label=True)"
   ]
  },
  {
   "cell_type": "code",
   "execution_count": null,
   "metadata": {},
   "outputs": [],
   "source": [
    "r,r,md = ocr.basic_ocr(img)\n"
   ]
  },
  {
   "cell_type": "code",
   "execution_count": null,
   "metadata": {},
   "outputs": [],
   "source": []
  },
  {
   "cell_type": "code",
   "execution_count": null,
   "metadata": {},
   "outputs": [],
   "source": [
    "print(\"http://0.0.0.0:5000/label?ids=%s\" % ( \",\".join(IDS_to_Process)))"
   ]
  },
  {
   "cell_type": "code",
   "execution_count": null,
   "metadata": {},
   "outputs": [],
   "source": [
    "#curl -X GET --header 'Accept: image/jpeg' --header 'Girder-Token: GOL44tmAFOVRBzzBJApVRrfUh87CQkh7CGPuvsBwSnmUHsrWQoig4PjUPzSCmL4H' 'http://transplant.digitalslidearchive.emory.edu:8080/api/v1/'\n",
    "\n",
    "imgId = '5cb8e742e62914006760903a'\n",
    "\n",
    "%time labelImg = gc.get('item/%s/tiles/images/label?encoding=JPEG&width=256'%imgId,jsonResp=False)"
   ]
  },
  {
   "cell_type": "code",
   "execution_count": null,
   "metadata": {},
   "outputs": [],
   "source": []
  },
  {
   "cell_type": "code",
   "execution_count": null,
   "metadata": {},
   "outputs": [],
   "source": [
    "IPImage(labelImg.content)"
   ]
  },
  {
   "cell_type": "code",
   "execution_count": null,
   "metadata": {},
   "outputs": [],
   "source": []
  },
  {
   "cell_type": "code",
   "execution_count": null,
   "metadata": {},
   "outputs": [],
   "source": []
  },
  {
   "cell_type": "code",
   "execution_count": null,
   "metadata": {},
   "outputs": [],
   "source": [
    "import numpy as np\n",
    "from PIL import Image\n",
    "import numpy as np\n",
    "\n",
    "import cv2\n",
    "\n",
    "\n",
    "img_array = np.frombuffer(labelImg.content, dtype=np.uint8)\n",
    "img = cv2.imdecode(img_array, cv2.IMREAD_COLOR)\n",
    "\n",
    "\n",
    "procImg = img\n",
    "#cv2.cvtColor(img, cv2.COLOR_RGB2GRAY)\n",
    "\n",
    "(h,w,d) = procImg.shape\n",
    "wStart = int(w*0.05)\n",
    "wEnd = int(w*0.8)\n",
    "hStart = int(h*0)\n",
    "hEnd = int(h*0.55)\n",
    "\n",
    "print(h,w,d)\n",
    "procImg = procImg[50:400,50:600,]\n",
    "\n",
    "print(wStart,wEnd,hStart,hEnd)\n",
    "\n",
    "%time result = ocr.pytesseract.image_to_string(procImg)\n",
    "print(result)\n",
    "\n",
    "Image.fromarray(procImg)\n",
    "\n"
   ]
  },
  {
   "cell_type": "code",
   "execution_count": null,
   "metadata": {},
   "outputs": [],
   "source": [
    "%time ocr.decode(procImg)"
   ]
  },
  {
   "cell_type": "code",
   "execution_count": null,
   "metadata": {},
   "outputs": [],
   "source": [
    "from pylibdmtx.pylibdmtx import decode\n",
    "from PIL import Image\n",
    "decode(labelImg.content)"
   ]
  }
 ],
 "metadata": {
  "kernelspec": {
   "display_name": "Python 3",
   "language": "python",
   "name": "python3"
  },
  "language_info": {
   "codemirror_mode": {
    "name": "ipython",
    "version": 3
   },
   "file_extension": ".py",
   "mimetype": "text/x-python",
   "name": "python",
   "nbconvert_exporter": "python",
   "pygments_lexer": "ipython3",
   "version": "3.7.4"
  }
 },
 "nbformat": 4,
 "nbformat_minor": 2
}
