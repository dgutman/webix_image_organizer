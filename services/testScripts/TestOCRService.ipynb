{
 "cells": [
  {
   "cell_type": "code",
   "execution_count": 4,
   "metadata": {},
   "outputs": [],
   "source": [
    "#Testing DSA OCR service features\n",
    "import girder_client, os,sys\n",
    "module_path = os.path.abspath(os.path.join('..'))\n",
    "if module_path not in sys.path:\n",
    "    sys.path.append(module_path)\n",
    "    \n",
    "\n",
    "import  ocr\n",
    "import server\n",
    "from IPython.display import Image as IPImage\n",
    "    \n",
    "    \n",
    "# import PIL\n",
    "# from PIL import Image\n",
    "import requests\n",
    "%load_ext autoreload\n",
    "%autoreload 2"
   ]
  },
  {
   "cell_type": "code",
   "execution_count": 5,
   "metadata": {},
   "outputs": [
    {
     "name": "stdout",
     "output_type": "stream",
     "text": [
      "Login or email: admin\n",
      "Password for admin: ········\n"
     ]
    }
   ],
   "source": [
    "gc=girder_client.GirderClient(apiUrl=\"http://transplant.digitalslidearchive.emory.edu:8080/api/v1\")\n",
    "gc.authenticate(interactive=True)"
   ]
  },
  {
   "cell_type": "code",
   "execution_count": 7,
   "metadata": {},
   "outputs": [
    {
     "name": "stderr",
     "output_type": "stream",
     "text": [
      "100%|██████████| 359/359 [00:00<00:00, 970828.59it/s]\n",
      "100%|██████████| 277/277 [00:00<00:00, 1305418.21it/s]"
     ]
    },
    {
     "name": "stdout",
     "output_type": "stream",
     "text": [
      "Scanning folder 2019-03-14\n",
      "http://0.0.0.0:5000/label?ids=5cb8e67be62914006760898f\n",
      "358 Had a data matrix alraedy\n",
      "Scanning folder 2019-03-15\n",
      "635 Had a data matrix alraedy\n",
      "Scanning folder 2019-03-16\n"
     ]
    },
    {
     "name": "stderr",
     "output_type": "stream",
     "text": [
      "\n",
      "100%|██████████| 155/155 [00:00<00:00, 524711.15it/s]\n",
      "100%|██████████| 306/306 [00:00<00:00, 1304326.24it/s]\n"
     ]
    },
    {
     "name": "stdout",
     "output_type": "stream",
     "text": [
      "790 Had a data matrix alraedy\n",
      "Scanning folder 2019-03-18\n",
      "http://0.0.0.0:5000/label?ids=5cb8e7a8e629140067609344,5cb8e7bbe6291400676093d4,5cb8e816e6291400676096bf,5cb8e83ce6291400676097d4\n",
      "1092 Had a data matrix alraedy\n",
      "Scanning folder 2019-03-19\n"
     ]
    },
    {
     "name": "stderr",
     "output_type": "stream",
     "text": [
      "100%|██████████| 380/380 [00:00<00:00, 1224144.02it/s]\n",
      "100%|██████████| 382/382 [00:00<00:00, 929364.34it/s]\n"
     ]
    },
    {
     "name": "stdout",
     "output_type": "stream",
     "text": [
      "http://0.0.0.0:5000/label?ids=5cb8e8d0e629140067609cb8,5cb8e868e629140067609950,5cb8e8a9e629140067609b60,5cb8e860e62914006760990d\n",
      "1468 Had a data matrix alraedy\n",
      "Scanning folder 2019-03-20\n",
      "http://0.0.0.0:5000/label?ids=5cb8e90fe629140067609ebf,5cb8e976e62914006760a1f6\n",
      "1848 Had a data matrix alraedy\n",
      "Scanning folder 2019-03-21\n"
     ]
    },
    {
     "name": "stderr",
     "output_type": "stream",
     "text": [
      "100%|██████████| 412/412 [00:00<00:00, 930561.79it/s]\n",
      "100%|██████████| 400/400 [00:00<00:00, 908841.60it/s]\n"
     ]
    },
    {
     "name": "stdout",
     "output_type": "stream",
     "text": [
      "http://0.0.0.0:5000/label?ids=5cb8ea69e62914006760a9db\n",
      "2259 Had a data matrix alraedy\n",
      "Scanning folder 2019-03-22\n",
      "http://0.0.0.0:5000/label?ids=5cb8eb17e62914006760af27,5cb8ea80e62914006760aab6,5cb8eb13e62914006760af05,5cb8eadbe62914006760ad8b,5cb8eaafe62914006760ac3b\n"
     ]
    },
    {
     "name": "stderr",
     "output_type": "stream",
     "text": [
      "100%|██████████| 82/82 [00:00<00:00, 137573.17it/s]\n",
      "  0%|          | 0/204 [00:00<?, ?it/s]"
     ]
    },
    {
     "name": "stdout",
     "output_type": "stream",
     "text": [
      "2654 Had a data matrix alraedy\n",
      "Scanning folder 2019-03-23\n",
      "http://0.0.0.0:5000/label?ids=5cb8eb2ee62914006760afe6,5cb8eb4ee62914006760b100\n",
      "2734 Had a data matrix alraedy\n",
      "Scanning folder 2019-03-25\n",
      "You have a batch of 10\n",
      "http://localhost:5000/label?ids=5cb8eb94e62914006760b33b,5cb8eb85e62914006760b2b4,5cb8eb5fe62914006760b180,5cb8ebace62914006760b408,5cb8eb5fe62914006760b182,5cb8eb77e62914006760b23f,5cb8eb60e62914006760b184,5cb8eb60e62914006760b186,5cb8eb99e62914006760b366,5cb8eb84e62914006760b2aa\n"
     ]
    },
    {
     "name": "stderr",
     "output_type": "stream",
     "text": [
      "\r",
      " 59%|█████▉    | 120/204 [00:18<00:12,  6.49it/s]"
     ]
    },
    {
     "name": "stdout",
     "output_type": "stream",
     "text": [
      "You have a batch of 10\n",
      "http://localhost:5000/label?ids=5cb8eba4e62914006760b3c1,5cb8eb8ae62914006760b2e6,5cb8eb9ce62914006760b380,5cb8eb6ae62914006760b1d1,5cb8eba5e62914006760b3cd,5cb8eb82e62914006760b298,5cb8eb61e62914006760b188,5cb8eba9e62914006760b3ee,5cb8eb8fe62914006760b30b,5cb8eb61e62914006760b18a\n"
     ]
    },
    {
     "name": "stderr",
     "output_type": "stream",
     "text": [
      "\r",
      " 64%|██████▎   | 130/204 [00:40<00:56,  1.32it/s]"
     ]
    },
    {
     "name": "stdout",
     "output_type": "stream",
     "text": [
      "You have a batch of 10\n",
      "http://localhost:5000/label?ids=5cb8eb61e62914006760b18e,5cb8eba7e62914006760b3d7,5cb8eb62e62914006760b192,5cb8eb9be62914006760b376,5cb8eb70e62914006760b20a,5cb8eb7ce62914006760b26d,5cb8eba6e62914006760b3d5,5cb8eba8e62914006760b3e5,5cb8eb9fe62914006760b399,5cb8eb8ce62914006760b2f3\n"
     ]
    },
    {
     "name": "stderr",
     "output_type": "stream",
     "text": [
      "\r",
      " 69%|██████▊   | 140/204 [01:03<01:18,  1.23s/it]"
     ]
    },
    {
     "name": "stdout",
     "output_type": "stream",
     "text": [
      "You have a batch of 10\n",
      "http://localhost:5000/label?ids=5cb8eb97e62914006760b34c,5cb8eb6be62914006760b1e3,5cb8eb93e62914006760b32b,5cb8eb75e62914006760b230,5cb8eb9de62914006760b384,5cb8eb8be62914006760b2ed,5cb8eb62e62914006760b196,5cb8eb63e62914006760b19c,5cb8eba3e62914006760b3bb,5cb8eb78e62914006760b243\n"
     ]
    },
    {
     "name": "stderr",
     "output_type": "stream",
     "text": [
      "\r",
      " 74%|███████▎  | 150/204 [01:27<01:24,  1.57s/it]"
     ]
    },
    {
     "name": "stdout",
     "output_type": "stream",
     "text": [
      "You have a batch of 10\n",
      "http://localhost:5000/label?ids=5cb8eb63e62914006760b19f,5cb8eb8fe62914006760b30d,5cb8eb64e62914006760b1a3,5cb8eb6ce62914006760b1e8,5cb8eb7ee62914006760b273,5cb8eb85e62914006760b2b6,5cb8eb91e62914006760b319,5cb8eb7ee62914006760b277,5cb8eb64e62914006760b1a5,5cb8eb73e62914006760b220\n"
     ]
    },
    {
     "name": "stderr",
     "output_type": "stream",
     "text": [
      "\r",
      " 78%|███████▊  | 160/204 [01:47<01:14,  1.70s/it]"
     ]
    },
    {
     "name": "stdout",
     "output_type": "stream",
     "text": [
      "You have a batch of 10\n",
      "http://localhost:5000/label?ids=5cb8eb74e62914006760b22c,5cb8eb6ce62914006760b1e5,5cb8eba9e62914006760b3e9,5cb8eb86e62914006760b2bc,5cb8eb7de62914006760b271,5cb8ebace62914006760b406,5cb8eb8ce62914006760b2f1,5cb8ebaae62914006760b3f4,5cb8eb9de62914006760b38a,5cb8eb65e62914006760b1a7\n"
     ]
    },
    {
     "name": "stderr",
     "output_type": "stream",
     "text": [
      "\r",
      " 83%|████████▎ | 170/204 [02:07<01:01,  1.81s/it]"
     ]
    },
    {
     "name": "stdout",
     "output_type": "stream",
     "text": [
      "You have a batch of 10\n",
      "http://localhost:5000/label?ids=5cb8eb65e62914006760b1a9,5cb8eb6be62914006760b1d9,5cb8eb7be62914006760b267,5cb8eb72e62914006760b21e,5cb8eb65e62914006760b1ad,5cb8ebaee62914006760b419,5cb8eb6ae62914006760b1d7,5cb8eba3e62914006760b3b7,5cb8eb7be62914006760b261,5cb8eb69e62914006760b1c5\n"
     ]
    },
    {
     "name": "stderr",
     "output_type": "stream",
     "text": [
      "\r",
      " 88%|████████▊ | 180/204 [02:27<00:44,  1.87s/it]"
     ]
    },
    {
     "name": "stdout",
     "output_type": "stream",
     "text": [
      "You have a batch of 10\n",
      "http://localhost:5000/label?ids=5cb8eb66e62914006760b1b1,5cb8eb8ce62914006760b2f5,5cb8eb66e62914006760b1b5,5cb8eb9de62914006760b382,5cb8eb80e62914006760b283,5cb8eb67e62914006760b1b7,5cb8eb67e62914006760b1b9,5cb8eb75e62914006760b234,5cb8eb9fe62914006760b394,5cb8eba5e62914006760b3c7\n"
     ]
    },
    {
     "name": "stderr",
     "output_type": "stream",
     "text": [
      "\r",
      " 93%|█████████▎| 190/204 [02:50<00:27,  1.99s/it]"
     ]
    },
    {
     "name": "stdout",
     "output_type": "stream",
     "text": [
      "You have a batch of 10\n",
      "http://localhost:5000/label?ids=5cb8eb6fe62914006760b206,5cb8ebabe62914006760b3fe,5cb8eb9ee62914006760b38e,5cb8eb68e62914006760b1bf,5cb8eb7ee62914006760b27b,5cb8eb90e62914006760b30f,5cb8eb84e62914006760b2ae,5cb8eb68e62914006760b1c3,5cb8eb87e62914006760b2c9,5cb8eb8ee62914006760b309\n"
     ]
    },
    {
     "name": "stderr",
     "output_type": "stream",
     "text": [
      "100%|██████████| 204/204 [03:11<00:00,  1.06it/s]\n"
     ]
    },
    {
     "name": "stdout",
     "output_type": "stream",
     "text": [
      "http://0.0.0.0:5000/label?ids=5cb8eb8ae62914006760b2e1,5cb8eb90e62914006760b315,5cb8ebabe62914006760b404,5cb8ebafe62914006760b41e\n"
     ]
    },
    {
     "name": "stderr",
     "output_type": "stream",
     "text": [
      "\r",
      "  0%|          | 0/356 [00:00<?, ?it/s]"
     ]
    },
    {
     "name": "stdout",
     "output_type": "stream",
     "text": [
      "2844 Had a data matrix alraedy\n",
      "Scanning folder 2019-03-26\n",
      "You have a batch of 10\n",
      "http://localhost:5000/label?ids=5cb8ec29e62914006760b809,5cb8ebf1e62914006760b646,5cb8ebd6e62914006760b56b,5cb8ebdbe62914006760b58f,5cb8ec00e62914006760b6c7,5cb8ec1be62914006760b7ac,5cb8ec23e62914006760b7db,5cb8ebcfe62914006760b52e,5cb8ec55e62914006760b984,5cb8ebd6e62914006760b563\n"
     ]
    },
    {
     "name": "stderr",
     "output_type": "stream",
     "text": [
      "\r",
      "  3%|▎         | 10/356 [00:23<13:21,  2.32s/it]"
     ]
    },
    {
     "name": "stdout",
     "output_type": "stream",
     "text": [
      "You have a batch of 10\n",
      "http://localhost:5000/label?ids=5cb8ec25e62914006760b7ef,5cb8ec29e62914006760b80b,5cb8ebd4e62914006760b559,5cb8ec16e62914006760b77d,5cb8ec49e62914006760b91c,5cb8ebf3e62914006760b656,5cb8ec05e62914006760b6f5,5cb8ec53e62914006760b977,5cb8ec3ee62914006760b8c3,5cb8ec14e62914006760b771\n"
     ]
    },
    {
     "name": "stderr",
     "output_type": "stream",
     "text": [
      "\r",
      "  6%|▌         | 20/356 [00:44<12:36,  2.25s/it]"
     ]
    },
    {
     "name": "stdout",
     "output_type": "stream",
     "text": [
      "You have a batch of 10\n",
      "http://localhost:5000/label?ids=5cb8ec13e62914006760b767,5cb8ec31e62914006760b848,5cb8ebafe62914006760b425,5cb8ebb0e62914006760b427,5cb8ec4de62914006760b94d,5cb8ebc6e62914006760b4e7,5cb8ec0ee62914006760b741,5cb8ebd5e62914006760b55d,5cb8ebc5e62914006760b4db,5cb8ebd3e62914006760b555\n"
     ]
    },
    {
     "name": "stderr",
     "output_type": "stream",
     "text": [
      "\r",
      "  8%|▊         | 30/356 [01:05<11:59,  2.21s/it]"
     ]
    },
    {
     "name": "stdout",
     "output_type": "stream",
     "text": [
      "You have a batch of 10\n",
      "http://localhost:5000/label?ids=5cb8ec09e62914006760b70e,5cb8ec04e62914006760b6e6,5cb8ebefe62914006760b634,5cb8ebd0e62914006760b534,5cb8ec26e62914006760b7f3,5cb8ec16e62914006760b783,5cb8ec0fe62914006760b743,5cb8ebb0e62914006760b429,5cb8ec1de62914006760b7bc,5cb8ec4be62914006760b937\n"
     ]
    },
    {
     "name": "stderr",
     "output_type": "stream",
     "text": [
      "\r",
      " 11%|█         | 40/356 [01:28<11:44,  2.23s/it]"
     ]
    },
    {
     "name": "stdout",
     "output_type": "stream",
     "text": [
      "You have a batch of 10\n",
      "http://localhost:5000/label?ids=5cb8ec0ee62914006760b73d,5cb8ec09e62914006760b708,5cb8ebf3e62914006760b65a,5cb8ec42e62914006760b8e2,5cb8ec11e62914006760b757,5cb8ec40e62914006760b8d2,5cb8ebcee62914006760b526,5cb8ebcae62914006760b50c,5cb8ebdbe62914006760b594,5cb8ec05e62914006760b6f0\n"
     ]
    },
    {
     "name": "stderr",
     "output_type": "stream",
     "text": [
      "\r",
      " 14%|█▍        | 50/356 [01:50<11:21,  2.23s/it]"
     ]
    },
    {
     "name": "stdout",
     "output_type": "stream",
     "text": [
      "You have a batch of 10\n",
      "http://localhost:5000/label?ids=5cb8ec04e62914006760b6e8,5cb8ebb1e62914006760b42b,5cb8ebb1e62914006760b42d,5cb8ec2de62914006760b830,5cb8ebd7e62914006760b575,5cb8ebf6e62914006760b672,5cb8ec3ee62914006760b8c5,5cb8ebb1e62914006760b42f,5cb8ebeee62914006760b62f,5cb8ec57e62914006760b994\n"
     ]
    },
    {
     "name": "stderr",
     "output_type": "stream",
     "text": [
      "\r",
      " 17%|█▋        | 60/356 [02:15<11:22,  2.31s/it]"
     ]
    },
    {
     "name": "stdout",
     "output_type": "stream",
     "text": [
      "You have a batch of 10\n",
      "http://localhost:5000/label?ids=5cb8ec02e62914006760b6d3,5cb8ec02e62914006760b6d9,5cb8ec0fe62914006760b745,5cb8ec07e62914006760b700,5cb8ec01e62914006760b6c9,5cb8ebf5e62914006760b668,5cb8ebb2e62914006760b431,5cb8ec27e62914006760b7f5,5cb8ec0ce62914006760b72a,5cb8ebfae62914006760b691\n"
     ]
    },
    {
     "name": "stderr",
     "output_type": "stream",
     "text": [
      "\r",
      " 20%|█▉        | 70/356 [02:37<10:50,  2.27s/it]"
     ]
    },
    {
     "name": "stdout",
     "output_type": "stream",
     "text": [
      "You have a batch of 10\n",
      "http://localhost:5000/label?ids=5cb8ebcce62914006760b518,5cb8ebf2e62914006760b64c,5cb8ec50e62914006760b960,5cb8ebb2e62914006760b433,5cb8ebcfe62914006760b52a,5cb8ebdae62914006760b585,5cb8ebc8e62914006760b4f6,5cb8ebb3e62914006760b438,5cb8ec1be62914006760b7b2,5cb8ec1be62914006760b7a6\n"
     ]
    },
    {
     "name": "stderr",
     "output_type": "stream",
     "text": [
      "\r",
      " 22%|██▏       | 80/356 [02:59<10:25,  2.27s/it]"
     ]
    },
    {
     "name": "stdout",
     "output_type": "stream",
     "text": [
      "You have a batch of 10\n",
      "http://localhost:5000/label?ids=5cb8ebb3e62914006760b43e,5cb8ebb4e62914006760b446,5cb8ebcee62914006760b528,5cb8ebd2e62914006760b545,5cb8ebb5e62914006760b448,5cb8ec48e62914006760b916,5cb8ec51e62914006760b965,5cb8ec30e62914006760b844,5cb8ebcde62914006760b524,5cb8ebd2e62914006760b543\n"
     ]
    },
    {
     "name": "stderr",
     "output_type": "stream",
     "text": [
      "\r",
      " 25%|██▌       | 90/356 [03:23<10:11,  2.30s/it]"
     ]
    },
    {
     "name": "stdout",
     "output_type": "stream",
     "text": [
      "You have a batch of 10\n",
      "http://localhost:5000/label?ids=5cb8ebd2e62914006760b54b,5cb8ebd9e62914006760b57f,5cb8ec27e62914006760b7f7,5cb8ebfbe62914006760b69f,5cb8ec41e62914006760b8dc,5cb8ec2be62914006760b81d,5cb8ebd1e62914006760b541,5cb8ebb5e62914006760b44a,5cb8ebc7e62914006760b4f2,5cb8ebb6e62914006760b450\n"
     ]
    },
    {
     "name": "stderr",
     "output_type": "stream",
     "text": [
      "\r",
      " 28%|██▊       | 100/356 [03:46<09:47,  2.30s/it]"
     ]
    },
    {
     "name": "stdout",
     "output_type": "stream",
     "text": [
      "You have a batch of 10\n",
      "http://localhost:5000/label?ids=5cb8ec24e62914006760b7e4,5cb8ebcae62914006760b50a,5cb8ebf0e62914006760b636,5cb8ebb6e62914006760b454,5cb8ebb7e62914006760b456,5cb8ebd8e62914006760b57b,5cb8ec2fe62914006760b842,5cb8ec10e62914006760b751,5cb8ec08e62914006760b706,5cb8ebffe62914006760b6bf\n"
     ]
    },
    {
     "name": "stderr",
     "output_type": "stream",
     "text": [
      "\r",
      " 31%|███       | 110/356 [04:06<09:07,  2.23s/it]"
     ]
    },
    {
     "name": "stdout",
     "output_type": "stream",
     "text": [
      "You have a batch of 10\n",
      "http://localhost:5000/label?ids=5cb8ec54e62914006760b980,5cb8ec28e62914006760b805,5cb8ebb7e62914006760b458,5cb8ebc5e62914006760b4df,5cb8ec50e62914006760b95c,5cb8ec01e62914006760b6cf,5cb8ebc9e62914006760b506,5cb8ec4fe62914006760b953,5cb8ec0be62914006760b720,5cb8ebdae62914006760b58b\n"
     ]
    },
    {
     "name": "stderr",
     "output_type": "stream",
     "text": [
      "\r",
      " 34%|███▎      | 120/356 [04:27<08:31,  2.17s/it]"
     ]
    },
    {
     "name": "stdout",
     "output_type": "stream",
     "text": [
      "You have a batch of 10\n",
      "http://localhost:5000/label?ids=5cb8ec1de62914006760b7b8,5cb8ebb8e62914006760b45c,5cb8ec06e62914006760b6fe,5cb8ebb8e62914006760b462,5cb8ec14e62914006760b76d,5cb8ec22e62914006760b7d5,5cb8ec25e62914006760b7eb,5cb8ebdce62914006760b596,5cb8ebfee62914006760b6bb,5cb8ec08e62914006760b704\n"
     ]
    },
    {
     "name": "stderr",
     "output_type": "stream",
     "text": [
      "\r",
      " 37%|███▋      | 130/356 [04:47<08:02,  2.13s/it]"
     ]
    },
    {
     "name": "stdout",
     "output_type": "stream",
     "text": [
      "You have a batch of 10\n",
      "http://localhost:5000/label?ids=5cb8ebc8e62914006760b500,5cb8ec19e62914006760b79e,5cb8ec1ee62914006760b7c0,5cb8ec4ee62914006760b94f,5cb8ec44e62914006760b8f4,5cb8ec21e62914006760b7d0,5cb8ebcce62914006760b51e,5cb8ec11e62914006760b759,5cb8ebd7e62914006760b573,5cb8ec03e62914006760b6df\n"
     ]
    },
    {
     "name": "stderr",
     "output_type": "stream",
     "text": [
      "\r",
      " 39%|███▉      | 140/356 [05:07<07:31,  2.09s/it]"
     ]
    },
    {
     "name": "stdout",
     "output_type": "stream",
     "text": [
      "You have a batch of 10\n",
      "http://localhost:5000/label?ids=5cb8ec12e62914006760b761,5cb8ebcce62914006760b512,5cb8ec0ce62914006760b730,5cb8ec0ce62914006760b725,5cb8ec21e62914006760b7d3,5cb8ec2ce62914006760b824,5cb8ec20e62914006760b7ca,5cb8ebd5e62914006760b55f,5cb8ebb9e62914006760b46a,5cb8ebb9e62914006760b46c\n"
     ]
    },
    {
     "name": "stderr",
     "output_type": "stream",
     "text": [
      "\r",
      " 42%|████▏     | 150/356 [05:28<07:09,  2.09s/it]"
     ]
    },
    {
     "name": "stdout",
     "output_type": "stream",
     "text": [
      "You have a batch of 10\n",
      "http://localhost:5000/label?ids=5cb8ec22e62914006760b7d7,5cb8ec4be62914006760b92d,5cb8ec50e62914006760b957,5cb8ebd6e62914006760b571,5cb8ebd9e62914006760b583,5cb8ebfae62914006760b693,5cb8ec2de62914006760b82c,5cb8ebf9e62914006760b68c,5cb8ebc7e62914006760b4ed,5cb8ebd0e62914006760b53a\n"
     ]
    },
    {
     "name": "stderr",
     "output_type": "stream",
     "text": [
      "\r",
      " 45%|████▍     | 160/356 [05:49<06:49,  2.09s/it]"
     ]
    },
    {
     "name": "stdout",
     "output_type": "stream",
     "text": [
      "You have a batch of 10\n",
      "http://localhost:5000/label?ids=5cb8ebbae62914006760b472,5cb8ec2fe62914006760b840,5cb8ec4ce62914006760b93d,5cb8ec47e62914006760b90c,5cb8ebbae62914006760b478,5cb8ec20e62914006760b7ce,5cb8ec05e62914006760b6ea,5cb8ebfde62914006760b6b3,5cb8ebd1e62914006760b53e,5cb8ebf9e62914006760b688\n"
     ]
    },
    {
     "name": "stderr",
     "output_type": "stream",
     "text": [
      "\r",
      " 48%|████▊     | 170/356 [06:10<06:27,  2.09s/it]"
     ]
    },
    {
     "name": "stdout",
     "output_type": "stream",
     "text": [
      "You have a batch of 10\n",
      "http://localhost:5000/label?ids=5cb8ec18e62914006760b78e,5cb8ebc8e62914006760b4fa,5cb8ec49e62914006760b921,5cb8ec2ae62914006760b819,5cb8ebf1e62914006760b648,5cb8ebcbe62914006760b510,5cb8ec1fe62914006760b7c2,5cb8ec1fe62914006760b7c6,5cb8ebd3e62914006760b54f,5cb8ec47e62914006760b90e\n"
     ]
    },
    {
     "name": "stderr",
     "output_type": "stream",
     "text": [
      "\r",
      " 51%|█████     | 180/356 [06:32<06:13,  2.12s/it]"
     ]
    },
    {
     "name": "stdout",
     "output_type": "stream",
     "text": [
      "You have a batch of 10\n",
      "http://localhost:5000/label?ids=5cb8ec26e62914006760b7f1,5cb8ec07e62914006760b702,5cb8ebf5e62914006760b66e,5cb8ebd8e62914006760b577,5cb8ebf0e62914006760b640,5cb8ec3ee62914006760b8c1,5cb8ebd4e62914006760b55b,5cb8ec0ae62914006760b718,5cb8ebc6e62914006760b4e3,5cb8ebcbe62914006760b50e\n"
     ]
    },
    {
     "name": "stderr",
     "output_type": "stream",
     "text": [
      "\r",
      " 53%|█████▎    | 190/356 [06:53<05:54,  2.14s/it]"
     ]
    },
    {
     "name": "stdout",
     "output_type": "stream",
     "text": [
      "You have a batch of 10\n",
      "http://localhost:5000/label?ids=5cb8ec4de62914006760b945,5cb8ec43e62914006760b8ee,5cb8ec45e62914006760b8f8,5cb8ec0ee62914006760b739,5cb8ec23e62914006760b7d9,5cb8ec52e62914006760b969,5cb8ebbbe62914006760b47c,5cb8ec24e62914006760b7dd,5cb8ec18e62914006760b790,5cb8ebdae62914006760b587\n"
     ]
    },
    {
     "name": "stderr",
     "output_type": "stream",
     "text": [
      "\r",
      " 56%|█████▌    | 200/356 [07:13<05:26,  2.10s/it]"
     ]
    },
    {
     "name": "stdout",
     "output_type": "stream",
     "text": [
      "You have a batch of 10\n",
      "http://localhost:5000/label?ids=5cb8ec10e62914006760b749,5cb8ec0be62914006760b71e,5cb8ebdce62914006760b598,5cb8ec52e62914006760b96d,5cb8ebdde62914006760b5a1,5cb8ec2ae62914006760b811,5cb8ec1de62914006760b7ba,5cb8ebbbe62914006760b480,5cb8ebf7e62914006760b676,5cb8ebdde62914006760b59c\n"
     ]
    },
    {
     "name": "stderr",
     "output_type": "stream",
     "text": [
      "\r",
      " 59%|█████▉    | 210/356 [07:31<04:53,  2.01s/it]"
     ]
    },
    {
     "name": "stdout",
     "output_type": "stream",
     "text": [
      "You have a batch of 10\n",
      "http://localhost:5000/label?ids=5cb8ec48e62914006760b912,5cb8ec15e62914006760b779,5cb8ec17e62914006760b78b,5cb8ebbce62914006760b482,5cb8ec0de62914006760b734,5cb8ebbce62914006760b488,5cb8ec12e62914006760b75d,5cb8ebdee62914006760b5a4,5cb8ebdee62914006760b5a6,5cb8ebdfe62914006760b5a8\n"
     ]
    },
    {
     "name": "stderr",
     "output_type": "stream",
     "text": [
      "\r",
      " 62%|██████▏   | 220/356 [07:49<04:23,  1.94s/it]"
     ]
    },
    {
     "name": "stdout",
     "output_type": "stream",
     "text": [
      "You have a batch of 10\n",
      "http://localhost:5000/label?ids=5cb8ebbce62914006760b490,5cb8ebbde62914006760b495,5cb8ec13e62914006760b765,5cb8ebfae62914006760b697,5cb8ebdfe62914006760b5aa,5cb8ec3fe62914006760b8c9,5cb8ec40e62914006760b8da,5cb8ec53e62914006760b971,5cb8ec31e62914006760b84a,5cb8ec0ae62914006760b71c\n"
     ]
    },
    {
     "name": "stderr",
     "output_type": "stream",
     "text": [
      "\r",
      " 65%|██████▍   | 230/356 [08:08<04:01,  1.92s/it]"
     ]
    },
    {
     "name": "stdout",
     "output_type": "stream",
     "text": [
      "You have a batch of 10\n",
      "http://localhost:5000/label?ids=5cb8ebbde62914006760b497,5cb8ebe0e62914006760b5b2,5cb8ebdfe62914006760b5ae,5cb8ebe0e62914006760b5b6,5cb8ebe1e62914006760b5b8,5cb8ebf6e62914006760b674,5cb8ec32e62914006760b84e,5cb8ebf7e62914006760b678,5cb8ebe1e62914006760b5ba,5cb8ec32e62914006760b852\n"
     ]
    },
    {
     "name": "stderr",
     "output_type": "stream",
     "text": [
      "\r",
      " 67%|██████▋   | 240/356 [08:26<03:37,  1.88s/it]"
     ]
    },
    {
     "name": "stdout",
     "output_type": "stream",
     "text": [
      "You have a batch of 10\n",
      "http://localhost:5000/label?ids=5cb8ebe2e62914006760b5c2,5cb8ebbee62914006760b49b,5cb8ebe2e62914006760b5be,5cb8ebf4e62914006760b65e,5cb8ebbee62914006760b49f,5cb8ec57e62914006760b996,5cb8ec46e62914006760b902,5cb8ebbee62914006760b4a5,5cb8ec4ae62914006760b929,5cb8ebbfe62914006760b4a9\n"
     ]
    },
    {
     "name": "stderr",
     "output_type": "stream",
     "text": [
      "\r",
      " 70%|███████   | 250/356 [08:42<03:12,  1.81s/it]"
     ]
    },
    {
     "name": "stdout",
     "output_type": "stream",
     "text": [
      "You have a batch of 10\n",
      "http://localhost:5000/label?ids=5cb8ec19e62914006760b798,5cb8ec33e62914006760b858,5cb8ebc0e62914006760b4ad,5cb8ec56e62914006760b992,5cb8ebe3e62914006760b5cc,5cb8ebe2e62914006760b5c8,5cb8ec3fe62914006760b8c7,5cb8ec16e62914006760b787,5cb8ebe3e62914006760b5d2,5cb8ebe4e62914006760b5d6\n"
     ]
    },
    {
     "name": "stderr",
     "output_type": "stream",
     "text": [
      "\r",
      " 73%|███████▎  | 260/356 [08:59<02:49,  1.77s/it]"
     ]
    },
    {
     "name": "stdout",
     "output_type": "stream",
     "text": [
      "You have a batch of 10\n",
      "http://localhost:5000/label?ids=5cb8ebe4e62914006760b5da,5cb8ec44e62914006760b8f6,5cb8ec33e62914006760b85c,5cb8ebc0e62914006760b4af,5cb8ebc1e62914006760b4b1,5cb8ec34e62914006760b862,5cb8ebe5e62914006760b5df,5cb8ebc1e62914006760b4b3,5cb8ec17e62914006760b789,5cb8ec35e62914006760b86c\n"
     ]
    },
    {
     "name": "stderr",
     "output_type": "stream",
     "text": [
      "\r",
      " 76%|███████▌  | 270/356 [09:16<02:31,  1.76s/it]"
     ]
    },
    {
     "name": "stdout",
     "output_type": "stream",
     "text": [
      "You have a batch of 10\n",
      "http://localhost:5000/label?ids=5cb8ec15e62914006760b775,5cb8ebc2e62914006760b4bb,5cb8ebf7e62914006760b67a,5cb8ebe6e62914006760b5e3,5cb8ebc1e62914006760b4b5,5cb8ebe6e62914006760b5e7,5cb8ec34e62914006760b866,5cb8ebe7e62914006760b5ed,5cb8ec54e62914006760b97c,5cb8ec1ae62914006760b7a2\n"
     ]
    },
    {
     "name": "stderr",
     "output_type": "stream",
     "text": [
      "\r",
      " 79%|███████▊  | 280/356 [09:35<02:15,  1.78s/it]"
     ]
    },
    {
     "name": "stdout",
     "output_type": "stream",
     "text": [
      "You have a batch of 10\n",
      "http://localhost:5000/label?ids=5cb8ec2be62914006760b81f,5cb8ebe7e62914006760b5f1,5cb8ebe7e62914006760b5f7,5cb8ec4fe62914006760b955,5cb8ec4be62914006760b933,5cb8ec35e62914006760b872,5cb8ec36e62914006760b879,5cb8ec28e62914006760b7fd,5cb8ec56e62914006760b989,5cb8ec4fe62914006760b951\n"
     ]
    },
    {
     "name": "stderr",
     "output_type": "stream",
     "text": [
      "\r",
      " 81%|████████▏ | 290/356 [09:52<01:57,  1.78s/it]"
     ]
    },
    {
     "name": "stdout",
     "output_type": "stream",
     "text": [
      "You have a batch of 10\n",
      "http://localhost:5000/label?ids=5cb8ec52e62914006760b96f,5cb8ebc2e62914006760b4bf,5cb8ec4ce62914006760b93b,5cb8ec45e62914006760b8fc,5cb8ebeee62914006760b62b,5cb8ec2ce62914006760b828,5cb8ec2ee62914006760b83c,5cb8ebe8e62914006760b5fb,5cb8ebc3e62914006760b4c3,5cb8ec36e62914006760b87d\n"
     ]
    },
    {
     "name": "stderr",
     "output_type": "stream",
     "text": [
      "\r",
      " 84%|████████▍ | 300/356 [10:11<01:40,  1.79s/it]"
     ]
    },
    {
     "name": "stdout",
     "output_type": "stream",
     "text": [
      "You have a batch of 10\n",
      "http://localhost:5000/label?ids=5cb8ec1ce62914006760b7b6,5cb8ec37e62914006760b881,5cb8ebe8e62914006760b5ff,5cb8ec44e62914006760b8f2,5cb8ebc3e62914006760b4c8,5cb8ebfee62914006760b6b7,5cb8ebe9e62914006760b603,5cb8ec37e62914006760b889,5cb8ebf8e62914006760b683,5cb8ec4ae62914006760b925\n"
     ]
    },
    {
     "name": "stderr",
     "output_type": "stream",
     "text": [
      "\r",
      " 87%|████████▋ | 310/356 [10:30<01:23,  1.82s/it]"
     ]
    },
    {
     "name": "stdout",
     "output_type": "stream",
     "text": [
      "You have a batch of 10\n",
      "http://localhost:5000/label?ids=5cb8ec06e62914006760b6fa,5cb8ec38e62914006760b88d,5cb8ebc4e62914006760b4cd,5cb8ec00e62914006760b6c5,5cb8ec38e62914006760b891,5cb8ebe9e62914006760b609,5cb8ebf8e62914006760b67e,5cb8ec39e62914006760b893,5cb8ebfce62914006760b6a9,5cb8ec39e62914006760b895\n"
     ]
    },
    {
     "name": "stderr",
     "output_type": "stream",
     "text": [
      "\r",
      " 90%|████████▉ | 320/356 [10:50<01:07,  1.89s/it]"
     ]
    },
    {
     "name": "stdout",
     "output_type": "stream",
     "text": [
      "You have a batch of 10\n",
      "http://localhost:5000/label?ids=5cb8ec39e62914006760b899,5cb8ebeae62914006760b60d,5cb8ebeae62914006760b611,5cb8ebfde62914006760b6af,5cb8ebc4e62914006760b4d2,5cb8ec3ae62914006760b8a1,5cb8ebfce62914006760b6a1,5cb8ebebe62914006760b613,5cb8ebebe62914006760b615,5cb8ebebe62914006760b617\n"
     ]
    },
    {
     "name": "stderr",
     "output_type": "stream",
     "text": [
      "\r",
      " 93%|█████████▎| 330/356 [11:10<00:49,  1.91s/it]"
     ]
    },
    {
     "name": "stdout",
     "output_type": "stream",
     "text": [
      "You have a batch of 10\n",
      "http://localhost:5000/label?ids=5cb8ec3be62914006760b8ab,5cb8ec30e62914006760b846,5cb8ebfbe62914006760b69b,5cb8ec09e62914006760b712,5cb8ec42e62914006760b8e7,5cb8ec2ee62914006760b837,5cb8ebffe62914006760b6c1,5cb8ebefe62914006760b631,5cb8ebffe62914006760b6c3,5cb8ec3be62914006760b8af\n"
     ]
    },
    {
     "name": "stderr",
     "output_type": "stream",
     "text": [
      "\r",
      " 96%|█████████▌| 340/356 [11:29<00:30,  1.91s/it]"
     ]
    },
    {
     "name": "stdout",
     "output_type": "stream",
     "text": [
      "You have a batch of 10\n",
      "http://localhost:5000/label?ids=5cb8ec1ee62914006760b7be,5cb8ec3ae62914006760b8a7,5cb8ebece62914006760b61b,5cb8ec3ce62914006760b8b3,5cb8ec46e62914006760b908,5cb8ebc5e62914006760b4d5,5cb8ec56e62914006760b98e,5cb8ec3ce62914006760b8b5,5cb8ebece62914006760b620,5cb8ebede62914006760b623\n"
     ]
    },
    {
     "name": "stderr",
     "output_type": "stream",
     "text": [
      "100%|██████████| 356/356 [11:48<00:00,  1.99s/it]\n"
     ]
    },
    {
     "name": "stdout",
     "output_type": "stream",
     "text": [
      "http://0.0.0.0:5000/label?ids=5cb8ebede62914006760b627,5cb8ebf2e62914006760b651,5cb8ec3de62914006760b8bb,5cb8ec41e62914006760b8de,5cb8ebf4e62914006760b662,5cb8ec3de62914006760b8bf\n"
     ]
    },
    {
     "name": "stderr",
     "output_type": "stream",
     "text": [
      "\r",
      "  0%|          | 0/51 [00:00<?, ?it/s]"
     ]
    },
    {
     "name": "stdout",
     "output_type": "stream",
     "text": [
      "2844 Had a data matrix alraedy\n",
      "Scanning folder 2019-03-27\n",
      "You have a batch of 10\n",
      "http://localhost:5000/label?ids=5cb8ec58e62914006760b99f,5cb8ec58e62914006760b9a5,5cb8ec59e62914006760b9a9,5cb8ec5ae62914006760b9ad,5cb8ec5ae62914006760b9b3,5cb8ec5be62914006760b9b9,5cb8ec5be62914006760b9bd,5cb8ec5ce62914006760b9c1,5cb8ec5ce62914006760b9c5,5cb8ec5de62914006760b9cb\n"
     ]
    },
    {
     "name": "stderr",
     "output_type": "stream",
     "text": [
      "\r",
      " 20%|█▉        | 10/51 [00:21<01:30,  2.20s/it]"
     ]
    },
    {
     "name": "stdout",
     "output_type": "stream",
     "text": [
      "You have a batch of 10\n",
      "http://localhost:5000/label?ids=5cb8ec5de62914006760b9cf,5cb8ec5ee62914006760b9d8,5cb8ec5ee62914006760b9dc,5cb8ec5fe62914006760b9e2,5cb8ec5fe62914006760b9e5,5cb8ec60e62914006760b9ec,5cb8ec61e62914006760b9ee,5cb8ec61e62914006760b9f2,5cb8ec62e62914006760b9f8,5cb8ec62e62914006760b9fc\n"
     ]
    },
    {
     "name": "stderr",
     "output_type": "stream",
     "text": [
      "\r",
      " 39%|███▉      | 20/51 [00:39<01:04,  2.07s/it]"
     ]
    },
    {
     "name": "stdout",
     "output_type": "stream",
     "text": [
      "You have a batch of 10\n",
      "http://localhost:5000/label?ids=5cb8ec62e62914006760ba01,5cb8ec63e62914006760ba06,5cb8ec63e62914006760ba08,5cb8ec64e62914006760ba0e,5cb8ec64e62914006760ba12,5cb8ec65e62914006760ba18,5cb8ec66e62914006760ba1e,5cb8ec66e62914006760ba22,5cb8ec67e62914006760ba26,5cb8ec67e62914006760ba28\n"
     ]
    },
    {
     "name": "stderr",
     "output_type": "stream",
     "text": [
      "\r",
      " 59%|█████▉    | 30/51 [00:59<00:42,  2.04s/it]"
     ]
    },
    {
     "name": "stdout",
     "output_type": "stream",
     "text": [
      "You have a batch of 10\n",
      "http://localhost:5000/label?ids=5cb8ec68e62914006760ba2a,5cb8ec68e62914006760ba31,5cb8ec69e62914006760ba35,5cb8ec69e62914006760ba37,5cb8ec69e62914006760ba39,5cb8ec6ae62914006760ba3d,5cb8ec6ae62914006760ba45,5cb8ec6be62914006760ba4b,5cb8ec6ce62914006760ba4d,5cb8ec6ce62914006760ba53\n"
     ]
    },
    {
     "name": "stderr",
     "output_type": "stream",
     "text": [
      "\r",
      " 78%|███████▊  | 40/51 [01:17<00:21,  1.97s/it]"
     ]
    },
    {
     "name": "stdout",
     "output_type": "stream",
     "text": [
      "You have a batch of 10\n",
      "http://localhost:5000/label?ids=5cb8ec6de62914006760ba57,5cb8ec6de62914006760ba5d,5cb8ec6de62914006760ba61,5cb8ec6ee62914006760ba63,5cb8ec6ee62914006760ba65,5cb8ec6fe62914006760ba67,5cb8ec6fe62914006760ba69,5cb8ec6fe62914006760ba6b,5cb8ec6fe62914006760ba6d,5cb8ec70e62914006760ba73\n"
     ]
    },
    {
     "name": "stderr",
     "output_type": "stream",
     "text": [
      "100%|██████████| 51/51 [01:35<00:00,  1.86s/it]\n"
     ]
    },
    {
     "name": "stdout",
     "output_type": "stream",
     "text": [
      "http://0.0.0.0:5000/label?ids=5cb8ec71e62914006760ba79\n"
     ]
    },
    {
     "name": "stderr",
     "output_type": "stream",
     "text": [
      "\r",
      "  0%|          | 0/265 [00:00<?, ?it/s]"
     ]
    },
    {
     "name": "stdout",
     "output_type": "stream",
     "text": [
      "2844 Had a data matrix alraedy\n",
      "Scanning folder 2019-03-28\n",
      "You have a batch of 10\n",
      "http://localhost:5000/label?ids=5cb8e418e629140067607777,5cb8e45de62914006760790b,5cb8e440e62914006760787f,5cb8e454e6291400676078db,5cb8e45ce6291400676078ff,5cb8e43be629140067607867,5cb8e42de629140067607805,5cb8e3d0e6291400676076c9,5cb8e425e6291400676077c9,5cb8e3f9e6291400676076cb\n"
     ]
    },
    {
     "name": "stderr",
     "output_type": "stream",
     "text": [
      "\r",
      "  4%|▍         | 10/265 [00:18<07:43,  1.82s/it]"
     ]
    },
    {
     "name": "stdout",
     "output_type": "stream",
     "text": [
      "You have a batch of 10\n",
      "http://localhost:5000/label?ids=5cb8e3fae6291400676076cd,5cb8e45fe629140067607911,5cb8e418e629140067607779,5cb8e419e62914006760777b,5cb8e3fae6291400676076cf,5cb8e465e629140067607935,5cb8e41de62914006760778d,5cb8e43ee629140067607877,5cb8e3fbe6291400676076d1,5cb8e467e629140067607941\n"
     ]
    },
    {
     "name": "stderr",
     "output_type": "stream",
     "text": [
      "\r",
      "  8%|▊         | 20/265 [00:36<07:25,  1.82s/it]"
     ]
    },
    {
     "name": "stdout",
     "output_type": "stream",
     "text": [
      "You have a batch of 10\n",
      "http://localhost:5000/label?ids=5cb8e424e6291400676077bd,5cb8e452e6291400676078d1,5cb8e441e629140067607883,5cb8e42ae6291400676077f7,5cb8e44ee6291400676078bf,5cb8e45ee62914006760790d,5cb8e42ce6291400676077fd,5cb8e446e62914006760789b,5cb8e41de62914006760778f,5cb8e3fbe6291400676076d3\n"
     ]
    },
    {
     "name": "stderr",
     "output_type": "stream",
     "text": [
      "\r",
      " 11%|█▏        | 30/265 [00:54<07:05,  1.81s/it]"
     ]
    },
    {
     "name": "stdout",
     "output_type": "stream",
     "text": [
      "You have a batch of 10\n",
      "http://localhost:5000/label?ids=5cb8e3fbe6291400676076d5,5cb8e443e62914006760788d,5cb8e431e629140067607821,5cb8e3fce6291400676076d7,5cb8e41ae629140067607783,5cb8e3fce6291400676076d9,5cb8e42fe629140067607813,5cb8e44de6291400676078bb,5cb8e3fde6291400676076db,5cb8e430e629140067607819\n"
     ]
    },
    {
     "name": "stderr",
     "output_type": "stream",
     "text": [
      "\r",
      " 15%|█▌        | 40/265 [01:12<06:46,  1.81s/it]"
     ]
    },
    {
     "name": "stdout",
     "output_type": "stream",
     "text": [
      "You have a batch of 10\n",
      "http://localhost:5000/label?ids=5cb8e429e6291400676077e5,5cb8e3fde6291400676076dd,5cb8e3fde6291400676076df,5cb8e3fee6291400676076e1,5cb8e3fee6291400676076e3,5cb8e41ae629140067607781,5cb8e44be6291400676078b3,5cb8e464e629140067607933,5cb8e460e629140067607915,5cb8e433e629140067607835\n"
     ]
    },
    {
     "name": "stderr",
     "output_type": "stream",
     "text": [
      "\r",
      " 19%|█▉        | 50/265 [01:30<06:29,  1.81s/it]"
     ]
    },
    {
     "name": "stdout",
     "output_type": "stream",
     "text": [
      "You have a batch of 10\n",
      "http://localhost:5000/label?ids=5cb8e459e6291400676078f3,5cb8e419e62914006760777d,5cb8e3ffe6291400676076e5,5cb8e463e62914006760792f,5cb8e43fe62914006760787b,5cb8e45de629140067607901,5cb8e41ee629140067607791,5cb8e426e6291400676077d1,5cb8e3ffe6291400676076e7,5cb8e429e6291400676077ed\n"
     ]
    },
    {
     "name": "stderr",
     "output_type": "stream",
     "text": [
      "\r",
      " 23%|██▎       | 60/265 [01:47<06:07,  1.79s/it]"
     ]
    },
    {
     "name": "stdout",
     "output_type": "stream",
     "text": [
      "You have a batch of 10\n",
      "http://localhost:5000/label?ids=5cb8e455e6291400676078e1,5cb8e44ee6291400676078c3,5cb8e3ffe6291400676076e9,5cb8e44ae6291400676078ad,5cb8e427e6291400676077d9,5cb8e43ce62914006760786d,5cb8e400e6291400676076eb,5cb8e43de62914006760786f,5cb8e400e6291400676076ed,5cb8e422e6291400676077b5\n"
     ]
    },
    {
     "name": "stderr",
     "output_type": "stream",
     "text": [
      "\r",
      " 26%|██▋       | 70/265 [02:05<05:48,  1.79s/it]"
     ]
    },
    {
     "name": "stdout",
     "output_type": "stream",
     "text": [
      "You have a batch of 10\n",
      "http://localhost:5000/label?ids=5cb8e420e62914006760779f,5cb8e43fe629140067607879,5cb8e41ee629140067607793,5cb8e41fe629140067607799,5cb8e45de629140067607908,5cb8e43ce629140067607869,5cb8e44be6291400676078b1,5cb8e45ae6291400676078f7,5cb8e44ce6291400676078b5,5cb8e43ee629140067607875\n"
     ]
    },
    {
     "name": "stderr",
     "output_type": "stream",
     "text": [
      "\r",
      " 30%|███       | 80/265 [02:23<05:31,  1.79s/it]"
     ]
    },
    {
     "name": "stdout",
     "output_type": "stream",
     "text": [
      "You have a batch of 10\n",
      "http://localhost:5000/label?ids=5cb8e446e629140067607897,5cb8e42ee62914006760780d,5cb8e447e62914006760789f,5cb8e46ce629140067607955,5cb8e449e6291400676078a9,5cb8e432e629140067607829,5cb8e401e6291400676076ef,5cb8e46be629140067607953,5cb8e44fe6291400676078c7,5cb8e443e62914006760788b\n"
     ]
    },
    {
     "name": "stderr",
     "output_type": "stream",
     "text": [
      "\r",
      " 34%|███▍      | 90/265 [02:41<05:10,  1.78s/it]"
     ]
    },
    {
     "name": "stdout",
     "output_type": "stream",
     "text": [
      "You have a batch of 10\n",
      "http://localhost:5000/label?ids=5cb8e401e6291400676076f1,5cb8e461e62914006760791f,5cb8e41ae62914006760777f,5cb8e41ce629140067607789,5cb8e448e6291400676078a5,5cb8e453e6291400676078d5,5cb8e46ce629140067607959,5cb8e468e629140067607943,5cb8e428e6291400676077e1,5cb8e42be6291400676077f9\n"
     ]
    },
    {
     "name": "stderr",
     "output_type": "stream",
     "text": [
      "\r",
      " 38%|███▊      | 100/265 [02:59<04:57,  1.81s/it]"
     ]
    },
    {
     "name": "stdout",
     "output_type": "stream",
     "text": [
      "You have a batch of 10\n",
      "http://localhost:5000/label?ids=5cb8e467e62914006760793d,5cb8e44ee6291400676078c1,5cb8e401e6291400676076f3,5cb8e458e6291400676078ef,5cb8e402e6291400676076f5,5cb8e433e62914006760782f,5cb8e451e6291400676078cd,5cb8e41ce62914006760778b,5cb8e44ae6291400676078af,5cb8e428e6291400676077dd\n"
     ]
    },
    {
     "name": "stderr",
     "output_type": "stream",
     "text": [
      "\r",
      " 42%|████▏     | 110/265 [03:17<04:38,  1.79s/it]"
     ]
    },
    {
     "name": "stdout",
     "output_type": "stream",
     "text": [
      "You have a batch of 10\n",
      "http://localhost:5000/label?ids=5cb8e402e6291400676076f7,5cb8e418e629140067607775,5cb8e403e6291400676076f9,5cb8e421e6291400676077ad,5cb8e403e6291400676076fb,5cb8e44ce6291400676078b7,5cb8e404e6291400676076fd,5cb8e44fe6291400676078c5,5cb8e432e629140067607825,5cb8e44de6291400676078bd\n"
     ]
    },
    {
     "name": "stderr",
     "output_type": "stream",
     "text": [
      "\r",
      " 45%|████▌     | 120/265 [03:35<04:20,  1.80s/it]"
     ]
    },
    {
     "name": "stdout",
     "output_type": "stream",
     "text": [
      "You have a batch of 10\n",
      "http://localhost:5000/label?ids=5cb8e404e6291400676076ff,5cb8e442e629140067607889,5cb8e45fe629140067607913,5cb8e404e629140067607701,5cb8e463e629140067607929,5cb8e450e6291400676078c9,5cb8e42de629140067607809,5cb8e405e629140067607703,5cb8e454e6291400676078dd,5cb8e417e629140067607771\n"
     ]
    },
    {
     "name": "stderr",
     "output_type": "stream",
     "text": [
      "\r",
      " 49%|████▉     | 130/265 [03:53<04:03,  1.80s/it]"
     ]
    },
    {
     "name": "stdout",
     "output_type": "stream",
     "text": [
      "You have a batch of 10\n",
      "http://localhost:5000/label?ids=5cb8e405e629140067607705,5cb8e406e629140067607707,5cb8e406e629140067607709,5cb8e42fe629140067607811,5cb8e440e62914006760787d,5cb8e457e6291400676078e9,5cb8e42ae6291400676077ef,5cb8e406e62914006760770b,5cb8e459e6291400676078f1,5cb8e407e62914006760770d\n"
     ]
    },
    {
     "name": "stderr",
     "output_type": "stream",
     "text": [
      "\r",
      " 53%|█████▎    | 140/265 [04:11<03:43,  1.78s/it]"
     ]
    },
    {
     "name": "stdout",
     "output_type": "stream",
     "text": [
      "You have a batch of 10\n",
      "http://localhost:5000/label?ids=5cb8e427e6291400676077d3,5cb8e442e629140067607887,5cb8e407e62914006760770f,5cb8e408e629140067607711,5cb8e465e629140067607937,5cb8e445e629140067607893,5cb8e409e629140067607713,5cb8e466e629140067607939,5cb8e46be629140067607951,5cb8e409e62914006760771b\n"
     ]
    },
    {
     "name": "stderr",
     "output_type": "stream",
     "text": [
      "\r",
      " 57%|█████▋    | 150/265 [04:28<03:24,  1.78s/it]"
     ]
    },
    {
     "name": "stdout",
     "output_type": "stream",
     "text": [
      "You have a batch of 10\n",
      "http://localhost:5000/label?ids=5cb8e424e6291400676077c5,5cb8e441e629140067607881,5cb8e40ae62914006760771f,5cb8e45ae6291400676078f9,5cb8e44ce6291400676078b9,5cb8e431e62914006760781d,5cb8e469e629140067607949,5cb8e417e629140067607773,5cb8e46be62914006760794f,5cb8e448e6291400676078a3\n"
     ]
    },
    {
     "name": "stderr",
     "output_type": "stream",
     "text": [
      "\r",
      " 60%|██████    | 160/265 [04:47<03:09,  1.80s/it]"
     ]
    },
    {
     "name": "stdout",
     "output_type": "stream",
     "text": [
      "You have a batch of 10\n",
      "http://localhost:5000/label?ids=5cb8e43ce62914006760786b,5cb8e42ee62914006760780f,5cb8e420e62914006760779d,5cb8e40be629140067607725,5cb8e430e629140067607815,5cb8e40be62914006760772b,5cb8e468e629140067607945,5cb8e40ce62914006760772f,5cb8e466e62914006760793b,5cb8e41fe629140067607795\n"
     ]
    },
    {
     "name": "stderr",
     "output_type": "stream",
     "text": [
      "\r",
      " 64%|██████▍   | 170/265 [05:05<02:52,  1.81s/it]"
     ]
    },
    {
     "name": "stdout",
     "output_type": "stream",
     "text": [
      "You have a batch of 10\n",
      "http://localhost:5000/label?ids=5cb8e421e6291400676077a3,5cb8e46ae62914006760794b,5cb8e451e6291400676078cf,5cb8e40de629140067607737,5cb8e422e6291400676077b1,5cb8e43de629140067607871,5cb8e455e6291400676078df,5cb8e444e62914006760788f,5cb8e464e629140067607931,5cb8e459e6291400676078f5\n"
     ]
    },
    {
     "name": "stderr",
     "output_type": "stream",
     "text": [
      "\r",
      " 68%|██████▊   | 180/265 [05:24<02:34,  1.82s/it]"
     ]
    },
    {
     "name": "stdout",
     "output_type": "stream",
     "text": [
      "You have a batch of 10\n",
      "http://localhost:5000/label?ids=5cb8e45ee62914006760790f,5cb8e423e6291400676077bb,5cb8e450e6291400676078cb,5cb8e40ee629140067607739,5cb8e456e6291400676078e3,5cb8e41be629140067607787,5cb8e445e629140067607895,5cb8e421e6291400676077a7,5cb8e40ee62914006760773f,5cb8e452e6291400676078d3\n"
     ]
    },
    {
     "name": "stderr",
     "output_type": "stream",
     "text": [
      "\r",
      " 72%|███████▏  | 190/265 [05:41<02:14,  1.79s/it]"
     ]
    },
    {
     "name": "stdout",
     "output_type": "stream",
     "text": [
      "You have a batch of 10\n",
      "http://localhost:5000/label?ids=5cb8e46ce629140067607957,5cb8e40fe629140067607745,5cb8e46ae62914006760794d,5cb8e41be629140067607785,5cb8e410e629140067607747,5cb8e410e62914006760774d,5cb8e449e6291400676078a7,5cb8e469e629140067607947,5cb8e43ee629140067607873,5cb8e462e629140067607927\n"
     ]
    },
    {
     "name": "stderr",
     "output_type": "stream",
     "text": [
      "\r",
      " 75%|███████▌  | 200/265 [05:58<01:55,  1.78s/it]"
     ]
    },
    {
     "name": "stdout",
     "output_type": "stream",
     "text": [
      "You have a batch of 10\n",
      "http://localhost:5000/label?ids=5cb8e411e629140067607755,5cb8e457e6291400676078eb,5cb8e411e629140067607757,5cb8e442e629140067607885,5cb8e434e629140067607837,5cb8e448e6291400676078a1,5cb8e434e62914006760783d,5cb8e412e629140067607759,5cb8e412e62914006760775b,5cb8e462e629140067607923\n"
     ]
    },
    {
     "name": "stderr",
     "output_type": "stream",
     "text": [
      "\r",
      " 79%|███████▉  | 210/265 [06:16<01:37,  1.78s/it]"
     ]
    },
    {
     "name": "stdout",
     "output_type": "stream",
     "text": [
      "You have a batch of 10\n",
      "http://localhost:5000/label?ids=5cb8e457e6291400676078e7,5cb8e46de62914006760795d,5cb8e454e6291400676078d9,5cb8e413e62914006760775d,5cb8e460e629140067607917,5cb8e46de62914006760795b,5cb8e46ee62914006760795f,5cb8e46ee629140067607961,5cb8e458e6291400676078ed,5cb8e45be6291400676078fb\n"
     ]
    },
    {
     "name": "stderr",
     "output_type": "stream",
     "text": [
      "\r",
      " 83%|████████▎ | 220/265 [06:33<01:18,  1.75s/it]"
     ]
    },
    {
     "name": "stdout",
     "output_type": "stream",
     "text": [
      "You have a batch of 10\n",
      "http://localhost:5000/label?ids=5cb8e435e629140067607843,5cb8e436e62914006760784b,5cb8e413e62914006760775f,5cb8e46fe629140067607965,5cb8e46fe629140067607963,5cb8e437e62914006760784d,5cb8e437e629140067607857,5cb8e45be6291400676078fd,5cb8e437e629140067607853,5cb8e46fe629140067607967\n"
     ]
    },
    {
     "name": "stderr",
     "output_type": "stream",
     "text": [
      "\r",
      " 87%|████████▋ | 230/265 [06:50<01:00,  1.74s/it]"
     ]
    },
    {
     "name": "stdout",
     "output_type": "stream",
     "text": [
      "You have a batch of 10\n",
      "http://localhost:5000/label?ids=5cb8e470e62914006760796b,5cb8e444e629140067607891,5cb8e447e62914006760789d,5cb8e414e629140067607761,5cb8e414e629140067607763,5cb8e470e629140067607969,5cb8e44ae6291400676078ab,5cb8e471e62914006760796f,5cb8e456e6291400676078e5,5cb8e414e629140067607765\n"
     ]
    },
    {
     "name": "stderr",
     "output_type": "stream",
     "text": [
      "\r",
      " 91%|█████████ | 240/265 [07:09<00:44,  1.77s/it]"
     ]
    },
    {
     "name": "stdout",
     "output_type": "stream",
     "text": [
      "You have a batch of 10\n",
      "http://localhost:5000/label?ids=5cb8e471e62914006760796d,5cb8e471e629140067607971,5cb8e438e629140067607859,5cb8e446e629140067607899,5cb8e415e629140067607767,5cb8e415e629140067607769,5cb8e472e629140067607973,5cb8e438e62914006760785b,5cb8e439e62914006760785d,5cb8e416e62914006760776b\n"
     ]
    },
    {
     "name": "stderr",
     "output_type": "stream",
     "text": [
      "\r",
      " 94%|█████████▍| 250/265 [07:27<00:26,  1.79s/it]"
     ]
    },
    {
     "name": "stdout",
     "output_type": "stream",
     "text": [
      "You have a batch of 10\n",
      "http://localhost:5000/label?ids=5cb8e473e629140067607977,5cb8e439e62914006760785f,5cb8e472e629140067607975,5cb8e453e6291400676078d7,5cb8e473e62914006760797b,5cb8e416e62914006760776d,5cb8e467e62914006760793f,5cb8e474e62914006760797d,5cb8e473e629140067607979,5cb8e474e62914006760797f\n"
     ]
    },
    {
     "name": "stderr",
     "output_type": "stream",
     "text": [
      "100%|██████████| 265/265 [07:45<00:00,  1.75s/it]\n"
     ]
    },
    {
     "name": "stdout",
     "output_type": "stream",
     "text": [
      "http://0.0.0.0:5000/label?ids=5cb8e416e62914006760776f,5cb8e463e62914006760792d,5cb8e43ae629140067607863,5cb8e43ae629140067607861,5cb8e43be629140067607865\n"
     ]
    },
    {
     "name": "stderr",
     "output_type": "stream",
     "text": [
      "0it [00:00, ?it/s]\n",
      "0it [00:00, ?it/s]"
     ]
    },
    {
     "name": "stdout",
     "output_type": "stream",
     "text": [
      "2844 Had a data matrix alraedy\n",
      "Scanning folder Bela\n",
      "2844 Had a data matrix alraedy\n",
      "Scanning folder Tubulitis_anotation\n",
      "2844 Had a data matrix alraedy\n"
     ]
    },
    {
     "name": "stderr",
     "output_type": "stream",
     "text": [
      "\n"
     ]
    }
   ],
   "source": [
    "## 5cb8e68ae629140067608a4c\n",
    "## Folders\n",
    "import tqdm\n",
    "\n",
    "alreadyHadDataMatrix = 0\n",
    "batchSize = 10\n",
    "\n",
    "\n",
    "for f in gc.listFolder('5cb8e389e6291400676076bf',parentFolderType='collection'):\n",
    "    print(\"Scanning folder %s\" % f['name'])\n",
    "    IDS_to_Process = []\n",
    "\n",
    "    for i in tqdm.tqdm(list(gc.listItem(f['_id']))):\n",
    "        if ('meta' in i):\n",
    "            if ('dataMatrixOutput' in i['meta']):\n",
    "                alreadyHadDataMatrix+=1\n",
    "                #print (\"Meta Tag alraedy exists\")\n",
    "\n",
    "        else:\n",
    "            IDS_to_Process.append(i['_id'])\n",
    "            if(len(IDS_to_Process)%batchSize == 0):\n",
    "                print(\"You have a batch of %s\"%batchSize)\n",
    "                labelUpdateUrl = \"http://localhost:5000/label?ids=%s\" % ( \",\".join(IDS_to_Process))\n",
    "                print(labelUpdateUrl)\n",
    "                requests.get(labelUpdateUrl)\n",
    "                IDS_to_Process = [] ### Reset the cache\n",
    "\n",
    "\n",
    "    ## Don't forget to process the last batch\n",
    "    if(len(IDS_to_Process)>0):\n",
    "        \n",
    "        labelUpdateUrl = \"http://0.0.0.0:5000/label?ids=%s\" % ( \",\".join(IDS_to_Process))\n",
    "        print(labelUpdateUrl)\n",
    "        requests.get(labelUpdateUrl)\n",
    "\n",
    "    print(alreadyHadDataMatrix,\"Had a data matrix alraedy\")\n",
    "\n",
    "\n",
    "    "
   ]
  },
  {
   "cell_type": "code",
   "execution_count": null,
   "metadata": {
    "scrolled": true
   },
   "outputs": [],
   "source": [
    "img = server.get_image(gc,i['_id'],label=True)"
   ]
  },
  {
   "cell_type": "code",
   "execution_count": null,
   "metadata": {},
   "outputs": [],
   "source": [
    "r,r,md = ocr.basic_ocr(img)\n"
   ]
  },
  {
   "cell_type": "code",
   "execution_count": null,
   "metadata": {},
   "outputs": [],
   "source": []
  },
  {
   "cell_type": "code",
   "execution_count": null,
   "metadata": {},
   "outputs": [],
   "source": [
    "print(\"http://0.0.0.0:5000/label?ids=%s\" % ( \",\".join(IDS_to_Process)))"
   ]
  },
  {
   "cell_type": "code",
   "execution_count": null,
   "metadata": {},
   "outputs": [],
   "source": [
    "#curl -X GET --header 'Accept: image/jpeg' --header 'Girder-Token: GOL44tmAFOVRBzzBJApVRrfUh87CQkh7CGPuvsBwSnmUHsrWQoig4PjUPzSCmL4H' 'http://transplant.digitalslidearchive.emory.edu:8080/api/v1/'\n",
    "\n",
    "imgId = '5cb8e742e62914006760903a'\n",
    "\n",
    "%time labelImg = gc.get('item/%s/tiles/images/label?encoding=JPEG&width=256'%imgId,jsonResp=False)"
   ]
  },
  {
   "cell_type": "code",
   "execution_count": null,
   "metadata": {},
   "outputs": [],
   "source": []
  },
  {
   "cell_type": "code",
   "execution_count": null,
   "metadata": {},
   "outputs": [],
   "source": [
    "IPImage(labelImg.content)"
   ]
  },
  {
   "cell_type": "code",
   "execution_count": null,
   "metadata": {},
   "outputs": [],
   "source": []
  },
  {
   "cell_type": "code",
   "execution_count": null,
   "metadata": {},
   "outputs": [],
   "source": []
  },
  {
   "cell_type": "code",
   "execution_count": null,
   "metadata": {},
   "outputs": [],
   "source": [
    "import numpy as np\n",
    "from PIL import Image\n",
    "import numpy as np\n",
    "\n",
    "import cv2\n",
    "\n",
    "\n",
    "img_array = np.frombuffer(labelImg.content, dtype=np.uint8)\n",
    "img = cv2.imdecode(img_array, cv2.IMREAD_COLOR)\n",
    "\n",
    "\n",
    "procImg = img\n",
    "#cv2.cvtColor(img, cv2.COLOR_RGB2GRAY)\n",
    "\n",
    "(h,w,d) = procImg.shape\n",
    "wStart = int(w*0.05)\n",
    "wEnd = int(w*0.8)\n",
    "hStart = int(h*0)\n",
    "hEnd = int(h*0.55)\n",
    "\n",
    "print(h,w,d)\n",
    "procImg = procImg[50:400,50:600,]\n",
    "\n",
    "print(wStart,wEnd,hStart,hEnd)\n",
    "\n",
    "%time result = ocr.pytesseract.image_to_string(procImg)\n",
    "print(result)\n",
    "\n",
    "Image.fromarray(procImg)\n",
    "\n"
   ]
  },
  {
   "cell_type": "code",
   "execution_count": null,
   "metadata": {},
   "outputs": [],
   "source": [
    "%time ocr.decode(procImg)"
   ]
  },
  {
   "cell_type": "code",
   "execution_count": null,
   "metadata": {},
   "outputs": [],
   "source": [
    "from pylibdmtx.pylibdmtx import decode\n",
    "from PIL import Image\n",
    "decode(labelImg.content)"
   ]
  }
 ],
 "metadata": {
  "kernelspec": {
   "display_name": "Python 3",
   "language": "python",
   "name": "python3"
  }
 },
 "nbformat": 4,
 "nbformat_minor": 2
}
