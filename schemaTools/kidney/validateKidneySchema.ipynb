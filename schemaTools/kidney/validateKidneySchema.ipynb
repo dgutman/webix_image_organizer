{
 "cells": [
  {
   "cell_type": "code",
   "execution_count": 1,
   "id": "546f0f38",
   "metadata": {},
   "outputs": [],
   "source": [
    "import girder_client\n",
    "import json, os, re\n",
    "import pandas as pd\n",
    "\n",
    "tsApiKey='vsYwFv7qd7Lq3tLUp2YabwA50IEDaGshXqoQue34'\n",
    "tsApiUrl='http://transplant.digitalslidearchive.emory.edu:8080/api/v1'\n",
    "\n",
    "gc = girder_client.GirderClient(apiUrl=tsApiUrl)\n",
    "gc.authenticate(apiKey=tsApiKey)\n",
    "\n",
    "# accessionNumber  blockID  stainID\n",
    "tpName_re  = re.compile('(?P<accessionNumber>S\\d\\d-\\d+).(?P<blockID>.+)[_\\s](?P<stainID>[a-zA-Z]+)\\.svs')\n",
    "transplantSlideCollection = '5cf820a91ee779b5180282c4'\n",
    "\n",
    "md_df = pd.read_csv(\"./metada_EUH_complete.csv\")\n",
    "md_df.set_index('section_ID2',inplace=True)"
   ]
  },
  {
   "cell_type": "code",
   "execution_count": 14,
   "id": "f7798621",
   "metadata": {},
   "outputs": [
    {
     "name": "stdout",
     "output_type": "stream",
     "text": [
      "2020-12-07\n",
      "\t {'accessionNumber': 'S13-1552', 'blockID': 'L5', 'stainID': 'HE'} S13-1552_L5 HE.svs {'accessionNumber': 'S13-1552'}\n",
      "\t {'accessionNumber': 'S13-647', 'blockID': 'L9', 'stainID': 'HE'} S13-647_L9 HE.svs {'accessionNumber': 'S13-647'}\n",
      "\t {'accessionNumber': 'S13-741', 'blockID': 'L1', 'stainID': 'HE'} S13-741_L1 HE.svs {'accessionNumber': 'S13-741'}\n",
      "\t {'accessionNumber': 'S13-1552', 'blockID': 'L10', 'stainID': 'HE'} S13-1552_L10 HE.svs {'accessionNumber': 'S13-1552'}\n",
      "\t {'accessionNumber': 'S13-1150', 'blockID': 'L5', 'stainID': 'HE'} S13-1150_L5 HE.svs {'accessionNumber': 'S13-1150'}\n",
      "\t {'accessionNumber': 'S13-1489', 'blockID': 'L10', 'stainID': 'HE'} S13-1489_L10 HE.svs {'accessionNumber': 'S13-1489'}\n",
      "\t {'accessionNumber': 'S13-1206', 'blockID': 'L10', 'stainID': 'HE'} S13-1206_L10 HE.svs {'accessionNumber': 'S13-1206'}\n",
      "\t {'accessionNumber': 'S13-2573', 'blockID': 'L8', 'stainID': 'TRICH'} S13-2573_L8 TRICH.svs {'accessionNumber': 'S13-2573'}\n",
      "\t {'accessionNumber': 'S13-670', 'blockID': 'L5', 'stainID': 'HE'} S13-670_L5 HE.svs {'accessionNumber': 'S13-670'}\n",
      "\t {'accessionNumber': 'S13-1206', 'blockID': 'L1', 'stainID': 'HE'} S13-1206_L1 HE.svs {'accessionNumber': 'S13-1206'}\n",
      "\t {'accessionNumber': 'S13-670', 'blockID': 'L9', 'stainID': 'HE'} S13-670_L9 HE.svs {'accessionNumber': 'S13-670'}\n",
      "\t {'accessionNumber': 'S13-1552', 'blockID': 'L2_L11', 'stainID': 'PAS'} S13-1552_L2_L11 PAS.svs {'accessionNumber': 'S13-1552'}\n",
      "\t {'accessionNumber': 'S13-2353', 'blockID': 'L1', 'stainID': 'HE'} S13-2353_L1 HE.svs {'accessionNumber': 'S13-2353'}\n",
      "\t {'accessionNumber': 'S13-647', 'blockID': 'L8', 'stainID': 'TRICH'} S13-647_L8 TRICH.svs {'accessionNumber': 'S13-647'}\n",
      "\t {'accessionNumber': 'S13-2258', 'blockID': 'L2_L11', 'stainID': 'PAS'} S13-2258_L2_L11 PAS.svs {'accessionNumber': 'S13-2258'}\n",
      "\t {'accessionNumber': 'S13-12', 'blockID': '6', 'stainID': 'HE'} S13-1266 HE.svs {'accessionNumber': 'S13-1266'}\n",
      "\t {'accessionNumber': 'S13-1150', 'blockID': 'L1', 'stainID': 'HE'} S13-1150_L1 HE.svs {'accessionNumber': 'S13-1150'}\n",
      "\t {'accessionNumber': 'S13-1150', 'blockID': 'L2_L11', 'stainID': 'PAS'} S13-1150_L2_L11 PAS.svs {'accessionNumber': 'S15-1150'}\n",
      "\t {'accessionNumber': 'S13-2258', 'blockID': 'L5', 'stainID': 'HE'} S13-2258_L5 HE.svs {'accessionNumber': 'S13-2258'}\n",
      "\t {'accessionNumber': 'S13-1076', 'blockID': 'L1', 'stainID': 'HE'} S13-1076_L1 HE.svs {'accessionNumber': 'S13-1076'}\n",
      "\t {'accessionNumber': 'S13-741', 'blockID': 'L2', 'stainID': 'PAS'} S13-741_L2 PAS.svs {'accessionNumber': 'S13-741'}\n",
      "\t {'accessionNumber': 'S13-1552', 'blockID': 'L1', 'stainID': 'HE'} S13-1552_L1 HE.svs {'accessionNumber': 'S13-1552'}\n",
      "\t {'accessionNumber': 'S13-1150', 'blockID': 'L8', 'stainID': 'TRICH'} S13-1150_L8 TRICH.svs {'accessionNumber': 'S13-1150'}\n",
      "\t {'accessionNumber': 'S13-1552', 'blockID': 'L8', 'stainID': 'TRICH'} S13-1552_L8 TRICH.svs {'accessionNumber': 'S13-1552'}\n",
      "\t {'accessionNumber': 'S13-1489', 'blockID': 'L1', 'stainID': 'HE'} S13-1489_L1 HE.svs {'accessionNumber': 'S13-1489'}\n",
      "\t {'accessionNumber': 'S13-2573', 'blockID': 'L5', 'stainID': 'HE'} S13-2573_L5 HE.svs {'accessionNumber': 'S13-2573'}\n",
      "\t {'accessionNumber': 'S13-1206', 'blockID': 'L2_L11', 'stainID': 'PAS'} S13-1206_L2_L11 PAS.svs {'accessionNumber': 'S13-1206'}\n",
      "\t {'accessionNumber': 'S13-2353', 'blockID': 'L5', 'stainID': 'HE'} S13-2353_L5 HE.svs {'accessionNumber': 'S13-2353'}\n",
      "\t {'accessionNumber': 'S13-1076', 'blockID': 'L10', 'stainID': 'HE'} S13-1076_L10 HE.svs {'accessionNumber': 'S13-1076'}\n",
      "\t {'accessionNumber': 'S13-1489', 'blockID': 'L5', 'stainID': 'HE'} S13-1489_L5 HE.svs {'accessionNumber': 'S13-1489'}\n",
      "\t {'accessionNumber': 'S13-1132', 'blockID': 'L10', 'stainID': 'HE'} S13-1132_L10 HE.svs {'accessionNumber': 'S13-1132'}\n",
      "\t {'accessionNumber': 'S13-2353', 'blockID': 'L8', 'stainID': 'TRICH'} S13-2353_L8 TRICH.svs {'accessionNumber': 'S13-2353'}\n",
      "\t {'accessionNumber': 'S13-1221', 'blockID': 'L8', 'stainID': 'TRICH'} S13-1221_L8 TRICH.svs {'accessionNumber': 'S13-1221'}\n",
      "\t {'accessionNumber': 'S13-1221', 'blockID': 'L5', 'stainID': 'HE'} S13-1221_L5 HE.svs {'accessionNumber': 'S13-1221'}\n",
      "\t {'accessionNumber': 'S13-647', 'blockID': 'L2', 'stainID': 'PAS'} S13-647_L2 PAS.svs {'accessionNumber': 'S13-647'}\n",
      "\t {'accessionNumber': 'S13-2258', 'blockID': 'L10', 'stainID': 'HE'} S13-2258_L10 HE.svs {'accessionNumber': 'S13-2258'}\n",
      "\t {'accessionNumber': 'S13-1221', 'blockID': 'L2_L11', 'stainID': 'PAS'} S13-1221_L2_L11 PAS.svs {'accessionNumber': 'S13-1221'}\n",
      "\t {'accessionNumber': 'S13-2573', 'blockID': 'L10', 'stainID': 'HE'} S13-2573_L10 HE.svs {'accessionNumber': 'S13-2573'}\n",
      "\t {'accessionNumber': 'S13-1221', 'blockID': 'L10', 'stainID': 'HE'} S13-1221_L10 HE.svs {'accessionNumber': 'S13-1221'}\n",
      "\t {'accessionNumber': 'S13-1132', 'blockID': 'L1', 'stainID': 'HE'} S13-1132_L1 HE.svs {'accessionNumber': 'S13-1132'}\n",
      "\t {'accessionNumber': 'S13-647', 'blockID': 'L5', 'stainID': 'HE'} S13-647_L5 HE.svs {'accessionNumber': 'S13-647'}\n",
      "\t {'accessionNumber': 'S13-1150', 'blockID': 'L2_L10', 'stainID': 'HE'} S13-1150_L2_L10 HE.svs {'accessionNumber': 'S13-1150'}\n",
      "\t {'accessionNumber': 'S13-2108', 'blockID': 'L5', 'stainID': 'HE'} S13-2108_L5 HE.svs {'accessionNumber': 'S13-2108'}\n",
      "\t {'accessionNumber': 'S13-1076', 'blockID': 'L8', 'stainID': 'TRICH'} S13-1076_L8 TRICH.svs {'accessionNumber': 'S13-1076'}\n",
      "\t {'accessionNumber': 'S13-1170', 'blockID': 'L8', 'stainID': 'TRICH'} S13-1170_L8 TRICH.svs {'accessionNumber': 'S13-1170'}\n",
      "\t {'accessionNumber': 'S13-2573', 'blockID': 'L2_L11', 'stainID': 'PAS'} S13-2573_L2_L11 PAS.svs {'accessionNumber': 'S13-2573'}\n",
      "\t {'accessionNumber': 'S13-1206', 'blockID': 'L5', 'stainID': 'HE'} S13-1206_L5 HE.svs {'accessionNumber': 'S13-1206'}\n",
      "\t {'accessionNumber': 'S13-1170', 'blockID': 'L10', 'stainID': 'HE'} S13-1170_L10 HE.svs {'accessionNumber': 'S13-1170'}\n",
      "\t {'accessionNumber': 'S13-2258', 'blockID': 'L8', 'stainID': 'TRICH'} S13-2258_L8 TRICH.svs {'accessionNumber': 'S13-2258'}\n",
      "\t {'accessionNumber': 'S13-1132', 'blockID': 'L5', 'stainID': 'HE'} S13-1132_L5 HE.svs {'accessionNumber': 'S13-1132'}\n",
      "\t {'accessionNumber': 'S13-647', 'blockID': 'L1', 'stainID': 'HE'} S13-647_L1 HE.svs {'accessionNumber': 'S13-647'}\n",
      "\t {'accessionNumber': 'S13-2108', 'blockID': 'L8', 'stainID': 'TRICH'} S13-2108_L8 TRICH.svs {'accessionNumber': 'S13-2108'}\n",
      "\t {'accessionNumber': 'S13-2108', 'blockID': 'L1', 'stainID': 'HE'} S13-2108_L1 HE.svs {'accessionNumber': 'S13-2108'}\n",
      "\t {'accessionNumber': 'S13-670', 'blockID': 'L2', 'stainID': 'PAS'} S13-670_L2 PAS.svs {'accessionNumber': 'S13-670'}\n",
      "\t {'accessionNumber': 'S13-2353', 'blockID': 'L2_L11', 'stainID': 'PAS'} S13-2353_L2_L11 PAS.svs {'accessionNumber': 'S13-2353'}\n",
      "\t {'accessionNumber': 'S13-1170', 'blockID': 'L5', 'stainID': 'HE'} S13-1170_L5 HE.svs {'accessionNumber': 'S13-1170'}\n",
      "\t {'accessionNumber': 'S13-1489', 'blockID': 'L2_L11', 'stainID': 'PAS'} S13-1489_L2_L11 PAS.svs {'accessionNumber': 'S13-1489'}\n",
      "\t {'accessionNumber': 'S13-2573', 'blockID': 'L1', 'stainID': 'HE'} S13-2573_L1 HE.svs {'accessionNumber': 'S13-2573'}\n",
      "\t {'accessionNumber': 'S13-741', 'blockID': 'L8', 'stainID': 'TRICH'} S13-741_L8 TRICH.svs {'accessionNumber': 'S13-741'}\n",
      "\t {'accessionNumber': 'S13-1170', 'blockID': 'L1', 'stainID': 'HE'} S13-1170_L1 HE.svs {'accessionNumber': 'S13-1170'}\n",
      "\t {'accessionNumber': 'S13-1170', 'blockID': 'L2_L11', 'stainID': 'PAS'} S13-1170_L2_L11 PAS.svs {'accessionNumber': 'S13-1170'}\n",
      "\t {'accessionNumber': 'S13-1221', 'blockID': 'L1', 'stainID': 'HE'} S13-1221_L1 HE.svs {'accessionNumber': 'S13-1221'}\n",
      "\t {'accessionNumber': 'S13-1076', 'blockID': 'L5', 'stainID': 'HE'} S13-1076_L5 HE.svs {'accessionNumber': 'S13-1076'}\n",
      "\t {'accessionNumber': 'S13-2108', 'blockID': 'L2_L11', 'stainID': 'PAS'} S13-2108_L2_L11 PAS.svs {'accessionNumber': 'S13-2108'}\n",
      "\t {'accessionNumber': 'S13-2108', 'blockID': 'L10', 'stainID': 'HE'} S13-2108_L10 HE.svs {'accessionNumber': 'S13-2108'}\n",
      "\t {'accessionNumber': 'S13-1132', 'blockID': 'L2_L11', 'stainID': 'PAS'} S13-1132_L2_L11 PAS.svs {'accessionNumber': 'S13-1132'}\n",
      "\t {'accessionNumber': 'S13-2258', 'blockID': 'L1', 'stainID': 'HE'} S13-2258_L1 HE.svs {'accessionNumber': 'S13-2258'}\n",
      "\t {'accessionNumber': 'S13-1489', 'blockID': 'L8', 'stainID': 'TRICH'} S13-1489_L8 TRICH.svs {'accessionNumber': 'S13-1489'}\n",
      "\t {'accessionNumber': 'S13-741', 'blockID': 'L5', 'stainID': 'HE'} S13-741_L5 HE.svs {'accessionNumber': 'S13-741'}\n",
      "2020-12-08\n",
      "2020-12-09\n"
     ]
    },
    {
     "name": "stdout",
     "output_type": "stream",
     "text": [
      "2020-12-12\n",
      "2020-12-14\n",
      "2020-12-15\n",
      "2020-12-16\n",
      "2020-12-18\n",
      "2020-12-19\n",
      "2020-12-21\n",
      "2020-12-22\n",
      "2020-12-23\n",
      "2020-12-24\n"
     ]
    }
   ],
   "source": [
    "manifestItems = []\n",
    "noMatch = []\n",
    "for f in gc.listFolder(transplantSlideCollection,parentFolderType='collection'):\n",
    "    if f['name'].startswith('2020'):\n",
    "        itemsInFolder = 0\n",
    "        print(f['name'])\n",
    "        childItems = gc.listResource(\"resource/%s/items?type=folder\" % f['_id'])\n",
    "        for i in childItems:\n",
    "            meta = i['meta']\n",
    "            if 'stain' in meta and meta['stain'] == 'PAS':\n",
    "                manifestItems.append(i)\n",
    "                fn = i['name']\n",
    "                print(i['name'])\n",
    "            else:\n",
    "                if 'stainID' not in meta: ## means there was no metadata at all\n",
    "                    n = i['name']\n",
    "                    m = tpName_re.search(n)\n",
    "                    if m:\n",
    "                        print(\"\\t\",m.groupdict(),i['name'],meta)\n",
    "                        gc.addMetadataToItem(i['_id'],dict(m.groupdict()))\n",
    "                        \n",
    "                        accessionNumber = m.groupdict()['accessionNumber']\n",
    "                        if accessionNumber in md_df.index:\n",
    "                            print(md_df.loc[accessionNumber])\n",
    "                            print(\"ITS AN ADULT SLIDE\")\n",
    "                            sys.exit()\n",
    "\n",
    "                    else:\n",
    "                        noMatch.append(i['name'])"
   ]
  },
  {
   "cell_type": "code",
   "execution_count": 12,
   "id": "bc629181",
   "metadata": {},
   "outputs": [
    {
     "data": {
      "text/plain": [
       "{'accessionNumber': 'S13-1552', 'blockID': 'L5', 'stainID': 'HE'}"
      ]
     },
     "execution_count": 12,
     "metadata": {},
     "output_type": "execute_result"
    }
   ],
   "source": [
    "dict(m.groupdict())"
   ]
  }
 ],
 "metadata": {
  "kernelspec": {
   "display_name": "Python 3",
   "language": "python",
   "name": "python3"
  },
  "language_info": {
   "codemirror_mode": {
    "name": "ipython",
    "version": 3
   },
   "file_extension": ".py",
   "mimetype": "text/x-python",
   "name": "python",
   "nbconvert_exporter": "python",
   "pygments_lexer": "ipython3",
   "version": "3.6.9"
  }
 },
 "nbformat": 4,
 "nbformat_minor": 5
}
