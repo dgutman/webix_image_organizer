{
 "cells": [
  {
   "cell_type": "code",
   "execution_count": 2,
   "metadata": {},
   "outputs": [
    {
     "name": "stdout",
     "output_type": "stream",
     "text": [
      "Login or email: admin\n",
      "Password for admin: ········\n"
     ]
    },
    {
     "data": {
      "text/plain": [
       "{'_accessLevel': 2,\n",
       " '_id': '5cacfa86e62914004a60e139',\n",
       " '_modelType': 'user',\n",
       " 'admin': True,\n",
       " 'created': '2019-04-09T20:03:18.294000+00:00',\n",
       " 'email': 'histomicstk.admin@kitware.com',\n",
       " 'emailVerified': True,\n",
       " 'firstName': 'admin',\n",
       " 'groupInvites': [],\n",
       " 'groups': [],\n",
       " 'lastName': 'admin',\n",
       " 'login': 'admin',\n",
       " 'otp': False,\n",
       " 'public': True,\n",
       " 'size': 995710672,\n",
       " 'status': 'enabled'}"
      ]
     },
     "execution_count": 2,
     "metadata": {},
     "output_type": "execute_result"
    }
   ],
   "source": [
    "import pandas as pd\n",
    "import girder_client\n",
    "from pprint import pprint\n",
    "\n",
    "\n",
    "gc= girder_client.GirderClient(apiUrl=\"https://styx.neurology.emory.edu/girder/api/v1\")\n",
    "gc.authenticate(interactive=True)"
   ]
  },
  {
   "cell_type": "code",
   "execution_count": 13,
   "metadata": {},
   "outputs": [
    {
     "name": "stdout",
     "output_type": "stream",
     "text": [
      "{'_accessLevel': 2,\n",
      " '_elementQuery': {'count': 1,\n",
      "                   'details': 4,\n",
      "                   'filter': {'_version': 485188,\n",
      "                              'annotationId': '628288e4e70def4ae73d40f9'},\n",
      "                   'offset': 0,\n",
      "                   'returned': 1,\n",
      "                   'sort': ['_id', 1]},\n",
      " '_id': '628288e4e70def4ae73d40f9',\n",
      " '_modelType': 'annotation',\n",
      " '_version': 485188,\n",
      " 'annotation': {'description': '',\n",
      "                'elements': [{'center': [64675.11168762945,\n",
      "                                         31829.02561099697,\n",
      "                                         0],\n",
      "                              'fillColor': 'rgba(0, 0, 0, 0)',\n",
      "                              'id': 'a3ffdff7252b12c1ac710013',\n",
      "                              'lineColor': 'rgb(37, 88, 11)',\n",
      "                              'lineWidth': 2,\n",
      "                              'radius': 2395.589993080075,\n",
      "                              'type': 'circle'}],\n",
      "                'name': 'CircleExemplar'},\n",
      " 'created': '2022-05-16T17:24:52.972000+00:00',\n",
      " 'creatorId': '5cacfa86e62914004a60e139',\n",
      " 'groups': [None],\n",
      " 'itemId': '62670b24622f966e826b0219',\n",
      " 'public': False,\n",
      " 'updated': '2022-05-16T17:25:04.133000+00:00',\n",
      " 'updatedId': '5cacfa86e62914004a60e139'}\n"
     ]
    }
   ],
   "source": [
    "from pprint import pprint\n",
    "\n",
    "masterCaseSetFolderId = '6220de49c2b9a71e2f460687'\n",
    "imeta = []\n",
    "\n",
    "for i in gc.listItem(masterCaseSetFolderId):\n",
    "    annotationDocs = gc.get('/annotation?itemId=%s' % i['_id'] )\n",
    "\n",
    "    md = gc.get(\"item/%s/tiles\" % i['_id'])\n",
    "    imeta.append((md,i['name']))\n",
    "    for adoc in annotationDocs:\n",
    "        ## Can have an annotation document with no elements...\n",
    "#         if 'annotation' in adoc:\n",
    "        adocname = adoc['annotation']['name']\n",
    "        if adocname =='CircleExemplar':\n",
    "            a = gc.get('annotation/%s' % adoc['_id'])\n",
    "            pprint(a)"
   ]
  },
  {
   "cell_type": "code",
   "execution_count": 16,
   "metadata": {},
   "outputs": [
    {
     "name": "stdout",
     "output_type": "stream",
     "text": [
      "TCGA-OL-A5RW-01Z-00-DX1.E16DE8EE-31AF-4EAF-A85F-DB3E3E2C3BFF.svs\n"
     ]
    }
   ],
   "source": [
    "# for params, name in imeta:\n",
    "#     if not params['magnification']:\n",
    "#         print(name)"
   ]
  },
  {
   "cell_type": "code",
   "execution_count": 10,
   "metadata": {},
   "outputs": [
    {
     "data": {
      "text/plain": [
       "4155.124653739613"
      ]
     },
     "execution_count": 10,
     "metadata": {},
     "output_type": "execute_result"
    }
   ],
   "source": [
    "# Circle radius = 1050 micron (3.969 pixels)\n",
    "#r = 1.0/i['mm_x']*1.05 "
   ]
  },
  {
   "cell_type": "code",
   "execution_count": 27,
   "metadata": {},
   "outputs": [],
   "source": [
    "masterCaseSetFolderId = '6220de49c2b9a71e2f460687'\n",
    "imeta = []\n",
    "\n",
    "for i in gc.listItem(masterCaseSetFolderId):\n",
    "    annotationDocs = gc.get('/annotation?itemId=%s' % i['_id'] )\n",
    "\n",
    "    md = gc.get(\"item/%s/tiles\" % i['_id'])\n",
    "    mag = md['magnification']\n",
    "    roiSizeInPixels = 1.0 / md['mm_x'] * 1.05 \n",
    "    #print(roiSizeInPixels,mag,md['mm_x'],md['mm_y'],md['tileHeight'])\n",
    "\n",
    "    circleRoi  =  {\"description\": \"Field of view for TSR Project\",\n",
    "                \"elements\": [{\"center\": [5000,\n",
    "                                         5000,\n",
    "                                         0],\n",
    "                              \"fillColor\": \"rgba(0, 0, 0, 0)\",\n",
    "                              \"lineColor\": \"rgb(0, 0, 0)\",\n",
    "                              \"lineWidth\": 2,\n",
    "                              \"radius\": roiSizeInPixels,\n",
    "                              \"type\": \"circle\"}],\n",
    "                \"name\": \"ROI\"}\n",
    "    gc.post(\"annotation?itemId=%s\" % i['_id'],json=circleRoi)\n",
    "#     break\n",
    "#     for adoc in annotationDocs:\n",
    "#         ## Can have an annotation document with no elements...\n",
    "# #         if 'annotation' in adoc:\n",
    "#         adocname = adoc['annotation']['name']\n",
    "#         if adocname =='CircleExemplar':\n",
    "#             a = gc.get('annotation/%s' % adoc['_id'])\n",
    "#             pprint(a)\n",
    "\n",
    "\n",
    "\n",
    "\n"
   ]
  },
  {
   "cell_type": "code",
   "execution_count": 22,
   "metadata": {},
   "outputs": [
    {
     "data": {
      "text/plain": [
       "{'levels': 10,\n",
       " 'magnification': 40.0,\n",
       " 'mm_x': 0.00025269999999999996,\n",
       " 'mm_y': 0.00025269999999999996,\n",
       " 'sizeX': 117527,\n",
       " 'sizeY': 70472,\n",
       " 'tileHeight': 240,\n",
       " 'tileWidth': 240}"
      ]
     },
     "execution_count": 22,
     "metadata": {},
     "output_type": "execute_result"
    }
   ],
   "source": [
    "md"
   ]
  },
  {
   "cell_type": "code",
   "execution_count": 21,
   "metadata": {},
   "outputs": [
    {
     "data": {
      "text/plain": [
       "[]"
      ]
     },
     "execution_count": 21,
     "metadata": {},
     "output_type": "execute_result"
    }
   ],
   "source": []
  },
  {
   "cell_type": "code",
   "execution_count": null,
   "metadata": {},
   "outputs": [],
   "source": [
    "\n",
    "# Circle area = 3.46 mm2\n",
    "\n",
    "#                 \"name\": \"CircleROI\"}' 'https://styx.neurology.emory.edu/girder/api/v1/annotation?itemId=6266cca8622f966e826afafe'\n",
    "# Circle radius = 1,050 micron (3.969 pixels)"
   ]
  },
  {
   "cell_type": "code",
   "execution_count": null,
   "metadata": {},
   "outputs": [],
   "source": [
    "https://styx.neurology.emory.edu/girder/api/v1/item/6266cca8622f966e826afafe/tiles/internal_metadata"
   ]
  },
  {
   "cell_type": "code",
   "execution_count": null,
   "metadata": {},
   "outputs": [],
   "source": [
    "### Document name I am interested in is TestPointAnnotation"
   ]
  }
 ],
 "metadata": {
  "kernelspec": {
   "display_name": "Python 3",
   "language": "python",
   "name": "python3"
  },
  "language_info": {
   "codemirror_mode": {
    "name": "ipython",
    "version": 3
   },
   "file_extension": ".py",
   "mimetype": "text/x-python",
   "name": "python",
   "nbconvert_exporter": "python",
   "pygments_lexer": "ipython3",
   "version": "3.7.3"
  }
 },
 "nbformat": 4,
 "nbformat_minor": 2
}
