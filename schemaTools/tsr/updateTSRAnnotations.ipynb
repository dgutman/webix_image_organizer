{
 "cells": [
  {
   "cell_type": "code",
   "execution_count": 3,
   "metadata": {},
   "outputs": [
    {
     "name": "stdout",
     "output_type": "stream",
     "text": [
      "Login or email: admin\n",
      "Password for admin: ········\n"
     ]
    },
    {
     "data": {
      "text/plain": [
       "{'_accessLevel': 2,\n",
       " '_id': '5cacfa86e62914004a60e139',\n",
       " '_modelType': 'user',\n",
       " 'admin': True,\n",
       " 'created': '2019-04-09T20:03:18.294000+00:00',\n",
       " 'email': 'histomicstk.admin@kitware.com',\n",
       " 'emailVerified': True,\n",
       " 'firstName': 'admin',\n",
       " 'groupInvites': [],\n",
       " 'groups': [],\n",
       " 'lastName': 'admin',\n",
       " 'login': 'admin',\n",
       " 'otp': False,\n",
       " 'public': True,\n",
       " 'size': 995710672,\n",
       " 'status': 'enabled'}"
      ]
     },
     "execution_count": 3,
     "metadata": {},
     "output_type": "execute_result"
    }
   ],
   "source": [
    "import pandas as pd\n",
    "import girder_client\n",
    "from pprint import pprint\n",
    "import json\n",
    "\n",
    "masterCaseSetFolderId = '6220de49c2b9a71e2f460687'\n",
    "gc= girder_client.GirderClient(apiUrl=\"https://styx.neurology.emory.edu/girder/api/v1\")\n",
    "gc.authenticate(interactive=True)"
   ]
  },
  {
   "cell_type": "code",
   "execution_count": 13,
   "metadata": {},
   "outputs": [
    {
     "name": "stdout",
     "output_type": "stream",
     "text": [
      "{'_accessLevel': 2,\n",
      " '_elementQuery': {'count': 1,\n",
      "                   'details': 4,\n",
      "                   'filter': {'_version': 485188,\n",
      "                              'annotationId': '628288e4e70def4ae73d40f9'},\n",
      "                   'offset': 0,\n",
      "                   'returned': 1,\n",
      "                   'sort': ['_id', 1]},\n",
      " '_id': '628288e4e70def4ae73d40f9',\n",
      " '_modelType': 'annotation',\n",
      " '_version': 485188,\n",
      " 'annotation': {'description': '',\n",
      "                'elements': [{'center': [64675.11168762945,\n",
      "                                         31829.02561099697,\n",
      "                                         0],\n",
      "                              'fillColor': 'rgba(0, 0, 0, 0)',\n",
      "                              'id': 'a3ffdff7252b12c1ac710013',\n",
      "                              'lineColor': 'rgb(37, 88, 11)',\n",
      "                              'lineWidth': 2,\n",
      "                              'radius': 2395.589993080075,\n",
      "                              'type': 'circle'}],\n",
      "                'name': 'CircleExemplar'},\n",
      " 'created': '2022-05-16T17:24:52.972000+00:00',\n",
      " 'creatorId': '5cacfa86e62914004a60e139',\n",
      " 'groups': [None],\n",
      " 'itemId': '62670b24622f966e826b0219',\n",
      " 'public': False,\n",
      " 'updated': '2022-05-16T17:25:04.133000+00:00',\n",
      " 'updatedId': '5cacfa86e62914004a60e139'}\n"
     ]
    }
   ],
   "source": [
    "addROI = False\n",
    "\n",
    "if addROI:\n",
    "    imeta = []\n",
    "\n",
    "    for i in gc.listItem(masterCaseSetFolderId):\n",
    "        annotationDocs = gc.get('/annotation?itemId=%s' % i['_id'] )\n",
    "\n",
    "        md = gc.get(\"item/%s/tiles\" % i['_id'])\n",
    "        imeta.append((md,i['name']))\n",
    "        for adoc in annotationDocs:\n",
    "            ## Can have an annotation document with no elements...\n",
    "    #         if 'annotation' in adoc:\n",
    "            adocname = adoc['annotation']['name']\n",
    "            if adocname =='CircleExemplar':\n",
    "                a = gc.get('annotation/%s' % adoc['_id'])\n",
    "                pprint(a)"
   ]
  },
  {
   "cell_type": "code",
   "execution_count": 4,
   "metadata": {},
   "outputs": [],
   "source": [
    "## Add metadata to each question..\n",
    "addMetadata = False\n",
    "if addMetadata:\n",
    "    for i in gc.listItem(masterCaseSetFolderId):\n",
    "            gc.addMetadataToItem(i['_id'],{\"%stroma\":\"TBD\"})"
   ]
  },
  {
   "cell_type": "code",
   "execution_count": 8,
   "metadata": {},
   "outputs": [
    {
     "name": "stdout",
     "output_type": "stream",
     "text": [
      "81\n"
     ]
    },
    {
     "data": {
      "text/plain": [
       "[{'_accessLevel': 2,\n",
       "  '_id': '62869319e70def4ae73d667a',\n",
       "  '_modelType': 'user',\n",
       "  'admin': False,\n",
       "  'created': '2022-05-19T18:57:29.005000+00:00',\n",
       "  'email': 'hagenaarsrateradmin@notanemail.com',\n",
       "  'emailVerified': False,\n",
       "  'firstName': 'Sophie',\n",
       "  'groupInvites': [],\n",
       "  'groups': [],\n",
       "  'lastName': 'Hagenaars',\n",
       "  'login': 'hagenaarsrateradmin',\n",
       "  'otp': False,\n",
       "  'public': True,\n",
       "  'size': 0,\n",
       "  'status': 'enabled'},\n",
       " {'_accessLevel': 2,\n",
       "  '_id': '62825ef4e70def4ae73d40b6',\n",
       "  '_modelType': 'user',\n",
       "  'admin': False,\n",
       "  'created': '2022-05-16T14:25:56.220000+00:00',\n",
       "  'email': 'not.an.email@gmail.com',\n",
       "  'emailVerified': False,\n",
       "  'firstName': 'Rater',\n",
       "  'groupInvites': [],\n",
       "  'groups': [],\n",
       "  'lastName': 'One',\n",
       "  'login': 'hagenaarsrater1',\n",
       "  'otp': False,\n",
       "  'public': True,\n",
       "  'size': 0,\n",
       "  'status': 'enabled'},\n",
       " {'_accessLevel': 2,\n",
       "  '_id': '6286929be70def4ae73d6677',\n",
       "  '_modelType': 'user',\n",
       "  'admin': False,\n",
       "  'created': '2022-05-19T18:55:23.630000+00:00',\n",
       "  'email': 'hagenaarsrater3@notarater.com',\n",
       "  'emailVerified': False,\n",
       "  'firstName': 'Rater',\n",
       "  'groupInvites': [],\n",
       "  'groups': [],\n",
       "  'lastName': 'Three',\n",
       "  'login': 'hagenaarsrater3',\n",
       "  'otp': False,\n",
       "  'public': True,\n",
       "  'size': 0,\n",
       "  'status': 'enabled'},\n",
       " {'_accessLevel': 2,\n",
       "  '_id': '6286926ae70def4ae73d6674',\n",
       "  '_modelType': 'user',\n",
       "  'admin': False,\n",
       "  'created': '2022-05-19T18:54:33.858000+00:00',\n",
       "  'email': 'hagenaarsrater2@notanemail.com',\n",
       "  'emailVerified': False,\n",
       "  'firstName': 'Rater',\n",
       "  'groupInvites': [],\n",
       "  'groups': [],\n",
       "  'lastName': 'Two',\n",
       "  'login': 'hagenaarsrater2',\n",
       "  'otp': False,\n",
       "  'public': True,\n",
       "  'size': 0,\n",
       "  'status': 'enabled'}]"
      ]
     },
     "execution_count": 8,
     "metadata": {},
     "output_type": "execute_result"
    }
   ],
   "source": [
    "## Check permissions for annotations in each folder...\n",
    "## First get a list of all raters related to the hagenaars project\n",
    "\n",
    "\n",
    "allUSers = gc.get(\"user?limit=200\")\n",
    "print(len(allRaters))\n",
    "\n",
    "[x for x in allRaters if 'hagenaars' in x['login']]"
   ]
  },
  {
   "cell_type": "code",
   "execution_count": 10,
   "metadata": {},
   "outputs": [
    {
     "data": {
      "text/plain": [
       "4155.124653739613"
      ]
     },
     "execution_count": 10,
     "metadata": {},
     "output_type": "execute_result"
    }
   ],
   "source": [
    "# Circle radius = 1050 micron (3.969 pixels)\n",
    "#r = 1.0/i['mm_x']*1.05 "
   ]
  },
  {
   "cell_type": "code",
   "execution_count": 27,
   "metadata": {},
   "outputs": [],
   "source": [
    "\n",
    "addRoi = False\n",
    "if addRoi:\n",
    "    for i in gc.listItem(masterCaseSetFolderId):\n",
    "\n",
    "        annotationDocs = gc.get('/annotation?itemId=%s' % i['_id'] )\n",
    "\n",
    "        md = gc.get(\"item/%s/tiles\" % i['_id'])\n",
    "        mag = md['magnification']\n",
    "        roiSizeInPixels = 1.0 / md['mm_x'] * 1.05 \n",
    "        #print(roiSizeInPixels,mag,md['mm_x'],md['mm_y'],md['tileHeight'])\n",
    "\n",
    "        circleRoi  =  {\"description\": \"Field of view for TSR Project\",\n",
    "                    \"elements\": [{\"center\": [5000,\n",
    "                                             5000,\n",
    "                                             0],\n",
    "                                  \"fillColor\": \"rgba(0, 0, 0, 0)\",\n",
    "                                  \"lineColor\": \"rgb(0, 0, 0)\",\n",
    "                                  \"lineWidth\": 2,\n",
    "                                  \"radius\": roiSizeInPixels,\n",
    "                                  \"type\": \"circle\"}],\n",
    "                    \"name\": \"ROI\"}\n",
    "        gc.post(\"annotation?itemId=%s\" % i['_id'],json=circleRoi)\n",
    "#     break\n",
    "#     for adoc in annotationDocs:\n",
    "#         ## Can have an annotation document with no elements...\n",
    "# #         if 'annotation' in adoc:\n",
    "#         adocname = adoc['annotation']['name']\n",
    "#         if adocname =='CircleExemplar':\n",
    "#             a = gc.get('annotation/%s' % adoc['_id'])\n",
    "#             pprint(a)\n",
    "\n",
    "\n",
    "\n",
    "\n"
   ]
  },
  {
   "cell_type": "code",
   "execution_count": 19,
   "metadata": {},
   "outputs": [
    {
     "name": "stdout",
     "output_type": "stream",
     "text": [
      "{'groups': [], 'users': [{'flags': [], 'id': '5cacfa86e62914004a60e139', 'level': 2, 'login': 'admin', 'name': 'admin admin'}, {'flags': [], 'id': '62825ef4e70def4ae73d40b6', 'level': 1, 'login': 'hagenaarsrater1', 'name': 'Rater One'}, {'flags': [], 'id': '6286926ae70def4ae73d6674', 'level': 1, 'login': 'hagenaarsrater2', 'name': 'Rater Two'}, {'flags': [], 'id': '6286929be70def4ae73d6677', 'level': 1, 'login': 'hagenaarsrater3', 'name': 'Rater Three'}, {'flags': [], 'id': '62869319e70def4ae73d667a', 'level': 2, 'login': 'hagenaarsrateradmin', 'name': 'Sophie Hagenaars'}]}\n"
     ]
    }
   ],
   "source": []
  },
  {
   "cell_type": "code",
   "execution_count": 4,
   "metadata": {},
   "outputs": [
    {
     "name": "stderr",
     "output_type": "stream",
     "text": [
      "\r",
      "0it [00:00, ?it/s]"
     ]
    },
    {
     "name": "stdout",
     "output_type": "stream",
     "text": [
      "{'groups': [], 'users': [{'flags': [], 'id': '5cacfa86e62914004a60e139', 'level': 2, 'login': 'admin', 'name': 'admin admin'}, {'flags': [], 'id': '62825ef4e70def4ae73d40b6', 'level': 1, 'login': 'hagenaarsrater1', 'name': 'Rater One'}, {'flags': [], 'id': '6286926ae70def4ae73d6674', 'level': 1, 'login': 'hagenaarsrater2', 'name': 'Rater Two'}, {'flags': [], 'id': '6286929be70def4ae73d6677', 'level': 1, 'login': 'hagenaarsrater3', 'name': 'Rater Three'}, {'flags': [], 'id': '62869319e70def4ae73d667a', 'level': 2, 'login': 'hagenaarsrateradmin', 'name': 'Sophie Hagenaars'}]}\n",
      "Field of view for TSR Project 62967708e70def4ae73d9337\n"
     ]
    },
    {
     "name": "stderr",
     "output_type": "stream",
     "text": [
      "\n"
     ]
    },
    {
     "ename": "NameError",
     "evalue": "name 'aoid' is not defined",
     "output_type": "error",
     "traceback": [
      "\u001b[0;31m---------------------------------------------------------------------------\u001b[0m",
      "\u001b[0;31mNameError\u001b[0m                                 Traceback (most recent call last)",
      "\u001b[0;32m<ipython-input-4-e1393822ce1f>\u001b[0m in \u001b[0;36m<module>\u001b[0;34m\u001b[0m\n\u001b[1;32m     15\u001b[0m \u001b[0;31m#     break\u001b[0m\u001b[0;34m\u001b[0m\u001b[0;34m\u001b[0m\u001b[0;34m\u001b[0m\u001b[0m\n\u001b[1;32m     16\u001b[0m     \u001b[0mprint\u001b[0m\u001b[0;34m(\u001b[0m\u001b[0mroi\u001b[0m\u001b[0;34m[\u001b[0m\u001b[0;34m'annotation'\u001b[0m\u001b[0;34m]\u001b[0m\u001b[0;34m[\u001b[0m\u001b[0;34m'description'\u001b[0m\u001b[0;34m]\u001b[0m\u001b[0;34m,\u001b[0m\u001b[0mroi\u001b[0m\u001b[0;34m[\u001b[0m\u001b[0;34m'_id'\u001b[0m\u001b[0;34m]\u001b[0m\u001b[0;34m)\u001b[0m\u001b[0;34m\u001b[0m\u001b[0;34m\u001b[0m\u001b[0m\n\u001b[0;32m---> 17\u001b[0;31m     \u001b[0;32mif\u001b[0m \u001b[0mroi\u001b[0m\u001b[0;34m[\u001b[0m\u001b[0;34m'_id'\u001b[0m\u001b[0;34m]\u001b[0m \u001b[0;34m==\u001b[0m \u001b[0maoid\u001b[0m\u001b[0;34m:\u001b[0m\u001b[0;34m\u001b[0m\u001b[0;34m\u001b[0m\u001b[0m\n\u001b[0m\u001b[1;32m     18\u001b[0m         \u001b[0mprint\u001b[0m\u001b[0;34m(\u001b[0m\u001b[0;34m\"Here we are...\"\u001b[0m\u001b[0;34m,\u001b[0m\u001b[0mroi\u001b[0m\u001b[0;34m[\u001b[0m\u001b[0;34m'_id'\u001b[0m\u001b[0;34m]\u001b[0m\u001b[0;34m)\u001b[0m\u001b[0;34m\u001b[0m\u001b[0;34m\u001b[0m\u001b[0m\n\u001b[1;32m     19\u001b[0m \u001b[0;34m\u001b[0m\u001b[0m\n",
      "\u001b[0;31mNameError\u001b[0m: name 'aoid' is not defined"
     ]
    }
   ],
   "source": [
    "import tqdm\n",
    "## SE\n",
    "annotationWithCorrectPermissions = '6286996be70def4ae73d6683'\n",
    "\n",
    "refPerms = gc.get('annotation/%s/access' % annotationWithCorrectPermissions)\n",
    "## Reference permissions for all of the secondary items..\n",
    "print(refPerms)\n",
    "\n",
    "descText='Field of view for TSR Project'\n",
    "\n",
    "tsrRoiList  = gc.listResource('annotation', params={'text':descText})\n",
    "totalROIs = 0\n",
    "for roi in tqdm.tqdm(tsrRoiList):\n",
    "#     print(roi,aoid)\n",
    "#     break\n",
    "    print(roi['annotation']['description'],roi['_id'])\n",
    "    if roi['_id'] == aoid:\n",
    "        print(\"Here we are...\",roi['_id'])\n",
    "        \n",
    "#         != annotationWithCorrectPermissions:\n",
    "#         #gc.put('annotation/%s/access' % (roi['_id']), parameters={'access': json.dumps(refPerms)})    \n",
    "        \n",
    "        totalROIs+=1\n",
    "print(totalROIs)"
   ]
  },
  {
   "cell_type": "code",
   "execution_count": 43,
   "metadata": {},
   "outputs": [
    {
     "data": {
      "text/plain": [
       "{'_accessLevel': 2,\n",
       " '_id': '629676cbe70def4ae73d8c3d',\n",
       " '_modelType': 'annotation',\n",
       " '_version': 486747,\n",
       " 'annotation': {'description': 'Field of view for TSR Project',\n",
       "  'elements': [{'center': [5000, 5000, 0],\n",
       "    'fillColor': 'rgba(0, 0, 0, 0)',\n",
       "    'lineColor': 'rgb(0, 0, 0)',\n",
       "    'lineWidth': 2,\n",
       "    'radius': 4165.013883379611,\n",
       "    'type': 'circle',\n",
       "    'id': '6286996be70def4ae73d6684'}],\n",
       "  'name': 'ROI'},\n",
       " 'created': '2022-05-19T19:24:27.434000+00:00',\n",
       " 'creatorId': '5cacfa86e62914004a60e139',\n",
       " 'groups': [None],\n",
       " 'itemId': '629676cbe70def4ae73d8c3b',\n",
       " 'public': False,\n",
       " 'updated': '2022-05-19T19:24:27.434000+00:00',\n",
       " 'updatedId': '5cacfa86e62914004a60e139',\n",
       " '_elementQuery': {'count': 1,\n",
       "  'details': 4,\n",
       "  'filter': {'_version': 486747, 'annotationId': '629676cbe70def4ae73d8c3d'},\n",
       "  'offset': 0,\n",
       "  'returned': 1,\n",
       "  'sort': ['_id', 1]}}"
      ]
     },
     "execution_count": 43,
     "metadata": {},
     "output_type": "execute_result"
    }
   ],
   "source": [
    "aoid='629676cbe70def4ae73d8c3d'\n",
    "\n",
    "\n",
    "gc.get(\"annotation/%s\" % aoid)\n",
    "#gc.put('annotation/%s/access' % (aoid), parameters={'access': json.dumps(refPerms)})    \n",
    "\n"
   ]
  },
  {
   "cell_type": "code",
   "execution_count": 48,
   "metadata": {},
   "outputs": [
    {
     "name": "stdout",
     "output_type": "stream",
     "text": [
      "{'groups': [], 'users': [{'flags': [], 'id': '5cacfa86e62914004a60e139', 'level': 2, 'login': 'admin', 'name': 'admin admin'}, {'flags': [], 'id': '62825ef4e70def4ae73d40b6', 'level': 1, 'login': 'hagenaarsrater1', 'name': 'Rater One'}, {'flags': [], 'id': '6286926ae70def4ae73d6674', 'level': 1, 'login': 'hagenaarsrater2', 'name': 'Rater Two'}, {'flags': [], 'id': '6286929be70def4ae73d6677', 'level': 1, 'login': 'hagenaarsrater3', 'name': 'Rater Three'}, {'flags': [], 'id': '62869319e70def4ae73d667a', 'level': 2, 'login': 'hagenaarsrateradmin', 'name': 'Sophie Hagenaars'}]}\n"
     ]
    }
   ],
   "source": [
    "import tqdm\n",
    "## SEtting annotation of all items to match the one below\n",
    "annotationWithCorrectPermissions = '6286996be70def4ae73d6683'\n",
    "\n",
    "refPerms = gc.get('annotation/%s/access' % annotationWithCorrectPermissions)\n",
    "## Reference permissions for all of the secondary items..\n",
    "print(refPerms)\n",
    "\n"
   ]
  },
  {
   "cell_type": "code",
   "execution_count": 5,
   "metadata": {},
   "outputs": [
    {
     "name": "stderr",
     "output_type": "stream",
     "text": [
      "103it [00:20,  3.92it/s]"
     ]
    },
    {
     "ename": "KeyboardInterrupt",
     "evalue": "",
     "output_type": "error",
     "traceback": [
      "\u001b[0;31m---------------------------------------------------------------------------\u001b[0m",
      "\u001b[0;31mKeyboardInterrupt\u001b[0m                         Traceback (most recent call last)",
      "\u001b[0;32m<ipython-input-5-34fba10c1e79>\u001b[0m in \u001b[0;36m<module>\u001b[0;34m\u001b[0m\n\u001b[1;32m      4\u001b[0m \u001b[0;32mfor\u001b[0m \u001b[0mroi\u001b[0m \u001b[0;32min\u001b[0m \u001b[0mtqdm\u001b[0m\u001b[0;34m.\u001b[0m\u001b[0mtqdm\u001b[0m\u001b[0;34m(\u001b[0m\u001b[0mtsrRoiList\u001b[0m\u001b[0;34m)\u001b[0m\u001b[0;34m:\u001b[0m\u001b[0;34m\u001b[0m\u001b[0;34m\u001b[0m\u001b[0m\n\u001b[1;32m      5\u001b[0m     \u001b[0;32mif\u001b[0m \u001b[0mroi\u001b[0m\u001b[0;34m[\u001b[0m\u001b[0;34m'_id'\u001b[0m\u001b[0;34m]\u001b[0m \u001b[0;34m!=\u001b[0m \u001b[0mannotationWithCorrectPermissions\u001b[0m\u001b[0;34m:\u001b[0m\u001b[0;34m\u001b[0m\u001b[0;34m\u001b[0m\u001b[0m\n\u001b[0;32m----> 6\u001b[0;31m         \u001b[0mcurRoiPerms\u001b[0m \u001b[0;34m=\u001b[0m \u001b[0mgc\u001b[0m\u001b[0;34m.\u001b[0m\u001b[0mget\u001b[0m\u001b[0;34m(\u001b[0m\u001b[0;34m'annotation/%s/access'\u001b[0m \u001b[0;34m%\u001b[0m \u001b[0;34m(\u001b[0m\u001b[0mroi\u001b[0m\u001b[0;34m[\u001b[0m\u001b[0;34m'_id'\u001b[0m\u001b[0;34m]\u001b[0m\u001b[0;34m)\u001b[0m\u001b[0;34m)\u001b[0m\u001b[0;34m\u001b[0m\u001b[0;34m\u001b[0m\u001b[0m\n\u001b[0m\u001b[1;32m      7\u001b[0m         \u001b[0;32mif\u001b[0m \u001b[0mcurRoiPerms\u001b[0m\u001b[0;34m!=\u001b[0m\u001b[0mrefPerms\u001b[0m\u001b[0;34m:\u001b[0m\u001b[0;34m\u001b[0m\u001b[0;34m\u001b[0m\u001b[0m\n\u001b[1;32m      8\u001b[0m             \u001b[0mprint\u001b[0m\u001b[0;34m(\u001b[0m\u001b[0mcurRoiPerms\u001b[0m\u001b[0;34m)\u001b[0m\u001b[0;34m\u001b[0m\u001b[0;34m\u001b[0m\u001b[0m\n",
      "\u001b[0;32m~/.local/lib/python3.7/site-packages/girder_client/__init__.py\u001b[0m in \u001b[0;36mget\u001b[0;34m(self, path, parameters, jsonResp)\u001b[0m\n\u001b[1;32m    469\u001b[0m         \u001b[0mConvenience\u001b[0m \u001b[0mmethod\u001b[0m \u001b[0mto\u001b[0m \u001b[0mcall\u001b[0m \u001b[0;34m:\u001b[0m\u001b[0mpy\u001b[0m\u001b[0;34m:\u001b[0m\u001b[0mfunc\u001b[0m\u001b[0;34m:\u001b[0m\u001b[0;31m`\u001b[0m\u001b[0msendRestRequest\u001b[0m\u001b[0;31m`\u001b[0m \u001b[0;32mwith\u001b[0m \u001b[0mthe\u001b[0m \u001b[0;34m'GET'\u001b[0m \u001b[0mHTTP\u001b[0m \u001b[0mmethod\u001b[0m\u001b[0;34m.\u001b[0m\u001b[0;34m\u001b[0m\u001b[0;34m\u001b[0m\u001b[0m\n\u001b[1;32m    470\u001b[0m         \"\"\"\n\u001b[0;32m--> 471\u001b[0;31m         \u001b[0;32mreturn\u001b[0m \u001b[0mself\u001b[0m\u001b[0;34m.\u001b[0m\u001b[0msendRestRequest\u001b[0m\u001b[0;34m(\u001b[0m\u001b[0;34m'GET'\u001b[0m\u001b[0;34m,\u001b[0m \u001b[0mpath\u001b[0m\u001b[0;34m,\u001b[0m \u001b[0mparameters\u001b[0m\u001b[0;34m,\u001b[0m \u001b[0mjsonResp\u001b[0m\u001b[0;34m=\u001b[0m\u001b[0mjsonResp\u001b[0m\u001b[0;34m)\u001b[0m\u001b[0;34m\u001b[0m\u001b[0;34m\u001b[0m\u001b[0m\n\u001b[0m\u001b[1;32m    472\u001b[0m \u001b[0;34m\u001b[0m\u001b[0m\n\u001b[1;32m    473\u001b[0m     def post(self, path, parameters=None, files=None, data=None, json=None, headers=None,\n",
      "\u001b[0;32m~/.local/lib/python3.7/site-packages/girder_client/__init__.py\u001b[0m in \u001b[0;36msendRestRequest\u001b[0;34m(self, method, path, parameters, data, files, json, headers, jsonResp, **kwargs)\u001b[0m\n\u001b[1;32m    452\u001b[0m         result = f(\n\u001b[1;32m    453\u001b[0m             \u001b[0murl\u001b[0m\u001b[0;34m,\u001b[0m \u001b[0mparams\u001b[0m\u001b[0;34m=\u001b[0m\u001b[0mparameters\u001b[0m\u001b[0;34m,\u001b[0m \u001b[0mdata\u001b[0m\u001b[0;34m=\u001b[0m\u001b[0mdata\u001b[0m\u001b[0;34m,\u001b[0m \u001b[0mfiles\u001b[0m\u001b[0;34m=\u001b[0m\u001b[0mfiles\u001b[0m\u001b[0;34m,\u001b[0m \u001b[0mjson\u001b[0m\u001b[0;34m=\u001b[0m\u001b[0mjson\u001b[0m\u001b[0;34m,\u001b[0m \u001b[0mheaders\u001b[0m\u001b[0;34m=\u001b[0m\u001b[0m_headers\u001b[0m\u001b[0;34m,\u001b[0m\u001b[0;34m\u001b[0m\u001b[0;34m\u001b[0m\u001b[0m\n\u001b[0;32m--> 454\u001b[0;31m             **kwargs)\n\u001b[0m\u001b[1;32m    455\u001b[0m \u001b[0;34m\u001b[0m\u001b[0m\n\u001b[1;32m    456\u001b[0m         \u001b[0;31m# If success, return the json object. Otherwise throw an exception.\u001b[0m\u001b[0;34m\u001b[0m\u001b[0;34m\u001b[0m\u001b[0;34m\u001b[0m\u001b[0m\n",
      "\u001b[0;32m~/anaconda3/lib/python3.7/site-packages/requests/api.py\u001b[0m in \u001b[0;36mget\u001b[0;34m(url, params, **kwargs)\u001b[0m\n\u001b[1;32m     73\u001b[0m \u001b[0;34m\u001b[0m\u001b[0m\n\u001b[1;32m     74\u001b[0m     \u001b[0mkwargs\u001b[0m\u001b[0;34m.\u001b[0m\u001b[0msetdefault\u001b[0m\u001b[0;34m(\u001b[0m\u001b[0;34m'allow_redirects'\u001b[0m\u001b[0;34m,\u001b[0m \u001b[0;32mTrue\u001b[0m\u001b[0;34m)\u001b[0m\u001b[0;34m\u001b[0m\u001b[0;34m\u001b[0m\u001b[0m\n\u001b[0;32m---> 75\u001b[0;31m     \u001b[0;32mreturn\u001b[0m \u001b[0mrequest\u001b[0m\u001b[0;34m(\u001b[0m\u001b[0;34m'get'\u001b[0m\u001b[0;34m,\u001b[0m \u001b[0murl\u001b[0m\u001b[0;34m,\u001b[0m \u001b[0mparams\u001b[0m\u001b[0;34m=\u001b[0m\u001b[0mparams\u001b[0m\u001b[0;34m,\u001b[0m \u001b[0;34m**\u001b[0m\u001b[0mkwargs\u001b[0m\u001b[0;34m)\u001b[0m\u001b[0;34m\u001b[0m\u001b[0;34m\u001b[0m\u001b[0m\n\u001b[0m\u001b[1;32m     76\u001b[0m \u001b[0;34m\u001b[0m\u001b[0m\n\u001b[1;32m     77\u001b[0m \u001b[0;34m\u001b[0m\u001b[0m\n",
      "\u001b[0;32m~/anaconda3/lib/python3.7/site-packages/requests/api.py\u001b[0m in \u001b[0;36mrequest\u001b[0;34m(method, url, **kwargs)\u001b[0m\n\u001b[1;32m     58\u001b[0m     \u001b[0;31m# cases, and look like a memory leak in others.\u001b[0m\u001b[0;34m\u001b[0m\u001b[0;34m\u001b[0m\u001b[0;34m\u001b[0m\u001b[0m\n\u001b[1;32m     59\u001b[0m     \u001b[0;32mwith\u001b[0m \u001b[0msessions\u001b[0m\u001b[0;34m.\u001b[0m\u001b[0mSession\u001b[0m\u001b[0;34m(\u001b[0m\u001b[0;34m)\u001b[0m \u001b[0;32mas\u001b[0m \u001b[0msession\u001b[0m\u001b[0;34m:\u001b[0m\u001b[0;34m\u001b[0m\u001b[0;34m\u001b[0m\u001b[0m\n\u001b[0;32m---> 60\u001b[0;31m         \u001b[0;32mreturn\u001b[0m \u001b[0msession\u001b[0m\u001b[0;34m.\u001b[0m\u001b[0mrequest\u001b[0m\u001b[0;34m(\u001b[0m\u001b[0mmethod\u001b[0m\u001b[0;34m=\u001b[0m\u001b[0mmethod\u001b[0m\u001b[0;34m,\u001b[0m \u001b[0murl\u001b[0m\u001b[0;34m=\u001b[0m\u001b[0murl\u001b[0m\u001b[0;34m,\u001b[0m \u001b[0;34m**\u001b[0m\u001b[0mkwargs\u001b[0m\u001b[0;34m)\u001b[0m\u001b[0;34m\u001b[0m\u001b[0;34m\u001b[0m\u001b[0m\n\u001b[0m\u001b[1;32m     61\u001b[0m \u001b[0;34m\u001b[0m\u001b[0m\n\u001b[1;32m     62\u001b[0m \u001b[0;34m\u001b[0m\u001b[0m\n",
      "\u001b[0;32m~/anaconda3/lib/python3.7/site-packages/requests/sessions.py\u001b[0m in \u001b[0;36mrequest\u001b[0;34m(self, method, url, params, data, headers, cookies, files, auth, timeout, allow_redirects, proxies, hooks, stream, verify, cert, json)\u001b[0m\n\u001b[1;32m    531\u001b[0m         }\n\u001b[1;32m    532\u001b[0m         \u001b[0msend_kwargs\u001b[0m\u001b[0;34m.\u001b[0m\u001b[0mupdate\u001b[0m\u001b[0;34m(\u001b[0m\u001b[0msettings\u001b[0m\u001b[0;34m)\u001b[0m\u001b[0;34m\u001b[0m\u001b[0;34m\u001b[0m\u001b[0m\n\u001b[0;32m--> 533\u001b[0;31m         \u001b[0mresp\u001b[0m \u001b[0;34m=\u001b[0m \u001b[0mself\u001b[0m\u001b[0;34m.\u001b[0m\u001b[0msend\u001b[0m\u001b[0;34m(\u001b[0m\u001b[0mprep\u001b[0m\u001b[0;34m,\u001b[0m \u001b[0;34m**\u001b[0m\u001b[0msend_kwargs\u001b[0m\u001b[0;34m)\u001b[0m\u001b[0;34m\u001b[0m\u001b[0;34m\u001b[0m\u001b[0m\n\u001b[0m\u001b[1;32m    534\u001b[0m \u001b[0;34m\u001b[0m\u001b[0m\n\u001b[1;32m    535\u001b[0m         \u001b[0;32mreturn\u001b[0m \u001b[0mresp\u001b[0m\u001b[0;34m\u001b[0m\u001b[0;34m\u001b[0m\u001b[0m\n",
      "\u001b[0;32m~/anaconda3/lib/python3.7/site-packages/requests/sessions.py\u001b[0m in \u001b[0;36msend\u001b[0;34m(self, request, **kwargs)\u001b[0m\n\u001b[1;32m    644\u001b[0m \u001b[0;34m\u001b[0m\u001b[0m\n\u001b[1;32m    645\u001b[0m         \u001b[0;31m# Send the request\u001b[0m\u001b[0;34m\u001b[0m\u001b[0;34m\u001b[0m\u001b[0;34m\u001b[0m\u001b[0m\n\u001b[0;32m--> 646\u001b[0;31m         \u001b[0mr\u001b[0m \u001b[0;34m=\u001b[0m \u001b[0madapter\u001b[0m\u001b[0;34m.\u001b[0m\u001b[0msend\u001b[0m\u001b[0;34m(\u001b[0m\u001b[0mrequest\u001b[0m\u001b[0;34m,\u001b[0m \u001b[0;34m**\u001b[0m\u001b[0mkwargs\u001b[0m\u001b[0;34m)\u001b[0m\u001b[0;34m\u001b[0m\u001b[0;34m\u001b[0m\u001b[0m\n\u001b[0m\u001b[1;32m    647\u001b[0m \u001b[0;34m\u001b[0m\u001b[0m\n\u001b[1;32m    648\u001b[0m         \u001b[0;31m# Total elapsed time of the request (approximately)\u001b[0m\u001b[0;34m\u001b[0m\u001b[0;34m\u001b[0m\u001b[0;34m\u001b[0m\u001b[0m\n",
      "\u001b[0;32m~/anaconda3/lib/python3.7/site-packages/requests/adapters.py\u001b[0m in \u001b[0;36msend\u001b[0;34m(self, request, stream, timeout, verify, cert, proxies)\u001b[0m\n\u001b[1;32m    447\u001b[0m                     \u001b[0mdecode_content\u001b[0m\u001b[0;34m=\u001b[0m\u001b[0;32mFalse\u001b[0m\u001b[0;34m,\u001b[0m\u001b[0;34m\u001b[0m\u001b[0;34m\u001b[0m\u001b[0m\n\u001b[1;32m    448\u001b[0m                     \u001b[0mretries\u001b[0m\u001b[0;34m=\u001b[0m\u001b[0mself\u001b[0m\u001b[0;34m.\u001b[0m\u001b[0mmax_retries\u001b[0m\u001b[0;34m,\u001b[0m\u001b[0;34m\u001b[0m\u001b[0;34m\u001b[0m\u001b[0m\n\u001b[0;32m--> 449\u001b[0;31m                     \u001b[0mtimeout\u001b[0m\u001b[0;34m=\u001b[0m\u001b[0mtimeout\u001b[0m\u001b[0;34m\u001b[0m\u001b[0;34m\u001b[0m\u001b[0m\n\u001b[0m\u001b[1;32m    450\u001b[0m                 )\n\u001b[1;32m    451\u001b[0m \u001b[0;34m\u001b[0m\u001b[0m\n",
      "\u001b[0;32m~/anaconda3/lib/python3.7/site-packages/urllib3/connectionpool.py\u001b[0m in \u001b[0;36murlopen\u001b[0;34m(self, method, url, body, headers, retries, redirect, assert_same_host, timeout, pool_timeout, release_conn, chunked, body_pos, **response_kw)\u001b[0m\n\u001b[1;32m    598\u001b[0m                                                   \u001b[0mtimeout\u001b[0m\u001b[0;34m=\u001b[0m\u001b[0mtimeout_obj\u001b[0m\u001b[0;34m,\u001b[0m\u001b[0;34m\u001b[0m\u001b[0;34m\u001b[0m\u001b[0m\n\u001b[1;32m    599\u001b[0m                                                   \u001b[0mbody\u001b[0m\u001b[0;34m=\u001b[0m\u001b[0mbody\u001b[0m\u001b[0;34m,\u001b[0m \u001b[0mheaders\u001b[0m\u001b[0;34m=\u001b[0m\u001b[0mheaders\u001b[0m\u001b[0;34m,\u001b[0m\u001b[0;34m\u001b[0m\u001b[0;34m\u001b[0m\u001b[0m\n\u001b[0;32m--> 600\u001b[0;31m                                                   chunked=chunked)\n\u001b[0m\u001b[1;32m    601\u001b[0m \u001b[0;34m\u001b[0m\u001b[0m\n\u001b[1;32m    602\u001b[0m             \u001b[0;31m# If we're going to release the connection in ``finally:``, then\u001b[0m\u001b[0;34m\u001b[0m\u001b[0;34m\u001b[0m\u001b[0;34m\u001b[0m\u001b[0m\n",
      "\u001b[0;32m~/anaconda3/lib/python3.7/site-packages/urllib3/connectionpool.py\u001b[0m in \u001b[0;36m_make_request\u001b[0;34m(self, conn, method, url, timeout, chunked, **httplib_request_kw)\u001b[0m\n\u001b[1;32m    341\u001b[0m         \u001b[0;31m# Trigger any extra validation we need to do.\u001b[0m\u001b[0;34m\u001b[0m\u001b[0;34m\u001b[0m\u001b[0;34m\u001b[0m\u001b[0m\n\u001b[1;32m    342\u001b[0m         \u001b[0;32mtry\u001b[0m\u001b[0;34m:\u001b[0m\u001b[0;34m\u001b[0m\u001b[0;34m\u001b[0m\u001b[0m\n\u001b[0;32m--> 343\u001b[0;31m             \u001b[0mself\u001b[0m\u001b[0;34m.\u001b[0m\u001b[0m_validate_conn\u001b[0m\u001b[0;34m(\u001b[0m\u001b[0mconn\u001b[0m\u001b[0;34m)\u001b[0m\u001b[0;34m\u001b[0m\u001b[0;34m\u001b[0m\u001b[0m\n\u001b[0m\u001b[1;32m    344\u001b[0m         \u001b[0;32mexcept\u001b[0m \u001b[0;34m(\u001b[0m\u001b[0mSocketTimeout\u001b[0m\u001b[0;34m,\u001b[0m \u001b[0mBaseSSLError\u001b[0m\u001b[0;34m)\u001b[0m \u001b[0;32mas\u001b[0m \u001b[0me\u001b[0m\u001b[0;34m:\u001b[0m\u001b[0;34m\u001b[0m\u001b[0;34m\u001b[0m\u001b[0m\n\u001b[1;32m    345\u001b[0m             \u001b[0;31m# Py2 raises this as a BaseSSLError, Py3 raises it as socket timeout.\u001b[0m\u001b[0;34m\u001b[0m\u001b[0;34m\u001b[0m\u001b[0;34m\u001b[0m\u001b[0m\n",
      "\u001b[0;32m~/anaconda3/lib/python3.7/site-packages/urllib3/connectionpool.py\u001b[0m in \u001b[0;36m_validate_conn\u001b[0;34m(self, conn)\u001b[0m\n\u001b[1;32m    837\u001b[0m         \u001b[0;31m# Force connect early to allow us to validate the connection.\u001b[0m\u001b[0;34m\u001b[0m\u001b[0;34m\u001b[0m\u001b[0;34m\u001b[0m\u001b[0m\n\u001b[1;32m    838\u001b[0m         \u001b[0;32mif\u001b[0m \u001b[0;32mnot\u001b[0m \u001b[0mgetattr\u001b[0m\u001b[0;34m(\u001b[0m\u001b[0mconn\u001b[0m\u001b[0;34m,\u001b[0m \u001b[0;34m'sock'\u001b[0m\u001b[0;34m,\u001b[0m \u001b[0;32mNone\u001b[0m\u001b[0;34m)\u001b[0m\u001b[0;34m:\u001b[0m  \u001b[0;31m# AppEngine might not have  `.sock`\u001b[0m\u001b[0;34m\u001b[0m\u001b[0;34m\u001b[0m\u001b[0m\n\u001b[0;32m--> 839\u001b[0;31m             \u001b[0mconn\u001b[0m\u001b[0;34m.\u001b[0m\u001b[0mconnect\u001b[0m\u001b[0;34m(\u001b[0m\u001b[0;34m)\u001b[0m\u001b[0;34m\u001b[0m\u001b[0;34m\u001b[0m\u001b[0m\n\u001b[0m\u001b[1;32m    840\u001b[0m \u001b[0;34m\u001b[0m\u001b[0m\n\u001b[1;32m    841\u001b[0m         \u001b[0;32mif\u001b[0m \u001b[0;32mnot\u001b[0m \u001b[0mconn\u001b[0m\u001b[0;34m.\u001b[0m\u001b[0mis_verified\u001b[0m\u001b[0;34m:\u001b[0m\u001b[0;34m\u001b[0m\u001b[0;34m\u001b[0m\u001b[0m\n",
      "\u001b[0;32m~/anaconda3/lib/python3.7/site-packages/urllib3/connection.py\u001b[0m in \u001b[0;36mconnect\u001b[0;34m(self)\u001b[0m\n\u001b[1;32m    342\u001b[0m             \u001b[0mca_cert_dir\u001b[0m\u001b[0;34m=\u001b[0m\u001b[0mself\u001b[0m\u001b[0;34m.\u001b[0m\u001b[0mca_cert_dir\u001b[0m\u001b[0;34m,\u001b[0m\u001b[0;34m\u001b[0m\u001b[0;34m\u001b[0m\u001b[0m\n\u001b[1;32m    343\u001b[0m             \u001b[0mserver_hostname\u001b[0m\u001b[0;34m=\u001b[0m\u001b[0mserver_hostname\u001b[0m\u001b[0;34m,\u001b[0m\u001b[0;34m\u001b[0m\u001b[0;34m\u001b[0m\u001b[0m\n\u001b[0;32m--> 344\u001b[0;31m             ssl_context=context)\n\u001b[0m\u001b[1;32m    345\u001b[0m \u001b[0;34m\u001b[0m\u001b[0m\n\u001b[1;32m    346\u001b[0m         \u001b[0;32mif\u001b[0m \u001b[0mself\u001b[0m\u001b[0;34m.\u001b[0m\u001b[0massert_fingerprint\u001b[0m\u001b[0;34m:\u001b[0m\u001b[0;34m\u001b[0m\u001b[0;34m\u001b[0m\u001b[0m\n",
      "\u001b[0;32m~/anaconda3/lib/python3.7/site-packages/urllib3/util/ssl_.py\u001b[0m in \u001b[0;36mssl_wrap_socket\u001b[0;34m(sock, keyfile, certfile, cert_reqs, ca_certs, server_hostname, ssl_version, ciphers, ssl_context, ca_cert_dir)\u001b[0m\n\u001b[1;32m    342\u001b[0m             or IS_SECURETRANSPORT):\n\u001b[1;32m    343\u001b[0m         \u001b[0;32mif\u001b[0m \u001b[0mHAS_SNI\u001b[0m \u001b[0;32mand\u001b[0m \u001b[0mserver_hostname\u001b[0m \u001b[0;32mis\u001b[0m \u001b[0;32mnot\u001b[0m \u001b[0;32mNone\u001b[0m\u001b[0;34m:\u001b[0m\u001b[0;34m\u001b[0m\u001b[0;34m\u001b[0m\u001b[0m\n\u001b[0;32m--> 344\u001b[0;31m             \u001b[0;32mreturn\u001b[0m \u001b[0mcontext\u001b[0m\u001b[0;34m.\u001b[0m\u001b[0mwrap_socket\u001b[0m\u001b[0;34m(\u001b[0m\u001b[0msock\u001b[0m\u001b[0;34m,\u001b[0m \u001b[0mserver_hostname\u001b[0m\u001b[0;34m=\u001b[0m\u001b[0mserver_hostname\u001b[0m\u001b[0;34m)\u001b[0m\u001b[0;34m\u001b[0m\u001b[0;34m\u001b[0m\u001b[0m\n\u001b[0m\u001b[1;32m    345\u001b[0m \u001b[0;34m\u001b[0m\u001b[0m\n\u001b[1;32m    346\u001b[0m         warnings.warn(\n",
      "\u001b[0;32m~/anaconda3/lib/python3.7/site-packages/urllib3/contrib/pyopenssl.py\u001b[0m in \u001b[0;36mwrap_socket\u001b[0;34m(self, sock, server_side, do_handshake_on_connect, suppress_ragged_eofs, server_hostname)\u001b[0m\n\u001b[1;32m    451\u001b[0m         \u001b[0;32mwhile\u001b[0m \u001b[0;32mTrue\u001b[0m\u001b[0;34m:\u001b[0m\u001b[0;34m\u001b[0m\u001b[0;34m\u001b[0m\u001b[0m\n\u001b[1;32m    452\u001b[0m             \u001b[0;32mtry\u001b[0m\u001b[0;34m:\u001b[0m\u001b[0;34m\u001b[0m\u001b[0;34m\u001b[0m\u001b[0m\n\u001b[0;32m--> 453\u001b[0;31m                 \u001b[0mcnx\u001b[0m\u001b[0;34m.\u001b[0m\u001b[0mdo_handshake\u001b[0m\u001b[0;34m(\u001b[0m\u001b[0;34m)\u001b[0m\u001b[0;34m\u001b[0m\u001b[0;34m\u001b[0m\u001b[0m\n\u001b[0m\u001b[1;32m    454\u001b[0m             \u001b[0;32mexcept\u001b[0m \u001b[0mOpenSSL\u001b[0m\u001b[0;34m.\u001b[0m\u001b[0mSSL\u001b[0m\u001b[0;34m.\u001b[0m\u001b[0mWantReadError\u001b[0m\u001b[0;34m:\u001b[0m\u001b[0;34m\u001b[0m\u001b[0;34m\u001b[0m\u001b[0m\n\u001b[1;32m    455\u001b[0m                 \u001b[0;32mif\u001b[0m \u001b[0;32mnot\u001b[0m \u001b[0mutil\u001b[0m\u001b[0;34m.\u001b[0m\u001b[0mwait_for_read\u001b[0m\u001b[0;34m(\u001b[0m\u001b[0msock\u001b[0m\u001b[0;34m,\u001b[0m \u001b[0msock\u001b[0m\u001b[0;34m.\u001b[0m\u001b[0mgettimeout\u001b[0m\u001b[0;34m(\u001b[0m\u001b[0;34m)\u001b[0m\u001b[0;34m)\u001b[0m\u001b[0;34m:\u001b[0m\u001b[0;34m\u001b[0m\u001b[0;34m\u001b[0m\u001b[0m\n",
      "\u001b[0;32m~/anaconda3/lib/python3.7/site-packages/OpenSSL/SSL.py\u001b[0m in \u001b[0;36mdo_handshake\u001b[0;34m(self)\u001b[0m\n\u001b[1;32m   1912\u001b[0m         \u001b[0;34m:\u001b[0m\u001b[0;32mreturn\u001b[0m\u001b[0;34m:\u001b[0m \u001b[0;32mNone\u001b[0m\u001b[0;34m.\u001b[0m\u001b[0;34m\u001b[0m\u001b[0;34m\u001b[0m\u001b[0m\n\u001b[1;32m   1913\u001b[0m         \"\"\"\n\u001b[0;32m-> 1914\u001b[0;31m         \u001b[0mresult\u001b[0m \u001b[0;34m=\u001b[0m \u001b[0m_lib\u001b[0m\u001b[0;34m.\u001b[0m\u001b[0mSSL_do_handshake\u001b[0m\u001b[0;34m(\u001b[0m\u001b[0mself\u001b[0m\u001b[0;34m.\u001b[0m\u001b[0m_ssl\u001b[0m\u001b[0;34m)\u001b[0m\u001b[0;34m\u001b[0m\u001b[0;34m\u001b[0m\u001b[0m\n\u001b[0m\u001b[1;32m   1915\u001b[0m         \u001b[0mself\u001b[0m\u001b[0;34m.\u001b[0m\u001b[0m_raise_ssl_error\u001b[0m\u001b[0;34m(\u001b[0m\u001b[0mself\u001b[0m\u001b[0;34m.\u001b[0m\u001b[0m_ssl\u001b[0m\u001b[0;34m,\u001b[0m \u001b[0mresult\u001b[0m\u001b[0;34m)\u001b[0m\u001b[0;34m\u001b[0m\u001b[0;34m\u001b[0m\u001b[0m\n\u001b[1;32m   1916\u001b[0m \u001b[0;34m\u001b[0m\u001b[0m\n",
      "\u001b[0;31mKeyboardInterrupt\u001b[0m: "
     ]
    }
   ],
   "source": [
    "tsrRoiList  = gc.listResource('annotation?text=Field of view for TSRProject')\n",
    "\n",
    "totalROIs = 0\n",
    "for roi in tqdm.tqdm(tsrRoiList):\n",
    "    if roi['_id'] != annotationWithCorrectPermissions:\n",
    "        curRoiPerms = gc.get('annotation/%s/access' % (roi['_id']))\n",
    "        if curRoiPerms!=refPerms:\n",
    "            print(curRoiPerms)\n",
    "            break\n",
    "#         totalROIs+=1\n",
    "# print(totalROIs)"
   ]
  },
  {
   "cell_type": "code",
   "execution_count": null,
   "metadata": {},
   "outputs": [],
   "source": [
    "\n",
    "# Circle area = 3.46 mm2\n",
    "\n",
    "#                 \"name\": \"CircleROI\"}' 'https://styx.neurology.emory.edu/girder/api/v1/annotation?itemId=6266cca8622f966e826afafe'\n",
    "# Circle radius = 1,050 micron (3.969 pixels)"
   ]
  },
  {
   "cell_type": "code",
   "execution_count": null,
   "metadata": {},
   "outputs": [],
   "source": [
    "https://styx.neurology.emory.edu/girder/api/v1/item/6266cca8622f966e826afafe/tiles/internal_metadata"
   ]
  },
  {
   "cell_type": "code",
   "execution_count": 1,
   "metadata": {},
   "outputs": [
    {
     "ename": "NameError",
     "evalue": "name 'gc' is not defined",
     "output_type": "error",
     "traceback": [
      "\u001b[0;31m---------------------------------------------------------------------------\u001b[0m",
      "\u001b[0;31mNameError\u001b[0m                                 Traceback (most recent call last)",
      "\u001b[0;32m<ipython-input-1-31708081d05f>\u001b[0m in \u001b[0;36m<module>\u001b[0;34m\u001b[0m\n\u001b[1;32m      6\u001b[0m \u001b[0mupdatePerms\u001b[0m \u001b[0;34m=\u001b[0m \u001b[0;32mFalse\u001b[0m\u001b[0;34m\u001b[0m\u001b[0;34m\u001b[0m\u001b[0m\n\u001b[1;32m      7\u001b[0m \u001b[0;34m\u001b[0m\u001b[0m\n\u001b[0;32m----> 8\u001b[0;31m \u001b[0mannotationList\u001b[0m \u001b[0;34m=\u001b[0m \u001b[0mgc\u001b[0m\u001b[0;34m.\u001b[0m\u001b[0mget\u001b[0m\u001b[0;34m(\u001b[0m\u001b[0;34m'/annotation?itemId=%s'\u001b[0m\u001b[0;34m%\u001b[0m \u001b[0mrefImage\u001b[0m\u001b[0;34m)\u001b[0m\u001b[0;34m\u001b[0m\u001b[0;34m\u001b[0m\u001b[0m\n\u001b[0m\u001b[1;32m      9\u001b[0m \u001b[0;32mfor\u001b[0m \u001b[0mal\u001b[0m \u001b[0;32min\u001b[0m \u001b[0mannotationList\u001b[0m\u001b[0;34m:\u001b[0m\u001b[0;34m\u001b[0m\u001b[0;34m\u001b[0m\u001b[0m\n\u001b[1;32m     10\u001b[0m     \u001b[0mprint\u001b[0m\u001b[0;34m(\u001b[0m\u001b[0mal\u001b[0m\u001b[0;34m[\u001b[0m\u001b[0;34m'annotation'\u001b[0m\u001b[0;34m]\u001b[0m\u001b[0;34m)\u001b[0m\u001b[0;34m\u001b[0m\u001b[0;34m\u001b[0m\u001b[0m\n",
      "\u001b[0;31mNameError\u001b[0m: name 'gc' is not defined"
     ]
    }
   ],
   "source": [
    "### Document name I am interested in is TestPointAnnotation\n",
    "\n",
    "\n",
    "## Get all of the annotations as well as permissions associated with it\n",
    "refImage = '629676cbe70def4ae73d8c4b'\n",
    "updatePerms = False\n",
    "\n",
    "annotationList = gc.get('/annotation?itemId=%s'% refImage)\n",
    "for al in annotationList:\n",
    "    print(al['annotation'])\n",
    "    ## Now get the permissions associated with this item\n",
    "    perm = gc.get('/annotation/%s/access' % al['_id'])\n",
    "    print(perm)\n",
    "    \n",
    "    ### Try and update the permissions now..\n",
    "    if updatePerms:\n",
    "        gc.put('annotation/%s/access' % (al['_id']), parameters={'access': json.dumps(refPerms)})    \n"
   ]
  },
  {
   "cell_type": "code",
   "execution_count": 10,
   "metadata": {},
   "outputs": [
    {
     "name": "stdout",
     "output_type": "stream",
     "text": [
      "Processing folder: MasterDataSet\n",
      "TCGA-A7-A26G-01Z-00-DX1.29A27673-A16D-4044-BCCF-14BF6236D7D3.svs {'groups': [], 'users': [{'flags': [], 'id': '5cacfa86e62914004a60e139', 'level': 2, 'login': 'admin', 'name': 'admin admin'}]} 62670b26622f966e826b0245\n",
      "TCGA-A7-A4SD-01Z-00-DX1.677152B3-17B2-42DB-AEEC-C9509ACCE831.svs {'groups': [], 'users': [{'flags': [], 'id': '5cacfa86e62914004a60e139', 'level': 2, 'login': 'admin', 'name': 'admin admin'}]} 62670b26622f966e826b0249\n",
      "TCGA-A7-A5ZV-01Z-00-DX1.21F2EA4A-4F31-43D6-A036-E20E326AF37E.svs {'groups': [], 'users': [{'flags': [], 'id': '5cacfa86e62914004a60e139', 'level': 2, 'login': 'admin', 'name': 'admin admin'}]} 62670b26622f966e826b024d\n",
      "TCGA-A7-A6VV-01Z-00-DX2.4C2BF8C1-CC84-4A6E-BC0F-430BC8BE6B26.svs {'groups': [], 'users': [{'flags': [], 'id': '5cacfa86e62914004a60e139', 'level': 2, 'login': 'admin', 'name': 'admin admin'}]} 62670b26622f966e826b0251\n",
      "TCGA-A7-A6VY-01Z-00-DX1.38D4EBD7-40B0-4EE3-960A-1F00E8F83ADB.svs {'groups': [], 'users': [{'flags': [], 'id': '5cacfa86e62914004a60e139', 'level': 2, 'login': 'admin', 'name': 'admin admin'}]} 62670b26622f966e826b0255\n",
      "TCGA-A8-A07O-01Z-00-DX1.3D657129-F2A7-4BC1-A910-805FBDCE2212.svs {'groups': [], 'users': [{'flags': [], 'id': '5cacfa86e62914004a60e139', 'level': 2, 'login': 'admin', 'name': 'admin admin'}]} 62670b26622f966e826b0259\n",
      "TCGA-A8-A09X-01Z-00-DX1.17B5BE28-944F-427B-8F90-44885C3EDD36.svs {'groups': [], 'users': [{'flags': [], 'id': '5cacfa86e62914004a60e139', 'level': 2, 'login': 'admin', 'name': 'admin admin'}]} 62670b27622f966e826b025d\n",
      "TCGA-AC-A2QH-01Z-00-DX1.00B8BFFF-F1E2-4F99-A969-8DD7EE4F8E0B.svs {'groups': [], 'users': [{'flags': [], 'id': '5cacfa86e62914004a60e139', 'level': 2, 'login': 'admin', 'name': 'admin admin'}]} 62670b27622f966e826b0261\n",
      "TCGA-AC-A6IW-01Z-00-DX1.C4514189-E64F-4603-8970-230FA2BB77FC.svs {'groups': [], 'users': [{'flags': [], 'id': '5cacfa86e62914004a60e139', 'level': 2, 'login': 'admin', 'name': 'admin admin'}]} 62670b27622f966e826b0265\n",
      "TCGA-AN-A0AL-01Z-00-DX1.D9E446A3-175F-4242-AFC1-78FFE3FC9AC4.svs {'groups': [], 'users': [{'flags': [], 'id': '5cacfa86e62914004a60e139', 'level': 2, 'login': 'admin', 'name': 'admin admin'}]} 62670b27622f966e826b0269\n",
      "TCGA-AN-A0AT-01Z-00-DX1.DFD68CD2-C25E-47BE-BC06-8CE3C657B9FD.svs {'groups': [], 'users': [{'flags': [], 'id': '5cacfa86e62914004a60e139', 'level': 2, 'login': 'admin', 'name': 'admin admin'}]} 62670b27622f966e826b026d\n",
      "TCGA-AN-A0XU-01Z-00-DX1.6B0DD0FF-A20D-4BA2-8D48-FC357BA5313F.svs {'groups': [], 'users': [{'flags': [], 'id': '5cacfa86e62914004a60e139', 'level': 2, 'login': 'admin', 'name': 'admin admin'}]} 62670b27622f966e826b0271\n",
      "TCGA-AO-A0J2-01Z-00-DX1.7C9FEC7B-6040-4C58-9563-D10C0D7AC72E.svs {'groups': [], 'users': [{'flags': [], 'id': '5cacfa86e62914004a60e139', 'level': 2, 'login': 'admin', 'name': 'admin admin'}]} 62670b28622f966e826b0275\n",
      "TCGA-AO-A0J6-01Z-00-DX1.D0C003CE-E112-4375-953D-78404C9D62DA.svs {'groups': [], 'users': [{'flags': [], 'id': '5cacfa86e62914004a60e139', 'level': 2, 'login': 'admin', 'name': 'admin admin'}]} 62670b28622f966e826b0279\n",
      "TCGA-AO-A128-01Z-00-DX1.4E6BFFBC-87AD-4ED4-959D-FEB5545400BE.svs {'groups': [], 'users': [{'flags': [], 'id': '5cacfa86e62914004a60e139', 'level': 2, 'login': 'admin', 'name': 'admin admin'}]} 62670b28622f966e826b027d\n",
      "TCGA-AO-A12F-01Z-00-DX1.847C8E4F-3F37-4B1D-8E6E-ACD14391AD89.svs {'groups': [], 'users': [{'flags': [], 'id': '5cacfa86e62914004a60e139', 'level': 2, 'login': 'admin', 'name': 'admin admin'}]} 62670b28622f966e826b0281\n",
      "TCGA-AQ-A04J-01Z-00-DX1.6A4E16D4-2696-4E5F-BCA8-708556FC3A8C.svs {'groups': [], 'users': [{'flags': [], 'id': '5cacfa86e62914004a60e139', 'level': 2, 'login': 'admin', 'name': 'admin admin'}]} 62670b28622f966e826b0285\n",
      "TCGA-AR-A0TS-01Z-00-DX1.2DB81A2E-16C1-4EE0-8175-65FA46768277.svs {'groups': [], 'users': [{'flags': [], 'id': '5cacfa86e62914004a60e139', 'level': 2, 'login': 'admin', 'name': 'admin admin'}]} 62670b28622f966e826b0289\n",
      "TCGA-AR-A0U1-01Z-00-DX1.276433E7-E841-42D2-AF21-762F2FEA3B9B.svs {'groups': [], 'users': [{'flags': [], 'id': '5cacfa86e62914004a60e139', 'level': 2, 'login': 'admin', 'name': 'admin admin'}]} 62670b28622f966e826b028d\n",
      "TCGA-AR-A1AI-01Z-00-DX1.5EF2A589-4284-45CF-BF0C-169E3A85530C.svs {'groups': [], 'users': [{'flags': [], 'id': '5cacfa86e62914004a60e139', 'level': 2, 'login': 'admin', 'name': 'admin admin'}]} 62670b29622f966e826b0291\n",
      "TCGA-AR-A1AR-01Z-00-DX1.E7B7F6F0-9CC0-4D4F-8C9F-443A74D2BE40.svs {'groups': [], 'users': [{'flags': [], 'id': '5cacfa86e62914004a60e139', 'level': 2, 'login': 'admin', 'name': 'admin admin'}]} 62670b29622f966e826b0295\n",
      "TCGA-AR-A1AY-01Z-00-DX1.6AC0BE3B-FFC5-4EDA-9E40-B18CAAC52B81.svs {'groups': [], 'users': [{'flags': [], 'id': '5cacfa86e62914004a60e139', 'level': 2, 'login': 'admin', 'name': 'admin admin'}]} 62670b29622f966e826b0297\n",
      "TCGA-AR-A256-01Z-00-DX1.950D4546-4BF4-4380-9877-51D86A93D755.svs {'groups': [], 'users': [{'flags': [], 'id': '5cacfa86e62914004a60e139', 'level': 2, 'login': 'admin', 'name': 'admin admin'}]} 62670b29622f966e826b0299\n",
      "TCGA-AR-A2LH-01Z-00-DX1.40D4FD67-FB13-46D9-A202-56A5791EA11C.svs {'groups': [], 'users': [{'flags': [], 'id': '5cacfa86e62914004a60e139', 'level': 2, 'login': 'admin', 'name': 'admin admin'}]} 62670b29622f966e826b029b\n",
      "TCGA-AR-A2LR-01Z-00-DX1.C686A7D6-0361-49EE-B6CA-672B3086243C.svs {'groups': [], 'users': [{'flags': [], 'id': '5cacfa86e62914004a60e139', 'level': 2, 'login': 'admin', 'name': 'admin admin'}]} 62670b29622f966e826b029d\n",
      "TCGA-AR-A5QQ-01Z-00-DX1.4185D6D2-498E-4E71-8CB3-EDB4739C6229.svs {'groups': [], 'users': [{'flags': [], 'id': '5cacfa86e62914004a60e139', 'level': 2, 'login': 'admin', 'name': 'admin admin'}]} 62670b29622f966e826b029f\n",
      "TCGA-BH-A0AV-01Z-00-DX1.5A686DA4-A29D-4BA7-9BCA-B707F8755E83.svs {'groups': [], 'users': [{'flags': [], 'id': '5cacfa86e62914004a60e139', 'level': 2, 'login': 'admin', 'name': 'admin admin'}]} 62670b29622f966e826b02a1\n",
      "TCGA-BH-A0B9-01Z-00-DX1.c23adb4c-52d4-4dfd-b8e3-156e43f0e645.svs {'groups': [], 'users': [{'flags': [], 'id': '5cacfa86e62914004a60e139', 'level': 2, 'login': 'admin', 'name': 'admin admin'}]} 62670b29622f966e826b02a5\n",
      "TCGA-E2-A1LG-01Z-00-DX1.8ff0fdd8-e5d5-4ff8-8707-4a760aaa5d36.svs {'groups': [], 'users': [{'flags': [], 'id': '5cacfa86e62914004a60e139', 'level': 2, 'login': 'admin', 'name': 'admin admin'}]} 62670b2e622f966e826b030c\n",
      "TCGA-E2-A1LI-01Z-00-DX1.503dd2fa-23ef-4b11-8aab-301e069eaa88.svs {'groups': [], 'users': [{'flags': [], 'id': '5cacfa86e62914004a60e139', 'level': 2, 'login': 'admin', 'name': 'admin admin'}]} 62670b2e622f966e826b0311\n",
      "TCGA-E2-A1LL-01Z-00-DX1.D1AA1613-902C-4579-9612-48A76042B0AE.svs {'groups': [], 'users': [{'flags': [], 'id': '5cacfa86e62914004a60e139', 'level': 2, 'login': 'admin', 'name': 'admin admin'}]} 62670b2e622f966e826b031b\n",
      "TCGA-E2-A573-01Z-00-DX1.D6633BC2-524D-4153-952F-6B1D8D067370.svs {'groups': [], 'users': [{'flags': [], 'id': '5cacfa86e62914004a60e139', 'level': 2, 'login': 'admin', 'name': 'admin admin'}]} 62670b2f622f966e826b0321\n",
      "TCGA-E9-A5FL-01Z-00-DX1.FB810D6A-303E-45DF-BEF1-D9CE83B4417E.svs {'groups': [], 'users': [{'flags': [], 'id': '5cacfa86e62914004a60e139', 'level': 2, 'login': 'admin', 'name': 'admin admin'}]} 62670b2f622f966e826b0329\n",
      "Processing folder: RaterOneImages\n",
      "TCGA-A2-A04P-01Z-00-DX1.5B481E02-D269-4732-8FDD-6494E6EE2B71.svs {'groups': [], 'users': []} 629676cbe70def4ae73d8c43\n",
      "TCGA-A2-A0D0-01Z-00-DX1.4FF6B8E5-703B-400F-920A-104F56E0F874.svs {'groups': [], 'users': []} 629676cbe70def4ae73d8c53\n",
      "TCGA-A2-A0D2-01Z-00-DX1.ECD890F5-BA01-4998-B472-7B683BD6D7B1.svs {'groups': [], 'users': []} 629676cbe70def4ae73d8c57\n",
      "TCGA-A2-A0ST-01Z-00-DX1.AE05A5DB-4861-40DE-B0F5-7955FC903A96.svs {'groups': [], 'users': []} 629676cbe70def4ae73d8c5b\n",
      "TCGA-A2-A0SX-01Z-00-DX1.219A994C-8974-4458-98FA-FB1F14868E04.svs {'groups': [], 'users': []} 629676cbe70def4ae73d8c5f\n",
      "TCGA-A2-A0T0-01Z-00-DX1.51F904DA-A4B5-4451-8AEF-58E7EF7651DB.svs {'groups': [], 'users': []} 629676cbe70def4ae73d8c63\n",
      "TCGA-A2-A0T2-01Z-00-DX1.29A5C4C8-6AE8-44EE-98C2-ACBCBFBE9D60.svs {'groups': [], 'users': []} 629676cbe70def4ae73d8c67\n",
      "TCGA-A2-A0YE-01Z-00-DX1.8A2E3094-5755-42BC-969D-7F0A2ECA0F39.svs {'groups': [], 'users': []} 629676cbe70def4ae73d8c6b\n"
     ]
    },
    {
     "name": "stdout",
     "output_type": "stream",
     "text": [
      "TCGA-A2-A0YM-01Z-00-DX1.A48B4C96-2CC5-464C-98B7-F0F92AE56533.svs {'groups': [], 'users': []} 629676cbe70def4ae73d8c6f\n",
      "TCGA-A2-A1G6-01Z-00-DX1.BCC3EC46-CEBF-4B37-BCF0-266D18170B54.svs {'groups': [], 'users': []} 629676cbe70def4ae73d8c73\n",
      "TCGA-A2-A3XS-01Z-00-DX1.867925C0-91D8-40A0-9FEA-25A635AC31E7.svs {'groups': [], 'users': []} 629676cbe70def4ae73d8c77\n",
      "TCGA-A2-A3XT-01Z-00-DX1.336D6C78-576A-481B-8C83-F3A0FC4B182C.svs {'groups': [], 'users': []} 629676cbe70def4ae73d8c7b\n",
      "TCGA-A2-A3XX-01Z-00-DX1.03C6D70F-2833-4E97-91B7-DE70CD083D92.svs {'groups': [], 'users': []} 629676cce70def4ae73d8c83\n",
      "TCGA-A7-A0CE-01Z-00-DX1.E67322FB-ED25-4B85-B3B0-2B8BD277BB4A.svs {'groups': [], 'users': []} 629676cce70def4ae73d8c8b\n",
      "TCGA-A7-A0DA-01Z-00-DX1.5F087009-16E9-4A07-BA24-62340E108B17.svs {'groups': [], 'users': []} 629676cce70def4ae73d8c93\n",
      "TCGA-A7-A26F-01Z-00-DX1.7ADE881D-325D-48ED-BA2D-30F589CA8EF2.svs {'groups': [], 'users': []} 629676cce70def4ae73d8c9b\n",
      "TCGA-A7-A26I-01Z-00-DX1.0077D012-BC14-4E96-84F7-A1A6A3A778DF.svs {'groups': [], 'users': []} 629676cce70def4ae73d8ca3\n",
      "TCGA-A7-A4SE-01Z-00-DX1.16BC8401-E40E-4A1A-9BD9-12735C9AE3F6.svs {'groups': [], 'users': []} 629676cce70def4ae73d8cab\n",
      "TCGA-A7-A6VV-01Z-00-DX1.07AE0E16-A883-4C86-BC74-4E13081175F2.svs {'groups': [], 'users': []} 629676cce70def4ae73d8cb3\n",
      "TCGA-A7-A6VW-01Z-00-DX1.1BC4790C-DB45-4A3D-9C97-92C92C03FF60.svs {'groups': [], 'users': []} 629676cce70def4ae73d8cbb\n",
      "TCGA-A8-A07C-01Z-00-DX1.1F069BCA-D2B3-49CF-81FD-9EBA49A3439F.svs {'groups': [], 'users': []} 629676cde70def4ae73d8cc3\n",
      "TCGA-A8-A08R-01Z-00-DX1.72FBD9A3-5EB9-4855-89EB-697883C2EA9B.svs {'groups': [], 'users': []} 629676cde70def4ae73d8ccb\n",
      "TCGA-AC-A2BK-01Z-00-DX1.A3A1F275-9CDC-48BA-BB81-BCA6F02ACA94.svs {'groups': [], 'users': []} 629676cde70def4ae73d8cd3\n",
      "TCGA-AC-A2QJ-01Z-00-DX1.48C303BB-5A23-4037-BD28-77629A8CD9DA.svs {'groups': [], 'users': []} 629676cde70def4ae73d8cdb\n",
      "TCGA-AC-A7VC-01Z-00-DX1.EB247544-EADE-419C-B7A7-BB9CC978336F.svs {'groups': [], 'users': []} 629676cde70def4ae73d8ce3\n",
      "TCGA-AN-A0AR-01Z-00-DX1.0CF1267E-C61B-4928-875E-59032F838F07.svs {'groups': [], 'users': []} 629676cde70def4ae73d8ceb\n",
      "TCGA-AN-A0G0-01Z-00-DX1.BE0BB5DF-DEDA-48D8-B5D8-2735C767F28F.svs {'groups': [], 'users': []} 629676cde70def4ae73d8cf3\n",
      "TCGA-AO-A03U-01Z-00-DX1.AE2B55F3-8BA1-4546-82B7-4D2292BE1C78.svs {'groups': [], 'users': []} 629676cde70def4ae73d8cfb\n",
      "TCGA-AO-A0J4-01Z-00-DX1.2EFC978E-8DF5-4254-9598-C0910B17C5C8.svs {'groups': [], 'users': []} 629676cee70def4ae73d8d03\n",
      "TCGA-AO-A124-01Z-00-DX1.E3C7B017-6154-4630-9BDE-0CAC946D0209.svs {'groups': [], 'users': []} 629676cee70def4ae73d8d0b\n",
      "TCGA-AO-A129-01Z-00-DX1.BF485416-BF57-4F39-866B-4B1E201876FA.svs {'groups': [], 'users': []} 629676cee70def4ae73d8d13\n",
      "TCGA-AO-A1KR-01Z-00-DX1.BFB2E69B-E23C-4542-9CBF-EDD040B985AC.svs {'groups': [], 'users': []} 629676cee70def4ae73d8d1b\n",
      "TCGA-AQ-A04J-01Z-00-DX1.6A4E16D4-2696-4E5F-BCA8-708556FC3A8C.svs {'groups': [], 'users': []} 629676cee70def4ae73d8d1f\n",
      "TCGA-AQ-A54N-01Z-00-DX1.E53271E9-AFD2-4071-9B1E-CD05F63B8136.svs {'groups': [], 'users': []} 629676cee70def4ae73d8d23\n",
      "TCGA-AR-A0TS-01Z-00-DX1.2DB81A2E-16C1-4EE0-8175-65FA46768277.svs {'groups': [], 'users': []} 629676cee70def4ae73d8d27\n",
      "TCGA-AR-A0TU-01Z-00-DX1.2CBBDDAB-C1DD-4205-A555-431542F9C069.svs {'groups': [], 'users': []} 629676cee70def4ae73d8d2b\n",
      "TCGA-AR-A0U1-01Z-00-DX1.276433E7-E841-42D2-AF21-762F2FEA3B9B.svs {'groups': [], 'users': []} 629676cee70def4ae73d8d2f\n",
      "TCGA-AR-A0U4-01Z-00-DX1.DE722DC5-859D-4866-ADCC-ED98EDBFB588.svs {'groups': [], 'users': []} 629676cee70def4ae73d8d33\n",
      "TCGA-AR-A1AI-01Z-00-DX1.5EF2A589-4284-45CF-BF0C-169E3A85530C.svs {'groups': [], 'users': []} 629676cee70def4ae73d8d37\n",
      "TCGA-AR-A1AQ-01Z-00-DX1.09D5D7FC-0FA8-4176-94B2-995F44D8ED4C.svs {'groups': [], 'users': []} 629676cfe70def4ae73d8d3b\n",
      "TCGA-AR-A1AR-01Z-00-DX1.E7B7F6F0-9CC0-4D4F-8C9F-443A74D2BE40.svs {'groups': [], 'users': []} 629676cfe70def4ae73d8d3f\n",
      "TCGA-AR-A1AY-01Z-00-DX1.6AC0BE3B-FFC5-4EDA-9E40-B18CAAC52B81.svs {'groups': [], 'users': []} 629676cfe70def4ae73d8d43\n",
      "TCGA-AR-A2LH-01Z-00-DX1.40D4FD67-FB13-46D9-A202-56A5791EA11C.svs {'groups': [], 'users': []} 629676cfe70def4ae73d8d4b\n",
      "TCGA-AR-A5QQ-01Z-00-DX1.4185D6D2-498E-4E71-8CB3-EDB4739C6229.svs {'groups': [], 'users': []} 629676cfe70def4ae73d8d53\n",
      "TCGA-BH-A0B3-01Z-00-DX1.90CB0ED5-FBB7-4ABF-93A0-DD88D60D3D55.svs {'groups': [], 'users': []} 629676cfe70def4ae73d8d5b\n",
      "TCGA-BH-A0BG-01Z-00-DX1.0838FB7F-8C85-4687-9F70-D136A1063383.svs {'groups': [], 'users': []} 629676cfe70def4ae73d8d63\n",
      "TCGA-BH-A0BW-01Z-00-DX1.39B0C363-46A2-4FFB-B1C5-C054A86F4A25.svs {'groups': [], 'users': []} 629676cfe70def4ae73d8d6b\n",
      "TCGA-BH-A0E6-01Z-00-DX1.44DFEFB4-FA05-4246-8D6B-55BA8C3275DB.svs {'groups': [], 'users': []} 629676d0e70def4ae73d8d73\n",
      "TCGA-BH-A0WA-01Z-00-DX1.C0EB7B73-5529-49EC-B660-3F849B041963.svs {'groups': [], 'users': []} 629676d0e70def4ae73d8d7b\n",
      "TCGA-BH-A18V-01Z-00-DX1.7797760A-05CD-436E-97DA-31D6201F943B.svs {'groups': [], 'users': []} 629676d0e70def4ae73d8d83\n",
      "TCGA-BH-A1F6-01Z-00-DX1.E83F0DC0-EA2C-4641-81B0-8702B9C5D579.svs {'groups': [], 'users': []} 629676d0e70def4ae73d8d8b\n",
      "TCGA-BH-A42U-01Z-00-DX1.130D060A-3DD8-407E-B8B0-EBBF743491AE.svs {'groups': [], 'users': []} 629676d0e70def4ae73d8d93\n",
      "TCGA-C8-A131-01Z-00-DX1.5CB27A29-9951-40B9-B4DB-26A4D2EA89B8.svs {'groups': [], 'users': []} 629676d0e70def4ae73d8d9b\n",
      "TCGA-C8-A26X-01Z-00-DX1.FBD86F91-BAD7-4484-8D50-202340FBF242.svs {'groups': [], 'users': []} 629676d0e70def4ae73d8da3\n",
      "TCGA-C8-A27B-01Z-00-DX1.5A8A14E8-6430-4147-9C71-805024E098CB.svs {'groups': [], 'users': []} 629676d0e70def4ae73d8dab\n",
      "TCGA-D8-A13Z-01Z-00-DX1.517140BB-D34C-42F8-952C-340EF16D382F.svs {'groups': [], 'users': []} 629676d1e70def4ae73d8db3\n",
      "TCGA-D8-A143-01Z-00-DX1.4697FB2F-91D5-4506-AF23-7DE304D44A3F.svs {'groups': [], 'users': []} 629676d1e70def4ae73d8dbb\n",
      "TCGA-D8-A1JF-01Z-00-DX1.224EDA43-F822-4A88-814A-BA7D4C60F8CC.svs {'groups': [], 'users': []} 629676d1e70def4ae73d8dc3\n",
      "TCGA-D8-A1JL-01Z-00-DX1.FE3F0C6B-F98A-4036-BF9A-25A8CC66B1FD.svs {'groups': [], 'users': []} 629676d1e70def4ae73d8dcb\n",
      "TCGA-D8-A1XQ-01Z-00-DX1.1A17A5C7-F14B-4AD2-AD5F-D3400D86A366.svs {'groups': [], 'users': []} 629676d1e70def4ae73d8dd3\n",
      "TCGA-D8-A27H-01Z-00-DX1.BE9DFDD4-97C5-4327-B1DA-4B34A6F267C5.svs {'groups': [], 'users': []} 629676d1e70def4ae73d8ddb\n",
      "TCGA-E2-A14N-01Z-00-DX1.15F5644F-CA9F-4688-B56E-BCC00CA4769B.svs {'groups': [], 'users': []} 629676d1e70def4ae73d8de3\n",
      "TCGA-E2-A14R-01Z-00-DX1.DDE62ED5-1FC0-4B3B-A874-95C08B33AB20.svs {'groups': [], 'users': []} 629676d1e70def4ae73d8de7\n",
      "TCGA-E2-A14X-01Z-00-DX1.24ADDA43-F127-4A6B-9AAD-2FAD982A853D.svs {'groups': [], 'users': []} 629676d2e70def4ae73d8deb\n",
      "TCGA-E2-A150-01Z-00-DX1.55643D23-83E6-4058-8EA5-18AAA8547839.svs {'groups': [], 'users': []} 629676d2e70def4ae73d8def\n",
      "TCGA-E2-A158-01Z-00-DX1.994C60FE-E651-4224-95E7-4669834F2338.svs {'groups': [], 'users': []} 629676d2e70def4ae73d8df3\n",
      "TCGA-E2-A159-01Z-00-DX1.C8DC3356-CAE9-4E7A-AEFF-ABB4BE38192B.svs {'groups': [], 'users': []} 629676d2e70def4ae73d8df7\n",
      "TCGA-E2-A1AZ-01Z-00-DX1.FE769F5F-385B-4DCF-819A-735C98D84FA8.svs {'groups': [], 'users': []} 629676d2e70def4ae73d8dfb\n",
      "TCGA-E2-A1B6-01Z-00-DX1.8CD458BE-C4F9-4AF3-A927-18C042E9B4B7.svs {'groups': [], 'users': []} 629676d2e70def4ae73d8dff\n",
      "TCGA-E2-A1L7-01Z-00-DX1.BE796CD2-2E81-44E8-8CA2-85B4D2A31B64.svs {'groups': [], 'users': []} 629676d2e70def4ae73d8e03\n",
      "TCGA-E2-A1LG-01Z-00-DX1.8ff0fdd8-e5d5-4ff8-8707-4a760aaa5d36.svs {'groups': [], 'users': []} 629676d2e70def4ae73d8e07\n",
      "TCGA-E2-A1LH-01Z-00-DX1.F85384B7-1EBF-4F57-A45B-4A668B68E535.svs {'groups': [], 'users': []} 629676d2e70def4ae73d8e0b\n",
      "TCGA-E2-A1LK-01Z-00-DX1.5EBAA1F4-F1B4-4938-A51F-0246621BB0ED.svs {'groups': [], 'users': []} 629676d2e70def4ae73d8e13\n",
      "TCGA-E2-A1LS-01Z-00-DX1.9a43a58a-df40-4375-8456-ef0071bc9eb9.svs {'groups': [], 'users': []} 629676d2e70def4ae73d8e1b\n",
      "TCGA-E2-A574-01Z-00-DX1.60341091-B118-4F20-9ADB-FB2886790B0E.svs {'groups': [], 'users': []} 629676d2e70def4ae73d8e23\n",
      "TCGA-EW-A1OV-01Z-00-DX1.93698123-5B34-4163-848B-2D75A5F7B001.svs {'groups': [], 'users': []} 629676d3e70def4ae73d8e2b\n",
      "TCGA-EW-A1P1-01Z-00-DX1.4B670029-4B3B-4D76-8EA4-F4F29EEF9E37.svs {'groups': [], 'users': []} 629676d3e70def4ae73d8e33\n",
      "TCGA-EW-A1P7-01Z-00-DX1.97575C9F-C318-45A5-A4B7-1A902B93FA3F.svs {'groups': [], 'users': []} 629676d3e70def4ae73d8e3b\n"
     ]
    },
    {
     "name": "stdout",
     "output_type": "stream",
     "text": [
      "TCGA-EW-A1PB-01Z-00-DX1.B2E9B88F-C371-4821-9B7B-8A63BB120D95.svs {'groups': [], 'users': []} 629676d3e70def4ae73d8e43\n",
      "TCGA-EW-A3U0-01Z-00-DX1.526F60F9-D1EB-4613-B428-18A1FC0BAAE2.svs {'groups': [], 'users': []} 629676d3e70def4ae73d8e4b\n",
      "TCGA-GI-A2C9-01Z-00-DX1.90181423-51ED-41FE-9B8F-973A67793D4F.svs {'groups': [], 'users': []} 629676d3e70def4ae73d8e53\n",
      "TCGA-GM-A2DD-01Z-00-DX1.01332FF3-7488-41B7-A515-7841715DE92B.svs {'groups': [], 'users': []} 629676d3e70def4ae73d8e5b\n",
      "TCGA-GM-A2DH-01Z-00-DX1.5790F15F-2A0F-4929-8FE4-18A557007989.svs {'groups': [], 'users': []} 629676d3e70def4ae73d8e63\n",
      "TCGA-GM-A3XL-01Z-00-DX1.CCE8AA1D-9194-4E49-9546-DBF25A35847C.svs {'groups': [], 'users': []} 629676d4e70def4ae73d8e6b\n",
      "TCGA-LL-A441-01Z-00-DX1.33B13078-BB14-4C42-88A6-7460AD2BCD00.svs {'groups': [], 'users': []} 629676d4e70def4ae73d8e73\n",
      "TCGA-LL-A73Y-01Z-00-DX1.50C20931-3AA9-40B4-8A73-56B1976423A8.svs {'groups': [], 'users': []} 629676d4e70def4ae73d8e7b\n",
      "TCGA-OL-A5D6-01Z-00-DX1.6B11331B-4A0D-4E13-B054-A5C7A6FC3AAC.svs {'groups': [], 'users': []} 629676d4e70def4ae73d8e83\n",
      "TCGA-OL-A66I-01Z-00-DX1.8CE9DCAB-98D3-4163-94AC-1557D86C1E25.svs {'groups': [], 'users': []} 629676d4e70def4ae73d8e8b\n",
      "TCGA-OL-A6VO-01Z-00-DX1.291D54D6-EBAF-4622-BD42-97AA5997F014.svs {'groups': [], 'users': []} 629676d4e70def4ae73d8e93\n",
      "TCGA-S3-AA10-01Z-00-DX1.C0468882-0DD8-4FC5-8C2F-E18BE8000F69.svs {'groups': [], 'users': []} 629676d4e70def4ae73d8e9b\n",
      "TCGA-S3-AA15-01Z-00-DX2.915A4F90-25CB-4535-99C7-D0D0CFC90412.svs {'groups': [], 'users': []} 629676d5e70def4ae73d8ea3\n",
      "Processing folder: RaterThreeImages\n",
      "TCGA-A1-A0SK-01Z-00-DX1.A44D70FA-4D96-43F4-9DD7-A61535786297.svs {'groups': [], 'users': []} 62967700e70def4ae73d9165\n",
      "TCGA-A2-A04P-01Z-00-DX1.5B481E02-D269-4732-8FDD-6494E6EE2B71.svs {'groups': [], 'users': []} 62967700e70def4ae73d916d\n",
      "TCGA-A2-A04Q-01Z-00-DX1.DF7ED6B6-7701-486D-9007-F26B6F0682C4.svs {'groups': [], 'users': []} 62967700e70def4ae73d9171\n",
      "TCGA-A2-A04T-01Z-00-DX1.71444266-BD56-4183-9603-C7AC20C9DA1E.svs {'groups': [], 'users': []} 62967700e70def4ae73d9175\n",
      "TCGA-A2-A0D0-01Z-00-DX1.4FF6B8E5-703B-400F-920A-104F56E0F874.svs {'groups': [], 'users': []} 62967700e70def4ae73d917d\n",
      "TCGA-A2-A0ST-01Z-00-DX1.AE05A5DB-4861-40DE-B0F5-7955FC903A96.svs {'groups': [], 'users': []} 62967700e70def4ae73d9185\n",
      "TCGA-A2-A0T0-01Z-00-DX1.51F904DA-A4B5-4451-8AEF-58E7EF7651DB.svs {'groups': [], 'users': []} 62967700e70def4ae73d918d\n",
      "TCGA-A2-A0YE-01Z-00-DX1.8A2E3094-5755-42BC-969D-7F0A2ECA0F39.svs {'groups': [], 'users': []} 62967701e70def4ae73d9195\n",
      "TCGA-A2-A1G6-01Z-00-DX1.BCC3EC46-CEBF-4B37-BCF0-266D18170B54.svs {'groups': [], 'users': []} 62967701e70def4ae73d919d\n",
      "TCGA-A2-A3XT-01Z-00-DX1.336D6C78-576A-481B-8C83-F3A0FC4B182C.svs {'groups': [], 'users': []} 62967701e70def4ae73d91a5\n",
      "TCGA-A2-A3XX-01Z-00-DX1.03C6D70F-2833-4E97-91B7-DE70CD083D92.svs {'groups': [], 'users': []} 62967701e70def4ae73d91ad\n",
      "TCGA-A7-A0CE-01Z-00-DX1.E67322FB-ED25-4B85-B3B0-2B8BD277BB4A.svs {'groups': [], 'users': []} 62967701e70def4ae73d91b5\n",
      "TCGA-A7-A0DA-01Z-00-DX1.5F087009-16E9-4A07-BA24-62340E108B17.svs {'groups': [], 'users': []} 62967701e70def4ae73d91bd\n",
      "TCGA-A7-A26F-01Z-00-DX1.7ADE881D-325D-48ED-BA2D-30F589CA8EF2.svs {'groups': [], 'users': []} 62967701e70def4ae73d91c5\n",
      "TCGA-A7-A26I-01Z-00-DX1.0077D012-BC14-4E96-84F7-A1A6A3A778DF.svs {'groups': [], 'users': []} 62967701e70def4ae73d91cd\n",
      "TCGA-A7-A6VV-01Z-00-DX1.07AE0E16-A883-4C86-BC74-4E13081175F2.svs {'groups': [], 'users': []} 62967702e70def4ae73d91dd\n",
      "TCGA-A7-A6VW-01Z-00-DX1.1BC4790C-DB45-4A3D-9C97-92C92C03FF60.svs {'groups': [], 'users': []} 62967702e70def4ae73d91e5\n",
      "TCGA-A8-A07C-01Z-00-DX1.1F069BCA-D2B3-49CF-81FD-9EBA49A3439F.svs {'groups': [], 'users': []} 62967702e70def4ae73d91ed\n",
      "TCGA-A8-A08R-01Z-00-DX1.72FBD9A3-5EB9-4855-89EB-697883C2EA9B.svs {'groups': [], 'users': []} 62967702e70def4ae73d91f5\n",
      "TCGA-AC-A2BK-01Z-00-DX1.A3A1F275-9CDC-48BA-BB81-BCA6F02ACA94.svs {'groups': [], 'users': []} 62967702e70def4ae73d91fd\n",
      "TCGA-AC-A2QJ-01Z-00-DX1.48C303BB-5A23-4037-BD28-77629A8CD9DA.svs {'groups': [], 'users': []} 62967702e70def4ae73d9205\n",
      "TCGA-AC-A7VC-01Z-00-DX1.EB247544-EADE-419C-B7A7-BB9CC978336F.svs {'groups': [], 'users': []} 62967703e70def4ae73d920d\n",
      "TCGA-AN-A0AR-01Z-00-DX1.0CF1267E-C61B-4928-875E-59032F838F07.svs {'groups': [], 'users': []} 62967703e70def4ae73d9215\n",
      "TCGA-AN-A0G0-01Z-00-DX1.BE0BB5DF-DEDA-48D8-B5D8-2735C767F28F.svs {'groups': [], 'users': []} 62967703e70def4ae73d921d\n",
      "TCGA-AO-A03U-01Z-00-DX1.AE2B55F3-8BA1-4546-82B7-4D2292BE1C78.svs {'groups': [], 'users': []} 62967703e70def4ae73d9225\n",
      "TCGA-AO-A0J4-01Z-00-DX1.2EFC978E-8DF5-4254-9598-C0910B17C5C8.svs {'groups': [], 'users': []} 62967703e70def4ae73d922d\n",
      "TCGA-AO-A124-01Z-00-DX1.E3C7B017-6154-4630-9BDE-0CAC946D0209.svs {'groups': [], 'users': []} 62967703e70def4ae73d9235\n",
      "TCGA-AO-A129-01Z-00-DX1.BF485416-BF57-4F39-866B-4B1E201876FA.svs {'groups': [], 'users': []} 62967703e70def4ae73d923d\n",
      "TCGA-AO-A1KR-01Z-00-DX1.BFB2E69B-E23C-4542-9CBF-EDD040B985AC.svs {'groups': [], 'users': []} 62967703e70def4ae73d9245\n",
      "TCGA-AQ-A54N-01Z-00-DX1.E53271E9-AFD2-4071-9B1E-CD05F63B8136.svs {'groups': [], 'users': []} 62967704e70def4ae73d924d\n",
      "TCGA-AR-A0TU-01Z-00-DX1.2CBBDDAB-C1DD-4205-A555-431542F9C069.svs {'groups': [], 'users': []} 62967704e70def4ae73d9255\n",
      "TCGA-AR-A0U4-01Z-00-DX1.DE722DC5-859D-4866-ADCC-ED98EDBFB588.svs {'groups': [], 'users': []} 62967704e70def4ae73d925d\n",
      "TCGA-AR-A1AQ-01Z-00-DX1.09D5D7FC-0FA8-4176-94B2-995F44D8ED4C.svs {'groups': [], 'users': []} 62967704e70def4ae73d9265\n",
      "TCGA-AR-A1AY-01Z-00-DX1.6AC0BE3B-FFC5-4EDA-9E40-B18CAAC52B81.svs {'groups': [], 'users': []} 62967704e70def4ae73d926d\n",
      "TCGA-AR-A2LH-01Z-00-DX1.40D4FD67-FB13-46D9-A202-56A5791EA11C.svs {'groups': [], 'users': []} 62967704e70def4ae73d9275\n",
      "TCGA-AR-A5QQ-01Z-00-DX1.4185D6D2-498E-4E71-8CB3-EDB4739C6229.svs {'groups': [], 'users': []} 62967704e70def4ae73d927d\n",
      "TCGA-BH-A0B3-01Z-00-DX1.90CB0ED5-FBB7-4ABF-93A0-DD88D60D3D55.svs {'groups': [], 'users': []} 62967705e70def4ae73d9285\n",
      "TCGA-BH-A0BG-01Z-00-DX1.0838FB7F-8C85-4687-9F70-D136A1063383.svs {'groups': [], 'users': []} 62967705e70def4ae73d928d\n",
      "TCGA-BH-A0BW-01Z-00-DX1.39B0C363-46A2-4FFB-B1C5-C054A86F4A25.svs {'groups': [], 'users': []} 62967705e70def4ae73d9295\n",
      "TCGA-BH-A0E6-01Z-00-DX1.44DFEFB4-FA05-4246-8D6B-55BA8C3275DB.svs {'groups': [], 'users': []} 62967705e70def4ae73d929d\n",
      "TCGA-BH-A0WA-01Z-00-DX1.C0EB7B73-5529-49EC-B660-3F849B041963.svs {'groups': [], 'users': []} 62967705e70def4ae73d92a5\n",
      "TCGA-BH-A18V-01Z-00-DX1.7797760A-05CD-436E-97DA-31D6201F943B.svs {'groups': [], 'users': []} 62967705e70def4ae73d92ad\n",
      "TCGA-BH-A1F6-01Z-00-DX1.E83F0DC0-EA2C-4641-81B0-8702B9C5D579.svs {'groups': [], 'users': []} 62967705e70def4ae73d92b5\n",
      "TCGA-BH-A42U-01Z-00-DX1.130D060A-3DD8-407E-B8B0-EBBF743491AE.svs {'groups': [], 'users': []} 62967706e70def4ae73d92bd\n",
      "TCGA-C8-A131-01Z-00-DX1.5CB27A29-9951-40B9-B4DB-26A4D2EA89B8.svs {'groups': [], 'users': []} 62967706e70def4ae73d92c5\n",
      "TCGA-C8-A26X-01Z-00-DX1.FBD86F91-BAD7-4484-8D50-202340FBF242.svs {'groups': [], 'users': []} 62967706e70def4ae73d92cd\n",
      "TCGA-D8-A13Z-01Z-00-DX1.517140BB-D34C-42F8-952C-340EF16D382F.svs {'groups': [], 'users': []} 62967706e70def4ae73d92dd\n",
      "TCGA-D8-A143-01Z-00-DX1.4697FB2F-91D5-4506-AF23-7DE304D44A3F.svs {'groups': [], 'users': []} 62967706e70def4ae73d92e5\n",
      "TCGA-D8-A1JF-01Z-00-DX1.224EDA43-F822-4A88-814A-BA7D4C60F8CC.svs {'groups': [], 'users': []} 62967706e70def4ae73d92ed\n",
      "TCGA-D8-A1JL-01Z-00-DX1.FE3F0C6B-F98A-4036-BF9A-25A8CC66B1FD.svs {'groups': [], 'users': []} 62967706e70def4ae73d92f5\n",
      "TCGA-D8-A1XQ-01Z-00-DX1.1A17A5C7-F14B-4AD2-AD5F-D3400D86A366.svs {'groups': [], 'users': []} 62967707e70def4ae73d92fd\n",
      "TCGA-D8-A27H-01Z-00-DX1.BE9DFDD4-97C5-4327-B1DA-4B34A6F267C5.svs {'groups': [], 'users': []} 62967707e70def4ae73d9305\n",
      "Processing folder: RaterTwoImages\n",
      "TCGA-A1-A0SP-01Z-00-DX1.20D689C6-EFA5-4694-BE76-24475A89ACC0.svs {'groups': [], 'users': []} 629676f2e70def4ae73d8efc\n",
      "TCGA-A2-A04P-01Z-00-DX1.5B481E02-D269-4732-8FDD-6494E6EE2B71.svs {'groups': [], 'users': []} 629676f2e70def4ae73d8f00\n",
      "TCGA-A2-A04Q-01Z-00-DX1.DF7ED6B6-7701-486D-9007-F26B6F0682C4.svs {'groups': [], 'users': []} 629676f2e70def4ae73d8f04\n",
      "TCGA-A2-A04T-01Z-00-DX1.71444266-BD56-4183-9603-C7AC20C9DA1E.svs {'groups': [], 'users': []} 629676f2e70def4ae73d8f08\n"
     ]
    },
    {
     "name": "stdout",
     "output_type": "stream",
     "text": [
      "TCGA-A2-A0CM-01Z-00-DX1.AC4901DE-4B6D-4185-BB9F-156033839828.svs {'groups': [], 'users': []} 629676f2e70def4ae73d8f0c\n",
      "TCGA-A2-A0D0-01Z-00-DX1.4FF6B8E5-703B-400F-920A-104F56E0F874.svs {'groups': [], 'users': []} 629676f2e70def4ae73d8f10\n",
      "TCGA-A2-A0D2-01Z-00-DX1.ECD890F5-BA01-4998-B472-7B683BD6D7B1.svs {'groups': [], 'users': []} 629676f2e70def4ae73d8f14\n",
      "TCGA-A2-A0ST-01Z-00-DX1.AE05A5DB-4861-40DE-B0F5-7955FC903A96.svs {'groups': [], 'users': []} 629676f2e70def4ae73d8f18\n",
      "TCGA-A2-A0SX-01Z-00-DX1.219A994C-8974-4458-98FA-FB1F14868E04.svs {'groups': [], 'users': []} 629676f2e70def4ae73d8f1c\n",
      "TCGA-A2-A0T2-01Z-00-DX1.29A5C4C8-6AE8-44EE-98C2-ACBCBFBE9D60.svs {'groups': [], 'users': []} 629676f3e70def4ae73d8f24\n",
      "TCGA-A2-A0YM-01Z-00-DX1.A48B4C96-2CC5-464C-98B7-F0F92AE56533.svs {'groups': [], 'users': []} 629676f3e70def4ae73d8f2c\n",
      "TCGA-A2-A3XS-01Z-00-DX1.867925C0-91D8-40A0-9FEA-25A635AC31E7.svs {'groups': [], 'users': []} 629676f3e70def4ae73d8f34\n",
      "TCGA-A2-A3XU-01Z-00-DX1.174A92D4-50B2-4A59-AD31-D5EC5BBF2F65.svs {'groups': [], 'users': []} 629676f3e70def4ae73d8f3c\n",
      "TCGA-A2-A3XY-01Z-00-DX1.E57FC9BF-411E-4028-AC10-8BCA5D0C8472.svs {'groups': [], 'users': []} 629676f3e70def4ae73d8f44\n",
      "TCGA-A7-A0CE-01Z-00-DX2.5AD1DB65-10E7-4996-AB5E-13D7851EC5FA.svs {'groups': [], 'users': []} 629676f3e70def4ae73d8f4c\n",
      "TCGA-A7-A0DA-01Z-00-DX2.90C93176-C3C6-41B3-B34B-B16F1A1779E6.svs {'groups': [], 'users': []} 629676f3e70def4ae73d8f54\n",
      "TCGA-A7-A26G-01Z-00-DX1.29A27673-A16D-4044-BCCF-14BF6236D7D3.svs {'groups': [], 'users': []} 629676f4e70def4ae73d8f5c\n",
      "TCGA-A7-A4SD-01Z-00-DX1.677152B3-17B2-42DB-AEEC-C9509ACCE831.svs {'groups': [], 'users': []} 629676f4e70def4ae73d8f64\n",
      "TCGA-A7-A5ZV-01Z-00-DX1.21F2EA4A-4F31-43D6-A036-E20E326AF37E.svs {'groups': [], 'users': []} 629676f4e70def4ae73d8f6c\n",
      "TCGA-A7-A6VV-01Z-00-DX2.4C2BF8C1-CC84-4A6E-BC0F-430BC8BE6B26.svs {'groups': [], 'users': []} 629676f4e70def4ae73d8f74\n",
      "TCGA-A7-A6VY-01Z-00-DX1.38D4EBD7-40B0-4EE3-960A-1F00E8F83ADB.svs {'groups': [], 'users': []} 629676f4e70def4ae73d8f7c\n",
      "TCGA-A8-A07O-01Z-00-DX1.3D657129-F2A7-4BC1-A910-805FBDCE2212.svs {'groups': [], 'users': []} 629676f4e70def4ae73d8f84\n",
      "TCGA-A8-A09X-01Z-00-DX1.17B5BE28-944F-427B-8F90-44885C3EDD36.svs {'groups': [], 'users': []} 629676f4e70def4ae73d8f8c\n",
      "TCGA-AC-A2QH-01Z-00-DX1.00B8BFFF-F1E2-4F99-A969-8DD7EE4F8E0B.svs {'groups': [], 'users': []} 629676f4e70def4ae73d8f94\n",
      "TCGA-AC-A6IW-01Z-00-DX1.C4514189-E64F-4603-8970-230FA2BB77FC.svs {'groups': [], 'users': []} 629676f5e70def4ae73d8f9c\n",
      "TCGA-AN-A0AL-01Z-00-DX1.D9E446A3-175F-4242-AFC1-78FFE3FC9AC4.svs {'groups': [], 'users': []} 629676f5e70def4ae73d8fa4\n",
      "TCGA-AN-A0AT-01Z-00-DX1.DFD68CD2-C25E-47BE-BC06-8CE3C657B9FD.svs {'groups': [], 'users': []} 629676f5e70def4ae73d8fac\n",
      "TCGA-AN-A0XU-01Z-00-DX1.6B0DD0FF-A20D-4BA2-8D48-FC357BA5313F.svs {'groups': [], 'users': []} 629676f5e70def4ae73d8fb4\n",
      "TCGA-AO-A0J2-01Z-00-DX1.7C9FEC7B-6040-4C58-9563-D10C0D7AC72E.svs {'groups': [], 'users': []} 629676f5e70def4ae73d8fbc\n",
      "TCGA-AO-A0J6-01Z-00-DX1.D0C003CE-E112-4375-953D-78404C9D62DA.svs {'groups': [], 'users': []} 629676f5e70def4ae73d8fc4\n",
      "TCGA-AO-A128-01Z-00-DX1.4E6BFFBC-87AD-4ED4-959D-FEB5545400BE.svs {'groups': [], 'users': []} 629676f5e70def4ae73d8fcc\n",
      "TCGA-AQ-A04J-01Z-00-DX1.6A4E16D4-2696-4E5F-BCA8-708556FC3A8C.svs {'groups': [], 'users': []} 629676f6e70def4ae73d8fdc\n",
      "TCGA-AQ-A54N-01Z-00-DX1.E53271E9-AFD2-4071-9B1E-CD05F63B8136.svs {'groups': [], 'users': []} 629676f6e70def4ae73d8fe0\n",
      "TCGA-AR-A0TS-01Z-00-DX1.2DB81A2E-16C1-4EE0-8175-65FA46768277.svs {'groups': [], 'users': []} 629676f6e70def4ae73d8fe4\n",
      "TCGA-AR-A0U1-01Z-00-DX1.276433E7-E841-42D2-AF21-762F2FEA3B9B.svs {'groups': [], 'users': []} 629676f6e70def4ae73d8fec\n",
      "TCGA-AR-A1AI-01Z-00-DX1.5EF2A589-4284-45CF-BF0C-169E3A85530C.svs {'groups': [], 'users': []} 629676f6e70def4ae73d8ff4\n",
      "TCGA-AR-A1AR-01Z-00-DX1.E7B7F6F0-9CC0-4D4F-8C9F-443A74D2BE40.svs {'groups': [], 'users': []} 629676f6e70def4ae73d8ffc\n",
      "TCGA-AR-A256-01Z-00-DX1.950D4546-4BF4-4380-9877-51D86A93D755.svs {'groups': [], 'users': []} 629676f6e70def4ae73d9004\n",
      "TCGA-AR-A2LR-01Z-00-DX1.C686A7D6-0361-49EE-B6CA-672B3086243C.svs {'groups': [], 'users': []} 629676f6e70def4ae73d900c\n",
      "TCGA-BH-A0AV-01Z-00-DX1.5A686DA4-A29D-4BA7-9BCA-B707F8755E83.svs {'groups': [], 'users': []} 629676f7e70def4ae73d9014\n",
      "TCGA-BH-A0B9-01Z-00-DX1.c23adb4c-52d4-4dfd-b8e3-156e43f0e645.svs {'groups': [], 'users': []} 629676f7e70def4ae73d901c\n",
      "TCGA-BH-A0BL-01Z-00-DX1.D5A413B0-2141-4A6F-A671-6C5EA8641D25.svs {'groups': [], 'users': []} 629676f7e70def4ae73d9024\n",
      "TCGA-BH-A0E0-01Z-00-DX1.01E88024-83DF-4282-ABAF-F4E35807DA06.svs {'groups': [], 'users': []} 629676f7e70def4ae73d902c\n",
      "TCGA-BH-A0RX-01Z-00-DX1.B4ABAFB9-6696-4F22-9468-DA56E1AD32D3.svs {'groups': [], 'users': []} 629676f7e70def4ae73d9034\n",
      "TCGA-BH-A18G-01Z-00-DX1.DB2B5819-CE83-4E07-BD03-2CD9CF2E246C.svs {'groups': [], 'users': []} 629676f7e70def4ae73d903c\n",
      "TCGA-BH-A1EW-01Z-00-DX1.A6A5F9C5-FB97-4DA3-A1EA-1F84BC006681.svs {'groups': [], 'users': []} 629676f7e70def4ae73d9044\n",
      "TCGA-BH-A1FC-01Z-00-DX1.B816A21B-1559-42F5-902A-A1532E59C015.svs {'groups': [], 'users': []} 629676f8e70def4ae73d904c\n",
      "TCGA-C8-A12V-01Z-00-DX1.84B29360-B87B-4648-A697-B6610336C2BB.svs {'groups': [], 'users': []} 629676f8e70def4ae73d9054\n",
      "TCGA-C8-A1HJ-01Z-00-DX1.745159F1-85E7-4CC0-B088-E1CA91916FB8.svs {'groups': [], 'users': []} 629676f8e70def4ae73d905c\n",
      "TCGA-C8-A26Y-01Z-00-DX1.166EE604-4EF3-401D-99E9-3A9711316CC4.svs {'groups': [], 'users': []} 629676f8e70def4ae73d9064\n",
      "TCGA-C8-A3M7-01Z-00-DX1.846C75F1-2E7E-44F7-B21F-C246141558FA.svs {'groups': [], 'users': []} 629676f8e70def4ae73d906c\n",
      "TCGA-D8-A142-01Z-00-DX1.F6D58989-9120-40C9-918D-6B1650C1A8E8.svs {'groups': [], 'users': []} 629676f8e70def4ae73d9074\n",
      "TCGA-D8-A147-01Z-00-DX1.159094F2-BB78-4910-B7AE-3D7CAAB1DAD9.svs {'groups': [], 'users': []} 629676f8e70def4ae73d907c\n",
      "TCGA-D8-A1JG-01Z-00-DX1.BA6D5CC7-3A9B-4D17-A86A-B159D345A216.svs {'groups': [], 'users': []} 629676f8e70def4ae73d9084\n",
      "TCGA-D8-A1XK-01Z-00-DX1.41EB1BBC-F230-4E3F-8C4E-CE331CAF1935.svs {'groups': [], 'users': []} 629676f9e70def4ae73d908c\n",
      "TCGA-D8-A27F-01Z-00-DX1.C1A87F27-49F1-46BA-B2E2-A89293F7FD0C.svs {'groups': [], 'users': []} 629676f9e70def4ae73d9094\n",
      "TCGA-D8-A27M-01Z-00-DX1.3020D223-2400-4A2D-8BFE-08A5B78FE13B.svs {'groups': [], 'users': []} 629676f9e70def4ae73d909c\n",
      "TCGA-E2-A14R-01Z-00-DX1.DDE62ED5-1FC0-4B3B-A874-95C08B33AB20.svs {'groups': [], 'users': []} 629676f9e70def4ae73d90a4\n",
      "TCGA-E2-A14X-01Z-00-DX1.24ADDA43-F127-4A6B-9AAD-2FAD982A853D.svs {'groups': [], 'users': []} 629676f9e70def4ae73d90a8\n",
      "TCGA-E2-A150-01Z-00-DX1.55643D23-83E6-4058-8EA5-18AAA8547839.svs {'groups': [], 'users': []} 629676f9e70def4ae73d90ac\n",
      "TCGA-E2-A159-01Z-00-DX1.C8DC3356-CAE9-4E7A-AEFF-ABB4BE38192B.svs {'groups': [], 'users': []} 629676f9e70def4ae73d90b4\n",
      "TCGA-E2-A1B6-01Z-00-DX1.8CD458BE-C4F9-4AF3-A927-18C042E9B4B7.svs {'groups': [], 'users': []} 629676f9e70def4ae73d90bc\n",
      "TCGA-E2-A1LG-01Z-00-DX1.8ff0fdd8-e5d5-4ff8-8707-4a760aaa5d36.svs {'groups': [], 'users': []} 629676fae70def4ae73d90c4\n",
      "TCGA-E2-A1LI-01Z-00-DX1.503dd2fa-23ef-4b11-8aab-301e069eaa88.svs {'groups': [], 'users': []} 629676fae70def4ae73d90cc\n",
      "TCGA-E2-A1LL-01Z-00-DX1.D1AA1613-902C-4579-9612-48A76042B0AE.svs {'groups': [], 'users': []} 629676fae70def4ae73d90d4\n",
      "TCGA-E2-A573-01Z-00-DX1.D6633BC2-524D-4153-952F-6B1D8D067370.svs {'groups': [], 'users': []} 629676fae70def4ae73d90dc\n",
      "TCGA-E9-A5FL-01Z-00-DX1.FB810D6A-303E-45DF-BEF1-D9CE83B4417E.svs {'groups': [], 'users': []} 629676fae70def4ae73d90e4\n",
      "TCGA-EW-A1OW-01Z-00-DX1.97888686-EBB6-4B13-AB5D-452F475E865B.svs {'groups': [], 'users': []} 629676fae70def4ae73d90ec\n",
      "TCGA-EW-A1P4-01Z-00-DX1.3E9AE553-83D4-4B09-AB7F-D096BCE3BC4D.svs {'groups': [], 'users': []} 629676fae70def4ae73d90f4\n",
      "TCGA-EW-A1P8-01Z-00-DX1.E9852193-8CDD-49EF-B49B-DA6931198F0D.svs {'groups': [], 'users': []} 629676fae70def4ae73d90fc\n",
      "TCGA-EW-A1PH-01Z-00-DX1.77e0f907-fe59-4dc2-b582-6f10330a9c01.svs {'groups': [], 'users': []} 629676fbe70def4ae73d9104\n",
      "TCGA-EW-A6SB-01Z-00-DX1.D56E1922-01A9-4AEE-AB95-D69447DD13EE.svs {'groups': [], 'users': []} 629676fbe70def4ae73d910c\n",
      "TCGA-GM-A2DB-01Z-00-DX1.9EE36AA6-2594-44C7-B05C-91A0AEC7E511.svs {'groups': [], 'users': []} 629676fbe70def4ae73d9114\n",
      "TCGA-GM-A2DF-01Z-00-DX1.CD0BE6D7-2DB3-4193-84CC-F9BE7BF18CC2.svs {'groups': [], 'users': []} 629676fbe70def4ae73d911c\n"
     ]
    },
    {
     "name": "stdout",
     "output_type": "stream",
     "text": [
      "TCGA-GM-A2DI-01Z-00-DX1.5E9715EA-9D2B-49D0-8F1D-972CF24B1960.svs {'groups': [], 'users': []} 629676fbe70def4ae73d9124\n",
      "TCGA-HN-A2NL-01Z-00-DX1.C2EAF378-4B37-4C1C-BB0F-18FAC62EEC13.svs {'groups': [], 'users': []} 629676fbe70def4ae73d912c\n",
      "TCGA-LL-A5YO-01Z-00-DX1.B5B6DFDB-1020-41FF-AA50-9C633E17DE5F.svs {'groups': [], 'users': []} 629676fbe70def4ae73d9134\n",
      "TCGA-LL-A740-01Z-00-DX1.757D94A5-EF0F-4A0E-99A9-8809B66438DA.svs {'groups': [], 'users': []} 629676fbe70def4ae73d913c\n",
      "TCGA-OL-A5D7-01Z-00-DX1.A4A45393-9AE1-4370-8B92-CB85CDB04934.svs {'groups': [], 'users': []} 629676fce70def4ae73d9144\n",
      "TCGA-OL-A66P-01Z-00-DX1.5ADD0D6D-37C6-4BC9-8C2B-64DB18BE99B3.svs {'groups': [], 'users': []} 629676fce70def4ae73d914c\n",
      "TCGA-OL-A97C-01Z-00-DX1.BDEEDEE2-6D07-4046-A8A9-D6FF8F337393.svs {'groups': [], 'users': []} 629676fce70def4ae73d9154\n",
      "TCGA-S3-AA15-01Z-00-DX1.A2456A4A-E6E8-4429-8F09-B997AA497BB0.svs {'groups': [], 'users': []} 629676fce70def4ae73d915c\n"
     ]
    }
   ],
   "source": [
    "## Plan b.. list each folder, list each item, list each permission.. then update the broken ones that have the tag in it.\n",
    "\n",
    "\n",
    "tsrRoiName = {'description': 'Field of view for TSR Project', 'name': 'ROI'}\n",
    "\n",
    "for tlf in gc.listFolder('6220de42c2b9a71e2f460686',parentFolderType='collection'):\n",
    "    if tlf['name'] != 'All_TCGA_BRCA_Slides':\n",
    "        print(\"Processing folder: %s\" % tlf['name'])\n",
    "        ## Now list the items in each folder, and get each annotation...\n",
    "        itemList = gc.listItem(tlf['_id'])\n",
    "        for i in itemList:\n",
    "            annotationsForItem = gc.get(\"annotation?itemId=%s\" % i['_id'])\n",
    "            for a in annotationsForItem:\n",
    "                if a['annotation'] == tsrRoiName:\n",
    "                    perm = gc.get('/annotation/%s/access' % a['_id'])\n",
    "                    if perm != refPerms:\n",
    "                        print(i['name'],perm,i['_id'])\n",
    "                        gc.put('annotation/%s/access' % (a['_id']), parameters={'access': json.dumps(refPerms)})    \n",
    "\n"
   ]
  }
 ],
 "metadata": {
  "kernelspec": {
   "display_name": "Python 3",
   "language": "python",
   "name": "python3"
  },
  "language_info": {
   "codemirror_mode": {
    "name": "ipython",
    "version": 3
   },
   "file_extension": ".py",
   "mimetype": "text/x-python",
   "name": "python",
   "nbconvert_exporter": "python",
   "pygments_lexer": "ipython3",
   "version": "3.7.3"
  }
 },
 "nbformat": 4,
 "nbformat_minor": 2
}
