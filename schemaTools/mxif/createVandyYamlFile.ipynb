{
 "cells": [
  {
   "cell_type": "code",
   "execution_count": 2,
   "id": "26f542ff",
   "metadata": {
    "scrolled": true
   },
   "outputs": [
    {
     "name": "stdout",
     "output_type": "stream",
     "text": [
      "The autoreload extension is already loaded. To reload it, use:\n",
      "  %reload_ext autoreload\n"
     ]
    }
   ],
   "source": [
    "import girder_client\n",
    "import csv, yaml, io\n",
    "%load_ext autoreload\n",
    "%autoreload 2\n",
    "import mxifHelpers as mxif\n",
    "import dagSecrets as dgs\n",
    "gc = girder_client.GirderClient(apiUrl=\"https://candygram.neurology.emory.edu/api/v1\")\n",
    "_ = gc.authenticate(apiKey=dgs.dsaApiToken)\n"
   ]
  },
  {
   "cell_type": "code",
   "execution_count": 3,
   "id": "b785f6a6",
   "metadata": {},
   "outputs": [],
   "source": [
    "imageItemSet = gc.listItem('6436ffa45605cc63355ce1a7')\n"
   ]
  },
  {
   "cell_type": "code",
   "execution_count": 5,
   "id": "8718a9dc",
   "metadata": {},
   "outputs": [],
   "source": [
    "## Find the CONTENTS.csv\n",
    "folderId = '6436ffa45605cc63355ce1a7'\n",
    "# df = mxif.processVandyImageFolder(gc,folderId)\n",
    "\n",
    "vandyMetaFile = \"CONTENTS.csv\"\n",
    "## Get all the CONTENTS.csv files in the collection \\n\",\n",
    "metaFileSet = gc.get(f'resource/search?q={vandyMetaFile}&types=[\"item\"]')\n"
   ]
  },
  {
   "cell_type": "code",
   "execution_count": 31,
   "id": "48deb6f9",
   "metadata": {},
   "outputs": [
    {
     "name": "stdout",
     "output_type": "stream",
     "text": [
      "HTA11_7663_0000_01_01_region_002 yaml file is being uploaded\n",
      "WD84596_region_004 yaml file is being uploaded\n",
      "WD86055_region_004 yaml file is being uploaded\n",
      "MAP01938_0000_0E_01_region_002 yaml file is being uploaded\n",
      "HTA11_8622_0000_01E_01_region_003 yaml file is being uploaded\n",
      "MAP01938_0000_0E_01_region_001-EM yaml file is being uploaded\n",
      "WD86055_region_006 yaml file is being uploaded\n",
      "HTA11_8622_0000_01E_01_region_001 yaml file is being uploaded\n",
      "MAP01938_0000_0E_01_region_001 yaml file is being uploaded\n",
      "HTA11_7862_0000_02_02_region_003 yaml file is being uploaded\n"
     ]
    }
   ],
   "source": [
    "targetYamlFolder = '643708ac5605cc63355ce72b'\n",
    "\n",
    "for m in metaFileSet['item']:\n",
    "    yamlFxn, imageName = mxif.generateDSA_yamlFile( gc, m)\n",
    "    print(imageName,'yaml file is being uploaded')\n",
    "    yamayama = yaml.dump(yamlFxn)\n",
    "    f = io.StringIO(yamayama)\n",
    "    gc.uploadFile(targetYamlFolder,f,f'{imageName}.yaml',len(yamayama),parentType='folder')"
   ]
  }
 ],
 "metadata": {
  "kernelspec": {
   "display_name": "Python 3 (ipykernel)",
   "language": "python",
   "name": "python3"
  },
  "language_info": {
   "codemirror_mode": {
    "name": "ipython",
    "version": 3
   },
   "file_extension": ".py",
   "mimetype": "text/x-python",
   "name": "python",
   "nbconvert_exporter": "python",
   "pygments_lexer": "ipython3",
   "version": "3.8.10"
  }
 },
 "nbformat": 4,
 "nbformat_minor": 5
}
