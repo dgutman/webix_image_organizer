{
 "cells": [
  {
   "cell_type": "code",
   "execution_count": 1,
   "id": "96d0e99b",
   "metadata": {},
   "outputs": [
    {
     "name": "stdout",
     "output_type": "stream",
     "text": [
      "Login or email: admin\n",
      "Password for admin: ········\n"
     ]
    }
   ],
   "source": [
    "import girder_client\n",
    "import csv\n",
    "%load_ext autoreload\n",
    "%autoreload 2\n",
    "gc = girder_client.GirderClient(apiUrl=\"https://candygram.neurology.emory.edu/api/v1\")\n",
    "_ = gc.authenticate(interactive=True)"
   ]
  },
  {
   "cell_type": "code",
   "execution_count": 2,
   "id": "ed587efc",
   "metadata": {},
   "outputs": [
    {
     "name": "stdout",
     "output_type": "stream",
     "text": [
      "The autoreload extension is already loaded. To reload it, use:\n",
      "  %reload_ext autoreload\n"
     ]
    }
   ],
   "source": [
    "# imageItemSet = gc.listItem('6436ffa45605cc63355ce1a7')\n",
    "%load_ext autoreload\n",
    "%autoreload 2\n",
    "import mxifHelpers as mxif"
   ]
  },
  {
   "cell_type": "code",
   "execution_count": 20,
   "id": "c1f93211",
   "metadata": {},
   "outputs": [
    {
     "name": "stdout",
     "output_type": "stream",
     "text": [
      "                                           FILE         TYPE   DESCRIPTION\n",
      "0   MAP01938_0000_0E_01_region_001_MAP01938.tif        IMAGE      MAP01938\n",
      "1   MAP01938_0000_0E_01_region_001_MAP01938.tif        IMAGE      MAP01938\n",
      "2   MAP01938_0000_0E_01_region_001_MAP01938.tif        IMAGE      MAP01938\n",
      "3   MAP01938_0000_0E_01_region_001_MAP01938.tif        IMAGE      MAP01938\n",
      "4   MAP01938_0000_0E_01_region_001_MAP01938.tif        IMAGE      MAP01938\n",
      "5   MAP01938_0000_0E_01_region_001_MAP01938.tif        IMAGE      MAP01938\n",
      "6   MAP01938_0000_0E_01_region_001_MAP01938.tif        IMAGE      MAP01938\n",
      "7   MAP01938_0000_0E_01_region_001_MAP01938.tif        IMAGE      MAP01938\n",
      "8   MAP01938_0000_0E_01_region_001_MAP01938.tif        IMAGE      MAP01938\n",
      "9   MAP01938_0000_0E_01_region_001_MAP01938.tif        IMAGE      MAP01938\n",
      "10  MAP01938_0000_0E_01_region_001_MAP01938.tif        IMAGE      MAP01938\n",
      "11  MAP01938_0000_0E_01_region_001_MAP01938.tif        IMAGE      MAP01938\n",
      "12  MAP01938_0000_0E_01_region_001_MAP01938.tif        IMAGE      MAP01938\n",
      "13  MAP01938_0000_0E_01_region_001_MAP01938.tif        IMAGE      MAP01938\n",
      "14  MAP01938_0000_0E_01_region_001_MAP01938.tif        IMAGE      MAP01938\n",
      "15  MAP01938_0000_0E_01_region_001_MAP01938.tif        IMAGE      MAP01938\n",
      "16  MAP01938_0000_0E_01_region_001_MAP01938.tif   IMAGE;MASK    EPITHELIUM\n",
      "17  MAP01938_0000_0E_01_region_001_MAP01938.tif        IMAGE      MAP01938\n",
      "18  MAP01938_0000_0E_01_region_001_MAP01938.tif        IMAGE      MAP01938\n",
      "19  MAP01938_0000_0E_01_region_001_MAP01938.tif        IMAGE      MAP01938\n",
      "20  MAP01938_0000_0E_01_region_001_MAP01938.tif        IMAGE      MAP01938\n",
      "21  MAP01938_0000_0E_01_region_001_MAP01938.tif        IMAGE      MAP01938\n",
      "22  MAP01938_0000_0E_01_region_001_MAP01938.tif        IMAGE      MAP01938\n",
      "23  MAP01938_0000_0E_01_region_001_MAP01938.tif        IMAGE      MAP01938\n",
      "24  MAP01938_0000_0E_01_region_001_MAP01938.tif        IMAGE      MAP01938\n",
      "25  MAP01938_0000_0E_01_region_001_MAP01938.tif        IMAGE      MAP01938\n",
      "26  MAP01938_0000_0E_01_region_001_MAP01938.tif        IMAGE      MAP01938\n",
      "27  MAP01938_0000_0E_01_region_001_MAP01938.tif        IMAGE      MAP01938\n",
      "28  MAP01938_0000_0E_01_region_001_MAP01938.tif        IMAGE      MAP01938\n",
      "29  MAP01938_0000_0E_01_region_001_MAP01938.tif        IMAGE      MAP01938\n",
      "30  MAP01938_0000_0E_01_region_001_MAP01938.tif        IMAGE      MAP01938\n",
      "31  MAP01938_0000_0E_01_region_001_MAP01938.tif   IMAGE;MASK        STROMA\n",
      "32  MAP01938_0000_0E_01_region_001_MAP01938.tif   IMAGE;MASK        TISSUE\n",
      "33  MAP01938_0000_0E_01_region_001_MAP01938.tif        IMAGE      MAP01938\n",
      "34  MAP01938_0000_0E_01_region_001_MedStats.csv  SPREADSHEET  MEDIAN STATS\n",
      "35  MAP01938_0000_0E_01_region_001_PosStats.csv  SPREADSHEET    FULL STATS\n"
     ]
    }
   ],
   "source": [
    "## Find the CONTENTS.csv\n",
    "folderId = '6436ffa45605cc63355ce1a7'\n",
    "\n",
    "\n",
    "df = mxif.processVandyImageFolder(gc,folderId)"
   ]
  },
  {
   "cell_type": "code",
   "execution_count": 28,
   "id": "dd0e5020",
   "metadata": {},
   "outputs": [
    {
     "name": "stdout",
     "output_type": "stream",
     "text": [
      "{'name': 'testing', 'sources': [{'path': 'girder://6436ffa75605cc63355ce1dc'}, {'path': 'girder://6436ffaa5605cc63355ce1f8'}, {'path': 'girder://6436ffac5605cc63355ce208'}, {'path': 'girder://6436ffa75605cc63355ce1d8'}, {'path': 'girder://6436ffad5605cc63355ce210'}, {'path': 'girder://6436ffa55605cc63355ce1b8'}, {'path': 'girder://6436ffae5605cc63355ce220'}, {'path': 'girder://6436ffa55605cc63355ce1bc'}, {'path': 'girder://6436ffa55605cc63355ce1b4'}, {'path': 'girder://6436ffa65605cc63355ce1ca'}, {'path': 'girder://6436ffa55605cc63355ce1b6'}, {'path': 'girder://6436ffaa5605cc63355ce1fc'}, {'path': 'girder://6436ffab5605cc63355ce200'}, {'path': 'girder://6436ffb05605cc63355ce22e'}, {'path': 'girder://6436ffa95605cc63355ce1ea'}, {'path': 'girder://6436ffb15605cc63355ce234'}, {'path': 'girder://6436ffa75605cc63355ce1d2'}, {'path': 'girder://6436ffa45605cc63355ce1ac'}, {'path': 'girder://6436ffa95605cc63355ce1ec'}, {'path': 'girder://6436ffa45605cc63355ce1ae'}, {'path': 'girder://6436ffa95605cc63355ce1ee'}, {'path': 'girder://6436ffa85605cc63355ce1e6'}, {'path': 'girder://6436ffa75605cc63355ce1d6'}, {'path': 'girder://6436ffb15605cc63355ce232'}, {'path': 'girder://6436ffaa5605cc63355ce1fa'}, {'path': 'girder://6436ffa65605cc63355ce1cc'}, {'path': 'girder://6436ffa85605cc63355ce1e2'}, {'path': 'girder://6436ffa55605cc63355ce1ba'}, {'path': 'girder://6436ffad5605cc63355ce212'}, {'path': 'girder://6436ffa85605cc63355ce1de'}, {'path': 'girder://6436ffaf5605cc63355ce222'}, {'path': 'girder://6436ffad5605cc63355ce214'}, {'path': 'girder://6436ffa55605cc63355ce1be'}, {'path': 'girder://6436ffaf5605cc63355ce228'}, {'path': 'girder://6436ffa75605cc63355ce1da'}, {'path': 'girder://6436ffa65605cc63355ce1c8'}, {'path': 'girder://6436ffab5605cc63355ce204'}, {'path': 'girder://6436ffab5605cc63355ce206'}, {'path': 'girder://6436ffab5605cc63355ce202'}, {'path': 'girder://6436ffae5605cc63355ce21c'}, {'path': 'girder://6436ffa45605cc63355ce1aa'}, {'path': 'girder://6436ffa95605cc63355ce1f2'}, {'path': 'girder://6436ffad5605cc63355ce218'}, {'path': 'girder://6436ffb05605cc63355ce22a'}, {'path': 'girder://6436ffae5605cc63355ce21e'}, {'path': 'girder://6436ffab5605cc63355ce1fe'}, {'path': 'girder://6436ffaf5605cc63355ce224'}, {'path': 'girder://6436ffaa5605cc63355ce1f4'}, {'path': 'girder://6436ffa85605cc63355ce1e4'}, {'path': 'girder://6436ffa55605cc63355ce1b0'}, {'path': 'girder://6436ffa45605cc63355ce1a8'}, {'path': 'girder://6436ffa65605cc63355ce1ce'}, {'path': 'girder://6436ffb15605cc63355ce238'}, {'path': 'girder://6436ffac5605cc63355ce20e'}, {'path': 'girder://6436ffac5605cc63355ce20a'}, {'path': 'girder://6436ffaa5605cc63355ce1f6'}, {'path': 'girder://6436ffa95605cc63355ce1f0'}, {'path': 'girder://6436ffad5605cc63355ce216'}, {'path': 'girder://6436ffb25605cc63355ce23a'}, {'path': 'girder://6436ffa65605cc63355ce1c6'}, {'path': 'girder://6436ffb05605cc63355ce230'}, {'path': 'girder://6436ffae5605cc63355ce21a'}, {'path': 'girder://6436ffa75605cc63355ce1d4'}, {'path': 'girder://6436ffac5605cc63355ce20c'}, {'path': 'girder://6436ffaf5605cc63355ce226'}, {'path': 'girder://6436ffa65605cc63355ce1c2'}, {'path': 'girder://6436ffa75605cc63355ce1d0'}, {'path': 'girder://6436ffb05605cc63355ce22c'}, {'path': 'girder://6436ffa85605cc63355ce1e8'}]}\n"
     ]
    }
   ],
   "source": [
    "import yaml\n",
    "sourceList = []\n",
    "\n",
    "itemList = [x for x in gc.listItem(folderId) if x['name'].endswith('.tif')]\n",
    "\n",
    "# for idx,row  in enumerate(df.to_dict(orient=\"records\")):\n",
    "#     if row['TYPE'] == 'IMAGE':\n",
    "#         sourceList.append( {\"path\": f\"./{row['FILE']}\", 'channel': idx, \"z\":0})\n",
    "for idx,row in enumerate(itemList):\n",
    "    sourceList.append( {\"path\": f\"girder://{row['_id']}\"})#, 'channel': idx, \"z\":0})\n",
    "    \n",
    "\n",
    "\n",
    "imageDescription = {\"name\": \"testing\", \"sources\":sourceList}\n",
    "print(imageDescription)"
   ]
  },
  {
   "cell_type": "code",
   "execution_count": 29,
   "id": "78601bf3",
   "metadata": {},
   "outputs": [
    {
     "data": {
      "text/plain": [
       "{'_id': '64374a495605cc63355ceab0',\n",
       " '_modelType': 'file',\n",
       " 'assetstoreId': '638e2ae7cd1d7fad17b9dd22',\n",
       " 'created': '2023-04-13T00:18:17.664932+00:00',\n",
       " 'creatorId': '638e2ae7cd1d7fad17b9dd1f',\n",
       " 'exts': ['yaml'],\n",
       " 'itemId': '64374a495605cc63355ceaaf',\n",
       " 'mimeType': 'text/yaml',\n",
       " 'name': 'wooayam.yaml',\n",
       " 'size': 2921}"
      ]
     },
     "execution_count": 29,
     "metadata": {},
     "output_type": "execute_result"
    }
   ],
   "source": [
    "import io\n",
    "mcYaml = yaml.dump(imageDescription)\n",
    "\n",
    "f = io.StringIO(mcYaml)\n",
    "gc.uploadFile(folderId,f,'wooayam.yaml',len(mcYaml),parentType='folder')\n"
   ]
  },
  {
   "cell_type": "code",
   "execution_count": 19,
   "id": "ee5f6fe8",
   "metadata": {},
   "outputs": [
    {
     "name": "stdout",
     "output_type": "stream",
     "text": [
      "createDefaultChannelGroups.ipynb  processVanderbiltMxIFData.ipynb\r\n",
      "createYamlFile.ipynb\t\t  __pycache__\r\n",
      "gcSecrets.py\t\t\t  syncMetadataToMVP.py\r\n",
      "generateDefaultThumb_Dev.ipynb\t  updateDefaultThumbURL.py\r\n",
      "girder_utils.py\t\t\t  yamayama.yaml\r\n",
      "mxifHelpers.py\r\n"
     ]
    }
   ],
   "source": [
    "#     \"            batchFolderId = batchFolderList[i% len(batchFolderList)]['_id']\n",
    "# \\n\",\n",
    "#     \"#             try:\\n\",\n",
    "#     \"            mcYaml = tma.writeMultiCoreYaml(gc, c['_id'], HEslideDict[coreI\n",
    "# d]['_id'] )\\n\",\n",
    "#     \"            f = io.StringIO(mcYaml)\\n\",\n",
    "#     \"            gc.uploadFile(batchFolderId,f,yamlFileName,len(mcYaml),parentType='folder')\\n\",\n",
    "#     \"#             except:\\n\",\n",
    "#     \"#                 print(\\\"Some error with\\\",slide,coreId)\"\n",
    "#    ]\n",
    "#   },\n",
    "#   {\n"
   ]
  }
 ],
 "metadata": {
  "kernelspec": {
   "display_name": "Python 3 (ipykernel)",
   "language": "python",
   "name": "python3"
  },
  "language_info": {
   "codemirror_mode": {
    "name": "ipython",
    "version": 3
   },
   "file_extension": ".py",
   "mimetype": "text/x-python",
   "name": "python",
   "nbconvert_exporter": "python",
   "pygments_lexer": "ipython3",
   "version": "3.8.10"
  }
 },
 "nbformat": 4,
 "nbformat_minor": 5
}
