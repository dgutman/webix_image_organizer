{
 "cells": [
  {
   "cell_type": "code",
   "execution_count": 16,
   "id": "96d0e99b",
   "metadata": {},
   "outputs": [
    {
     "name": "stdout",
     "output_type": "stream",
     "text": [
      "The autoreload extension is already loaded. To reload it, use:\n",
      "  %reload_ext autoreload\n",
      "Login or email: admin\n",
      "Password for admin: ········\n"
     ]
    }
   ],
   "source": [
    "import girder_client\n",
    "import csv\n",
    "%load_ext autoreload\n",
    "%autoreload 2\n",
    "gc = girder_client.GirderClient(apiUrl=\"http://candygram.neurology.emory.edu:8080/api/v1\")\n",
    "_ = gc.authenticate(interactive=True)"
   ]
  },
  {
   "cell_type": "code",
   "execution_count": 17,
   "id": "ed587efc",
   "metadata": {},
   "outputs": [
    {
     "name": "stdout",
     "output_type": "stream",
     "text": [
      "The autoreload extension is already loaded. To reload it, use:\n",
      "  %reload_ext autoreload\n"
     ]
    }
   ],
   "source": [
    "# imageItemSet = gc.listItem('6436ffa45605cc63355ce1a7')\n",
    "%load_ext autoreload\n",
    "%autoreload 2\n",
    "import mxifHelpers as mxif"
   ]
  },
  {
   "cell_type": "code",
   "execution_count": 42,
   "id": "c1f93211",
   "metadata": {},
   "outputs": [
    {
     "name": "stdout",
     "output_type": "stream",
     "text": [
      "['FILE', 'TYPE', 'DESCRIPTION']\n",
      "                                           FILE         TYPE   DESCRIPTION\n",
      "0   MAP01938_0000_0E_01_region_001_MAP01938.tif        IMAGE      MAP01938\n",
      "1   MAP01938_0000_0E_01_region_001_MAP01938.tif        IMAGE      MAP01938\n",
      "2   MAP01938_0000_0E_01_region_001_MAP01938.tif        IMAGE      MAP01938\n",
      "3   MAP01938_0000_0E_01_region_001_MAP01938.tif        IMAGE      MAP01938\n",
      "4   MAP01938_0000_0E_01_region_001_MAP01938.tif        IMAGE      MAP01938\n",
      "5   MAP01938_0000_0E_01_region_001_MAP01938.tif        IMAGE      MAP01938\n",
      "6   MAP01938_0000_0E_01_region_001_MAP01938.tif        IMAGE      MAP01938\n",
      "7   MAP01938_0000_0E_01_region_001_MAP01938.tif        IMAGE      MAP01938\n",
      "8   MAP01938_0000_0E_01_region_001_MAP01938.tif        IMAGE      MAP01938\n",
      "9   MAP01938_0000_0E_01_region_001_MAP01938.tif        IMAGE      MAP01938\n",
      "10  MAP01938_0000_0E_01_region_001_MAP01938.tif        IMAGE      MAP01938\n",
      "11  MAP01938_0000_0E_01_region_001_MAP01938.tif        IMAGE      MAP01938\n",
      "12  MAP01938_0000_0E_01_region_001_MAP01938.tif        IMAGE      MAP01938\n",
      "13  MAP01938_0000_0E_01_region_001_MAP01938.tif        IMAGE      MAP01938\n",
      "14  MAP01938_0000_0E_01_region_001_MAP01938.tif        IMAGE      MAP01938\n",
      "15  MAP01938_0000_0E_01_region_001_MAP01938.tif        IMAGE      MAP01938\n",
      "16  MAP01938_0000_0E_01_region_001_MAP01938.tif   IMAGE;MASK    EPITHELIUM\n",
      "17  MAP01938_0000_0E_01_region_001_MAP01938.tif        IMAGE      MAP01938\n",
      "18  MAP01938_0000_0E_01_region_001_MAP01938.tif        IMAGE      MAP01938\n",
      "19  MAP01938_0000_0E_01_region_001_MAP01938.tif        IMAGE      MAP01938\n",
      "20  MAP01938_0000_0E_01_region_001_MAP01938.tif        IMAGE      MAP01938\n",
      "21  MAP01938_0000_0E_01_region_001_MAP01938.tif        IMAGE      MAP01938\n",
      "22  MAP01938_0000_0E_01_region_001_MAP01938.tif        IMAGE      MAP01938\n",
      "23  MAP01938_0000_0E_01_region_001_MAP01938.tif        IMAGE      MAP01938\n",
      "24  MAP01938_0000_0E_01_region_001_MAP01938.tif        IMAGE      MAP01938\n",
      "25  MAP01938_0000_0E_01_region_001_MAP01938.tif        IMAGE      MAP01938\n",
      "26  MAP01938_0000_0E_01_region_001_MAP01938.tif        IMAGE      MAP01938\n",
      "27  MAP01938_0000_0E_01_region_001_MAP01938.tif        IMAGE      MAP01938\n",
      "28  MAP01938_0000_0E_01_region_001_MAP01938.tif        IMAGE      MAP01938\n",
      "29  MAP01938_0000_0E_01_region_001_MAP01938.tif        IMAGE      MAP01938\n",
      "30  MAP01938_0000_0E_01_region_001_MAP01938.tif        IMAGE      MAP01938\n",
      "31  MAP01938_0000_0E_01_region_001_MAP01938.tif   IMAGE;MASK        STROMA\n",
      "32  MAP01938_0000_0E_01_region_001_MAP01938.tif   IMAGE;MASK        TISSUE\n",
      "33  MAP01938_0000_0E_01_region_001_MAP01938.tif        IMAGE      MAP01938\n",
      "34  MAP01938_0000_0E_01_region_001_MedStats.csv  SPREADSHEET  MEDIAN STATS\n",
      "35  MAP01938_0000_0E_01_region_001_PosStats.csv  SPREADSHEET    FULL STATS\n"
     ]
    }
   ],
   "source": [
    "## Find the CONTENTS.csv\n",
    "df = mxif.processVandyImageFolder(gc,'6436ffa45605cc63355ce1a7')"
   ]
  },
  {
   "cell_type": "code",
   "execution_count": 43,
   "id": "dd0e5020",
   "metadata": {},
   "outputs": [
    {
     "name": "stdout",
     "output_type": "stream",
     "text": [
      "{'FILE': 'MAP01938_0000_0E_01_region_001_MAP01938.tif', 'TYPE': 'IMAGE', 'DESCRIPTION': 'MAP01938'}\n",
      "{'FILE': 'MAP01938_0000_0E_01_region_001_MAP01938.tif', 'TYPE': 'IMAGE', 'DESCRIPTION': 'MAP01938'}\n",
      "{'FILE': 'MAP01938_0000_0E_01_region_001_MAP01938.tif', 'TYPE': 'IMAGE', 'DESCRIPTION': 'MAP01938'}\n",
      "{'FILE': 'MAP01938_0000_0E_01_region_001_MAP01938.tif', 'TYPE': 'IMAGE', 'DESCRIPTION': 'MAP01938'}\n",
      "{'FILE': 'MAP01938_0000_0E_01_region_001_MAP01938.tif', 'TYPE': 'IMAGE', 'DESCRIPTION': 'MAP01938'}\n",
      "{'FILE': 'MAP01938_0000_0E_01_region_001_MAP01938.tif', 'TYPE': 'IMAGE', 'DESCRIPTION': 'MAP01938'}\n",
      "{'FILE': 'MAP01938_0000_0E_01_region_001_MAP01938.tif', 'TYPE': 'IMAGE', 'DESCRIPTION': 'MAP01938'}\n",
      "{'FILE': 'MAP01938_0000_0E_01_region_001_MAP01938.tif', 'TYPE': 'IMAGE', 'DESCRIPTION': 'MAP01938'}\n",
      "{'FILE': 'MAP01938_0000_0E_01_region_001_MAP01938.tif', 'TYPE': 'IMAGE', 'DESCRIPTION': 'MAP01938'}\n",
      "{'FILE': 'MAP01938_0000_0E_01_region_001_MAP01938.tif', 'TYPE': 'IMAGE', 'DESCRIPTION': 'MAP01938'}\n",
      "{'FILE': 'MAP01938_0000_0E_01_region_001_MAP01938.tif', 'TYPE': 'IMAGE', 'DESCRIPTION': 'MAP01938'}\n",
      "{'FILE': 'MAP01938_0000_0E_01_region_001_MAP01938.tif', 'TYPE': 'IMAGE', 'DESCRIPTION': 'MAP01938'}\n",
      "{'FILE': 'MAP01938_0000_0E_01_region_001_MAP01938.tif', 'TYPE': 'IMAGE', 'DESCRIPTION': 'MAP01938'}\n",
      "{'FILE': 'MAP01938_0000_0E_01_region_001_MAP01938.tif', 'TYPE': 'IMAGE', 'DESCRIPTION': 'MAP01938'}\n",
      "{'FILE': 'MAP01938_0000_0E_01_region_001_MAP01938.tif', 'TYPE': 'IMAGE', 'DESCRIPTION': 'MAP01938'}\n",
      "{'FILE': 'MAP01938_0000_0E_01_region_001_MAP01938.tif', 'TYPE': 'IMAGE', 'DESCRIPTION': 'MAP01938'}\n",
      "{'FILE': 'MAP01938_0000_0E_01_region_001_MAP01938.tif', 'TYPE': 'IMAGE;MASK', 'DESCRIPTION': 'EPITHELIUM'}\n",
      "{'FILE': 'MAP01938_0000_0E_01_region_001_MAP01938.tif', 'TYPE': 'IMAGE', 'DESCRIPTION': 'MAP01938'}\n",
      "{'FILE': 'MAP01938_0000_0E_01_region_001_MAP01938.tif', 'TYPE': 'IMAGE', 'DESCRIPTION': 'MAP01938'}\n",
      "{'FILE': 'MAP01938_0000_0E_01_region_001_MAP01938.tif', 'TYPE': 'IMAGE', 'DESCRIPTION': 'MAP01938'}\n",
      "{'FILE': 'MAP01938_0000_0E_01_region_001_MAP01938.tif', 'TYPE': 'IMAGE', 'DESCRIPTION': 'MAP01938'}\n",
      "{'FILE': 'MAP01938_0000_0E_01_region_001_MAP01938.tif', 'TYPE': 'IMAGE', 'DESCRIPTION': 'MAP01938'}\n",
      "{'FILE': 'MAP01938_0000_0E_01_region_001_MAP01938.tif', 'TYPE': 'IMAGE', 'DESCRIPTION': 'MAP01938'}\n",
      "{'FILE': 'MAP01938_0000_0E_01_region_001_MAP01938.tif', 'TYPE': 'IMAGE', 'DESCRIPTION': 'MAP01938'}\n",
      "{'FILE': 'MAP01938_0000_0E_01_region_001_MAP01938.tif', 'TYPE': 'IMAGE', 'DESCRIPTION': 'MAP01938'}\n",
      "{'FILE': 'MAP01938_0000_0E_01_region_001_MAP01938.tif', 'TYPE': 'IMAGE', 'DESCRIPTION': 'MAP01938'}\n",
      "{'FILE': 'MAP01938_0000_0E_01_region_001_MAP01938.tif', 'TYPE': 'IMAGE', 'DESCRIPTION': 'MAP01938'}\n",
      "{'FILE': 'MAP01938_0000_0E_01_region_001_MAP01938.tif', 'TYPE': 'IMAGE', 'DESCRIPTION': 'MAP01938'}\n",
      "{'FILE': 'MAP01938_0000_0E_01_region_001_MAP01938.tif', 'TYPE': 'IMAGE', 'DESCRIPTION': 'MAP01938'}\n",
      "{'FILE': 'MAP01938_0000_0E_01_region_001_MAP01938.tif', 'TYPE': 'IMAGE', 'DESCRIPTION': 'MAP01938'}\n",
      "{'FILE': 'MAP01938_0000_0E_01_region_001_MAP01938.tif', 'TYPE': 'IMAGE', 'DESCRIPTION': 'MAP01938'}\n",
      "{'FILE': 'MAP01938_0000_0E_01_region_001_MAP01938.tif', 'TYPE': 'IMAGE;MASK', 'DESCRIPTION': 'STROMA'}\n",
      "{'FILE': 'MAP01938_0000_0E_01_region_001_MAP01938.tif', 'TYPE': 'IMAGE;MASK', 'DESCRIPTION': 'TISSUE'}\n",
      "{'FILE': 'MAP01938_0000_0E_01_region_001_MAP01938.tif', 'TYPE': 'IMAGE', 'DESCRIPTION': 'MAP01938'}\n",
      "{'FILE': 'MAP01938_0000_0E_01_region_001_MedStats.csv', 'TYPE': 'SPREADSHEET', 'DESCRIPTION': 'MEDIAN STATS'}\n",
      "{'FILE': 'MAP01938_0000_0E_01_region_001_PosStats.csv', 'TYPE': 'SPREADSHEET', 'DESCRIPTION': 'FULL STATS'}\n"
     ]
    }
   ],
   "source": [
    "import yaml\n",
    "\n",
    "dict_file = {\"name\":\"TEST_123\"}\n",
    "\n",
    "sourceList = []\n",
    "\n",
    "# with open(r'whammie.yaml', 'w') as file:\n",
    "#     documents = yaml.dump(dict_file, file)\n",
    "\n",
    "for row  in df.to_dict(orient=\"records\"):\n",
    "    print(row)"
   ]
  },
  {
   "cell_type": "code",
   "execution_count": 36,
   "id": "78601bf3",
   "metadata": {},
   "outputs": [
    {
     "data": {
      "text/plain": [
       "'HELLO\\n...\\n'"
      ]
     },
     "execution_count": 36,
     "metadata": {},
     "output_type": "execute_result"
    }
   ],
   "source": []
  }
 ],
 "metadata": {
  "kernelspec": {
   "display_name": "Python 3",
   "language": "python",
   "name": "python3"
  },
  "language_info": {
   "codemirror_mode": {
    "name": "ipython",
    "version": 3
   },
   "file_extension": ".py",
   "mimetype": "text/x-python",
   "name": "python",
   "nbconvert_exporter": "python",
   "pygments_lexer": "ipython3",
   "version": "3.9.7"
  }
 },
 "nbformat": 4,
 "nbformat_minor": 5
}
