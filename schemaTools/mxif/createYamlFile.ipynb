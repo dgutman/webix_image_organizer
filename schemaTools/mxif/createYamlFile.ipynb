{
 "cells": [
  {
   "cell_type": "code",
   "execution_count": 1,
   "id": "96d0e99b",
   "metadata": {},
   "outputs": [
    {
     "name": "stdout",
     "output_type": "stream",
     "text": [
      "Login or email: admin\n",
      "Password for admin: ········\n"
     ]
    }
   ],
   "source": [
    "import girder_client\n",
    "import csv, yaml, io\n",
    "%load_ext autoreload\n",
    "%autoreload 2\n",
    "gc = girder_client.GirderClient(apiUrl=\"https://candygram.neurology.emory.edu/api/v1\")\n",
    "_ = gc.authenticate(interactive=True)"
   ]
  },
  {
   "cell_type": "code",
   "execution_count": 2,
   "id": "ed587efc",
   "metadata": {},
   "outputs": [
    {
     "name": "stdout",
     "output_type": "stream",
     "text": [
      "The autoreload extension is already loaded. To reload it, use:\n",
      "  %reload_ext autoreload\n"
     ]
    }
   ],
   "source": [
    "# imageItemSet = gc.listItem('6436ffa45605cc63355ce1a7')\n",
    "%load_ext autoreload\n",
    "%autoreload 2\n",
    "import mxifHelpers as mxif"
   ]
  },
  {
   "cell_type": "code",
   "execution_count": 3,
   "id": "c1f93211",
   "metadata": {},
   "outputs": [],
   "source": [
    "# ## Find the CONTENTS.csv\n",
    "# df = mxif.processVandyImageFolder(gc,'6436ffa45605cc63355ce1a7')\n",
    "\n",
    "\n",
    "vandyMetaFile = \"CONTENTS.csv\"\n",
    "\n",
    "## Get all the CONTENTS.csv files in the collection \n",
    "metaFileSet = gc.get(f'resource/search?q={vandyMetaFile}&types=[\"item\"]')\n",
    "\n",
    "\n",
    "\n",
    "\n",
    "# mcYaml = yaml.dump(imageDescription)\n",
    "\n"
   ]
  },
  {
   "cell_type": "code",
   "execution_count": 13,
   "id": "5a880730",
   "metadata": {},
   "outputs": [],
   "source": [
    "\n",
    "targetYamlFolder = '643708ac5605cc63355ce72b'\n",
    "\n",
    "for i in metaFileSet['item']:\n",
    "    \n",
    "    \n",
    "    ## Generate a yaml file with the proper image configuration based on the CONTENTS file..\n",
    "    \n",
    "   \n",
    "    yamlText, imageName = mxif.generateDSA_yamlFile(gc, i)\n",
    "    #imageMeta_df, parentFolderId)\n",
    "    f = io.StringIO(yamlText)\n",
    "    gc.uploadFile(targetYamlFolder,f,f'{imageName}.yaml',len(yamlText),parentType='folder')\n"
   ]
  },
  {
   "cell_type": "code",
   "execution_count": null,
   "id": "dd0e5020",
   "metadata": {},
   "outputs": [],
   "source": [
    "\n",
    "# # with open(r'whammie.yaml', 'w') as file:\n",
    "# #     documents = yaml.dump(dict_file, file)\n",
    "\n",
    "# for row  in df.to_dict(orient=\"records\"):\n",
    "#     print(row)"
   ]
  },
  {
   "cell_type": "code",
   "execution_count": null,
   "id": "78601bf3",
   "metadata": {},
   "outputs": [],
   "source": []
  }
 ],
 "metadata": {
  "kernelspec": {
   "display_name": "Python 3",
   "language": "python",
   "name": "python3"
  },
  "language_info": {
   "codemirror_mode": {
    "name": "ipython",
    "version": 3
   },
   "file_extension": ".py",
   "mimetype": "text/x-python",
   "name": "python",
   "nbconvert_exporter": "python",
   "pygments_lexer": "ipython3",
   "version": "3.9.7"
  }
 },
 "nbformat": 4,
 "nbformat_minor": 5
}
