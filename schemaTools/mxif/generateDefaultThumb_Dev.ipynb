{
 "cells": [
  {
   "cell_type": "code",
   "execution_count": 1,
   "id": "81231ca4",
   "metadata": {},
   "outputs": [
    {
     "name": "stdout",
     "output_type": "stream",
     "text": [
      "Login or email: admin\n",
      "Password for admin: ········\n"
     ]
    },
    {
     "data": {
      "text/plain": [
       "{'_accessLevel': 2,\n",
       " '_id': '5cacfa86e62914004a60e139',\n",
       " '_modelType': 'user',\n",
       " 'admin': True,\n",
       " 'created': '2019-04-09T20:03:18.294000+00:00',\n",
       " 'email': 'histomicstk.admin@kitware.com',\n",
       " 'emailVerified': True,\n",
       " 'firstName': 'admin',\n",
       " 'groupInvites': [],\n",
       " 'groups': ['62f3e4ade70def4ae728cf46', '6318d12a1e1420d22dc30405'],\n",
       " 'lastName': 'admin',\n",
       " 'login': 'admin',\n",
       " 'otp': False,\n",
       " 'public': True,\n",
       " 'size': 1245454128,\n",
       " 'status': 'enabled'}"
      ]
     },
     "execution_count": 1,
     "metadata": {},
     "output_type": "execute_result"
    }
   ],
   "source": [
    "%load_ext autoreload\n",
    "%autoreload 2\n",
    "\n",
    "import girder_client\n",
    "gc= girder_client.GirderClient(apiUrl=\"https://styx.neurology.emory.edu/girder/api/v1\")\n",
    "gc.authenticate(interactive=True)"
   ]
  },
  {
   "cell_type": "code",
   "execution_count": null,
   "id": "caf9462f",
   "metadata": {},
   "outputs": [],
   "source": []
  }
 ],
 "metadata": {
  "kernelspec": {
   "display_name": "Python 3 (ipykernel)",
   "language": "python",
   "name": "python3"
  },
  "language_info": {
   "codemirror_mode": {
    "name": "ipython",
    "version": 3
   },
   "file_extension": ".py",
   "mimetype": "text/x-python",
   "name": "python",
   "nbconvert_exporter": "python",
   "pygments_lexer": "ipython3",
   "version": "3.8.10"
  }
 },
 "nbformat": 4,
 "nbformat_minor": 5
}
