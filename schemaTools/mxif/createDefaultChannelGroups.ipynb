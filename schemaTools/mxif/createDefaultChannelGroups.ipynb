{
 "cells": [
  {
   "cell_type": "code",
   "execution_count": 1,
   "id": "952bb2f5",
   "metadata": {},
   "outputs": [
    {
     "data": {
      "text/plain": [
       "{'_id': '5cacfa86e62914004a60e139'}"
      ]
     },
     "execution_count": 1,
     "metadata": {},
     "output_type": "execute_result"
    }
   ],
   "source": [
    "## The DSA needs to have appropriate metadata in order to view a multiplex image appropriately in the faceted search viewer\n",
    "import girder_client\n",
    "import gcSecrets\n",
    "import tqdm\n",
    "%load_ext autoreload\n",
    "%autoreload 2\n",
    "import colorsys\n",
    "\n",
    "gc= girder_client.GirderClient(apiUrl=gcSecrets.styxApiUrl)\n",
    "gc.authenticate(apiKey=gcSecrets.styxApiToken)"
   ]
  },
  {
   "cell_type": "code",
   "execution_count": 2,
   "id": "ea991a23",
   "metadata": {},
   "outputs": [
    {
     "name": "stdout",
     "output_type": "stream",
     "text": [
      "6\n"
     ]
    }
   ],
   "source": [
    "vandyMxIfTestFolder = \"6390b2744da1ec8c4ffd11f9\"\n",
    "\n",
    "mxifImageSet = list(gc.listItem(vandyMxIfTestFolder))\n",
    "print(len(mxifImageSet))"
   ]
  },
  {
   "cell_type": "code",
   "execution_count": null,
   "id": "fdd9e556",
   "metadata": {},
   "outputs": [],
   "source": []
  },
  {
   "cell_type": "code",
   "execution_count": 25,
   "id": "b262313a",
   "metadata": {},
   "outputs": [],
   "source": [
    "channelTemplates = [{\"template\": \"baseMarkers\", \"markers\": [\"DAPI\",\"PANCK\",\"VIMENTIN\",\"COLLAGEN\",\"CD45\"]},\n",
    "                    {\"template\": \"Segmentation\",\"markers\": [\"DAPI\",\"NAKATPASE\",\"VIMENTIN\",\"SMA\",\"COLLAGEN\"]},\n",
    "                    {\"template\": \"Immune\", \"markers\": [\"DAPI\",\"CD45\",\"CD3\",\"CD68\",\"CD20\"]},\n",
    "                    {\"template\": \"Epithelium\",\"markers\": [\"DAPI\",\"BCATENIN\",\"PANCK\",\"NAKATPASE\",\"PEGFR\"]},\n",
    "                    {\"template\": \"Adenoma\", \"markers\": [\"DAPI\",\"MUC5AC\",\"CDX2\",\"OLFM4\",\"BCATENIN\"]},\n",
    "                    {\"template\": \"Immune Exclusion\", \"markers\": [\"DPEP1\",\"DDR1\",\"TGFBI\",\"CD8\"]} \n",
    "                   ]\n",
    "\n",
    "rgbColorMap = [(51, 255, 255),\n",
    "            (255,0,0),\n",
    "            (0,255,0),\n",
    "            (255,170,51),\n",
    "            (170,51,255)]\n",
    "\n",
    "\n",
    "rgbColorMap = ['rgb(51, 255, 255)',\n",
    "               'rgb(255,0,0)',\n",
    "               'rgb(0,255,0)',\n",
    "               'rgb(255,170,51)',\n",
    "                'rgb(170,51,255)']\n",
    "\n",
    "# hslColorMap = []\n",
    "# for c in rgbColorMap:\n",
    "#     hslColorMap.append(  colorsys.rgb_to_hls(*c))\n",
    "\n",
    "def generateMxIFpresets( item ):\n",
    "    ### This will accept an item from the DSA and try and see if the auto color templates exist\n",
    "    if 'DSAGroupSet' in item['meta']:\n",
    "        DSAGroupSet = item['meta']['DSAGroupSet']\n",
    "        ## Thing I probably want here is the name\n",
    "    else:\n",
    "        DSAGroupSet = []\n",
    "        \n",
    "    if 'ioparams' in item['meta']:\n",
    "        channelmap = item['meta']['ioparams']['channelmap']\n",
    "    else:\n",
    "        print(\"No channel map detected..\")\n",
    "        return\n",
    "    channelmapUpper = {k.upper():v for k,v in channelmap.items()}\n",
    "        \n",
    "    for g in DSAGroupSet:\n",
    "        print(g['name'])\n",
    "\n",
    "    curGroups = [x['name'] for x in DSAGroupSet]\n",
    "    \n",
    "    for t in channelTemplates:\n",
    "        ### Try to see if each channel template already exists or if I need to create it..\n",
    "        #print(t['template'])\n",
    "        \n",
    "        curTemplate = {'channels':[], 'name':t['template']}\n",
    "        for i,m in enumerate(t['markers']):\n",
    "            if m in channelmapUpper:\n",
    "                #print(\"Found\",m,\"at frame\",channelmapUpper[m])\n",
    "                curTemplate['channels'].append({'max':15000, 'min':500,'opacity':1, \n",
    "                                               'name':m,'color':rgbColorMap[i],\n",
    "                                               'index':channelmapUpper[m]})\n",
    "        ### Need to add a force update flag once this works..\n",
    "        if t['template'] in curGroups:\n",
    "            print(\"Template is already in the DSA Group Set\")\n",
    "        else:\n",
    "            DSAGroupSet.append(curTemplate)\n",
    "                 \n",
    "    ## Need to get the names of the current sets..    \n",
    "    ## kind of annoying, but I have to see if the template already exists, and then overwrite it if that flag is set\n",
    "    return DSAGroupSet    "
   ]
  },
  {
   "cell_type": "code",
   "execution_count": 26,
   "id": "065aa209",
   "metadata": {},
   "outputs": [
    {
     "name": "stdout",
     "output_type": "stream",
     "text": [
      "CD45_CD4_CD68_CD8_CgA\n",
      "baseMarkers\n",
      "baseMarkers\n",
      "baseMarkers\n",
      "Segmentation\n",
      "Immune\n",
      "Epithelium\n",
      "Template is already in the DSA Group Set\n",
      "Template is already in the DSA Group Set\n",
      "Template is already in the DSA Group Set\n",
      "Template is already in the DSA Group Set\n",
      "['CD45_CD4_CD68_CD8_CgA', 'baseMarkers', 'baseMarkers', 'baseMarkers', 'Segmentation', 'Immune', 'Epithelium', 'Adenoma', 'Immune Exclusion']\n",
      "['baseMarkers', 'Segmentation', 'Immune', 'Epithelium', 'Adenoma', 'Immune Exclusion']\n",
      "DAPI_PanCK_Vimentin_Collagen_CD45\n",
      "baseMarkers\n",
      "baseMarkers\n",
      "Segmentation\n",
      "Immune\n",
      "Epithelium\n",
      "Template is already in the DSA Group Set\n",
      "Template is already in the DSA Group Set\n",
      "Template is already in the DSA Group Set\n",
      "Template is already in the DSA Group Set\n",
      "['DAPI_PanCK_Vimentin_Collagen_CD45', 'baseMarkers', 'baseMarkers', 'Segmentation', 'Immune', 'Epithelium', 'Adenoma', 'Immune Exclusion']\n",
      "DAPI_CD45_Collagen_Vimentin_PanCK\n",
      "baseMarkers\n",
      "baseMarkers\n",
      "Segmentation\n",
      "Immune\n",
      "Epithelium\n",
      "Template is already in the DSA Group Set\n",
      "Template is already in the DSA Group Set\n",
      "Template is already in the DSA Group Set\n",
      "Template is already in the DSA Group Set\n",
      "['DAPI_CD45_Collagen_Vimentin_PanCK', 'baseMarkers', 'baseMarkers', 'Segmentation', 'Immune', 'Epithelium', 'Adenoma', 'Immune Exclusion']\n",
      "['baseMarkers', 'Segmentation', 'Immune', 'Epithelium', 'Adenoma', 'Immune Exclusion']\n",
      "['baseMarkers', 'Segmentation', 'Immune', 'Epithelium', 'Adenoma', 'Immune Exclusion']\n"
     ]
    }
   ],
   "source": [
    "for img in mxifImageSet:\n",
    "    dsag = generateMxIFpresets(img)\n",
    "    gc.addMetadataToItem(img['_id'],{'DSAGroupSet':dsag})\n",
    "    print([x['name'] for x in dsag])\n"
   ]
  }
 ],
 "metadata": {
  "kernelspec": {
   "display_name": "Python 3 (ipykernel)",
   "language": "python",
   "name": "python3"
  },
  "language_info": {
   "codemirror_mode": {
    "name": "ipython",
    "version": 3
   },
   "file_extension": ".py",
   "mimetype": "text/x-python",
   "name": "python",
   "nbconvert_exporter": "python",
   "pygments_lexer": "ipython3",
   "version": "3.8.10"
  }
 },
 "nbformat": 4,
 "nbformat_minor": 5
}
