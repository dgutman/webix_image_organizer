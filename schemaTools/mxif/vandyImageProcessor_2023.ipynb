{
 "cells": [
  {
   "cell_type": "code",
   "execution_count": 1,
   "id": "58021cb8",
   "metadata": {},
   "outputs": [
    {
     "name": "stdout",
     "output_type": "stream",
     "text": [
      "Login or email: admin\n",
      "Password for admin: ········\n"
     ]
    }
   ],
   "source": [
    "## The DSA needs to have appropriate metadata in order to view a multiplex image appropriately in the faceted search viewer\n",
    "import girder_client\n",
    "import gcSecrets\n",
    "import tqdm, time\n",
    "%load_ext autoreload\n",
    "%autoreload 2\n",
    "\n",
    "gc= girder_client.GirderClient(apiUrl='https://candygram.neurology.emory.edu/api/v1')\n",
    "# gc= girder_client.GirderClient(apiUrl='http://localhost:8080/api/v1')\n",
    "_ = gc.authenticate(interactive=True)"
   ]
  },
  {
   "cell_type": "code",
   "execution_count": 3,
   "id": "a2312299",
   "metadata": {},
   "outputs": [],
   "source": [
    "import tqdm\n",
    "#https://candygram.neurology.emory.edu/api/v1/large_image/tiles/incomplete\n",
    "## If jobs hang you may want to hit htis endpoint\n",
    "\n",
    "vandy2023folderId = '64407fa00629be2173000bae'\n",
    "\n",
    "cdgValdyFolderId = '6436ff755605cc63355cde7f'\n",
    "\n",
    "# for i in tqdm.tqdm(gc.get(f'resource/{cdgValdyFolderId}/items?type=folder&limit=1000')):\n",
    "#     ### I am going to force conversion of every image to a large image, if the item does NOT have more than one file in it\n",
    "#     ## Then I can assume evne if it does have a largeImage flag, that the base image is not well formated\n",
    "#     if i['name'].endswith('.tif'):  ## may need to add extensions\n",
    "#         fl = list(gc.listFile(i['_id']))\n",
    "#         if len(fl) < 2:\n",
    "#             gc.delete(\"item/%s/tiles\" % i['_id'])\n",
    "#     #         gc.addMetadataToItem(i['_id'],{'ioparams':{\"forceLargeImage\":True}})\n",
    "#             gc.post(\"/item/%s/tiles?force=true\" % i['_id'])\n"
   ]
  },
  {
   "cell_type": "code",
   "execution_count": 5,
   "id": "985c90a3",
   "metadata": {},
   "outputs": [
    {
     "name": "stderr",
     "output_type": "stream",
     "text": [
      "100%|███████████████████████████████████████████████████████████████████████████████████████████████| 504/504 [07:44<00:00,  1.09it/s]\n"
     ]
    }
   ],
   "source": [
    "#https://candygram.neurology.emory.edu/api/v1/large_image/tiles/incomplete\n",
    "## If jobs hang you may want to hit the above endpoint\n",
    "histGenStats = []\n",
    "\n",
    "\n",
    "for i in tqdm.tqdm(gc.get(f'resource/{cdgValdyFolderId}/items?type=folder&limit=1000')):\n",
    "    ### I am going to force conversion of every image to a large image, if the item does NOT have more than one file in it\n",
    "    ## Then I can assume evne if it does have a largeImage flag, that the base image is not well formated\n",
    "    if 'largeImage' in i:  ## may need to add extensions\n",
    "        st = time.time()\n",
    "        histData = gc.get(f'/item/{i[\"_id\"]}/tiles/histogram?width=2048&height=2048&rangeMin=1')\n",
    "        et = time.time()\n",
    "        execTime = et-st\n",
    "#         print(execTime)\n",
    "        histGenStats.append({\"hist\": histData,\"getTime\": execTime})"
   ]
  },
  {
   "cell_type": "code",
   "execution_count": null,
   "id": "aef7ccf2",
   "metadata": {},
   "outputs": [],
   "source": []
  },
  {
   "cell_type": "code",
   "execution_count": null,
   "id": "23ce2915",
   "metadata": {},
   "outputs": [],
   "source": [
    "# # for j in gc.get('job?limit=500'):\n",
    "# #     if 'TIFF Conversion' in j['title']:\n",
    "# #         gc.delete(f'job/{j[\"_id\"]}')\n",
    "# import time\n",
    "\n",
    "\n",
    "#     st = time.time() ## Capture start time of execution\n",
    "\n",
    "#     ts = large_image.tilesource.getTileSource(imageName)\n",
    "#     et = time.time()\n",
    "#         start_op = time.time()\n",
    "#         im_tile = np.array(tile_info[\"tile\"])\n",
    "        \n",
    "#         img_total, (mask_all_positive, mask_weak, mask_pos, mask_strong, mask)   = ppchlprs._count_image(im_tile,ppcParams)\n",
    "#         ## For now just overwriting the outputs for all of these, in the future may want to save them.. somewhere\n",
    "#         end_op = time.time()\n",
    "#         trs = {'start_op':start_op,'runTime': end_op - start_op, 'tile_num': num_tiles}\n",
    "#         algoRunStats['tileRunStats'].append(trs)\n",
    "#         print(num_tiles,trs)\n",
    "#         num_tiles +=1\n",
    "#     et = time.time()\n",
    "\n",
    "#     # get the execution time\n",
    "#     elapsed_time = et - st\n",
    "#     print(elapsed_time)\n",
    "#     algoRunStats['algoRunTime']= elapsed_time\n",
    "#     algoRunStats['algoEndTime'] = et\n",
    "    \n",
    "#     return algoRunStats \n"
   ]
  }
 ],
 "metadata": {
  "kernelspec": {
   "display_name": "Python 3 (ipykernel)",
   "language": "python",
   "name": "python3"
  },
  "language_info": {
   "codemirror_mode": {
    "name": "ipython",
    "version": 3
   },
   "file_extension": ".py",
   "mimetype": "text/x-python",
   "name": "python",
   "nbconvert_exporter": "python",
   "pygments_lexer": "ipython3",
   "version": "3.8.10"
  }
 },
 "nbformat": 4,
 "nbformat_minor": 5
}
