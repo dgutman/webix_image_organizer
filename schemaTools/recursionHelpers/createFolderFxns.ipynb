{
 "cells": [
  {
   "cell_type": "code",
   "execution_count": 1,
   "metadata": {},
   "outputs": [
    {
     "name": "stdout",
     "output_type": "stream",
     "text": [
      "Login or email: admin\n",
      "Password for admin: ········\n"
     ]
    },
    {
     "data": {
      "text/plain": [
       "{'_accessLevel': 2,\n",
       " '_id': '5ebee66965f992910fa19570',\n",
       " '_modelType': 'user',\n",
       " 'admin': True,\n",
       " 'created': '2020-05-15T18:58:49.562000+00:00',\n",
       " 'email': 'girder.admin@kitware.com',\n",
       " 'emailVerified': True,\n",
       " 'firstName': 'admin',\n",
       " 'groupInvites': [],\n",
       " 'groups': [],\n",
       " 'lastName': 'admin',\n",
       " 'login': 'admin',\n",
       " 'otp': False,\n",
       " 'public': True,\n",
       " 'size': 168288727353,\n",
       " 'status': 'enabled'}"
      ]
     },
     "execution_count": 1,
     "metadata": {},
     "output_type": "execute_result"
    }
   ],
   "source": [
    "import girder_client\n",
    "\n",
    "\n",
    "\n",
    "apiUrl = \"https://imaging.htan.dev/girder/api/v1\"\n",
    "\n",
    "gc = girder_client.GirderClient(apiUrl=apiUrl)\n",
    "gc.authenticate(interactive=True)"
   ]
  },
  {
   "cell_type": "code",
   "execution_count": null,
   "metadata": {},
   "outputs": [],
   "source": []
  },
  {
   "cell_type": "code",
   "execution_count": 6,
   "metadata": {},
   "outputs": [
    {
     "name": "stdout",
     "output_type": "stream",
     "text": [
      "DCC_Bucket_Sync\n",
      "DCC_Bucket_Sync/htan-dcc-htapp\n",
      "DCC_Bucket_Sync/htan-dcc-htapp/codex_level_1\n",
      "DCC_Bucket_Sync/htan-dcc-htapp/codex_level_1/test-upload\n",
      "DCC_Bucket_Sync/htan-dcc-htapp/codex_level_1/test-upload/Cyc11_reg1\n"
     ]
    }
   ],
   "source": [
    "## Creating a class for girder interactions that allows me to both cache folders and also if it's not cached\n",
    "## to create it; most improtantly I am allowing you to specify an entire dierctory structure analogous to\n",
    "## os.makedirs\n",
    "\n",
    "class dsaFolderCache:\n",
    "    def __init__(self, gc,debug=False):\n",
    "        self.gc = gc\n",
    "        self.folderCache = {}\n",
    "        self.collectionCache = {}\n",
    "        self.debug = debug\n",
    "        self.cacheHits = 0  ## Generate stats to keep track cache hits\n",
    "        self.totalLookups = 0\n",
    "        \n",
    "    def getFolderId( self, dsaFolderPath ):\n",
    "        ### This includes both the collection and subsequent folders\n",
    "        \n",
    "        if self.debug: print(\"Looking up %s\" % dsaFolderPath)\n",
    "        ### First see if this is already cached\n",
    "        if dsaFolderPath in self.folderCache:\n",
    "            print(\"CACHED!\")\n",
    "            self.totalLookups +=1\n",
    "            return self.folderCache[dsaFolderPath]\n",
    "        else:\n",
    "            dsaPathParts = dsaFolderPath.split(\"/\")\n",
    "            ## Make sure all the paths exist..\n",
    "            for i in range(len(dsaPathParts)):\n",
    "                subDirPath = \"/\".join(dsaPathParts[:i+1])\n",
    "                print(subDirPath)\n",
    "                self.lookupPathInCollection(subDirPath)\n",
    "            ## Need to figure out how to return it on the final iteration...\n",
    "                \n",
    "    def lookupPathInCollection( self, dsaFolderPath,createIfNotFound=False):\n",
    "        f = gc.get(\"/resource/lookup?path=/collection/%s\" % dsaFolderPath)\n",
    "        if f:\n",
    "            self.folderCache[dsaFolderPath] = f\n",
    "        else:\n",
    "            print(\"Path does not exist\",dsaFolderPath)\n",
    "            ## So I must create it...\n",
    "            ### Must now try and create the path recursively...\n",
    "\n",
    "    def loadOrCreateFolder(self, folderName, parentId, parentType, metadata=None):\n",
    "            \"\"\"Returns a folder in Girder with the given name under the given\n",
    "            parent. If none exists yet, it will create it and return it.\n",
    "            :param folderName: the name of the folder to look up.\n",
    "            :param parentId: id of parent in Girder\n",
    "            :param parentType: one of (collection, folder, user)\n",
    "            :param metadata: JSON metadata string to set on folder.\n",
    "            :returns: The folder that was found or created.\n",
    "            \"\"\"\n",
    "            children = self.listFolder(parentId, parentType, name=folderName)\n",
    "\n",
    "            try:\n",
    "                return next(children)\n",
    "            except StopIteration:\n",
    "                return self.createFolder(parentId, folderName, parentType=parentType,\n",
    "                                         metadata=metadata)            \n",
    "            \n",
    "            \n",
    "## This time should now be using cache\n",
    "dsaFldr = dsaFolderCache(gc,debug=False)\n",
    "\n",
    "# dsaFldr.getFolderId(\"DCC_Bucket_Sync/htan-dcc-htapp/codex_level_1/test-upload/Cyc11_reg1\")\n",
    "# dsaFldr.getFolderId(\"DCC_Bucket_Sync/htan-dcc-htapp/codex_level_1/test-upload/Cyc11_reg1\")\n",
    "\n",
    "### For now... no begnining slash and no end slash .... need to code this check in\n",
    "\n",
    "#dsaFldr.getFolderId(\"DCC_Bucket_Sink/htan-dcc-htapp/codex_level_1/test-upload/Cyc11_reg1\")"
   ]
  },
  {
   "cell_type": "code",
   "execution_count": 8,
   "metadata": {},
   "outputs": [
    {
     "name": "stdout",
     "output_type": "stream",
     "text": [
      "DCC_Bucket_Sync\n",
      "DCC_Bucket_Sync/htan-dcc-htapp\n",
      "DCC_Bucket_Sync/htan-dcc-htapp/codex_level_4\n",
      "DCC_Bucket_Sync/htan-dcc-htapp/codex_level_4/test-upload\n"
     ]
    },
    {
     "ename": "HttpError",
     "evalue": "HTTP error 400: GET https://imaging.htan.dev/girder/api/v1//resource/lookup?path=/collection/DCC_Bucket_Sync/htan-dcc-htapp/codex_level_4/test-upload\nResponse text: {\"message\": \"Path not found: collection/DCC_Bucket_Sync/htan-dcc-htapp/codex_level_4/test-upload\", \"type\": \"validation\"}",
     "output_type": "error",
     "traceback": [
      "\u001b[0;31m---------------------------------------------------------------------------\u001b[0m",
      "\u001b[0;31mHttpError\u001b[0m                                 Traceback (most recent call last)",
      "\u001b[0;32m<ipython-input-8-289f484365bd>\u001b[0m in \u001b[0;36m<module>\u001b[0;34m\u001b[0m\n\u001b[0;32m----> 1\u001b[0;31m \u001b[0mdsaFldr\u001b[0m\u001b[0;34m.\u001b[0m\u001b[0mgetFolderId\u001b[0m\u001b[0;34m(\u001b[0m\u001b[0;34m\"DCC_Bucket_Sync/htan-dcc-htapp/codex_level_4/test-upload/Cyc11_reg1\"\u001b[0m\u001b[0;34m)\u001b[0m\u001b[0;34m\u001b[0m\u001b[0;34m\u001b[0m\u001b[0m\n\u001b[0m",
      "\u001b[0;32m<ipython-input-6-854b5d1cb4b0>\u001b[0m in \u001b[0;36mgetFolderId\u001b[0;34m(self, dsaFolderPath)\u001b[0m\n\u001b[1;32m     24\u001b[0m                 \u001b[0msubDirPath\u001b[0m \u001b[0;34m=\u001b[0m \u001b[0;34m\"/\"\u001b[0m\u001b[0;34m.\u001b[0m\u001b[0mjoin\u001b[0m\u001b[0;34m(\u001b[0m\u001b[0mdsaPathParts\u001b[0m\u001b[0;34m[\u001b[0m\u001b[0;34m:\u001b[0m\u001b[0mi\u001b[0m\u001b[0;34m+\u001b[0m\u001b[0;36m1\u001b[0m\u001b[0;34m]\u001b[0m\u001b[0;34m)\u001b[0m\u001b[0;34m\u001b[0m\u001b[0;34m\u001b[0m\u001b[0m\n\u001b[1;32m     25\u001b[0m                 \u001b[0mprint\u001b[0m\u001b[0;34m(\u001b[0m\u001b[0msubDirPath\u001b[0m\u001b[0;34m)\u001b[0m\u001b[0;34m\u001b[0m\u001b[0;34m\u001b[0m\u001b[0m\n\u001b[0;32m---> 26\u001b[0;31m                 \u001b[0mself\u001b[0m\u001b[0;34m.\u001b[0m\u001b[0mlookupPathInCollection\u001b[0m\u001b[0;34m(\u001b[0m\u001b[0msubDirPath\u001b[0m\u001b[0;34m)\u001b[0m\u001b[0;34m\u001b[0m\u001b[0;34m\u001b[0m\u001b[0m\n\u001b[0m\u001b[1;32m     27\u001b[0m \u001b[0;34m\u001b[0m\u001b[0m\n\u001b[1;32m     28\u001b[0m     \u001b[0;32mdef\u001b[0m \u001b[0mlookupPathInCollection\u001b[0m\u001b[0;34m(\u001b[0m \u001b[0mself\u001b[0m\u001b[0;34m,\u001b[0m \u001b[0mdsaFolderPath\u001b[0m\u001b[0;34m,\u001b[0m\u001b[0mcreateIfNotFound\u001b[0m\u001b[0;34m=\u001b[0m\u001b[0;32mFalse\u001b[0m\u001b[0;34m)\u001b[0m\u001b[0;34m:\u001b[0m\u001b[0;34m\u001b[0m\u001b[0;34m\u001b[0m\u001b[0m\n",
      "\u001b[0;32m<ipython-input-6-854b5d1cb4b0>\u001b[0m in \u001b[0;36mlookupPathInCollection\u001b[0;34m(self, dsaFolderPath, createIfNotFound)\u001b[0m\n\u001b[1;32m     27\u001b[0m \u001b[0;34m\u001b[0m\u001b[0m\n\u001b[1;32m     28\u001b[0m     \u001b[0;32mdef\u001b[0m \u001b[0mlookupPathInCollection\u001b[0m\u001b[0;34m(\u001b[0m \u001b[0mself\u001b[0m\u001b[0;34m,\u001b[0m \u001b[0mdsaFolderPath\u001b[0m\u001b[0;34m,\u001b[0m\u001b[0mcreateIfNotFound\u001b[0m\u001b[0;34m=\u001b[0m\u001b[0;32mFalse\u001b[0m\u001b[0;34m)\u001b[0m\u001b[0;34m:\u001b[0m\u001b[0;34m\u001b[0m\u001b[0;34m\u001b[0m\u001b[0m\n\u001b[0;32m---> 29\u001b[0;31m         \u001b[0mf\u001b[0m \u001b[0;34m=\u001b[0m \u001b[0mgc\u001b[0m\u001b[0;34m.\u001b[0m\u001b[0mget\u001b[0m\u001b[0;34m(\u001b[0m\u001b[0;34m\"/resource/lookup?path=/collection/%s\"\u001b[0m \u001b[0;34m%\u001b[0m \u001b[0mdsaFolderPath\u001b[0m\u001b[0;34m)\u001b[0m\u001b[0;34m\u001b[0m\u001b[0;34m\u001b[0m\u001b[0m\n\u001b[0m\u001b[1;32m     30\u001b[0m         \u001b[0;32mif\u001b[0m \u001b[0mf\u001b[0m\u001b[0;34m:\u001b[0m\u001b[0;34m\u001b[0m\u001b[0;34m\u001b[0m\u001b[0m\n\u001b[1;32m     31\u001b[0m             \u001b[0mself\u001b[0m\u001b[0;34m.\u001b[0m\u001b[0mfolderCache\u001b[0m\u001b[0;34m[\u001b[0m\u001b[0mdsaFolderPath\u001b[0m\u001b[0;34m]\u001b[0m \u001b[0;34m=\u001b[0m \u001b[0mf\u001b[0m\u001b[0;34m\u001b[0m\u001b[0;34m\u001b[0m\u001b[0m\n",
      "\u001b[0;32m~/.local/lib/python3.7/site-packages/girder_client/__init__.py\u001b[0m in \u001b[0;36mget\u001b[0;34m(self, path, parameters, jsonResp)\u001b[0m\n\u001b[1;32m    469\u001b[0m         \u001b[0mConvenience\u001b[0m \u001b[0mmethod\u001b[0m \u001b[0mto\u001b[0m \u001b[0mcall\u001b[0m \u001b[0;34m:\u001b[0m\u001b[0mpy\u001b[0m\u001b[0;34m:\u001b[0m\u001b[0mfunc\u001b[0m\u001b[0;34m:\u001b[0m\u001b[0;31m`\u001b[0m\u001b[0msendRestRequest\u001b[0m\u001b[0;31m`\u001b[0m \u001b[0;32mwith\u001b[0m \u001b[0mthe\u001b[0m \u001b[0;34m'GET'\u001b[0m \u001b[0mHTTP\u001b[0m \u001b[0mmethod\u001b[0m\u001b[0;34m.\u001b[0m\u001b[0;34m\u001b[0m\u001b[0;34m\u001b[0m\u001b[0m\n\u001b[1;32m    470\u001b[0m         \"\"\"\n\u001b[0;32m--> 471\u001b[0;31m         \u001b[0;32mreturn\u001b[0m \u001b[0mself\u001b[0m\u001b[0;34m.\u001b[0m\u001b[0msendRestRequest\u001b[0m\u001b[0;34m(\u001b[0m\u001b[0;34m'GET'\u001b[0m\u001b[0;34m,\u001b[0m \u001b[0mpath\u001b[0m\u001b[0;34m,\u001b[0m \u001b[0mparameters\u001b[0m\u001b[0;34m,\u001b[0m \u001b[0mjsonResp\u001b[0m\u001b[0;34m=\u001b[0m\u001b[0mjsonResp\u001b[0m\u001b[0;34m)\u001b[0m\u001b[0;34m\u001b[0m\u001b[0;34m\u001b[0m\u001b[0m\n\u001b[0m\u001b[1;32m    472\u001b[0m \u001b[0;34m\u001b[0m\u001b[0m\n\u001b[1;32m    473\u001b[0m     def post(self, path, parameters=None, files=None, data=None, json=None, headers=None,\n",
      "\u001b[0;32m~/.local/lib/python3.7/site-packages/girder_client/__init__.py\u001b[0m in \u001b[0;36msendRestRequest\u001b[0;34m(self, method, path, parameters, data, files, json, headers, jsonResp, **kwargs)\u001b[0m\n\u001b[1;32m    463\u001b[0m             raise HttpError(\n\u001b[1;32m    464\u001b[0m                 \u001b[0mstatus\u001b[0m\u001b[0;34m=\u001b[0m\u001b[0mresult\u001b[0m\u001b[0;34m.\u001b[0m\u001b[0mstatus_code\u001b[0m\u001b[0;34m,\u001b[0m \u001b[0murl\u001b[0m\u001b[0;34m=\u001b[0m\u001b[0mresult\u001b[0m\u001b[0;34m.\u001b[0m\u001b[0murl\u001b[0m\u001b[0;34m,\u001b[0m \u001b[0mmethod\u001b[0m\u001b[0;34m=\u001b[0m\u001b[0mmethod\u001b[0m\u001b[0;34m,\u001b[0m \u001b[0mtext\u001b[0m\u001b[0;34m=\u001b[0m\u001b[0mresult\u001b[0m\u001b[0;34m.\u001b[0m\u001b[0mtext\u001b[0m\u001b[0;34m,\u001b[0m\u001b[0;34m\u001b[0m\u001b[0;34m\u001b[0m\u001b[0m\n\u001b[0;32m--> 465\u001b[0;31m                 response=result)\n\u001b[0m\u001b[1;32m    466\u001b[0m \u001b[0;34m\u001b[0m\u001b[0m\n\u001b[1;32m    467\u001b[0m     \u001b[0;32mdef\u001b[0m \u001b[0mget\u001b[0m\u001b[0;34m(\u001b[0m\u001b[0mself\u001b[0m\u001b[0;34m,\u001b[0m \u001b[0mpath\u001b[0m\u001b[0;34m,\u001b[0m \u001b[0mparameters\u001b[0m\u001b[0;34m=\u001b[0m\u001b[0;32mNone\u001b[0m\u001b[0;34m,\u001b[0m \u001b[0mjsonResp\u001b[0m\u001b[0;34m=\u001b[0m\u001b[0;32mTrue\u001b[0m\u001b[0;34m)\u001b[0m\u001b[0;34m:\u001b[0m\u001b[0;34m\u001b[0m\u001b[0;34m\u001b[0m\u001b[0m\n",
      "\u001b[0;31mHttpError\u001b[0m: HTTP error 400: GET https://imaging.htan.dev/girder/api/v1//resource/lookup?path=/collection/DCC_Bucket_Sync/htan-dcc-htapp/codex_level_4/test-upload\nResponse text: {\"message\": \"Path not found: collection/DCC_Bucket_Sync/htan-dcc-htapp/codex_level_4/test-upload\", \"type\": \"validation\"}"
     ]
    }
   ],
   "source": [
    "dsaFldr.getFolderId(\"DCC_Bucket_Sync/htan-dcc-htapp/codex_level_4/test-upload/Cyc11_reg1\")\n"
   ]
  },
  {
   "cell_type": "code",
   "execution_count": null,
   "metadata": {},
   "outputs": [],
   "source": [
    "    def _uploadFolderRecursive(self, localFolder, parentId, parentType, leafFoldersAsItems=False,\n",
    "                               reuseExisting=False, blacklist=None, dryRun=False, reference=None):\n",
    "        \"\"\"\n",
    "        Function to recursively upload a folder and all of its descendants.\n",
    "        :param localFolder: full path to local folder to be uploaded\n",
    "        :param parentId: id of parent in Girder, where new folder will be added\n",
    "        :param parentType: one of (collection, folder, user)\n",
    "        :param leafFoldersAsItems: whether leaf folders should have all\n",
    "            files uploaded as single items\n",
    "        :param reuseExisting: boolean indicating whether to accept an existing item\n",
    "            of the same name in the same location, or create a new one instead\n",
    "        :param reference: Option reference to send along with the upload.\n",
    "        \"\"\"\n",
    "        blacklist = blacklist or []\n",
    "        if leafFoldersAsItems and self._hasOnlyFiles(localFolder):\n",
    "            if parentType != 'folder':\n",
    "                raise Exception(\n",
    "                    ('Attempting to upload a folder as an item under a %s. '\n",
    "                     % parentType) + 'Items can only be added to folders.')\n",
    "            else:\n",
    "                self._uploadFolderAsItem(localFolder, parentId, reuseExisting, dryRun=dryRun)\n",
    "        else:\n",
    "            filename = os.path.basename(localFolder)\n",
    "            if filename in blacklist:\n",
    "                if dryRun:\n",
    "                    print('Ignoring file %s as it is blacklisted' % filename)\n",
    "                return\n",
    "\n",
    "            print('Creating Folder from %s' % localFolder)\n",
    "            if dryRun:\n",
    "                # create a dry run placeholder\n",
    "                folder = {'_id': 'dryrun'}\n",
    "            else:\n",
    "                folder = self.loadOrCreateFolder(\n",
    "                    os.path.basename(localFolder), parentId, parentType)\n",
    "\n",
    "            for entry in sorted(os.listdir(localFolder)):\n",
    "                if entry in blacklist:\n",
    "                    if dryRun:\n",
    "                        print('Ignoring file %s as it is blacklisted' % entry)\n",
    "                    continue\n",
    "                fullEntry = os.path.join(localFolder, entry)\n",
    "                if os.path.islink(fullEntry):\n",
    "                    # os.walk skips symlinks by default\n",
    "                    print('Skipping file %s as it is a symlink' % entry)\n",
    "                    continue\n",
    "                elif os.path.isdir(fullEntry):\n",
    "                    # At this point we should have an actual folder, so can\n",
    "                    # pass that as the parent_type\n",
    "                    self._uploadFolderRecursive(\n",
    "                        fullEntry, folder['_id'], 'folder', leafFoldersAsItems, reuseExisting,\n",
    "                        blacklist=blacklist, dryRun=dryRun, reference=reference)\n",
    "                else:\n",
    "                    self._uploadAsItem(\n",
    "                        entry, folder['_id'], fullEntry, reuseExisting, dryRun=dryRun,\n",
    "                        reference=reference)\n",
    "\n",
    "            if not dryRun:\n",
    "                for callback in self._folderUploadCallbacks:\n",
    "                    callback(folder, localFolder)"
   ]
  },
  {
   "cell_type": "code",
   "execution_count": 21,
   "metadata": {},
   "outputs": [
    {
     "name": "stdout",
     "output_type": "stream",
     "text": [
      "0\n",
      "1\n",
      "2\n",
      "3\n",
      "4\n"
     ]
    }
   ],
   "source": [
    "m = ['DCC_Bucket_Sync', 'htan-dcc-htapp', 'codex_level_1', 'test_upload', 'Cycll_reg1']\n",
    "\n",
    "\n",
    "for i in range(len(m)):\n",
    "    print(i)\n",
    "    #                 print(dsaPathParts[:i+1],i)\n",
    "#                 print(\"/\".join(dsaPathParts[:i+1]))\n",
    "#                 self.lookupPathInCollection(\"/\".join(dsaPathParts[:i+1]))\n",
    "\n",
    "#             collectionName = dsaPathParts[0]\n",
    "#             print(\"Collection name is %s\" % collectionName)\n",
    "            \n",
    "#             \n",
    "#             self.folderCache[collectionName] = f\n",
    "\n",
    "## Add a check to make the sure the path starts with a forward slash\n",
    "# dsaPath = \"DCC_Bucket_Sync/htan-dcc-htapp/codex_level_1/test_upload/Cycll_reg1\"   \n",
    "\n",
    "#dsaFldr.getFolderId(\"DCC_Bucket_Sync/htan-dcc"
   ]
  },
  {
   "cell_type": "code",
   "execution_count": 24,
   "metadata": {},
   "outputs": [
    {
     "data": {
      "text/plain": [
       "'DCC_Bucket_Sync'"
      ]
     },
     "execution_count": 24,
     "metadata": {},
     "output_type": "execute_result"
    }
   ],
   "source": [
    "\"/\".join(m[:1])"
   ]
  },
  {
   "cell_type": "code",
   "execution_count": 33,
   "metadata": {},
   "outputs": [
    {
     "data": {
      "text/plain": [
       "['DCC_Bucket_Sync',\n",
       " 'htan-dcc-htapp',\n",
       " 'codex_level_1',\n",
       " 'test_upload_Cycll_reg1']"
      ]
     },
     "execution_count": 33,
     "metadata": {},
     "output_type": "execute_result"
    }
   ],
   "source": [
    "pathParts"
   ]
  }
 ],
 "metadata": {
  "kernelspec": {
   "display_name": "Python 3",
   "language": "python",
   "name": "python3"
  },
  "language_info": {
   "codemirror_mode": {
    "name": "ipython",
    "version": 3
   },
   "file_extension": ".py",
   "mimetype": "text/x-python",
   "name": "python",
   "nbconvert_exporter": "python",
   "pygments_lexer": "ipython3",
   "version": "3.6.9"
  }
 },
 "nbformat": 4,
 "nbformat_minor": 4
}
