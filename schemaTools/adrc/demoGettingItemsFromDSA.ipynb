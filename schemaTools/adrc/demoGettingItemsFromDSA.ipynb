{
 "cells": [
  {
   "cell_type": "code",
   "execution_count": 1,
   "id": "f11b6348",
   "metadata": {},
   "outputs": [],
   "source": [
    "import girder_client \n",
    "%load_ext autoreload\n",
    "%autoreload 2\n",
    "import adrcSchemaHelpers as hlprs\n",
    "\n",
    "gc = girder_client.GirderClient(apiUrl=\"http://candygram.neurology.emory.edu:8080/api/v1\")"
   ]
  },
  {
   "cell_type": "code",
   "execution_count": 3,
   "id": "f2db4b68",
   "metadata": {},
   "outputs": [
    {
     "name": "stdout",
     "output_type": "stream",
     "text": [
      "Login or email: admin\n",
      "Password for admin: ········\n"
     ]
    },
    {
     "data": {
      "text/plain": [
       "{'_accessLevel': 2,\n",
       " '_id': '638e2ae7cd1d7fad17b9dd1f',\n",
       " '_modelType': 'user',\n",
       " 'admin': True,\n",
       " 'created': '2022-12-05T17:31:19.547000+00:00',\n",
       " 'email': 'admin@nowhere.nil',\n",
       " 'emailVerified': True,\n",
       " 'firstName': 'Admin',\n",
       " 'groupInvites': [],\n",
       " 'groups': [],\n",
       " 'lastName': 'Admin',\n",
       " 'login': 'admin',\n",
       " 'otp': False,\n",
       " 'public': True,\n",
       " 'size': 0,\n",
       " 'status': 'enabled'}"
      ]
     },
     "execution_count": 3,
     "metadata": {},
     "output_type": "execute_result"
    }
   ],
   "source": [
    "gc.authenticate(interactive=True)"
   ]
  },
  {
   "cell_type": "code",
   "execution_count": 5,
   "id": "75ae2cbe",
   "metadata": {},
   "outputs": [],
   "source": [
    "fldrs = list(gc.listFolder('638e2da11f75016b81fda12f',parentFolderType='collection'))"
   ]
  },
  {
   "cell_type": "code",
   "execution_count": 6,
   "id": "c5d6479f",
   "metadata": {},
   "outputs": [
    {
     "name": "stdout",
     "output_type": "stream",
     "text": [
      "YEAR============= 1994 =================\n",
      "\t OS94-54 67 #WithMetaData#, #ToMatch#\n",
      "YEAR============= 1996 =================\n",
      "\t E96-33 118 #WithMetaData#, #ToMatch#\n",
      "YEAR============= 2008 =================\n",
      "\t E08-101 92 #WithMetaData#, #ToMatch#\n",
      "\t E08-119 25 #WithMetaData#, #ToMatch#\n",
      "\t E08-137 6 #WithMetaData#, #ToMatch#\n",
      "\t E08-145 46 #WithMetaData#, #ToMatch#\n",
      "\t E08-146 15 #WithMetaData#, #ToMatch#\n",
      "\t E08-162 174 #WithMetaData#, #ToMatch#\n",
      "\t E08-53 68 #WithMetaData#, #ToMatch#\n",
      "YEAR============= 2018 =================\n",
      "\t E18-07 77 #WithMetaData#, #ToMatch#\n",
      "\t E18-108 77 #WithMetaData#, #ToMatch#\n",
      "\t E18-115 64 #WithMetaData#, #ToMatch#\n",
      "\t E18-127 49 #WithMetaData#, #ToMatch#\n",
      "\t E18-18 75 #WithMetaData#, #ToMatch#\n",
      "\t E18-27 96 #WithMetaData#, #ToMatch#\n",
      "\t E18-37 134 #WithMetaData#, #ToMatch#\n",
      "\t E18-38 105 #WithMetaData#, #ToMatch#\n",
      "\t E18-45 91 #WithMetaData#, #ToMatch#\n",
      "\t E18-47 81 #WithMetaData#, #ToMatch#\n",
      "\t E18-49 82 #WithMetaData#, #ToMatch#\n",
      "\t E18-61 111 #WithMetaData#, #ToMatch#\n",
      "\t E18-70 76 #WithMetaData#, #ToMatch#\n",
      "\t E18-86 143 #WithMetaData#, #ToMatch#\n",
      "\t E18-92 110 #WithMetaData#, #ToMatch#\n",
      "\t OS-180213 31 #WithMetaData#, #ToMatch#\n",
      "YEAR============= 2019 =================\n",
      "\t E19-100 95 #WithMetaData#, #ToMatch#\n",
      "\t E19-101 88 #WithMetaData#, #ToMatch#\n",
      "\t E19-116 141 #WithMetaData#, #ToMatch#\n",
      "\t E19-131 91 #WithMetaData#, #ToMatch#\n",
      "\t E19-132 64 #WithMetaData#, #ToMatch#\n",
      "\t E19-139 92 #WithMetaData#, #ToMatch#\n",
      "\t E19-141 91 #WithMetaData#, #ToMatch#\n",
      "\t E19-142 95 #WithMetaData#, #ToMatch#\n",
      "\t E19-18 89 #WithMetaData#, #ToMatch#\n",
      "\t E19-27 163 #WithMetaData#, #ToMatch#\n",
      "\t E19-31 105 #WithMetaData#, #ToMatch#\n",
      "\t E19-34 174 #WithMetaData#, #ToMatch#\n",
      "\t E19-35 91 #WithMetaData#, #ToMatch#\n",
      "\t E19-70 127 #WithMetaData#, #ToMatch#\n",
      "\t E19-75 82 #WithMetaData#, #ToMatch#\n",
      "\t E19-79 95 #WithMetaData#, #ToMatch#\n",
      "\t E19-9 94 #WithMetaData#, #ToMatch#\n",
      "\t E19-97 63 #WithMetaData#, #ToMatch#\n",
      "\t E19-99 95 #WithMetaData#, #ToMatch#\n"
     ]
    }
   ],
   "source": [
    "for f in gc.listFolder('638e2da11f75016b81fda12f',parentFolderType='collection'):\n",
    "    print(\"YEAR=============\",f['name'],\"=================\")\n",
    "    ## GEt the subfolders..\n",
    "    for sf in gc.listFolder(f['_id']):\n",
    "        ## So just to confuse things, I don't necessarily have to have a single folder below each case Folder\n",
    "        ## To make things easy, I can just get all the items though, as I don't really care about what sub sub folder things are in\n",
    "        ## See here\n",
    "        #http://candygram.neurology.emory.edu:8080/api/v1#!/resource/resource_getResourceItems_id_items\n",
    "        itemSet = list(gc.getResource(\"resource/%s/items?type=folder&limit=1000\" % sf['_id']))\n",
    "#         for i in itemSet:\n",
    "#             print(\"\\t\\t\",i['name'])\n",
    "        print(\"\\t\",sf['name'],len(itemSet),\"#WithMetaData#, #ToMatch#\")\n",
    "         "
   ]
  },
  {
   "cell_type": "code",
   "execution_count": 7,
   "id": "21961e53",
   "metadata": {},
   "outputs": [],
   "source": [
    "sampPatient = '638e33521f75016b81fdb8d2'  ## 2018 / E18-07"
   ]
  },
  {
   "cell_type": "code",
   "execution_count": 10,
   "id": "475443fb",
   "metadata": {},
   "outputs": [
    {
     "data": {
      "text/plain": [
       "({'Processed': 77, 'girderUpdates': 71, 'slidesToUpdate': 71}, [])"
      ]
     },
     "execution_count": 10,
     "metadata": {},
     "output_type": "execute_result"
    }
   ],
   "source": [
    "hlprs.scanMetadata(gc,{'_id':sampPatient},updateGirder=True)"
   ]
  }
 ],
 "metadata": {
  "kernelspec": {
   "display_name": "Python 3.9.15 ('workWIO')",
   "language": "python",
   "name": "python3"
  },
  "language_info": {
   "codemirror_mode": {
    "name": "ipython",
    "version": 3
   },
   "file_extension": ".py",
   "mimetype": "text/x-python",
   "name": "python",
   "nbconvert_exporter": "python",
   "pygments_lexer": "ipython3",
   "version": "3.9.15"
  },
  "vscode": {
   "interpreter": {
    "hash": "0abf16d6d6a5873c5ad25c93b03767ddd1623fe8cc4ac973b32436fa100ebcbf"
   }
  }
 },
 "nbformat": 4,
 "nbformat_minor": 5
}
