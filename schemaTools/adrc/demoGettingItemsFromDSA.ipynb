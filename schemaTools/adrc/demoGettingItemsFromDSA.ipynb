{
 "cells": [
  {
   "cell_type": "code",
   "execution_count": 1,
   "id": "f11b6348",
   "metadata": {},
   "outputs": [],
   "source": [
    "import girder_client \n",
    "%load_ext autoreload\n",
    "%autoreload 2\n",
    "import adrcSchemaHelpers as hlprs\n",
    "    \n",
    "gc = girder_client.GirderClient(apiUrl=\"http://candygram.neurology.emory.edu:8080/api/v1\")"
   ]
  },
  {
   "cell_type": "code",
   "execution_count": 2,
   "id": "f2db4b68",
   "metadata": {},
   "outputs": [
    {
     "name": "stdout",
     "output_type": "stream",
     "text": [
      "Login or email: admin\n",
      "Password for admin: ········\n"
     ]
    },
    {
     "data": {
      "text/plain": [
       "{'_accessLevel': 2,\n",
       " '_id': '638e2ae7cd1d7fad17b9dd1f',\n",
       " '_modelType': 'user',\n",
       " 'admin': True,\n",
       " 'created': '2022-12-05T17:31:19.547000+00:00',\n",
       " 'email': 'admin@nowhere.nil',\n",
       " 'emailVerified': True,\n",
       " 'firstName': 'Admin',\n",
       " 'groupInvites': [],\n",
       " 'groups': [],\n",
       " 'lastName': 'Admin',\n",
       " 'login': 'admin',\n",
       " 'otp': False,\n",
       " 'public': True,\n",
       " 'size': 0,\n",
       " 'status': 'enabled'}"
      ]
     },
     "execution_count": 2,
     "metadata": {},
     "output_type": "execute_result"
    }
   ],
   "source": [
    "gc.authenticate(interactive=True)"
   ]
  },
  {
   "cell_type": "code",
   "execution_count": 3,
   "id": "75ae2cbe",
   "metadata": {},
   "outputs": [],
   "source": [
    "fldrs = list(gc.listFolder('638e2da11f75016b81fda12f',parentFolderType='collection'))"
   ]
  },
  {
   "cell_type": "code",
   "execution_count": 5,
   "id": "c5d6479f",
   "metadata": {},
   "outputs": [
    {
     "name": "stdout",
     "output_type": "stream",
     "text": [
      "YEAR============= 1986 =================\n"
     ]
    },
    {
     "ename": "NameError",
     "evalue": "name 'sys' is not defined",
     "output_type": "error",
     "traceback": [
      "\u001b[0;31m---------------------------------------------------------------------------\u001b[0m",
      "\u001b[0;31mNameError\u001b[0m                                 Traceback (most recent call last)",
      "Cell \u001b[0;32mIn [5], line 12\u001b[0m\n\u001b[1;32m      9\u001b[0m         itemSet \u001b[38;5;241m=\u001b[39m \u001b[38;5;28mlist\u001b[39m(gc\u001b[38;5;241m.\u001b[39mgetResource(\u001b[38;5;124m\"\u001b[39m\u001b[38;5;124mresource/\u001b[39m\u001b[38;5;132;01m%s\u001b[39;00m\u001b[38;5;124m/items?type=folder&limit=1000\u001b[39m\u001b[38;5;124m\"\u001b[39m \u001b[38;5;241m%\u001b[39m sf[\u001b[38;5;124m'\u001b[39m\u001b[38;5;124m_id\u001b[39m\u001b[38;5;124m'\u001b[39m]))\n\u001b[1;32m     10\u001b[0m \u001b[38;5;66;03m#         for i in itemSet:\u001b[39;00m\n\u001b[1;32m     11\u001b[0m \u001b[38;5;66;03m#             print(\"\\t\\t\",i['name'])\u001b[39;00m\n\u001b[0;32m---> 12\u001b[0m         \u001b[43msys\u001b[49m\u001b[38;5;241m.\u001b[39mexit()\n\u001b[1;32m     13\u001b[0m         hlprs\u001b[38;5;241m.\u001b[39mscanMetadata(gc,sf,updateGirder\u001b[38;5;241m=\u001b[39m\u001b[38;5;28;01mTrue\u001b[39;00m)\n\u001b[1;32m     14\u001b[0m         \u001b[38;5;28mprint\u001b[39m(\u001b[38;5;124m\"\u001b[39m\u001b[38;5;130;01m\\t\u001b[39;00m\u001b[38;5;124m\"\u001b[39m,sf[\u001b[38;5;124m'\u001b[39m\u001b[38;5;124mname\u001b[39m\u001b[38;5;124m'\u001b[39m],\u001b[38;5;28mlen\u001b[39m(itemSet),\u001b[38;5;124m\"\u001b[39m\u001b[38;5;124m#WithMetaData#, #ToMatch#\u001b[39m\u001b[38;5;124m\"\u001b[39m)\n",
      "\u001b[0;31mNameError\u001b[0m: name 'sys' is not defined"
     ]
    }
   ],
   "source": [
    "for f in gc.listFolder('638e2da11f75016b81fda12f',parentFolderType='collection'):\n",
    "    print(\"YEAR=============\",f['name'],\"=================\")\n",
    "    ## GEt the subfolders..\n",
    "    for sf in gc.listFolder(f['_id']):\n",
    "        ## So just to confuse things, I don't necessarily have to have a single folder below each case Folder\n",
    "        ## To make things easy, I can just get all the items though, as I don't really care about what sub sub folder things are in\n",
    "        ## See here\n",
    "        #http://candygram.neurology.emory.edu:8080/api/v1#!/resource/resource_getResourceItems_id_items\n",
    "        itemSet = list(gc.getResource(\"resource/%s/items?type=folder&limit=1000\" % sf['_id']))\n",
    "#         for i in itemSet:\n",
    "#             print(\"\\t\\t\",i['name'])\n",
    "        sys.exit()\n",
    "        hlprs.scanMetadata(gc,sf,updateGirder=True)\n",
    "        print(\"\\t\",sf['name'],len(itemSet),\"#WithMetaData#, #ToMatch#\")\n",
    "    \n",
    "         "
   ]
  },
  {
   "cell_type": "code",
   "execution_count": 6,
   "id": "21961e53",
   "metadata": {},
   "outputs": [
    {
     "data": {
      "text/plain": [
       "[{'_id': '638e62201f75016b81fe5f32',\n",
       "  'baseParentId': '638e2da11f75016b81fda12f',\n",
       "  'baseParentType': 'collection',\n",
       "  'created': '2022-12-05T21:26:56.833000+00:00',\n",
       "  'creatorId': '638e2ae7cd1d7fad17b9dd1f',\n",
       "  'description': '',\n",
       "  'folderId': '638e62201f75016b81fe5f31',\n",
       "  'largeImage': {'fileId': '638e62201f75016b81fe5f33',\n",
       "   'sourceName': 'openslide'},\n",
       "  'lowerName': 'adrc36-04_lhp_ptdp_1to10k.ndpi',\n",
       "  'meta': {},\n",
       "  'name': 'ADRC36-04_LHp_pTDP_1to10k.ndpi',\n",
       "  'size': 1571798445,\n",
       "  'updated': '2022-12-05T21:26:56.833000+00:00'},\n",
       " {'_id': '638e62211f75016b81fe5f34',\n",
       "  'baseParentId': '638e2da11f75016b81fda12f',\n",
       "  'baseParentType': 'collection',\n",
       "  'created': '2022-12-05T21:26:57.570000+00:00',\n",
       "  'creatorId': '638e2ae7cd1d7fad17b9dd1f',\n",
       "  'description': '',\n",
       "  'folderId': '638e62201f75016b81fe5f31',\n",
       "  'largeImage': {'fileId': '638e62211f75016b81fe5f35',\n",
       "   'sourceName': 'openslide'},\n",
       "  'lowerName': 'adrc36-04_f_ptdp-1to10k.ndpi',\n",
       "  'meta': {},\n",
       "  'name': 'ADRC36-04_F_pTDP-1to10K.ndpi',\n",
       "  'size': 2396710830,\n",
       "  'updated': '2022-12-05T21:26:57.570000+00:00'},\n",
       " {'_id': '638e62221f75016b81fe5f36',\n",
       "  'baseParentId': '638e2da11f75016b81fda12f',\n",
       "  'baseParentType': 'collection',\n",
       "  'created': '2022-12-05T21:26:58.657000+00:00',\n",
       "  'creatorId': '638e2ae7cd1d7fad17b9dd1f',\n",
       "  'description': '',\n",
       "  'folderId': '638e62201f75016b81fe5f31',\n",
       "  'largeImage': {'fileId': '638e62221f75016b81fe5f37',\n",
       "   'sourceName': 'openslide'},\n",
       "  'lowerName': 'adrc36-04_rhp_ptdp_1to10k.ndpi',\n",
       "  'meta': {},\n",
       "  'name': 'ADRC36-04_RHp_pTDP_1to10k.ndpi',\n",
       "  'size': 1806125067,\n",
       "  'updated': '2022-12-05T21:26:58.657000+00:00'}]"
      ]
     },
     "execution_count": 6,
     "metadata": {},
     "output_type": "execute_result"
    }
   ],
   "source": [
    "# sampPatient = '638e33521f75016b81fdb8d2'  ## 2018 / E18-07\n",
    "\n",
    "\n",
    "itemSet"
   ]
  },
  {
   "cell_type": "code",
   "execution_count": 10,
   "id": "475443fb",
   "metadata": {},
   "outputs": [
    {
     "data": {
      "text/plain": [
       "({'Processed': 77, 'girderUpdates': 71, 'slidesToUpdate': 71}, [])"
      ]
     },
     "execution_count": 10,
     "metadata": {},
     "output_type": "execute_result"
    }
   ],
   "source": [
    "# hlprs.scanMetadata(gc,{'_id':sampPatient},updateGirder=True)"
   ]
  }
 ],
 "metadata": {
  "kernelspec": {
   "display_name": "Python 3 (ipykernel)",
   "language": "python",
   "name": "python3"
  },
  "language_info": {
   "codemirror_mode": {
    "name": "ipython",
    "version": 3
   },
   "file_extension": ".py",
   "mimetype": "text/x-python",
   "name": "python",
   "nbconvert_exporter": "python",
   "pygments_lexer": "ipython3",
   "version": "3.8.10"
  }
 },
 "nbformat": 4,
 "nbformat_minor": 5
}
