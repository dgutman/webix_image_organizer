{
 "cells": [
  {
   "cell_type": "code",
   "execution_count": 2,
   "id": "26e1b0b1",
   "metadata": {},
   "outputs": [],
   "source": [
    "import girder_client\n",
    "import dagSecrets as dgs\n",
    "import json\n",
    "\n",
    "gc = girder_client.GirderClient(apiUrl=dgs.cbApiUrl)\n",
    "gc.authenticate(apiKey=dgs.cbApiToken)\n",
    "\n",
    "wmAnnotationFolderRootId= '61e99f646dcbd057840f639f'\n",
    "emoryADRCCollectionID = '5f4ad0e0239fccd2dfc30887'\n",
    "regionNames = ['Hippocampus','Amygdala']\n",
    "\n",
    "\n",
    "\n",
    "\n",
    "for rn in regionNames:\n",
    "    params = { \n",
    "        \"parentType\":    \"folder\",\n",
    "        \"parentId\":    wmAnnotationFolderRootId,\n",
    "        \"reuseExisting\":     True, \n",
    "        \"name\":            rn,\n",
    "        \"description\":     rn,\n",
    "        \"isVirtual\":         True,\n",
    "        \"virtualItemsQuery\": json.dumps({\"meta.npSchema.regionName\": {\"$regex\": \".*\"+rn+\".*\",\"$options\":\"i\"},\n",
    "                                         \"meta.npSchema.stainID\": \"aBeta\",\n",
    "                                        'baseParentId': {\"$oid\": emoryADRCCollectionID}})}\n",
    "    gc.post(\"folder\", parameters=params)\n",
    "\n"
   ]
  },
  {
   "cell_type": "code",
   "execution_count": 8,
   "id": "bea9f7d8",
   "metadata": {},
   "outputs": [
    {
     "data": {
      "text/plain": [
       "{'parentType': 'folder',\n",
       " 'parentId': '61e99f646dcbd057840f639f',\n",
       " 'reuseExisting': True,\n",
       " 'name': 'Amygdala',\n",
       " 'description': 'Amygdala',\n",
       " 'isVirtual': True,\n",
       " 'virtualItemsQuery': '{\"meta.npSchema.regionName\": \"/.*Amygdala./i\", \"meta.npSchema.stainID\": \"HE\", \"baseParentId\": {\"$oid\": \"5f4ad0e0239fccd2dfc30887\"}}'}"
      ]
     },
     "execution_count": 8,
     "metadata": {},
     "output_type": "execute_result"
    }
   ],
   "source": [
    "params"
   ]
  },
  {
   "cell_type": "code",
   "execution_count": null,
   "id": "2cfc2f26",
   "metadata": {},
   "outputs": [],
   "source": []
  }
 ],
 "metadata": {
  "kernelspec": {
   "display_name": "Python 3 (ipykernel)",
   "language": "python",
   "name": "python3"
  },
  "language_info": {
   "codemirror_mode": {
    "name": "ipython",
    "version": 3
   },
   "file_extension": ".py",
   "mimetype": "text/x-python",
   "name": "python",
   "nbconvert_exporter": "python",
   "pygments_lexer": "ipython3",
   "version": "3.8.10"
  }
 },
 "nbformat": 4,
 "nbformat_minor": 5
}
