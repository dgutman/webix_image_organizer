{
 "cells": [
  {
   "cell_type": "code",
   "execution_count": 8,
   "id": "457893d8",
   "metadata": {},
   "outputs": [
    {
     "name": "stdout",
     "output_type": "stream",
     "text": [
      "Login or email: admin\n",
      "Password for admin: ········\n"
     ]
    },
    {
     "data": {
      "text/plain": [
       "{'_accessLevel': 2,\n",
       " '_id': '63a1f5ea601e49328cacb25f',\n",
       " '_modelType': 'user',\n",
       " 'admin': True,\n",
       " 'created': '2022-12-20T17:50:33.823000+00:00',\n",
       " 'email': 'admin@nowhere.nil',\n",
       " 'emailVerified': True,\n",
       " 'firstName': 'Admin',\n",
       " 'groupInvites': [],\n",
       " 'groups': [],\n",
       " 'lastName': 'Admin',\n",
       " 'login': 'admin',\n",
       " 'otp': False,\n",
       " 'public': True,\n",
       " 'size': 0,\n",
       " 'status': 'enabled'}"
      ]
     },
     "execution_count": 8,
     "metadata": {},
     "output_type": "execute_result"
    }
   ],
   "source": [
    "## Creating a recursive function to find empty folders\n",
    "\n",
    "import girder_client\n",
    "gc = girder_client.GirderClient(apiUrl=\"http://dermpath.digitalslidearchive.emory.edu:8080/girder/api/v1\")\n",
    "gc.authenticate(interactive=True)\n"
   ]
  },
  {
   "cell_type": "code",
   "execution_count": 11,
   "id": "07a79a5c",
   "metadata": {},
   "outputs": [],
   "source": [
    "topLevelCollection = '63a1f76392940ca1238db1ac'\n",
    "topLevelFolders = list(gc.listFolder(topLevelCollection,parentFolderType='collection'))\n",
    "\n"
   ]
  },
  {
   "cell_type": "code",
   "execution_count": 18,
   "id": "1c881a70",
   "metadata": {},
   "outputs": [],
   "source": [
    "sampleFolder ='5f4adee2239fccd2dfc3a276'\n",
    "from os.path import join\n",
    "fldrRoot = {'relPath':\"/\",'fldrId': '63a1f77f92940ca1238db1af'}\n",
    "\n",
    "\n",
    "def get_items_recursive(fldrRoot, getItemCount=True):\n",
    "#    print(fldrRoot['relPath'])\n",
    "    for subdirs in gc.listFolder(fldrRoot['fldrId']):\n",
    "#         print(subdirs)\n",
    "        subdirs['relPath'] = join(fldrRoot['relPath'],subdirs['name'])\n",
    "        subdirs['fldrId'] = subdirs['_id']\n",
    "        #print(subdirs['relPath'])\n",
    "        yield subdirs\n",
    "        yield from get_items_recursive(subdirs)"
   ]
  },
  {
   "cell_type": "code",
   "execution_count": null,
   "id": "92ce69fd",
   "metadata": {},
   "outputs": [
    {
     "name": "stdout",
     "output_type": "stream",
     "text": [
      "/Arbiser/File 0 0\n",
      "/Arbiser/Huston 14509996 0 0\n",
      "/Arbiser/Shared 0 0\n",
      "/Arbiser/Uploading 0 1\n",
      "/Blalock 0 3\n",
      "/Blalock/Filed 0 0\n",
      "/Blalock/For Uploading/14193981 0 0\n",
      "/Blalock/For Uploading/Adigun#14683429 0 0\n"
     ]
    }
   ],
   "source": [
    "# for f in topLevelFolders:\n",
    "#     print(f['name'])\n",
    "#     fc = get_ipy\n",
    "\n",
    "for f in get_items_recursive(fldrRoot):\n",
    "    itemCount = list(gc.listItem(f['_id']))\n",
    "    ## Check itemCount, if there are no items, also make sure there are no subfolders\n",
    "    if len(itemCount) == 0:\n",
    "        folderCount = list(gc.listFolder(f['_id']))\n",
    "        \n",
    "        print(f['relPath'],len(itemCount),len(folderCount))"
   ]
  },
  {
   "cell_type": "code",
   "execution_count": 12,
   "id": "2e44ecb1",
   "metadata": {},
   "outputs": [
    {
     "name": "stdout",
     "output_type": "stream",
     "text": [
      "[{'_accessLevel': 2, '_id': '63a1f77f92940ca1238db1af', '_modelType': 'folder', 'baseParentId': '63a1f76392940ca1238db1ac', 'baseParentType': 'collection', 'created': '2022-12-20T17:57:19.185000+00:00', 'creatorId': '63a1f5ea601e49328cacb25f', 'description': '', 'meta': {}, 'name': '1525 Emory Clinic', 'parentCollection': 'collection', 'parentId': '63a1f76392940ca1238db1ac', 'public': False, 'publicFlags': [], 'size': 0, 'updated': '2022-12-20T17:57:19.185000+00:00'}, {'_accessLevel': 2, '_id': '63a22ebc92940ca1238df202', '_modelType': 'folder', 'baseParentId': '63a1f76392940ca1238db1ac', 'baseParentType': 'collection', 'created': '2022-12-20T21:53:00.380000+00:00', 'creatorId': '63a1f5ea601e49328cacb25f', 'description': '', 'meta': {}, 'name': 'EUH Clifton Road', 'parentCollection': 'collection', 'parentId': '63a1f76392940ca1238db1ac', 'public': False, 'size': 57530876, 'updated': '2022-12-20T21:53:00.380000+00:00'}, {'_accessLevel': 2, '_id': '63a420b792940ca1239007e8', '_modelType': 'folder', 'baseParentId': '63a1f76392940ca1238db1ac', 'baseParentType': 'collection', 'created': '2022-12-22T09:17:43.396000+00:00', 'creatorId': '63a1f5ea601e49328cacb25f', 'description': '', 'meta': {}, 'name': 'EUH Midtown', 'parentCollection': 'collection', 'parentId': '63a1f76392940ca1238db1ac', 'public': False, 'size': 95471750, 'updated': '2022-12-22T09:17:43.396000+00:00'}, {'_accessLevel': 2, '_id': '63a2542392940ca1238e131d', '_modelType': 'folder', 'baseParentId': '63a1f76392940ca1238db1ac', 'baseParentType': 'collection', 'created': '2022-12-21T00:32:35.002000+00:00', 'creatorId': '63a1f5ea601e49328cacb25f', 'description': '', 'meta': {}, 'name': 'SwerlickImageSet', 'parentCollection': 'collection', 'parentId': '63a1f76392940ca1238db1ac', 'public': False, 'size': 0, 'updated': '2022-12-21T00:32:35.002000+00:00'}]\n"
     ]
    }
   ],
   "source": [
    "# topFolder = Folder().load(id=<id>, force=True)\n",
    "# allFolders = [topFolder]\n",
    "# idx = 0\n",
    "# while idx < len(allFolders):\n",
    "#   allFolders.extend(list(Folder().childFolders(allFolders[idx], 'folder', force=True))\n",
    "#   idx += 1"
   ]
  }
 ],
 "metadata": {
  "kernelspec": {
   "display_name": "Python 3 (ipykernel)",
   "language": "python",
   "name": "python3"
  },
  "language_info": {
   "codemirror_mode": {
    "name": "ipython",
    "version": 3
   },
   "file_extension": ".py",
   "mimetype": "text/x-python",
   "name": "python",
   "nbconvert_exporter": "python",
   "pygments_lexer": "ipython3",
   "version": "3.8.10"
  }
 },
 "nbformat": 4,
 "nbformat_minor": 5
}
