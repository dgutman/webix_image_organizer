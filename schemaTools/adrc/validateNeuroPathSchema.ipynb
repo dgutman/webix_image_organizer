{
 "cells": [
  {
   "cell_type": "code",
   "execution_count": 1,
   "metadata": {},
   "outputs": [
    {
     "data": {
      "text/plain": [
       "{'_id': '5f3d80d2615f2a24eb8fee20'}"
      ]
     },
     "execution_count": 1,
     "metadata": {},
     "output_type": "execute_result"
    }
   ],
   "source": [
    "## The neuropath data at Emory ADRC is currently not particularly well organized\n",
    "## and naming schema is inconsistent.  Working on developing a schema \n",
    "import girder_client\n",
    "import os,sys, json\n",
    "import dagSecrets as dgs\n",
    "from collections import Counter\n",
    "import pandas as pd\n",
    "import pickle\n",
    "import brain_region_maps as brm\n",
    "%load_ext autoreload\n",
    "%autoreload 2\n",
    "import adrcSchemaHelpers as hlprs\n",
    "gc = girder_client.GirderClient(apiUrl=dgs.apiUrl)\n",
    "gc.authenticate(apiKey=dgs.apiToken)"
   ]
  },
  {
   "cell_type": "code",
   "execution_count": 2,
   "metadata": {},
   "outputs": [
    {
     "data": {
      "text/html": [
       "<style>.container { width:100% !important; }</style>"
      ],
      "text/plain": [
       "<IPython.core.display.HTML object>"
      ]
     },
     "metadata": {},
     "output_type": "display_data"
    }
   ],
   "source": [
    "from IPython.core.display import display, HTML\n",
    "display(HTML(\"<style>.container { width:100% !important; }</style>\"))"
   ]
  },
  {
   "cell_type": "code",
   "execution_count": 7,
   "metadata": {},
   "outputs": [],
   "source": [
    "with open(\"npSampleJsonData.json\",\"w\") as fp:\n",
    "    json.dump(npSlideDict,fp)\n",
    "\n"
   ]
  },
  {
   "cell_type": "code",
   "execution_count": 3,
   "metadata": {},
   "outputs": [],
   "source": [
    "npPickleFile = 'npDemoData.pickle'\n",
    "savePickle = True\n",
    "\n",
    "if os.path.isfile(npPickleFile):\n",
    "    with open(npPickleFile,\"rb\") as fp:\n",
    "        npSlideDict=  pickle.load(fp)\n",
    "else:\n",
    "    npSlideDict = hlprs.getADRCcollection(gc)\n",
    "\n",
    "\n",
    "        \n",
    "    if savePickle:\n",
    "\n",
    "        with open(npPickleFile,\"wb\") as fp:\n",
    "            pickle.dump(npSlideDict,fp)\n",
    "\n",
    "    "
   ]
  },
  {
   "cell_type": "code",
   "execution_count": null,
   "metadata": {},
   "outputs": [],
   "source": []
  },
  {
   "cell_type": "code",
   "execution_count": 4,
   "metadata": {},
   "outputs": [],
   "source": [
    "## meta.region  meta.stain  meta.subject\n",
    "basicSlideInfo = []\n",
    "mdKeys = ['region','stain','subject','brain_region']\n",
    "\n",
    "for subjyr in npSlideDict:\n",
    "    for s in npSlideDict[subjyr]:\n",
    "        slideData = {'folderId': subjyr,'slideName':s['name'],'itemId':s['_id']}\n",
    "        \n",
    "        for k in mdKeys:\n",
    "            if k in s['meta']:\n",
    "                slideData[k] = s['meta'][k]\n",
    "        basicSlideInfo.append(slideData)\n",
    "pd.DataFrame(basicSlideInfo).to_csv(\"adrcInitialMetadataExport.csv\")"
   ]
  },
  {
   "cell_type": "code",
   "execution_count": 5,
   "metadata": {},
   "outputs": [
    {
     "name": "stdout",
     "output_type": "stream",
     "text": [
      "Weird pattern for 2009_Gwinnett_consult_A09-09_micro_photos\n",
      "Weird pattern for 2009_OS10_21_09\n",
      "Weird pattern for 2017_OS_170124\n",
      "Weird pattern for 2017_OS_170518\n"
     ]
    }
   ],
   "source": [
    "npByYearCase = {}\n",
    "for k in npSlideDict:\n",
    "    try:\n",
    "        (year,caseId) = k.split(\"_\")\n",
    "        if year not in npByYearCase:\n",
    "            npByYearCase[year]= []\n",
    "            \n",
    "        npByYearCase[year].append(caseId)\n",
    "        \n",
    "    except:\n",
    "        print(\"Weird pattern for\",k)"
   ]
  },
  {
   "cell_type": "code",
   "execution_count": 6,
   "metadata": {},
   "outputs": [],
   "source": [
    "## Will shim to the preferred alias\n",
    "stainAliasDict = { 'PTDP':'pTDP', 'HE':'HE','AB':'aBeta','AB':'AB','ptdp':'pTDP','ubiq':'Ubiq','H&E':'HE' }\n",
    "\n",
    "## For control slides I make the region Control  and also set the controlSlide Flag... not sure what to do about the\n",
    "## slideName..\n",
    "def validateSlide( slideInfo, patientId):\n",
    "    ## This will be a cleanup function that either validates data is meta.npSc,hema is available\n",
    "    ## or tries to populate it from the existing and likely dirty metadata from either parsing the slide name\n",
    "    ## or if meta.region or meta.stain are already populated..\n",
    "    meta = slideInfo['meta']\n",
    "    \n",
    "    ## Will clean up the region and remove the a's\n",
    "    ## Remove the A's if it happens to have been encoded in the region but only if it's not a 1A.. HMM\n",
    "    \n",
    "    if 'npSchema' in meta:\n",
    "        pass\n",
    "    else:\n",
    "        ### First try and validate the region\n",
    "        if 'region' in meta:\n",
    "            blockID = meta['region']\n",
    "            if blockID.startswith('A'):\n",
    "                blockID = blockID.replace(\"A\",\"\")\n",
    "            print(blockID)\n",
    "            return ({'region':meta['region'],'blockID':blockID, 'subject':meta['subject'],'stain':meta['stain'], 'filename':slideInfo['name']})\n",
    "        else:\n",
    "            return ({'filename':slideInfo['name']})\n",
    "            \n",
    "#             print(meta['region'],meta['subject'])\n",
    "            \n"
   ]
  },
  {
   "cell_type": "code",
   "execution_count": null,
   "metadata": {},
   "outputs": [],
   "source": []
  },
  {
   "cell_type": "code",
   "execution_count": 62,
   "metadata": {},
   "outputs": [
    {
     "data": {
      "application/vnd.jupyter.widget-view+json": {
       "model_id": "3a03a1a02ec84910ade38e0928c44e14",
       "version_major": 2,
       "version_minor": 0
      },
      "text/plain": [
       "HBox(children=(Dropdown(description='Year', options=('1986', '1989', '1994', '1996', '1997', '1998', '1999', '…"
      ]
     },
     "metadata": {},
     "output_type": "display_data"
    },
    {
     "data": {
      "application/vnd.jupyter.widget-view+json": {
       "model_id": "683421202cc04d7ab9d9d96b4c989d72",
       "version_major": 2,
       "version_minor": 0
      },
      "text/plain": [
       "Output()"
      ]
     },
     "metadata": {},
     "output_type": "display_data"
    }
   ],
   "source": [
    "from ipywidgets import Dropdown, interactive, HBox, interactive_output\n",
    "from collections import Counter\n",
    "npYearList = list(npByYearCase.keys())\n",
    "\n",
    "dpYear = Dropdown(options=npYearList,description='Year')\n",
    "dpCaseId = Dropdown(options=npByYearCase[npYearList[0]],description='CaseId')\n",
    "\n",
    "\n",
    "def on_change(*args):\n",
    "    value = dpYear.value\n",
    "    dpCaseId.options = npByYearCase[value]\n",
    "dpYear.observe(on_change, names='value')\n",
    "\n",
    "def analyzeNpCase(year, caseId):\n",
    "    ### This will perform an analysis of a folder of images to see the number of slides \n",
    "    ## And check the metadata\n",
    "    npKey = \"%s_%s\" % ( year,caseId)\n",
    "    slideList = npSlideDict[npKey]\n",
    "    \n",
    "    ## Keys of interest\n",
    "    koi = ['region','regionId','subject','stain','Stain','Region']\n",
    "    slideKeys = {}\n",
    "    for k in koi:\n",
    "        slideKeys[k]= []\n",
    "    \n",
    "    caseMeta = [] ## \n",
    "    d=caseMeta ## Exposing this as a global\n",
    "    \n",
    "    for s in slideList:\n",
    "        meta = s['meta']\n",
    "        for k in meta:\n",
    "            if k in koi:\n",
    "                slideKeys[k].append(meta[k])\n",
    "        caseMeta.append( validateSlide(s,caseId) )\n",
    "                \n",
    "                \n",
    "    ## Now go through and make things into counters so it's easier to see\n",
    "    for k in koi:\n",
    "        slideKeys[k] = Counter(slideKeys[k])\n",
    "                \n",
    "    print(\"Unique RegionId Count: %d \\t Distinct SubjID: \\t%d\"% (len(slideKeys['region']),len(slideKeys['subject'])))\n",
    "    print(\"Total slides found: %d\" % len(slideList))  ## Will add in schema maps as well\n",
    "    df = pd.DataFrame(caseMeta)\n",
    "#     print(df)\n",
    "    if 'region' in df.columns:\n",
    "        print(df.region.value_counts())\n",
    "    else:\n",
    "        print(\"region tag not found..\")\n",
    "        print([s['name'] for s in slideList])\n",
    "\n",
    "    \n",
    "ui = HBox([dpYear,dpCaseId])\n",
    "w = interactive_output(analyzeNpCase, {'year':dpYear, 'caseId':dpCaseId})\n",
    "display(ui,w)\n",
    "\n",
    "## Key I am interested in is npSchema going forward\n",
    "## Need to figure out what to do with control slides..  will add a key to the Schema that's optional called controlSlide\n"
   ]
  },
  {
   "cell_type": "code",
   "execution_count": 44,
   "metadata": {},
   "outputs": [
    {
     "data": {
      "text/plain": [
       "{'1': 'Hippocampus',\n",
       " '2': 'Amygdala',\n",
       " '3': 'Frontal cortex',\n",
       " '4': 'Temporal cortex',\n",
       " '5': 'Parietal cortex',\n",
       " '6': 'Occipital cortex',\n",
       " '7': 'Left perirolandic cortex',\n",
       " '8': 'Cingulate cortex',\n",
       " '9': 'Anterior basal ganglia and insular cortex',\n",
       " '10': 'Posterior basal ganglia',\n",
       " '11': 'Hypothalamus',\n",
       " '12': 'Thalamus, with subthalamic nucleus',\n",
       " '13': 'Midbrain',\n",
       " '14': 'Pons',\n",
       " '15': 'Medulla',\n",
       " '16': 'Cerebellum and dentate nucleus',\n",
       " '17': 'Upper spinal cord',\n",
       " '18': 'Mid-level spinal cord',\n",
       " '19': 'Lower spinal cord',\n",
       " '20': 'Dorsal root ganglia'}"
      ]
     },
     "execution_count": 44,
     "metadata": {},
     "output_type": "execute_result"
    }
   ],
   "source": [
    "brm.MAP['A18-07']"
   ]
  },
  {
   "cell_type": "code",
   "execution_count": 60,
   "metadata": {},
   "outputs": [
    {
     "data": {
      "text/plain": [
       "'meh'"
      ]
     },
     "execution_count": 60,
     "metadata": {},
     "output_type": "execute_result"
    }
   ],
   "source": []
  }
 ],
 "metadata": {
  "kernelspec": {
   "display_name": "Python 3",
   "language": "python",
   "name": "python3"
  },
  "language_info": {
   "codemirror_mode": {
    "name": "ipython",
    "version": 3
   },
   "file_extension": ".py",
   "mimetype": "text/x-python",
   "name": "python",
   "nbconvert_exporter": "python",
   "pygments_lexer": "ipython3",
   "version": "3.7.3"
  }
 },
 "nbformat": 4,
 "nbformat_minor": 2
}
