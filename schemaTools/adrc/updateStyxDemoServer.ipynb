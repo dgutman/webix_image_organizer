{
 "cells": [
  {
   "cell_type": "code",
   "execution_count": null,
   "id": "228bfc7d",
   "metadata": {},
   "outputs": [],
   "source": [
    "import girder_client \n",
    "%load_ext autoreload\n",
    "%autoreload 2\n",
    "#import adrcSchemaHelpers as hlprs\n",
    "import metadata_pipeline as mph \n",
    "import brain_region_maps as brm\n",
    "\n",
    "#gc = girder_client.GirderClient(apiUrl=\"https://styx.neurology.emory.edu/girder/api/v1\")\n",
    "gc = girder_client.GirderClient(apiUrl=\"http://candygram.neurology.emory.edu:8080/api/v1\")\n",
    "_ = gc.authenticate(interactive=True)"
   ]
  },
  {
   "cell_type": "code",
   "execution_count": null,
   "id": "98f0a89d",
   "metadata": {},
   "outputs": [],
   "source": [
    "NeuroPathDemoImages_Collection='638e2da11f75016b81fda12f'"
   ]
  },
  {
   "cell_type": "code",
   "execution_count": null,
   "id": "e3ca505e",
   "metadata": {},
   "outputs": [],
   "source": [
    "def getPtSlideDataSummary( slideSetMetaData,debug=True):\n",
    "    ## Expects an array of all of the items below a folder, so for exampel  all of the slides for case E20-73\n",
    "    ## This should then return the number of control slides found, number of files that are missing metadata\n",
    "    ## completely, and also invalid metadata\n",
    "    ctrlSlides = 0\n",
    "    validatedSlides = 0\n",
    "    notValid = 0\n",
    "    slidesToReview = []\n",
    "    \n",
    "    for i in slideSetMetaData:\n",
    "        if 'npSchema' not in i['meta']:\n",
    "            notValid+=1\n",
    "            slidesToReview.append(i)\n",
    "        elif ('controlSlide' in i['meta']['npSchema']):\n",
    "            ctrlSlides+=1\n",
    "        else:\n",
    "            validItem,meta = mph.validateMetadata(i['meta'])\n",
    "            ### Now process errors from \n",
    "            if not validItem:\n",
    "                notValid+=1\n",
    "                slidesToReview.append(i)\n",
    "            else:\n",
    "                validatedSlides+=1\n",
    "    if debug:\n",
    "        pass\n",
    "        #print(\"Valid:%d,Controls:%d,NotValid:%d\" % (validatedSlides,ctrlSlides,notValid))\n",
    "        \n",
    "        \n",
    "    return {\"status\":\"parsed\", \"valid\":validatedSlides,\"controlSlides\": ctrlSlides, \"notValid\": notValid, \"slidesToReview\":slidesToReview}"
   ]
  },
  {
   "cell_type": "code",
   "execution_count": null,
   "id": "5b369a14",
   "metadata": {},
   "outputs": [],
   "source": [
    "# testOutput = mph.populateMetadata(gc, folderID='638e2dea1f75016b81fda132', outputFailed=True)\n"
   ]
  },
  {
   "cell_type": "code",
   "execution_count": null,
   "id": "9cd41d2c",
   "metadata": {
    "scrolled": false
   },
   "outputs": [],
   "source": [
    "## Need to do this on a per case basis\n",
    "needsBrainRegionMap = []\n",
    "slideSummaryData = {}\n",
    "\n",
    "for yrf in gc.listFolder(NeuroPathDemoImages_Collection,parentFolderType='collection'):\n",
    "    year = yrf['name']\n",
    "    if year.isdigit():\n",
    "        slideSummaryData[year] = {} ## Going to create a stats dictionary ordered by year/pt\n",
    "        \n",
    "        for pt in gc.listFolder(yrf['_id']):\n",
    "            slideSummaryData[year][pt['name']] = {}\n",
    "            \n",
    "            if pt['name'] not in brm.MAP:\n",
    "                #print(year,pt['name'],\"Needs Brain Region Map\")\n",
    "                slideSummaryData[year][pt['name']] = {\"status\": \"incomplete\", \"reason\": \"needs brain region map\"}\n",
    "        \n",
    "            else:\n",
    "\n",
    "                ptItemData = mph.getFolderContents(gc,pt['_id']) ### Get all of the items cfor selected year\n",
    "        \n",
    "                stats = getPtSlideDataSummary(ptItemData,debug=True)\n",
    "                slideSummaryData[year][pt['name']] = stats"
   ]
  },
  {
   "cell_type": "code",
   "execution_count": null,
   "id": "da2fdf4d",
   "metadata": {},
   "outputs": [],
   "source": [
    "needsMap = []\n",
    "for yr in slideSummaryData:\n",
    "    for pt in slideSummaryData[yr]:\n",
    "        caseMeta = slideSummaryData[yr][pt]\n",
    "        if caseMeta['status'] == 'parsed':\n",
    "            print(yr,pt,caseMeta['valid'],caseMeta['notValid'])\n",
    "        elif caseMeta['status'] == 'incomplete':\n",
    "            needsMap.append((yr,pt))"
   ]
  },
  {
   "cell_type": "code",
   "execution_count": null,
   "id": "bd56646d",
   "metadata": {},
   "outputs": [],
   "source": [
    "needsMap"
   ]
  },
  {
   "cell_type": "code",
   "execution_count": null,
   "id": "bce44058",
   "metadata": {},
   "outputs": [],
   "source": []
  },
  {
   "cell_type": "code",
   "execution_count": null,
   "id": "e49a8e3f",
   "metadata": {},
   "outputs": [],
   "source": [
    "mph.auditMetadata(gc,collectionID=NeuroPathDemoImages_Collection,outputRecords=True)"
   ]
  },
  {
   "cell_type": "code",
   "execution_count": null,
   "id": "01a76dbc",
   "metadata": {},
   "outputs": [],
   "source": [
    "# folder2020 = '638e81331f75016b81febf39'\n",
    "\n",
    "# itemData2020 = mph.getFolderContents(gc,folder2020)"
   ]
  },
  {
   "cell_type": "code",
   "execution_count": null,
   "id": "28d3e2d8",
   "metadata": {},
   "outputs": [],
   "source": [
    "allNpWorking = []\n",
    "\n",
    "for itm in itemData2020:\n",
    "    if 'meta' in itm and 'npWorking' in itm['meta']:\n",
    "        allNpWorking.append(itm)"
   ]
  },
  {
   "cell_type": "code",
   "execution_count": null,
   "id": "3a4b0ae4",
   "metadata": {},
   "outputs": [],
   "source": [
    "[(x['meta']['npWorking'],x['name']) for x in allNpWorking]"
   ]
  },
  {
   "cell_type": "code",
   "execution_count": null,
   "id": "c7722967",
   "metadata": {},
   "outputs": [],
   "source": [
    "for pt in slideSummaryData['2017'].keys():\n",
    "    s=  slideSummaryData['2017'][pt]\n",
    "    if 'valid' in s:\n",
    "        print('2017',pt,s['valid'],s['notValid'],s['controlSlides'])\n",
    "    "
   ]
  },
  {
   "cell_type": "code",
   "execution_count": null,
   "id": "47229f5e",
   "metadata": {},
   "outputs": [],
   "source": [
    "for i in slideSummaryData['2017']['E17-39']['slidesToReview']:\n",
    "    print(i)"
   ]
  },
  {
   "cell_type": "code",
   "execution_count": null,
   "id": "57c4faeb",
   "metadata": {},
   "outputs": [],
   "source": [
    "allItemData = mph.get"
   ]
  },
  {
   "cell_type": "code",
   "execution_count": null,
   "id": "79136d40",
   "metadata": {},
   "outputs": [],
   "source": [
    "# for y in gc.listFolder(NeuroPathDemoImages_Collection,parentFolderType='collection'):\n",
    "#     if y['name'].startswith('20'):\n",
    "#         for ptId in gc.listFolder(y['_id']):\n",
    "#             print(ptId['name'])\n",
    "#             hlprs.scanMetadata(gc,ptId,updateGirder=True)"
   ]
  },
  {
   "cell_type": "code",
   "execution_count": null,
   "id": "134bdd1f",
   "metadata": {},
   "outputs": [],
   "source": [
    "# ## Now also flatten the views so in the image organizer app I don't have to upload\n",
    "\n",
    "# for y in gc.listFolder(NeuroPathDemoImages_Collection,parentFolderType='collection'):\n",
    "#     if y['name'].startswith('20'):\n",
    "#         for ptId in gc.listFolder(y['_id']):\n",
    "#             gc.addMetadataToFolder(ptId['_id'],{\"isLinear\":True, \"caseViewFlag\":1})"
   ]
  },
  {
   "cell_type": "code",
   "execution_count": null,
   "id": "356d5687",
   "metadata": {},
   "outputs": [],
   "source": [
    "# ### Get a list of every patient ID... this is quick, it's just from the main folder name!!\n",
    "# ptIdList = []\n",
    "\n",
    "# for yrf in gc.listFolder(NeuroPathDemoImages_Collection,parentFolderType='collection'):\n",
    "#     year = yrf['name']\n",
    "#     if year.isdigit():\n",
    "#         for ptf in gc.listFolder(yrf['_id']):\n",
    "# #             print(\"\\t\",ptf['name'])\n",
    "#             ptIdList.append(ptf['name'])"
   ]
  }
 ],
 "metadata": {
  "kernelspec": {
   "display_name": "Python 3 (ipykernel)",
   "language": "python",
   "name": "python3"
  },
  "language_info": {
   "codemirror_mode": {
    "name": "ipython",
    "version": 3
   },
   "file_extension": ".py",
   "mimetype": "text/x-python",
   "name": "python",
   "nbconvert_exporter": "python",
   "pygments_lexer": "ipython3",
   "version": "3.8.10"
  }
 },
 "nbformat": 4,
 "nbformat_minor": 5
}
