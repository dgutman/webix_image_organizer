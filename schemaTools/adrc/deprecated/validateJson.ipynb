{
 "cells": [
  {
   "cell_type": "code",
   "execution_count": null,
   "id": "f90aec81",
   "metadata": {},
   "outputs": [],
   "source": [
    "import girder_client \n",
    "import json\n",
    "import jsonschema\n",
    "from jsonschema import validate\n",
    "\n",
    "%load_ext autoreload\n",
    "%autoreload 2\n",
    "import adrcSchemaHelpers as hlprs\n",
    "\n",
    "\n",
    "gc = girder_client.GirderClient(apiUrl=\"http://candygram.neurology.emory.edu:8080/api/v1\")\n",
    "_ = gc.authenticate(interactive=True)"
   ]
  },
  {
   "cell_type": "code",
   "execution_count": null,
   "id": "908d4863",
   "metadata": {},
   "outputs": [],
   "source": [
    "\n",
    "# ### Additional properties https://support.riverbed.com/apis/steelscript/reschema/jsonschema.html\n",
    "with open(\"adrcNpSchema.json\",\"r\") as fp:\n",
    "    dsaNpSchema = json.load(fp)\n",
    "\n",
    "errDir = ['__cause__', '__class__', '__context__', '__delattr__', '__dict__', '__dir__', '__doc__', '__eq__', '__format__', '__ge__', '__getattribute__', '__gt__', '__hash__', '__init__', '__init_subclass__', '__le__', '__lt__', '__module__', '__ne__', '__new__', '__reduce__', '__reduce_ex__', '__repr__', '__setattr__', '__setstate__', '__sizeof__', '__str__', '__subclasshook__', '__suppress_context__', '__traceback__', '__weakref__',\n",
    "          '_contents', '_matches_type', '_set', '_type_checker', '_word_for_instance_in_error_message', '_word_for_schema_in_error_message',\n",
    "          'absolute_path', 'absolute_schema_path', 'args', 'cause', 'context', 'create_from', 'instance', 'json_path', 'message', 'parent', 'path', 'relative_path', 'relative_schema_path', 'schema', 'schema_path', 'validator', 'validator_value', 'with_traceback'] \n",
    "\n",
    "def validateNPJson(jsonData):\n",
    "    try:\n",
    "        validate(instance=jsonData, schema=dsaNpSchema)\n",
    "    except jsonschema.exceptions.ValidationError as err:\n",
    "#         print(\"START\\n\", err._contents(), \"\\nEND\")\n",
    "        return (False, err._contents())\n",
    "    return (True,)\n",
    "\n",
    "# for i in itemSet:\n",
    "#     if 'meta' in i:\n",
    "#         if 'npSchema' in i['meta']:\n",
    "#             npSchema = i['meta']['npSchema']\n",
    "#             isvalid = validateNPJson(npSchema)\n",
    "#             if not isvalid:\n",
    "#                 print(npSchema)"
   ]
  },
  {
   "cell_type": "code",
   "execution_count": null,
   "id": "8d5077f9",
   "metadata": {},
   "outputs": [],
   "source": [
    "yearsToScan = ['2020'] ### Hard coding some years so I can focus on a smaller subset\n",
    "\n",
    "validated = 0\n",
    "\n",
    "for f in gc.listFolder('638e2da11f75016b81fda12f',parentFolderType='collection'):\n",
    "    if f['name'] in yearsToScan:\n",
    "        print(\"YEAR=============\",f['name'],\"=================\")\n",
    "        ## GEt the subfolders..\n",
    "        for sf in gc.listFolder(f['_id']):\n",
    "            #http://candygram.neurology.emory.edu:8080/api/v1#!/resource/resource_getResourceItems_id_items\n",
    "            itemSet = list(gc.getResource(\"resource/%s/items?type=folder&limit=10\" % sf['_id']))\n",
    "            itemSet1 = [item for item in gc.listResource(\"resource/%s/items?type=folder\" % sf['_id'])]\n",
    "            \n",
    "            print(itemSet,\"\\n\", itemSet1)\n",
    "    #         hlprs.scanMetadata(gc,sf,updateGirder=True)\n",
    "            ## This is where we can modify the scanMetadata file .. if we bundle in the validateNPJson function\n",
    "            ## then we can ONLY update npSchema with valid data, and if the data is NOT valid we probably keep the data\n",
    "            ## but stick it on like  rawSlideMetadata or whatever key you decide you like\n",
    "            for i in itemSet:\n",
    "                if 'meta' in i:\n",
    "                    isValid = validateNPJson(i['meta'])\n",
    "                    \n",
    "                    if not isValid[0]:\n",
    "                        \n",
    "                        errorDict = isValid[1]\n",
    "                        message, problemVal, instance = errorDict[\"message\"], errorDict[\"path\"][-1], errorDict[\"instance\"]\n",
    "                        \n",
    "                        instance = instance if problemVal != \"stainID\" else instance.replace(\"~\", \"\")\n",
    "                        \n",
    "                        i['meta'][\"npSchema\"][problemVal] = message\n",
    "                        gc.addMetadataToItem(i['_id'],i['meta'])\n",
    "                        gc.addMetadataToItem(i['_id'],{'npWorking': {problemVal: instance}})\n",
    "                        \n",
    "                        \n",
    "#                         condition = 'npSchema' in i['meta'] and \"stainID\" in i['meta'][\"npSchema\"] and i['meta'][\"npSchema\"][\"stainID\"] is not None and \"~\" in i['meta'][\"npSchema\"][\"stainID\"]\n",
    "                    \n",
    "#                         if condition:\n",
    "#                             stain = i['meta'][\"npSchema\"][\"stainID\"]\n",
    "#                             i['meta'][\"npSchema\"][\"stainID\"] = \"Stain ID Not Valid\"\n",
    "#                             gc.addMetadataToItem(i['_id'],i['meta'])\n",
    "#                             gc.addMetadataToItem(i['_id'],{'npWorking': {\"stainID\": stain.replace(\"~\", \"\")}})\n",
    "                        \n",
    "#                     if 'npWorking' in i['meta'] and not i['meta']['npWorking']:\n",
    "#                         gc.addMetadataToItem(i['_id'],{'npWorking': None})\n"
   ]
  },
  {
   "cell_type": "code",
   "execution_count": null,
   "id": "c1536ca0",
   "metadata": {},
   "outputs": [],
   "source": [
    "\n",
    "validate(t,dsaNpSchema)"
   ]
  }
 ],
 "metadata": {
  "kernelspec": {
   "display_name": "Python 3 (ipykernel)",
   "language": "python",
   "name": "python3"
  },
  "language_info": {
   "codemirror_mode": {
    "name": "ipython",
    "version": 3
   },
   "file_extension": ".py",
   "mimetype": "text/x-python",
   "name": "python",
   "nbconvert_exporter": "python",
   "pygments_lexer": "ipython3",
   "version": "3.9.15"
  }
 },
 "nbformat": 4,
 "nbformat_minor": 5
}
