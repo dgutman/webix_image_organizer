{
 "cells": [
  {
   "cell_type": "code",
   "execution_count": null,
   "id": "914aee8e",
   "metadata": {},
   "outputs": [],
   "source": [
    "import girder_client\n",
    "%load_ext autoreload\n",
    "%autoreload\n",
    "\n",
    "import pandas as pd\n",
    "import adrcSchemaHelpers as hlprs\n",
    "gc = girder_client.GirderClient(apiUrl=\"http://candygram.neurology.emory.edu:8080/api/v1\")"
   ]
  },
  {
   "cell_type": "code",
   "execution_count": null,
   "id": "2b9ad901",
   "metadata": {},
   "outputs": [],
   "source": [
    "gc.authenticate(interactive=True)"
   ]
  },
  {
   "cell_type": "code",
   "execution_count": null,
   "id": "e2b8556e",
   "metadata": {},
   "outputs": [],
   "source": [
    "folders = [\n",
    "    folder\n",
    "    for folder in gc.listFolder('638e2da11f75016b81fda12f', parentFolderType='collection')]\n",
    "\n",
    "#  _id: internal mongo id\n",
    "#  _modelType: object type (folder, item, or collection -- also annotations but not so relevant)\n",
    "#  baseParentId: collection the item is in\n",
    "#  baseParentType: parent object type (folder, item, or collection -- also annotations but not so relevant)\n",
    "#  created: date created\n",
    "#  creatorId: id of individual who created the item\n",
    "#  description: description of the item\n",
    "#  meta: dictionary of meta data pertaining to item\n",
    "#  name: item name (may be a year, patient id, or other folder/file names)\n",
    "#  parentCollection: *unclear, but told to ignore*\n",
    "#  parentId: id of parent collection\n",
    "#  public: whether item is public or not\n",
    "#  size: size in bytes (or other unit) -- folders show as 0\n",
    "#  updated: datetime of last update"
   ]
  },
  {
   "cell_type": "code",
   "execution_count": null,
   "id": "74f8c0f0",
   "metadata": {},
   "outputs": [],
   "source": [
    "baseURL = \"resource/*/items?type=folder&limit=1000\"\n",
    "\n",
    "itemSet = [\n",
    "    item[\"meta\"][\"npSchema\"]\n",
    "    for folder in folders\n",
    "    for subFolder in gc.listFolder(folder[\"_id\"])\n",
    "    for item in gc.getResource(baseURL.replace(\"*\", subFolder['_id']))\n",
    "    if item[\"meta\"].get(\"npSchema\") is not None\n",
    "    ]\n",
    "    \n",
    "# So just to confuse things, I don't necessarily have to have a single folder below each case Folder\n",
    "# To make things easy, I can just get all the items though, as I don't really care about what sub sub folder things are in\n",
    "# See here\n",
    "# http://candygram.neurology.emory.edu:8080/api/v1#!/resource/resource_getResourceItems_id_items"
   ]
  },
  {
   "cell_type": "code",
   "execution_count": null,
   "id": "1f165845",
   "metadata": {},
   "outputs": [],
   "source": [
    " allVals = {}\n",
    "\n",
    "for item in itemSet:\n",
    "    for (key, val) in item.items():\n",
    "        if allVals.get(key) is None:\n",
    "            allVals[key] = [val]\n",
    "        elif val not in allVals[key]:\n",
    "            allVals[key].append(val)"
   ]
  },
  {
   "cell_type": "code",
   "execution_count": null,
   "id": "6bf54d54",
   "metadata": {},
   "outputs": [],
   "source": [
    "lens = [len(val) for val in allVals.values()]\n",
    "lens = [max(lens) - length for length in lens]"
   ]
  },
  {
   "cell_type": "code",
   "execution_count": null,
   "id": "6a22c1fd",
   "metadata": {},
   "outputs": [],
   "source": [
    "# for pandas to make df from dict, columns must be of equal length, so adding \"val\" number of Nones\n",
    "for key, val in zip(allVals.keys(), lens):\n",
    "    if val:\n",
    "        allVals[key].extend([None] * val)"
   ]
  },
  {
   "cell_type": "code",
   "execution_count": null,
   "id": "dcca81b2",
   "metadata": {},
   "outputs": [],
   "source": [
    "df = pd.DataFrame.from_dict(allVals)\n",
    "df[\"stainMap\"] = None"
   ]
  },
  {
   "cell_type": "code",
   "execution_count": null,
   "id": "c039ad29",
   "metadata": {},
   "outputs": [],
   "source": [
    "stainList = ['ptdp', 'he', 'abeta', 'ubiq', \"tau\", \"biels\", \"syn\", \"p62\", \"lfb\"]\n",
    "filt = (~df[\"stainID\"].isin(stainList)) & (df[\"stainID\"].notna())\n",
    "\n",
    "mappable = df.loc[filt, \"stainID\"].unique().tolist()\n",
    "\n",
    "mappable = {key: val for key in mappable for val in stainList if val in key.lower()}\n",
    "print(mappable)\n",
    "df[\"stainID\"].replace(mappable, inplace=True)\n",
    "\n",
    "# df.loc[filt, \"stainMap\"] = df.loc[filt, \"stainID\"].map((lambda x: any([x.lower() in val for val in stainList])))"
   ]
  },
  {
   "cell_type": "code",
   "execution_count": null,
   "id": "663c6011",
   "metadata": {},
   "outputs": [],
   "source": [
    "filt = df[\"stainMap\"].notna()\n",
    "mappable = df.loc[filt, \"stainID\"].unique().tolist()\n",
    "\n",
    "mappable = {key: val for key in mappable for val in stainList if val in key.lower()}\n",
    "df[\"stainID\"].replace(mappable, inplace=True)"
   ]
  },
  {
   "cell_type": "code",
   "execution_count": null,
   "id": "f9d36008",
   "metadata": {},
   "outputs": [],
   "source": [
    "df.drop(columns=[\\\"stainMap\\\"], inplace=True)\n",
    "\n",
    "for col in df.columns:\n",
    "    counted = df[col].value_counts()\n",
    "    counted.name = \"Count\"\n",
    "    counted.index.name = col\n",
    "    counted.to_csv(f\"./{col}_vals_counted.csv\")"
   ]
  },
  {
   "cell_type": "code",
   "execution_count": null,
   "id": "a199a7e6",
   "metadata": {},
   "outputs": [],
   "source": [
    "df.drop_duplicates(subset=[\"stainID\"], inplace=True)\n",
    "\n",
    "df.to_csv(\"./all_vals.csv\", index=False)"
   ]
  },
  {
   "cell_type": "code",
   "execution_count": null,
   "id": "e57078d5",
   "metadata": {},
   "outputs": [],
   "source": [
    "sampPatient = ['638e33521f75016b81fdb8d2']  ## 2018 / E18-07\""
   ]
  },
  {
   "cell_type": "code",
   "execution_count": null,
   "id": "1ef34152",
   "metadata": {},
   "outputs": [],
   "source": [
    "# for f in gc.listFolder('638e2da11f75016b81fda12f',parentFolderType='collection'):\n",
    "#         for sf in gc.listFolder(f['_id']):\n",
    "#             r,_ = hlprs.scanMetadata(gc, sf, updateGirder=True)\n",
    "#             if r[\"girderUpdates\"] or r[\"slidesToUpdate\"]:\n",
    "#                 print(r)"
   ]
  }
 ],
 "metadata": {
  "kernelspec": {
   "display_name": "Python 3 (ipykernel)",
   "language": "python",
   "name": "python3"
  },
  "language_info": {
   "codemirror_mode": {
    "name": "ipython",
    "version": 3
   },
   "file_extension": ".py",
   "mimetype": "text/x-python",
   "name": "python",
   "nbconvert_exporter": "python",
   "pygments_lexer": "ipython3",
   "version": "3.9.15"
  }
 },
 "nbformat": 4,
 "nbformat_minor": 5
}
