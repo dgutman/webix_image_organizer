{
 "cells": [
  {
   "cell_type": "code",
   "execution_count": 75,
   "id": "52b31bff",
   "metadata": {},
   "outputs": [
    {
     "name": "stdin",
     "output_type": "stream",
     "text": [
      "Login or email:  admin\n",
      "Password for admin:  ········\n"
     ]
    }
   ],
   "source": [
    "import girder_client, os\n",
    "import pandas as pd\n",
    "\n",
    "PAS_files = './PAS_TransplantSlideManifest.csv'\n",
    "emoryRenal_files = \"./emory_renal_PAS_manifest.csv\"\n",
    "\n",
    "gc = girder_client.GirderClient(apiUrl=\"http://transplant.digitalslidearchive.emory.edu:8080/api/v1\")\n",
    "_ = gc.authenticate(interactive=True)"
   ]
  },
  {
   "cell_type": "code",
   "execution_count": 2,
   "id": "e3d52f79",
   "metadata": {},
   "outputs": [],
   "source": [
    "PAS_df = pd.read_csv(PAS_files)\n",
    "emoryRenal_df = pd.read_csv(emoryRenal_files)\n",
    "leePAS_set = list(PAS_df.name)"
   ]
  },
  {
   "cell_type": "code",
   "execution_count": 5,
   "id": "08e5abd1-23be-4d10-bf03-f7064f08d2e2",
   "metadata": {},
   "outputs": [
    {
     "name": "stdout",
     "output_type": "stream",
     "text": [
      "6434\n"
     ]
    }
   ],
   "source": [
    "## Scan the tx slide raw set\n",
    "txSlidesRaw = '5cf820a91ee779b5180282c4'\n",
    "print(len(allTxSlidesRaw))"
   ]
  },
  {
   "cell_type": "code",
   "execution_count": 78,
   "id": "91e0f9e7-f237-40ba-a918-4b0896b43f33",
   "metadata": {},
   "outputs": [],
   "source": [
    "## Key fields are caseId and/or accesionNumber, stain, stainID, blockID\n",
    "from pprint import pprint\n",
    "import tqdm\n",
    "stainID_to_stain = { \"L1\" : \"HE\", \"L2\": \"HE\", \"L3\": \"HE\", \"MT\":\"MT\",\"PAS\":\"PAS\",\"JMS\":\"JMS\",\"C4D\":\"C4D\", \"HE\":\"HE\",\"TRICH\":\"TRICH\",\"TRI\":\"TRICH\"}\n",
    "\n",
    "def scanSlidesForBaseMetadata( slideItemInfo ):\n",
    "    slideMeta = slideItemInfo['meta']\n",
    "\n",
    "    if 'stain' not in slideMeta.keys():\n",
    "        ## Fix the cases where stainID is present, but stain is not..\n",
    "        if 'stainID' in slideMeta.keys():\n",
    "            if slideMeta['stainID'] in stainID_to_stain:\n",
    "                ### Update the metadata\n",
    "                \n",
    "                slideMeta['stain'] = stainID_to_stain[slideMeta['stainID']]\n",
    "                gc.addMetadataToItem(slideItemInfo['_id'], slideMeta)\n",
    "\n",
    "        if ('accessionNumber' not in slideMeta.keys() ) or ( 'caseID' not in slideMeta.keys() ):\n",
    "            print(slideItemInfo['name'])\n",
    "    \n",
    "              "
   ]
  },
  {
   "cell_type": "code",
   "execution_count": 84,
   "id": "20217f94-cfb0-48e7-b184-395a48a2c39d",
   "metadata": {},
   "outputs": [
    {
     "name": "stderr",
     "output_type": "stream",
     "text": [
      "100%|██████████████████████████████████| 6434/6434 [00:00<00:00, 1507437.82it/s]"
     ]
    },
    {
     "name": "stdout",
     "output_type": "stream",
     "text": [
      "S14-1897 TRICH-001.svs\n",
      "S15-3644_L5 HE-001.svs\n",
      "1031480.svs\n"
     ]
    },
    {
     "name": "stderr",
     "output_type": "stream",
     "text": [
      "\n"
     ]
    }
   ],
   "source": [
    "allTxSlidesRaw = gc.get(f'resource/{txSlidesRaw}/items?limit=0&type=collection')\n",
    "\n",
    "for s in tqdm.tqdm(allTxSlidesRaw):\n",
    "    if ('.svs' in s['name']) or ('.ndpi' in s['name'] ): \n",
    "    \n",
    "        slideStatus = scanSlidesForBaseMetadata( s)\n"
   ]
  },
  {
   "cell_type": "code",
   "execution_count": 85,
   "id": "848a8c84-6f24-4e91-bba7-c98f6791f391",
   "metadata": {},
   "outputs": [],
   "source": [
    "import pandas as pd\n",
    "\n",
    "df = pd.json_normalize(allTxSlidesRaw)"
   ]
  },
  {
   "cell_type": "code",
   "execution_count": 68,
   "id": "bf9a9fa2-b84f-498f-990f-756ba73e731a",
   "metadata": {},
   "outputs": [],
   "source": [
    "fldrIDtoName = {}\n",
    "\n",
    "for fldrId in df.folderId.unique():\n",
    "    if fldrId not in fldrIDtoName:\n",
    "        fldrInfo = gc.getFolder(fldrId)\n",
    "        fldrIDtoName[fldrId] = fldrInfo['name']"
   ]
  },
  {
   "cell_type": "code",
   "execution_count": 70,
   "id": "0d8477a5-59b8-43d3-b0fb-aac4115b3855",
   "metadata": {},
   "outputs": [],
   "source": [
    "df['folderName'] = df['folderId'].map(fldrIDtoName)"
   ]
  },
  {
   "cell_type": "code",
   "execution_count": 86,
   "id": "ca7cf656-319a-45d1-a673-450ce06ec238",
   "metadata": {},
   "outputs": [],
   "source": [
    "df.to_excel(\"allTxSlideMeta.xlsx\")"
   ]
  },
  {
   "cell_type": "code",
   "execution_count": 73,
   "id": "b2fc9aa9-3841-4b80-8f63-759dcfa47d53",
   "metadata": {},
   "outputs": [
    {
     "name": "stdout",
     "output_type": "stream",
     "text": [
      "Collecting openpyxl\n",
      "  Downloading openpyxl-3.1.2-py2.py3-none-any.whl (249 kB)\n",
      "\u001b[2K     \u001b[90m━━━━━━━━━━━━━━━━━━━━━━━━━━━━━━━━━━━━━━━\u001b[0m \u001b[32m250.0/250.0 kB\u001b[0m \u001b[31m7.4 MB/s\u001b[0m eta \u001b[36m0:00:00\u001b[0m\n",
      "\u001b[?25hCollecting et-xmlfile (from openpyxl)\n",
      "  Downloading et_xmlfile-1.1.0-py3-none-any.whl (4.7 kB)\n",
      "Installing collected packages: et-xmlfile, openpyxl\n",
      "Successfully installed et-xmlfile-1.1.0 openpyxl-3.1.2\n",
      "\n",
      "\u001b[1m[\u001b[0m\u001b[34;49mnotice\u001b[0m\u001b[1;39;49m]\u001b[0m\u001b[39;49m A new release of pip is available: \u001b[0m\u001b[31;49m23.1.2\u001b[0m\u001b[39;49m -> \u001b[0m\u001b[32;49m23.3.1\u001b[0m\n",
      "\u001b[1m[\u001b[0m\u001b[34;49mnotice\u001b[0m\u001b[1;39;49m]\u001b[0m\u001b[39;49m To update, run: \u001b[0m\u001b[32;49mpip install --upgrade pip\u001b[0m\n"
     ]
    }
   ],
   "source": [
    "!pip install openpyxl"
   ]
  },
  {
   "cell_type": "code",
   "execution_count": 3,
   "id": "1a7999cd",
   "metadata": {},
   "outputs": [],
   "source": [
    "pasStainID = gc.listItem('5e74d90608e43602a864db55')\n",
    "addlPASslides = []\n",
    "\n",
    "for x in pasStainID:\n",
    "    if x['name'] not in leePAS_set:\n",
    "        addlPASslides.append(x)\n"
   ]
  },
  {
   "cell_type": "code",
   "execution_count": 11,
   "id": "0eaa81c1-f6c5-4c05-9c5d-bad7325d9fd7",
   "metadata": {},
   "outputs": [
    {
     "data": {
      "text/plain": [
       "752"
      ]
     },
     "execution_count": 11,
     "metadata": {},
     "output_type": "execute_result"
    }
   ],
   "source": [
    "len(leePAS_set)"
   ]
  },
  {
   "cell_type": "code",
   "execution_count": 7,
   "id": "369d2306-2ff8-444c-9ba5-4dcda0443f7b",
   "metadata": {},
   "outputs": [
    {
     "name": "stdout",
     "output_type": "stream",
     "text": [
      "1019366.svs\n",
      "1019431.svs\n",
      "1019639.svs\n",
      "1019644.svs\n",
      "1020250.svs\n",
      "1021356.svs\n",
      "1021412.svs\n",
      "1022635.svs\n",
      "1022740.svs\n",
      "1022994.svs\n",
      "1023024.svs\n",
      "1027464.svs\n",
      "1027479.svs\n",
      "1027509.svs\n",
      "1027511.svs\n",
      "1027528.svs\n",
      "132495-a PAS - 2021-02-17 14.18.56.ndpi\n",
      "136023-a PAS - 2021-02-18 10.13.03.ndpi\n",
      "136023-a PAS - 2021-02-18 10.15.26.ndpi\n",
      "137052-a PAS - 2021-02-18 10.18.49.ndpi\n",
      "137052-a PAS - 2021-02-18 10.20.10.ndpi\n",
      "137388-a PAS - 2021-02-18 10.42.12.ndpi\n",
      "137588 PAS - 2021-02-18 10.34.10.ndpi\n",
      "137588 PAS - 2021-02-18 10.40.58.ndpi\n",
      "Bela AR 001-01 PAS ADD.svs\n",
      "Bela AR 001-01 PAS.svs\n",
      "Bela AR 004-01 PAS ADD.svs\n",
      "Bela AR 004-01 PAS.svs\n",
      "Bela AR 004-02 PAS ADD.svs\n",
      "Bela AR 004-02 PAS.svs\n",
      "Bela AR 005-01 PAS ADD.svs\n",
      "Bela AR 005-01 PAS.svs\n",
      "Bela AR 006-01 PAS ADD.svs\n",
      "Bela AR 006-01 PAS.svs\n",
      "Bela AR 007-01 PAS ADD.svs\n",
      "Bela AR 007-01 PAS.svs\n",
      "Bela AR 008-01 PAS ADD.svs\n",
      "Bela AR 008-01 PAS.svs\n",
      "Bela AR 009-01 PAS ADD.svs\n",
      "Bela AR 009-01 PAS.svs\n",
      "Bela AR 010-01 PAS ADD.svs\n",
      "Bela AR 010-01 PAS.svs\n",
      "Bela AR 015-01 PAS ADD.svs\n",
      "Bela AR 015-01 PAS.svs\n",
      "Bela-AR 020-02 PASADD.svs\n",
      "Bela-AR 021-01 PAS.svs\n",
      "Bela-AR 021-01 PASADD.svs\n",
      "Bela-AR 021-02 PAS.svs\n",
      "Bela-AR 021-02 PASADD.svs\n",
      "S13-1132_L2_L11 PAS.svs\n",
      "S13-1150_L2_L11 PAS.svs\n",
      "S13-1170_L2_L11 PAS.svs\n",
      "S13-1206_L2_L11 PAS.svs\n",
      "S13-1221_L2_L11 PAS.svs\n",
      "S13-1489_L2_L11 PAS.svs\n",
      "S13-1552_L2_L11 PAS.svs\n",
      "S13-2108_L2_L11 PAS.svs\n",
      "S13-2258_L2_L11 PAS.svs\n",
      "S13-2353_L2_L11 PAS.svs\n",
      "S13-253_L2_PAS.svs\n",
      "S13-2573_L2_L11 PAS.svs\n",
      "S13-3002_L11_PAS.svs\n",
      "S13-3002_L11_PAS.svs\n",
      "S13-3002_L11_PAS.svs\n",
      "S13-3210_L2.11_PAS.svs\n",
      "S13-321_L2_PAS.svs\n",
      "S13-3277_L11_PAS.svs\n",
      "S13-3301_L11_PAS.svs\n",
      "S13-3535_L12.L11_PAS.svs\n",
      "S13-3721_L11_PAS.svs\n",
      "S13-3733_L11_PAS.svs\n",
      "S13-3780_L11_PAS.svs\n",
      "S13-3851_L11_PAS.svs\n",
      "S13-449_L2_PAS.svs\n",
      "S13-647_L2 PAS.svs\n",
      "S13-670_L2 PAS.svs\n",
      "S13-741_L2 PAS.svs\n",
      "S13-801_L2 PAS.svs\n",
      "S13-810_L2 PAS.svs\n",
      "S13-828_L2 PAS.svs\n",
      "S13-935_L2 PAS.svs\n",
      "S13-994_L2 PAS.svs\n",
      "S14-1006_L2_L11 PAS.svs\n",
      "S14-1017_L2_L11 PAS.svs\n",
      "S14-1052_L2_L11 PAS.svs\n",
      "S14-1150_L2_L11 PAS.svs\n",
      "S14-1151_L2_L11 PAS.svs\n",
      "S14-1210_L2_L11 PAS.svs\n",
      "S14-1310_L2_L11 PAS.svs\n",
      "S14-13_L2_L11 PAS.svs\n",
      "S14-1509_L2_L11 PAS.svs\n",
      "S14-1540_L2_L11 PAS.svs\n",
      "S14-1544_L2_L11 PAS.svs\n",
      "S14-1604_L2_L11 PAS.svs\n",
      "S14-164_L2_L11 PAS.svs\n",
      "S14-171_L2_L11 PAS.svs\n",
      "S14-1_L2_L11 PAS.svs\n",
      "S14-2005_L2_L11 PAS.svs\n",
      "S14-2013_L2_L11 PAS.svs\n",
      "S14-2178_L11_PAS.svs\n",
      "S14-2276_L11_PAS.svs\n",
      "S14-2371_L11_PAS.svs\n",
      "S14-2480_L11_PAS.svs\n",
      "S14-2502_L11_PAS.svs\n",
      "S14-251_L2_L11 PAS.svs\n",
      "S14-2604_L11_PAS.svs\n",
      "S14-2609_L11_PAS.svs\n",
      "S14-2618_L11_PAS.svs\n",
      "S14-2649_L11_PAS.svs\n",
      "S14-2722_L11_PAS.svs\n",
      "S14-2750_L11_PAS.svs\n",
      "S14-2757_L11_PAS.svs\n",
      "S14-2793_L11_PAS.svs\n",
      "S14-2798_L11_PAS.svs\n",
      "S14-2867_L11_PAS.svs\n",
      "S14-3129_L11_PAS.svs\n",
      "S14-3150_L11_PAS.svs\n",
      "S14-3288_11_PAS.svs\n",
      "S14-3355_L11_PAS.svs\n",
      "S14-391_L2_L11 PAS.svs\n",
      "S14-393_L2_L11 PAS.svs\n",
      "S14-422_L11_PAS.svs\n",
      "S14-525_L2_L11 PAS.svs\n",
      "S14-554_L2_L11 PAS.svs\n",
      "S14-670_L2_L11 PAS.svs\n",
      "S14-798_L2_L11 PAS.svs\n",
      "S14-965_L2_L11 PAS.svs\n",
      "S15-1020_L11 PAS.svs\n",
      "S15-1223_L11 PAS.svs\n",
      "S15-1227_L11 PAS.svs\n",
      "S15-125_L11_PAS.svs\n",
      "S15-138_L11_PAS.svs\n",
      "S15-1627_L11 PAS.svs\n",
      "S15-1649_L11 PAS.svs\n",
      "S15-1697_L11 PAS.svs\n",
      "S15-1701_L11 PAS.svs\n",
      "S15-170_L11_PAS.svs\n",
      "S15-1755_L11 PAS.svs\n",
      "S15-1803_L11 PAS.svs\n",
      "S15-1882_L11 PAS.svs\n",
      "S15-1910_L11 PAS.svs\n",
      "S15-1921_L11 PAS.svs\n",
      "S15-203_L11_PAS.svs\n",
      "S15-2195_L2_L11 PAS.svs\n",
      "S15-2196_L11_PAS.svs\n",
      "S15-2243_L11_PAS.svs\n",
      "S15-2243_L11_PAS.svs\n",
      "S15-2351_L11_PAS.svs\n",
      "S15-2387_L2_L11 PAS.svs\n",
      "S15-2449_L2_L11 PAS.svs\n",
      "S15-2521_L2_L11 PAS.svs\n",
      "S15-2540_L2_L11 PAS.svs\n",
      "S15-2544_L2_L11 PAS.svs\n",
      "S15-2569_L2_L11 PAS.svs\n",
      "S15-2571_L2_L11 PAS.svs\n",
      "S15-2592_L2_L11 PAS.svs\n",
      "S15-2633_L2_L11 PAS.svs\n",
      "S15-2668_L2_L11 PAS.svs\n",
      "S15-2695_L2_L11 PAS.svs\n",
      "S15-2740_L9 PAS.svs\n",
      "S15-2741_L2_L11 PAS.svs\n",
      "S15-2789_L2_L11 PAS.svs\n",
      "S15-2838_L2_L11 PAS.svs\n",
      "S15-2852_L2_L11 PAS.svs\n",
      "S15-2872_L2_L11 PAS.svs\n",
      "S15-2892_L2_L11 PAS.svs\n",
      "S15-2908_L2_L11 PAS.svs\n",
      "S15-2913_L2_L11 PAS.svs\n",
      "S15-3079_L2_L11 PAS.svs\n",
      "S15-3110_L2_L11 PAS.svs\n",
      "S15-3128_L2_L11 PAS.svs\n",
      "S15-3158_L2_L11 PAS.svs\n",
      "S15-3171_L2_L11 PAS.svs\n",
      "S15-33_L2_L11 PAS.svs\n",
      "S15-3505_L2_L11 PAS.svs\n",
      "S15-3534_L2_L11 PAS.svs\n",
      "S15-3634_L2_L11 PAS.svs\n",
      "S15-3642_L2_L11 PAS.svs\n",
      "S15-3644_L2_L11 PAS.svs\n",
      "S15-3694_L2_L11 PAS.svs\n",
      "S15-3735_L2_L11 PAS.svs\n",
      "S15-3747_L2_L11 PAS.svs\n",
      "S15-3954_L2_L11 PAS.svs\n",
      "S15-3990_L2_L11 PAS.svs\n",
      "S15-4023_L2_L11 PAS.svs\n",
      "S15-402_L11_PAS.svs\n",
      "S15-404_L11_PAS.svs\n",
      "S15-4090_L2_L11 PAS.svs\n",
      "S15-4108_L2_L11 PAS.svs\n",
      "S15-4270_L2_L11 PAS.svs\n",
      "S15-4280_L2_L11 PAS.svs\n",
      "S15-428_L2_L11 PAS.svs\n",
      "S15-593_L11_PAS.svs\n",
      "S15-597_L11_PAS.svs\n",
      "S15-664_L11 PAS.svs\n",
      "S15-688_L11 PAS.svs\n",
      "S15-903_L11 PAS.svs\n",
      "S16-104_L2_L11 PAS.svs\n",
      "S16-104_L2_L11 PAS.svs\n",
      "S16-11_L2_L11 PAS.svs\n",
      "S16-143_L2_L11 PAS.svs\n",
      "S16-54_L2_L11 PAS.svs\n",
      "h0132495-A PAS - 2021-01-06 12.25.50.ndpi\n",
      "h0132495-A PAS - 2021-01-06 12.28.19.ndpi\n"
     ]
    }
   ],
   "source": [
    "# for i in addlPASslides:\n",
    "#     print(i['name'])\n",
    "#     gc.post(f'item/{i[\"_id\"]}/copy?folderId=657344581d7b68d83c12d049')"
   ]
  },
  {
   "cell_type": "code",
   "execution_count": 5,
   "id": "0af8d452-a3c9-41a6-9611-9c5fd77cf7eb",
   "metadata": {},
   "outputs": [],
   "source": [
    "belaFolderId = '5cf821711ee779b5180284fd'\n",
    "\n",
    "\n"
   ]
  },
  {
   "cell_type": "code",
   "execution_count": 87,
   "id": "3e5f62b3-6ac2-4b01-9d96-37f0a58ff55b",
   "metadata": {},
   "outputs": [
    {
     "data": {
      "text/plain": [
       "6434"
      ]
     },
     "execution_count": 87,
     "metadata": {},
     "output_type": "execute_result"
    }
   ],
   "source": [
    "len(allTxSlidesRaw)"
   ]
  },
  {
   "cell_type": "code",
   "execution_count": 25,
   "id": "d354d90b-6c70-4129-9c91-659dc3d50ad2",
   "metadata": {},
   "outputs": [
    {
     "name": "stdout",
     "output_type": "stream",
     "text": [
      "433\n"
     ]
    }
   ],
   "source": [
    "addlPasSlides = []\n",
    "\n",
    "for s in allTxSlidesRaw:\n",
    "    if 'pas' in s['name'].lower():\n",
    "        if (s['name'] not in leePAS_set):\n",
    "            addlPasSlides.append(s)\n",
    "    # elif 'stain' in s['meta'].keys():\n",
    "    #     print(s['meta'])\n",
    "    elif 'PAS' in s['meta'].values():\n",
    "        if (s['name'] not in leePAS_set):\n",
    "            # print(s['meta'])\n",
    "            addlPasSlides.append(s)\n",
    "\n",
    "\n",
    "print(len(addlPasSlides))"
   ]
  },
  {
   "cell_type": "code",
   "execution_count": null,
   "id": "f58f9f82-ce3c-43a6-899f-929f22c1fd23",
   "metadata": {},
   "outputs": [],
   "source": []
  },
  {
   "cell_type": "code",
   "execution_count": 5,
   "id": "a0421883",
   "metadata": {},
   "outputs": [],
   "source": [
    "import json\n",
    "with open(\"fileDataForLee.json\",\"w\") as fp:\n",
    "    json.dump(addlPASslides, fp)"
   ]
  }
 ],
 "metadata": {
  "kernelspec": {
   "display_name": "Python 3 (ipykernel)",
   "language": "python",
   "name": "python3"
  },
  "language_info": {
   "codemirror_mode": {
    "name": "ipython",
    "version": 3
   },
   "file_extension": ".py",
   "mimetype": "text/x-python",
   "name": "python",
   "nbconvert_exporter": "python",
   "pygments_lexer": "ipython3",
   "version": "3.11.4"
  }
 },
 "nbformat": 4,
 "nbformat_minor": 5
}
