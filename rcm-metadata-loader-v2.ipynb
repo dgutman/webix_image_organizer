{
 "cells": [
  {
   "cell_type": "markdown",
   "metadata": {},
   "source": [
    "# This will load the data from BOX into a DSA instance As well as coordinate metadata"
   ]
  },
  {
   "cell_type": "code",
   "execution_count": 4,
   "metadata": {},
   "outputs": [],
   "source": [
    "import girder_client\n",
    "from dotenv import load_dotenv\n",
    "import os\n",
    "import concurrent.futures\n"
   ]
  },
  {
   "cell_type": "code",
   "execution_count": 9,
   "metadata": {},
   "outputs": [
    {
     "data": {
      "text/plain": [
       "{'_id': '638e2ae7cd1d7fad17b9dd1f'}"
      ]
     },
     "execution_count": 9,
     "metadata": {},
     "output_type": "execute_result"
    }
   ],
   "source": [
    "## Connect to the girder_client \n",
    "load_dotenv()\n",
    "\n",
    "gc = girder_client.GirderClient(apiUrl=\"https://candygram.neurology.emory.edu/api/v1\")\n",
    "gc.authenticate(apiKey=os.getenv(\"GIRDER_API_KEY\"))"
   ]
  },
  {
   "cell_type": "code",
   "execution_count": null,
   "metadata": {},
   "outputs": [
    {
     "name": "stdout",
     "output_type": "stream",
     "text": [
      "Case13\n"
     ]
    },
    {
     "ename": "IsADirectoryError",
     "evalue": "[Errno 21] Is a directory: '/Users/dagutman/Downloads/RegisteredCases/Case13/V46/VivaBlock #5'",
     "output_type": "error",
     "traceback": [
      "\u001b[0;31m---------------------------------------------------------------------------\u001b[0m",
      "\u001b[0;31mIsADirectoryError\u001b[0m                         Traceback (most recent call last)",
      "Cell \u001b[0;32mIn[10], line 83\u001b[0m\n\u001b[1;32m     81\u001b[0m \u001b[38;5;28;01mfor\u001b[39;00m dicomFolder \u001b[38;5;129;01min\u001b[39;00m nestedInputFolderData:\n\u001b[1;32m     82\u001b[0m     \u001b[38;5;28mprint\u001b[39m(dicomFolder)\n\u001b[0;32m---> 83\u001b[0m     \u001b[43mloadRCMDicomDataSet\u001b[49m\u001b[43m(\u001b[49m\u001b[43m \u001b[49m\u001b[43mmISIC_baseFolderPath\u001b[49m\u001b[43m,\u001b[49m\u001b[43m \u001b[49m\u001b[43mdicomFolder\u001b[49m\u001b[43m,\u001b[49m\u001b[43m \u001b[49m\u001b[43mnestedInputFolderData\u001b[49m\u001b[43m[\u001b[49m\u001b[43mdicomFolder\u001b[49m\u001b[43m]\u001b[49m\u001b[43m)\u001b[49m\n",
      "Cell \u001b[0;32mIn[10], line 73\u001b[0m, in \u001b[0;36mloadRCMDicomDataSet\u001b[0;34m(rootFolder, dicomID, directorySet)\u001b[0m\n\u001b[1;32m     71\u001b[0m \u001b[38;5;28;01mfor\u001b[39;00m lf \u001b[38;5;129;01min\u001b[39;00m localFileList:\n\u001b[1;32m     72\u001b[0m     \u001b[38;5;28;01mif\u001b[39;00m lf \u001b[38;5;129;01mnot\u001b[39;00m \u001b[38;5;129;01min\u001b[39;00m uploadedFileNames:\n\u001b[0;32m---> 73\u001b[0m         uploadedImageFile \u001b[38;5;241m=\u001b[39m \u001b[43mgc\u001b[49m\u001b[38;5;241;43m.\u001b[39;49m\u001b[43muploadFileToFolder\u001b[49m\u001b[43m(\u001b[49m\n\u001b[1;32m     74\u001b[0m \u001b[43m            \u001b[49m\u001b[43mimgFolder\u001b[49m\u001b[43m[\u001b[49m\u001b[38;5;124;43m\"\u001b[39;49m\u001b[38;5;124;43m_id\u001b[39;49m\u001b[38;5;124;43m\"\u001b[39;49m\u001b[43m]\u001b[49m\u001b[43m,\u001b[49m\u001b[43m \u001b[49m\u001b[43mfilepath\u001b[49m\u001b[38;5;241;43m=\u001b[39;49m\u001b[43mos\u001b[49m\u001b[38;5;241;43m.\u001b[39;49m\u001b[43mpath\u001b[49m\u001b[38;5;241;43m.\u001b[39;49m\u001b[43mjoin\u001b[49m\u001b[43m(\u001b[49m\u001b[43mlocalImgFolderPath\u001b[49m\u001b[43m,\u001b[49m\u001b[43m \u001b[49m\u001b[43mlf\u001b[49m\u001b[43m)\u001b[49m\n\u001b[1;32m     75\u001b[0m \u001b[43m        \u001b[49m\u001b[43m)\u001b[49m\n\u001b[1;32m     76\u001b[0m         \u001b[38;5;28mprint\u001b[39m(uploadedImageFile[\u001b[38;5;124m\"\u001b[39m\u001b[38;5;124mname\u001b[39m\u001b[38;5;124m\"\u001b[39m])\n",
      "File \u001b[0;32m~/.pyenv/versions/3.11.4/lib/python3.11/site-packages/girder_client/__init__.py:957\u001b[0m, in \u001b[0;36mGirderClient.uploadFileToFolder\u001b[0;34m(self, folderId, filepath, reference, mimeType, filename, progressCallback)\u001b[0m\n\u001b[1;32m    953\u001b[0m \u001b[38;5;28;01mif\u001b[39;00m mimeType \u001b[38;5;129;01mis\u001b[39;00m \u001b[38;5;28;01mNone\u001b[39;00m:\n\u001b[1;32m    954\u001b[0m     \u001b[38;5;66;03m# Attempt to guess MIME type if not passed explicitly\u001b[39;00m\n\u001b[1;32m    955\u001b[0m     mimeType, _ \u001b[38;5;241m=\u001b[39m mimetypes\u001b[38;5;241m.\u001b[39mguess_type(filepath)\n\u001b[0;32m--> 957\u001b[0m \u001b[38;5;28;01mwith\u001b[39;00m \u001b[38;5;28;43mopen\u001b[39;49m\u001b[43m(\u001b[49m\u001b[43mfilepath\u001b[49m\u001b[43m,\u001b[49m\u001b[43m \u001b[49m\u001b[38;5;124;43m'\u001b[39;49m\u001b[38;5;124;43mrb\u001b[39;49m\u001b[38;5;124;43m'\u001b[39;49m\u001b[43m)\u001b[49m \u001b[38;5;28;01mas\u001b[39;00m f:\n\u001b[1;32m    958\u001b[0m     \u001b[38;5;28;01mreturn\u001b[39;00m \u001b[38;5;28mself\u001b[39m\u001b[38;5;241m.\u001b[39muploadStreamToFolder(folderId, f, filename, filesize, reference, mimeType,\n\u001b[1;32m    959\u001b[0m                                      progressCallback)\n",
      "\u001b[0;31mIsADirectoryError\u001b[0m: [Errno 21] Is a directory: '/Users/dagutman/Downloads/RegisteredCases/Case13/V46/VivaBlock #5'"
     ]
    }
   ],
   "source": [
    "# This folder contains the individual Case Folders from Dr. Kose to be loaded into the DSA\n",
    "base_path = \"/Users/dagutman/Downloads/RegisteredCases/\"\n",
    "\n",
    "rootDataFolder = [\n",
    "    d for d in os.listdir(base_path) if os.path.isdir(os.path.join(base_path, d))\n",
    "]\n",
    "nestedInputFolderData = {}\n",
    "\n",
    "for rdf in rootDataFolder:\n",
    "    cur_base_path = os.path.join(base_path, rdf)\n",
    "    directories = [\n",
    "        d\n",
    "        for d in os.listdir(cur_base_path)\n",
    "        if os.path.isdir(os.path.join(cur_base_path, d))\n",
    "    ]\n",
    "    nestedInputFolderData[rdf] = directories\n",
    "\n",
    "## No trailing slash or this fails\n",
    "# Get the ID of the target folder for the images\n",
    "\n",
    "mISIC_baseFolderPath = \"/mISIC/BoxFileSet\"\n",
    "# mISIC_folderId = gc.resourceLookup(f\"/collection{mISIC_baseFolderPath}\")\n",
    "# ### Convert the resouce path into an actual UID so I can use it in subsequent query\n",
    "\n",
    "\n",
    "def getFolderByDSAPath(\n",
    "    folderName, baseFolderPath=mISIC_baseFolderPath, createFolder=True\n",
    "):\n",
    "    ### Will get a folderID given a resouce path, will add an option to not create it\n",
    "    ## if the folder does not exist\n",
    "    try:\n",
    "        folderInfo = gc.resourceLookup(f\"/collection{baseFolderPath}/{folderName}\")\n",
    "        return folderInfo\n",
    "    except:\n",
    "        ## Create the folder --- this currently assumes the rootFolder already exists.\n",
    "        rootFolderInfo = gc.resourceLookup(f\"/collection{baseFolderPath}\")\n",
    "        folderInfo = gc.createFolder(\n",
    "            rootFolderInfo[\"_id\"], folderName, reuseExisting=True\n",
    "        )\n",
    "\n",
    "        return folderInfo\n",
    "\n",
    "\n",
    "## Check to see if the resource paths exists for the imageTypes\n",
    "\n",
    "\n",
    "def loadRCMDicomDataSet(rootFolder, dicomID, directorySet):\n",
    "    dicomRootFolderPath = os.path.join(rootFolder, dicomID)\n",
    "\n",
    "    \n",
    "\n",
    "    getFolderByDSAPath(dicomID, rootFolder)\n",
    "\n",
    "    # imageTypes = [\"Confocal Images\", \"VivaStack\", \"VivaBlock\", \"Macroscopic Images\"]\n",
    "    # for imgType in imageTypes:\n",
    "    #     imgFolder = getFolderByDSAPath(imgType, dicomRootFolderPath)\n",
    "    for d in directorySet:\n",
    "        ## The folderType is everything before the # as I want to group things\n",
    "        imgFolderType = d.split(\"#\")[0]\n",
    "        imgTypeFolder = getFolderByDSAPath(imgFolderType, dicomRootFolderPath)\n",
    "\n",
    "        ## Now create a subfolder for the actual image bundle, grouped by the imgFolderType\n",
    "        imgFolder = gc.createFolder(imgTypeFolder[\"_id\"], d, reuseExisting=True)\n",
    "\n",
    "        ## Get a list of items already uploaded to the DSA to prevent reuploading files..\n",
    "        itemsInFolder = list(gc.listItem(imgFolder[\"_id\"]))\n",
    "\n",
    "        ## Turn the itemList into names so I can use it as a filter below.\n",
    "        uploadedFileNames = [x[\"name\"] for x in itemsInFolder]\n",
    "\n",
    "        localImgFolderPath = os.path.join(base_path, dicomID, d)\n",
    "        localFileList = os.listdir(localImgFolderPath)\n",
    "        for lf in localFileList:\n",
    "            if lf not in uploadedFileNames:\n",
    "                uploadedImageFile = gc.uploadFileToFolder(\n",
    "                    imgFolder[\"_id\"], filepath=os.path.join(localImgFolderPath, lf)\n",
    "                )\n",
    "                print(uploadedImageFile[\"name\"])\n",
    "\n",
    "\n",
    "### Check and make sure every image has a largeImage tag..\n",
    "\n",
    "for dicomFolder in nestedInputFolderData:\n",
    "    print(dicomFolder)\n",
    "    loadRCMDicomDataSet( mISIC_baseFolderPath, dicomFolder, nestedInputFolderData[dicomFolder])\n",
    "\n"
   ]
  },
  {
   "cell_type": "code",
   "execution_count": null,
   "metadata": {},
   "outputs": [],
   "source": [
    "\n",
    "imageList = gc.get(f\"resource/64e7c0d2fbfabbf55f1704a2/items?type=folder&limit=0\")\n",
    "\n",
    "\n",
    "### interesting.. if # is in the name it seems to be weird\n",
    "import concurrent.futures\n",
    "from tqdm import tqdm\n",
    "\n",
    "\n",
    "def process_image(item):\n",
    "    if \"largeImage\" not in item:\n",
    "        try:\n",
    "            gc.post(f'item/{item[\"_id\"]}/tiles')\n",
    "        except Exception as e:\n",
    "            print(e)\n",
    "            pass\n",
    "\n",
    "\n",
    "# Create a ThreadPoolExecutor with the desired number of worker threads\n",
    "with concurrent.futures.ThreadPoolExecutor() as executor:\n",
    "    # Submit the process_image function for each item in parallel\n",
    "    futures = [executor.submit(process_image, item) for item in imageList]\n",
    "\n",
    "    # Use tqdm to create a progress bar\n",
    "    progress_bar = tqdm(total=len(futures), desc=\"Processing\")\n",
    "\n",
    "    # Iterate over the completed futures\n",
    "    for future in concurrent.futures.as_completed(futures):\n",
    "        # Update the progress bar\n",
    "        progress_bar.update(1)\n",
    "\n",
    "    # Close the progress bar\n",
    "    progress_bar.close()\n"
   ]
  }
 ],
 "metadata": {
  "kernelspec": {
   "display_name": "Python 3 (ipykernel)",
   "language": "python",
   "name": "python3"
  },
  "language_info": {
   "codemirror_mode": {
    "name": "ipython",
    "version": 3
   },
   "file_extension": ".py",
   "mimetype": "text/x-python",
   "name": "python",
   "nbconvert_exporter": "python",
   "pygments_lexer": "ipython3",
   "version": "3.11.4"
  }
 },
 "nbformat": 4,
 "nbformat_minor": 4
}
