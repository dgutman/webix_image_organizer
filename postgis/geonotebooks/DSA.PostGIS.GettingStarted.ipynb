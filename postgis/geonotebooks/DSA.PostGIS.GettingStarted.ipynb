{
 "cells": [
  {
   "cell_type": "code",
   "execution_count": null,
   "id": "d1182f57",
   "metadata": {},
   "outputs": [],
   "source": [
    "%load_ext sql\n",
    "import psycopg2\n",
    "import psycopg2.extras\n",
    "\n"
   ]
  },
  {
   "cell_type": "code",
   "execution_count": null,
   "id": "8a37eaaf",
   "metadata": {},
   "outputs": [],
   "source": [
    "conn = psycopg2.connect(host=\"postgisdb\", port = 5432, database=\"dsagis\", user=\"docker\", password=\"docker\")\n",
    "conn.set_session(autocommit=True)\n",
    "cur = conn.cursor(cursor_factory = psycopg2.extras.RealDictCursor)\n"
   ]
  },
  {
   "cell_type": "code",
   "execution_count": null,
   "id": "3223aeaf",
   "metadata": {},
   "outputs": [],
   "source": [
    "# cur = conn.cursor()\n",
    "# cur.execute('''DROP TABLE IF EXISTS TestRectangleShapes;''')\n",
    "# cur.execute('''CREATE TABLE TestRectangleShapes (\n",
    "    \n",
    "#     id              SERIAL PRIMARY KEY,\n",
    "    \n",
    "#     slide_id VARCHAR(50),\n",
    "# \tx1 INTEGER,\n",
    "# \tx2 INTEGER,\n",
    "# \ty1 INTEGER,\n",
    "# \ty2 INTEGER,\n",
    "# \tshapeName VARCHAR(30),\n",
    "#     shapeLabel VARCHAR(30),\n",
    "# \tshapeLocation GEOMETRY\n",
    "# );''')"
   ]
  },
  {
   "cell_type": "code",
   "execution_count": null,
   "id": "af41d690",
   "metadata": {},
   "outputs": [],
   "source": [
    "# insert_example = ''' insert into TestRectangleShapes (slide_id,x1,x2,y1,y2,shapeName, shapeLabel)\n",
    "#      VALUES ('slideUno', 20,30,40,50, 'Donkey','iNFTtbd');'''\n",
    "\n",
    "# cur.execute(insert_example)\n"
   ]
  },
  {
   "cell_type": "code",
   "execution_count": null,
   "id": "77f84170",
   "metadata": {},
   "outputs": [],
   "source": [
    "cur.execute(\"select * from TestRectangleShapes\")\n",
    "cur.fetchall()"
   ]
  },
  {
   "cell_type": "code",
   "execution_count": null,
   "id": "985f12d9",
   "metadata": {},
   "outputs": [],
   "source": [
    "import random \n",
    "### Let's generate 500 random shapes...\n",
    "numShapesToGen = 1000\n",
    "max_X = 10000\n",
    "max_Y = 10000\n",
    "boxSize_X = 40\n",
    "boxSixe_Y = 50\n",
    "\n",
    "colList = '''insert into TestRectangleShapes (slide_id,x1,x2,y1,y2,shapeName, shapeLabel,shapeLocation)'''\n",
    "colList += \" VALUES \"\n",
    "\n",
    "for i in range(numShapesToGen):\n",
    "    x1 = random.randrange( 0 ,max_X)\n",
    "    y1 = random.randrange( 0, max_Y)\n",
    "    \n",
    "    x2 = x1 + boxSize_X\n",
    "    y2 = y1 + boxSixe_Y\n",
    "\n",
    "    ##Insert statement values would be..\n",
    "    valList= f\"('slideUno',{x1},{x2},{y1},{y2},'box','NFT', ST_MakeEnvelope({x1},{y1},{x2},{y2},4326))\"\n",
    "    colList+= valList + \", \"\n",
    "colList = colList[:-2]    \n",
    "cur.execute(colList) "
   ]
  },
  {
   "cell_type": "code",
   "execution_count": null,
   "id": "c9567bb0",
   "metadata": {},
   "outputs": [],
   "source": []
  },
  {
   "cell_type": "code",
   "execution_count": null,
   "id": "b388de0f",
   "metadata": {},
   "outputs": [],
   "source": [
    "cur.execute('select count(*) from TestRectangleShapes')\n",
    "cur.fetchall()\n"
   ]
  },
  {
   "cell_type": "code",
   "execution_count": null,
   "id": "6685e3f7",
   "metadata": {},
   "outputs": [],
   "source": [
    "# cur.execute('select * from TestRectangleShapes where shapeLocation is NULL')\n",
    "# d= cur.fetchall()"
   ]
  },
  {
   "cell_type": "code",
   "execution_count": null,
   "id": "9a347a2d",
   "metadata": {},
   "outputs": [],
   "source": [
    "### Let's find if I created any overlapping polygoms\n",
    "\n",
    "pgis_overlappolygons = '''\n",
    "select *\n",
    "  from TestRectangleShapes as t1, TestRectangleshapes as t2\n",
    "  where ST_Overlaps(t1.shapeLocation, t2.shapeLocation) = true\n",
    "    and t1.id < t2.id'''"
   ]
  },
  {
   "cell_type": "code",
   "execution_count": null,
   "id": "993e6068",
   "metadata": {},
   "outputs": [],
   "source": [
    "### Let's find if I created any overlapping polygoms\n",
    "\n",
    "pgis_overlappolygons = '''\n",
    "select t1.id as t1_id, t1.x1 as t1_x1 , t1.y1 as t1_y1, t1.x2 as t1_x2, t1.y2 as t1_y2, \n",
    "  t2.id, t2.x1,t2.y1,t2.x2,t2.y2 \n",
    "  from TestRectangleShapes as t1, TestRectangleshapes as t2\n",
    "  where ST_Overlaps(t1.shapeLocation, t2.shapeLocation) = true\n",
    "    and t1.id < t2.id and t1.id=2'''"
   ]
  },
  {
   "cell_type": "code",
   "execution_count": null,
   "id": "524550e0",
   "metadata": {},
   "outputs": [],
   "source": [
    "cur.execute(pgis_overlappolygons)\n",
    "overlapPolyList = cur.fetchall()"
   ]
  },
  {
   "cell_type": "code",
   "execution_count": null,
   "id": "9477906b",
   "metadata": {},
   "outputs": [],
   "source": [
    "import pandas as pd\n",
    "\n",
    "pd.DataFrame(overlapPolyList)"
   ]
  },
  {
   "cell_type": "code",
   "execution_count": null,
   "id": "601865c3",
   "metadata": {},
   "outputs": [],
   "source": []
  }
 ],
 "metadata": {
  "kernelspec": {
   "display_name": "Python 3 (ipykernel)",
   "language": "python",
   "name": "python3"
  },
  "language_info": {
   "codemirror_mode": {
    "name": "ipython",
    "version": 3
   },
   "file_extension": ".py",
   "mimetype": "text/x-python",
   "name": "python",
   "nbconvert_exporter": "python",
   "pygments_lexer": "ipython3",
   "version": "3.8.13"
  }
 },
 "nbformat": 4,
 "nbformat_minor": 5
}
