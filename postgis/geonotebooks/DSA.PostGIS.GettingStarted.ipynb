{
 "cells": [
  {
   "cell_type": "code",
   "execution_count": 5,
   "id": "d1182f57",
   "metadata": {},
   "outputs": [
    {
     "name": "stdout",
     "output_type": "stream",
     "text": [
      "The sql extension is already loaded. To reload it, use:\n",
      "  %reload_ext sql\n"
     ]
    }
   ],
   "source": [
    "%load_ext sql\n",
    "import psycopg2\n",
    "import psycopg2.extras\n",
    "import geopandas\n",
    "import pandas as pd"
   ]
  },
  {
   "cell_type": "code",
   "execution_count": 22,
   "id": "8a37eaaf",
   "metadata": {},
   "outputs": [],
   "source": [
    "conn = psycopg2.connect(host=\"postgisdb\", port = 5432, database=\"dsagis\", user=\"docker\", password=\"docker\")\n",
    "conn.set_session(autocommit=True)\n",
    "cur = conn.cursor(cursor_factory = psycopg2.extras.RealDictCursor)\n",
    "\n",
    "metacur = conn.cursor()"
   ]
  },
  {
   "cell_type": "code",
   "execution_count": 4,
   "id": "3223aeaf",
   "metadata": {},
   "outputs": [],
   "source": [
    "cur = conn.cursor()\n",
    "cur.execute('''DROP TABLE IF EXISTS TestRectangleShapes;''')\n",
    "cur.execute('''CREATE TABLE TestRectangleShapes (\n",
    "    \n",
    "    id              SERIAL PRIMARY KEY,\n",
    "    \n",
    "    slide_id VARCHAR(50),\n",
    "\tx1 INTEGER,\n",
    "\tx2 INTEGER,\n",
    "\ty1 INTEGER,\n",
    "\ty2 INTEGER,\n",
    "\tshapeName VARCHAR(30),\n",
    "    shapeLabel VARCHAR(30),\n",
    "\tshapeLocation GEOMETRY\n",
    ");''')"
   ]
  },
  {
   "cell_type": "code",
   "execution_count": 29,
   "id": "af41d690",
   "metadata": {},
   "outputs": [],
   "source": [
    "# insert_example = ''' insert into TestRectangleShapes (slide_id,x1,x2,y1,y2,shapeName, shapeLabel)\n",
    "#      VALUES ('slideUno', 20,30,40,50, 'Donkey','iNFTtbd');'''\n",
    "\n",
    "# cur.execute(insert_example)\n",
    "a = conn.cursor()\n",
    "\n",
    "a."
   ]
  },
  {
   "cell_type": "code",
   "execution_count": 30,
   "id": "5a8a4798",
   "metadata": {},
   "outputs": [
    {
     "ename": "SyntaxError",
     "evalue": "invalid syntax (3190206380.py, line 1)",
     "output_type": "error",
     "traceback": [
      "\u001b[0;36m  Input \u001b[0;32mIn [30]\u001b[0;36m\u001b[0m\n\u001b[0;31m    https://crivetimihai.github.io/geospacial-engineering/setup/\u001b[0m\n\u001b[0m          ^\u001b[0m\n\u001b[0;31mSyntaxError\u001b[0m\u001b[0;31m:\u001b[0m invalid syntax\n"
     ]
    }
   ],
   "source": [
    "https://crivetimihai.github.io/geospacial-engineering/setup/"
   ]
  },
  {
   "cell_type": "code",
   "execution_count": 4,
   "id": "77f84170",
   "metadata": {},
   "outputs": [
    {
     "name": "stdout",
     "output_type": "stream",
     "text": [
      "Collecting geopandas\n",
      "  Downloading geopandas-0.10.2-py2.py3-none-any.whl (1.0 MB)\n",
      "\u001b[2K     \u001b[90m━━━━━━━━━━━━━━━━━━━━━━━━━━━━━━━━━━━━━━━━\u001b[0m \u001b[32m1.0/1.0 MB\u001b[0m \u001b[31m11.2 MB/s\u001b[0m eta \u001b[36m0:00:00\u001b[0m00:01\u001b[0m00:01\u001b[0m\n",
      "\u001b[?25hCollecting fiona>=1.8\n",
      "  Downloading Fiona-1.8.21-cp38-cp38-manylinux_2_17_x86_64.manylinux2014_x86_64.whl (16.6 MB)\n",
      "\u001b[2K     \u001b[90m━━━━━━━━━━━━━━━━━━━━━━━━━━━━━━━━━━━━━━━━\u001b[0m \u001b[32m16.6/16.6 MB\u001b[0m \u001b[31m21.6 MB/s\u001b[0m eta \u001b[36m0:00:00\u001b[0m00:01\u001b[0m00:01\u001b[0m\n",
      "\u001b[?25hRequirement already satisfied: pandas>=0.25.0 in /usr/local/lib/python3.8/site-packages (from geopandas) (1.4.2)\n",
      "Collecting shapely>=1.6\n",
      "  Downloading Shapely-1.8.1.post1-cp38-cp38-manylinux_2_12_x86_64.manylinux2010_x86_64.whl (2.1 MB)\n",
      "\u001b[2K     \u001b[90m━━━━━━━━━━━━━━━━━━━━━━━━━━━━━━━━━━━━━━━━\u001b[0m \u001b[32m2.1/2.1 MB\u001b[0m \u001b[31m33.5 MB/s\u001b[0m eta \u001b[36m0:00:00\u001b[0m00:01\u001b[0m\n",
      "\u001b[?25hCollecting pyproj>=2.2.0\n",
      "  Downloading pyproj-3.3.1-cp38-cp38-manylinux_2_17_x86_64.manylinux2014_x86_64.whl (7.7 MB)\n",
      "\u001b[2K     \u001b[90m━━━━━━━━━━━━━━━━━━━━━━━━━━━━━━━━━━━━━━━━\u001b[0m \u001b[32m7.7/7.7 MB\u001b[0m \u001b[31m15.3 MB/s\u001b[0m eta \u001b[36m0:00:00\u001b[0m00:01\u001b[0m00:01\u001b[0m\n",
      "\u001b[?25hCollecting certifi\n",
      "  Downloading certifi-2021.10.8-py2.py3-none-any.whl (149 kB)\n",
      "\u001b[2K     \u001b[90m━━━━━━━━━━━━━━━━━━━━━━━━━━━━━━━━━━━━━━\u001b[0m \u001b[32m149.2/149.2 KB\u001b[0m \u001b[31m11.0 MB/s\u001b[0m eta \u001b[36m0:00:00\u001b[0m\n",
      "\u001b[?25hCollecting cligj>=0.5\n",
      "  Downloading cligj-0.7.2-py3-none-any.whl (7.1 kB)\n",
      "Requirement already satisfied: setuptools in /usr/local/lib/python3.8/site-packages (from fiona>=1.8->geopandas) (57.5.0)\n",
      "Requirement already satisfied: six>=1.7 in /usr/local/lib/python3.8/site-packages (from fiona>=1.8->geopandas) (1.16.0)\n",
      "Collecting munch\n",
      "  Downloading munch-2.5.0-py2.py3-none-any.whl (10 kB)\n",
      "Collecting click-plugins>=1.0\n",
      "  Downloading click_plugins-1.1.1-py2.py3-none-any.whl (7.5 kB)\n",
      "Requirement already satisfied: attrs>=17 in /usr/local/lib/python3.8/site-packages (from fiona>=1.8->geopandas) (21.4.0)\n",
      "Requirement already satisfied: click>=4.0 in /usr/local/lib/python3.8/site-packages (from fiona>=1.8->geopandas) (8.1.2)\n",
      "Requirement already satisfied: python-dateutil>=2.8.1 in /usr/local/lib/python3.8/site-packages (from pandas>=0.25.0->geopandas) (2.8.2)\n",
      "Requirement already satisfied: pytz>=2020.1 in /usr/local/lib/python3.8/site-packages (from pandas>=0.25.0->geopandas) (2022.1)\n",
      "Requirement already satisfied: numpy>=1.18.5 in /usr/local/lib/python3.8/site-packages (from pandas>=0.25.0->geopandas) (1.22.3)\n",
      "Installing collected packages: certifi, shapely, pyproj, munch, cligj, click-plugins, fiona, geopandas\n",
      "Successfully installed certifi-2021.10.8 click-plugins-1.1.1 cligj-0.7.2 fiona-1.8.21 geopandas-0.10.2 munch-2.5.0 pyproj-3.3.1 shapely-1.8.1.post1\n",
      "\u001b[33mWARNING: Running pip as the 'root' user can result in broken permissions and conflicting behaviour with the system package manager. It is recommended to use a virtual environment instead: https://pip.pypa.io/warnings/venv\u001b[0m\u001b[33m\n",
      "\u001b[0m"
     ]
    }
   ],
   "source": [
    "!pip install geopandas"
   ]
  },
  {
   "cell_type": "code",
   "execution_count": null,
   "id": "985f12d9",
   "metadata": {},
   "outputs": [],
   "source": [
    "import random \n",
    "### Let's generate 500 random shapes...\n",
    "numShapesToGen = 1000\n",
    "max_X = 10000\n",
    "max_Y = 10000\n",
    "boxSize_X = 40\n",
    "boxSixe_Y = 50\n",
    "\n",
    "colList = '''insert into TestRectangleShapes (slide_id,x1,x2,y1,y2,shapeName, shapeLabel,shapeLocation)'''\n",
    "colList += \" VALUES \"\n",
    "\n",
    "for i in range(numShapesToGen):\n",
    "    x1 = random.randrange( 0 ,max_X)\n",
    "    y1 = random.randrange( 0, max_Y)\n",
    "    \n",
    "    x2 = x1 + boxSize_X\n",
    "    y2 = y1 + boxSixe_Y\n",
    "\n",
    "    ##Insert statement values would be..\n",
    "    valList= f\"('slideUno',{x1},{x2},{y1},{y2},'box','NFT', ST_MakeEnvelope({x1},{y1},{x2},{y2},4326))\"\n",
    "    colList+= valList + \", \"\n",
    "colList = colList[:-2]    \n",
    "cur.execute(colList) "
   ]
  },
  {
   "cell_type": "code",
   "execution_count": null,
   "id": "c9567bb0",
   "metadata": {},
   "outputs": [],
   "source": []
  },
  {
   "cell_type": "code",
   "execution_count": 17,
   "id": "b388de0f",
   "metadata": {},
   "outputs": [
    {
     "ename": "DuplicateSchema",
     "evalue": "schema \"dsa\" already exists\n",
     "output_type": "error",
     "traceback": [
      "\u001b[0;31m---------------------------------------------------------------------------\u001b[0m",
      "\u001b[0;31mDuplicateSchema\u001b[0m                           Traceback (most recent call last)",
      "Input \u001b[0;32mIn [17]\u001b[0m, in \u001b[0;36m<cell line: 1>\u001b[0;34m()\u001b[0m\n\u001b[0;32m----> 1\u001b[0m \u001b[43mcur\u001b[49m\u001b[38;5;241;43m.\u001b[39;49m\u001b[43mexecute\u001b[49m\u001b[43m(\u001b[49m\u001b[38;5;124;43m'\u001b[39;49m\u001b[38;5;124;43mcreate schema dsa\u001b[39;49m\u001b[38;5;124;43m'\u001b[39;49m\u001b[43m)\u001b[49m\n\u001b[1;32m      2\u001b[0m cur\u001b[38;5;241m.\u001b[39mfetchall()\n",
      "File \u001b[0;32m/usr/local/lib/python3.8/site-packages/psycopg2/extras.py:236\u001b[0m, in \u001b[0;36mRealDictCursor.execute\u001b[0;34m(self, query, vars)\u001b[0m\n\u001b[1;32m    234\u001b[0m \u001b[38;5;28mself\u001b[39m\u001b[38;5;241m.\u001b[39mcolumn_mapping \u001b[38;5;241m=\u001b[39m []\n\u001b[1;32m    235\u001b[0m \u001b[38;5;28mself\u001b[39m\u001b[38;5;241m.\u001b[39m_query_executed \u001b[38;5;241m=\u001b[39m \u001b[38;5;28;01mTrue\u001b[39;00m\n\u001b[0;32m--> 236\u001b[0m \u001b[38;5;28;01mreturn\u001b[39;00m \u001b[38;5;28;43msuper\u001b[39;49m\u001b[43m(\u001b[49m\u001b[43m)\u001b[49m\u001b[38;5;241;43m.\u001b[39;49m\u001b[43mexecute\u001b[49m\u001b[43m(\u001b[49m\u001b[43mquery\u001b[49m\u001b[43m,\u001b[49m\u001b[43m \u001b[49m\u001b[38;5;28;43mvars\u001b[39;49m\u001b[43m)\u001b[49m\n",
      "\u001b[0;31mDuplicateSchema\u001b[0m: schema \"dsa\" already exists\n"
     ]
    }
   ],
   "source": [
    "# cur.execute('create schema dsa')\n",
    "# cur.fetchall()\n"
   ]
  },
  {
   "cell_type": "code",
   "execution_count": null,
   "id": "6685e3f7",
   "metadata": {},
   "outputs": [],
   "source": [
    "# cur.execute('select * from TestRectangleShapes where shapeLocation is NULL')\n",
    "# d= cur.fetchall()"
   ]
  },
  {
   "cell_type": "code",
   "execution_count": 18,
   "id": "9a347a2d",
   "metadata": {},
   "outputs": [],
   "source": [
    "### Let's find if I created any overlapping polygoms\n",
    "\n",
    "pgis_overlappolygons = '''\n",
    "select *\n",
    "  from TestRectangleShapes as t1, TestRectangleshapes as t2\n",
    "  where ST_Overlaps(t1.shapeLocation, t2.shapeLocation) = true\n",
    "    and t1.id < t2.id'''"
   ]
  },
  {
   "cell_type": "code",
   "execution_count": 19,
   "id": "993e6068",
   "metadata": {},
   "outputs": [],
   "source": [
    "### Let's find if I created any overlapping polygoms\n",
    "\n",
    "pgis_overlappolygons = '''\n",
    "select t1.id as t1_id, t1.x1 as t1_x1 , t1.y1 as t1_y1, t1.x2 as t1_x2, t1.y2 as t1_y2, \n",
    "  t2.id, t2.x1,t2.y1,t2.x2,t2.y2 \n",
    "  from TestRectangleShapes as t1, TestRectangleshapes as t2\n",
    "  where ST_Overlaps(t1.shapeLocation, t2.shapeLocation) = true\n",
    "    and t1.id < t2.id and t1.id=2'''"
   ]
  },
  {
   "cell_type": "code",
   "execution_count": 20,
   "id": "524550e0",
   "metadata": {},
   "outputs": [
    {
     "ename": "UndefinedTable",
     "evalue": "relation \"testrectangleshapes\" does not exist\nLINE 4:   from TestRectangleShapes as t1, TestRectangleshapes as t2\n               ^\n",
     "output_type": "error",
     "traceback": [
      "\u001b[0;31m---------------------------------------------------------------------------\u001b[0m",
      "\u001b[0;31mUndefinedTable\u001b[0m                            Traceback (most recent call last)",
      "Input \u001b[0;32mIn [20]\u001b[0m, in \u001b[0;36m<cell line: 1>\u001b[0;34m()\u001b[0m\n\u001b[0;32m----> 1\u001b[0m \u001b[43mcur\u001b[49m\u001b[38;5;241;43m.\u001b[39;49m\u001b[43mexecute\u001b[49m\u001b[43m(\u001b[49m\u001b[43mpgis_overlappolygons\u001b[49m\u001b[43m)\u001b[49m\n\u001b[1;32m      2\u001b[0m overlapPolyList \u001b[38;5;241m=\u001b[39m cur\u001b[38;5;241m.\u001b[39mfetchall()\n",
      "File \u001b[0;32m/usr/local/lib/python3.8/site-packages/psycopg2/extras.py:236\u001b[0m, in \u001b[0;36mRealDictCursor.execute\u001b[0;34m(self, query, vars)\u001b[0m\n\u001b[1;32m    234\u001b[0m \u001b[38;5;28mself\u001b[39m\u001b[38;5;241m.\u001b[39mcolumn_mapping \u001b[38;5;241m=\u001b[39m []\n\u001b[1;32m    235\u001b[0m \u001b[38;5;28mself\u001b[39m\u001b[38;5;241m.\u001b[39m_query_executed \u001b[38;5;241m=\u001b[39m \u001b[38;5;28;01mTrue\u001b[39;00m\n\u001b[0;32m--> 236\u001b[0m \u001b[38;5;28;01mreturn\u001b[39;00m \u001b[38;5;28;43msuper\u001b[39;49m\u001b[43m(\u001b[49m\u001b[43m)\u001b[49m\u001b[38;5;241;43m.\u001b[39;49m\u001b[43mexecute\u001b[49m\u001b[43m(\u001b[49m\u001b[43mquery\u001b[49m\u001b[43m,\u001b[49m\u001b[43m \u001b[49m\u001b[38;5;28;43mvars\u001b[39;49m\u001b[43m)\u001b[49m\n",
      "\u001b[0;31mUndefinedTable\u001b[0m: relation \"testrectangleshapes\" does not exist\nLINE 4:   from TestRectangleShapes as t1, TestRectangleshapes as t2\n               ^\n"
     ]
    }
   ],
   "source": [
    "cur.execute(pgis_overlappolygons)\n",
    "overlapPolyList = cur.fetchall()"
   ]
  },
  {
   "cell_type": "code",
   "execution_count": null,
   "id": "9477906b",
   "metadata": {},
   "outputs": [],
   "source": [
    "\n",
    "\n",
    "pd.DataFrame(overlapPolyList)"
   ]
  },
  {
   "cell_type": "code",
   "execution_count": null,
   "id": "601865c3",
   "metadata": {},
   "outputs": [],
   "source": []
  }
 ],
 "metadata": {
  "kernelspec": {
   "display_name": "Python 3 (ipykernel)",
   "language": "python",
   "name": "python3"
  },
  "language_info": {
   "codemirror_mode": {
    "name": "ipython",
    "version": 3
   },
   "file_extension": ".py",
   "mimetype": "text/x-python",
   "name": "python",
   "nbconvert_exporter": "python",
   "pygments_lexer": "ipython3",
   "version": "3.8.13"
  }
 },
 "nbformat": 4,
 "nbformat_minor": 5
}
