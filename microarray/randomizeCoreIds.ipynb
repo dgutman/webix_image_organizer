{
 "cells": [
  {
   "cell_type": "code",
   "execution_count": 1,
   "id": "e4292910",
   "metadata": {},
   "outputs": [
    {
     "data": {
      "text/plain": [
       "{'_id': '5cacfa86e62914004a60e139'}"
      ]
     },
     "execution_count": 1,
     "metadata": {},
     "output_type": "execute_result"
    }
   ],
   "source": [
    "### This will look for all the autoTMA images, and check if the corresponding cores are on the server\n",
    "### if not, generate and upload them\n",
    "## It also generate a composite core of the H&E and the TMA core\n",
    "import dagSecrets, io\n",
    "import girder_client, os, random, re, tqdm\n",
    "%load_ext autoreload\n",
    "%autoreload 2\n",
    "import tmaHelpers as tma\n",
    "\n",
    "gc = girder_client.GirderClient(apiUrl=dagSecrets.apiUrl)\n",
    "gc.authenticate(apiKey=dagSecrets.apiToken)\n",
    "## Samples Images 62bb03e4e70def4ae72689f5"
   ]
  },
  {
   "cell_type": "code",
   "execution_count": 2,
   "id": "6a67d399",
   "metadata": {},
   "outputs": [
    {
     "name": "stdout",
     "output_type": "stream",
     "text": [
      "B1\n",
      "B2\n",
      "B3\n",
      "B4\n",
      "B5\n",
      "B6\n",
      "B7\n",
      "B8\n",
      "B9\n"
     ]
    }
   ],
   "source": [
    "part1rootFolder = '62e9287be70def4ae7275e94'\n",
    "\n",
    "part1Items = []\n",
    "\n",
    "for f in gc.listFolder(part1rootFolder):\n",
    "    print(f['name'])\n",
    "    for i in gc.listItem(f['_id']):\n",
    "#         print(\"\\t\",i['name'])\n",
    "        \n",
    "        part1Items.append(i)\n",
    "        \n",
    "random.seed(42)\n",
    "random.shuffle(part1Items)     \n",
    "        "
   ]
  },
  {
   "cell_type": "markdown",
   "id": "dd12bf70",
   "metadata": {},
   "source": []
  },
  {
   "cell_type": "code",
   "execution_count": 9,
   "id": "d39a692d",
   "metadata": {},
   "outputs": [
    {
     "name": "stdout",
     "output_type": "stream",
     "text": [
      "780\n"
     ]
    },
    {
     "name": "stderr",
     "output_type": "stream",
     "text": [
      "1it [00:00,  8.57it/s]"
     ]
    },
    {
     "name": "stdout",
     "output_type": "stream",
     "text": [
      "S2.BB13.yaml ----> 22.BB43.core\n",
      "S1.H4.yaml ----> 21.H34.core\n"
     ]
    },
    {
     "name": "stderr",
     "output_type": "stream",
     "text": [
      "3it [00:00,  9.07it/s]"
     ]
    },
    {
     "name": "stdout",
     "output_type": "stream",
     "text": [
      "S1.G9.yaml ----> 21.G39.core\n",
      "S1.D13.yaml ----> 21.D43.core\n"
     ]
    },
    {
     "name": "stderr",
     "output_type": "stream",
     "text": [
      "5it [00:00,  9.37it/s]"
     ]
    },
    {
     "name": "stdout",
     "output_type": "stream",
     "text": [
      "S14.BB11.yaml ----> 34.BB41.core\n",
      "S7.E9.yaml ----> 27.E39.core\n"
     ]
    },
    {
     "name": "stderr",
     "output_type": "stream",
     "text": [
      "7it [00:00,  9.45it/s]"
     ]
    },
    {
     "name": "stdout",
     "output_type": "stream",
     "text": [
      "S15.J8.yaml ----> 35.J38.core\n",
      "S9.AA3.yaml ----> 29.AA33.core\n"
     ]
    },
    {
     "name": "stderr",
     "output_type": "stream",
     "text": [
      "9it [00:00,  9.48it/s]"
     ]
    },
    {
     "name": "stdout",
     "output_type": "stream",
     "text": [
      "S15.E7.yaml ----> 35.E37.core\n",
      "S11.H13.yaml ----> 31.H43.core\n"
     ]
    },
    {
     "name": "stderr",
     "output_type": "stream",
     "text": [
      "11it [00:01,  9.26it/s]"
     ]
    },
    {
     "name": "stdout",
     "output_type": "stream",
     "text": [
      "S11.D6.yaml ----> 31.D36.core\n",
      "S1.D4.yaml ----> 21.D34.core\n"
     ]
    },
    {
     "name": "stderr",
     "output_type": "stream",
     "text": [
      "13it [00:01,  8.84it/s]"
     ]
    },
    {
     "name": "stdout",
     "output_type": "stream",
     "text": [
      "S1.I5.yaml ----> 21.I35.core\n",
      "S1.I10.yaml ----> 21.I40.core\n"
     ]
    },
    {
     "name": "stderr",
     "output_type": "stream",
     "text": [
      "15it [00:01,  9.00it/s]"
     ]
    },
    {
     "name": "stdout",
     "output_type": "stream",
     "text": [
      "S15.H3.yaml ----> 35.H33.core\n",
      "S11.E1.yaml ----> 31.E31.core\n"
     ]
    },
    {
     "name": "stderr",
     "output_type": "stream",
     "text": [
      "17it [00:01,  9.37it/s]"
     ]
    },
    {
     "name": "stdout",
     "output_type": "stream",
     "text": [
      "S2.CC11.yaml ----> 22.CC41.core\n",
      "S14.CC10.yaml ----> 34.CC40.core\n"
     ]
    },
    {
     "name": "stderr",
     "output_type": "stream",
     "text": [
      "19it [00:02,  9.50it/s]"
     ]
    },
    {
     "name": "stdout",
     "output_type": "stream",
     "text": [
      "S11.I13.yaml ----> 31.I43.core\n",
      "S11.A13.yaml ----> 31.A43.core\n"
     ]
    },
    {
     "name": "stderr",
     "output_type": "stream",
     "text": [
      "21it [00:02,  9.53it/s]"
     ]
    },
    {
     "name": "stdout",
     "output_type": "stream",
     "text": [
      "S1.E13.yaml ----> 21.E43.core\n",
      "S1.E2.yaml ----> 21.E32.core\n"
     ]
    },
    {
     "name": "stderr",
     "output_type": "stream",
     "text": [
      "23it [00:02,  9.25it/s]"
     ]
    },
    {
     "name": "stdout",
     "output_type": "stream",
     "text": [
      "S11.E3.yaml ----> 31.E33.core\n",
      "S9.CC12.yaml ----> 29.CC42.core\n"
     ]
    },
    {
     "name": "stderr",
     "output_type": "stream",
     "text": [
      "25it [00:02,  8.31it/s]"
     ]
    },
    {
     "name": "stdout",
     "output_type": "stream",
     "text": [
      "S1.G12.yaml ----> 21.G42.core\n",
      "S15.J1.yaml ----> 35.J31.core\n"
     ]
    },
    {
     "name": "stderr",
     "output_type": "stream",
     "text": [
      "27it [00:02,  8.23it/s]"
     ]
    },
    {
     "name": "stdout",
     "output_type": "stream",
     "text": [
      "S7.A8.yaml ----> 27.A38.core\n",
      "S11.F11.yaml ----> 31.F41.core\n"
     ]
    },
    {
     "name": "stderr",
     "output_type": "stream",
     "text": [
      "29it [00:03,  7.94it/s]"
     ]
    },
    {
     "name": "stdout",
     "output_type": "stream",
     "text": [
      "S5.CC2.yaml ----> 25.CC32.core\n",
      "S14.BB10.yaml ----> 34.BB40.core\n"
     ]
    },
    {
     "name": "stderr",
     "output_type": "stream",
     "text": [
      "31it [00:03,  8.29it/s]"
     ]
    },
    {
     "name": "stdout",
     "output_type": "stream",
     "text": [
      "S1.I9.yaml ----> 21.I39.core\n",
      "S15.I13.yaml ----> 35.I43.core\n"
     ]
    },
    {
     "name": "stderr",
     "output_type": "stream",
     "text": [
      "33it [00:03,  8.51it/s]"
     ]
    },
    {
     "name": "stdout",
     "output_type": "stream",
     "text": [
      "S11.I1.yaml ----> 31.I31.core\n",
      "S11.B8.yaml ----> 31.B38.core\n"
     ]
    },
    {
     "name": "stderr",
     "output_type": "stream",
     "text": [
      "35it [00:03,  8.34it/s]"
     ]
    },
    {
     "name": "stdout",
     "output_type": "stream",
     "text": [
      "S11.F15.yaml ----> 31.F45.core\n",
      "S11.B13.yaml ----> 31.B43.core\n"
     ]
    },
    {
     "name": "stderr",
     "output_type": "stream",
     "text": [
      "38it [00:04,  9.33it/s]"
     ]
    },
    {
     "name": "stdout",
     "output_type": "stream",
     "text": [
      "S7.D7.yaml ----> 27.D37.core\n",
      "S15.D2.yaml ----> 35.D32.core\n",
      "S15.A5.yaml ----> 35.A35.core\n"
     ]
    },
    {
     "name": "stderr",
     "output_type": "stream",
     "text": [
      "40it [00:04,  9.46it/s]"
     ]
    },
    {
     "name": "stdout",
     "output_type": "stream",
     "text": [
      "S7.E6.yaml ----> 27.E36.core\n",
      "S11.B5.yaml ----> 31.B35.core\n"
     ]
    },
    {
     "name": "stderr",
     "output_type": "stream",
     "text": [
      "43it [00:04,  9.77it/s]"
     ]
    },
    {
     "name": "stdout",
     "output_type": "stream",
     "text": [
      "S15.J12.yaml ----> 35.J42.core\n",
      "S15.H14.yaml ----> 35.H44.core\n",
      "S7.D11.yaml ----> 27.D41.core\n"
     ]
    },
    {
     "name": "stderr",
     "output_type": "stream",
     "text": [
      "45it [00:05,  8.96it/s]"
     ]
    },
    {
     "name": "stdout",
     "output_type": "stream",
     "text": [
      "S11.G12.yaml ----> 31.G42.core\n",
      "S7.G6.yaml ----> 27.G36.core\n"
     ]
    },
    {
     "name": "stderr",
     "output_type": "stream",
     "text": [
      "47it [00:05,  9.12it/s]"
     ]
    },
    {
     "name": "stdout",
     "output_type": "stream",
     "text": [
      "S7.G8.yaml ----> 27.G38.core\n",
      "S1.H1.yaml ----> 21.H31.core\n"
     ]
    },
    {
     "name": "stderr",
     "output_type": "stream",
     "text": [
      "49it [00:05,  9.13it/s]"
     ]
    },
    {
     "name": "stdout",
     "output_type": "stream",
     "text": [
      "S14.BB5.yaml ----> 34.BB35.core\n",
      "S7.F9.yaml ----> 27.F39.core\n"
     ]
    },
    {
     "name": "stderr",
     "output_type": "stream",
     "text": [
      "52it [00:05,  9.65it/s]"
     ]
    },
    {
     "name": "stdout",
     "output_type": "stream",
     "text": [
      "S15.B1.yaml ----> 35.B31.core\n",
      "S7.C7.yaml ----> 27.C37.core\n",
      "S2.CC6.yaml ----> 22.CC36.core\n"
     ]
    },
    {
     "name": "stderr",
     "output_type": "stream",
     "text": [
      "\r",
      "54it [00:05,  9.84it/s]"
     ]
    },
    {
     "name": "stdout",
     "output_type": "stream",
     "text": [
      "S11.F9.yaml ----> 31.F39.core\n",
      "S1.E3.yaml ----> 21.E33.core\n"
     ]
    },
    {
     "name": "stderr",
     "output_type": "stream",
     "text": [
      "56it [00:06,  9.67it/s]"
     ]
    },
    {
     "name": "stdout",
     "output_type": "stream",
     "text": [
      "S1.G11.yaml ----> 21.G41.core\n",
      "S15.G4.yaml ----> 35.G34.core\n"
     ]
    },
    {
     "name": "stderr",
     "output_type": "stream",
     "text": [
      "58it [00:06,  9.63it/s]"
     ]
    },
    {
     "name": "stdout",
     "output_type": "stream",
     "text": [
      "S11.J5.yaml ----> 31.J35.core\n",
      "S11.F2.yaml ----> 31.F32.core\n"
     ]
    },
    {
     "name": "stderr",
     "output_type": "stream",
     "text": [
      "60it [00:06,  9.61it/s]"
     ]
    },
    {
     "name": "stdout",
     "output_type": "stream",
     "text": [
      "S5.AA15.yaml ----> 25.AA45.core\n",
      "S1.G2.yaml ----> 21.G32.core\n"
     ]
    },
    {
     "name": "stderr",
     "output_type": "stream",
     "text": [
      "62it [00:06,  9.57it/s]"
     ]
    },
    {
     "name": "stdout",
     "output_type": "stream",
     "text": [
      "S1.A4.yaml ----> 21.A34.core\n",
      "S7.C13.yaml ----> 27.C43.core\n"
     ]
    },
    {
     "name": "stderr",
     "output_type": "stream",
     "text": [
      "64it [00:06,  9.58it/s]"
     ]
    },
    {
     "name": "stdout",
     "output_type": "stream",
     "text": [
      "S1.J1.yaml ----> 21.J31.core\n",
      "S1.E11.yaml ----> 21.E41.core\n"
     ]
    },
    {
     "name": "stderr",
     "output_type": "stream",
     "text": [
      "66it [00:07,  8.98it/s]"
     ]
    },
    {
     "name": "stdout",
     "output_type": "stream",
     "text": [
      "S2.BB2.yaml ----> 22.BB32.core\n",
      "S15.B4.yaml ----> 35.B34.core\n"
     ]
    },
    {
     "name": "stderr",
     "output_type": "stream",
     "text": [
      "69it [00:07,  9.66it/s]"
     ]
    },
    {
     "name": "stdout",
     "output_type": "stream",
     "text": [
      "S15.E4.yaml ----> 35.E34.core\n",
      "S1.A3.yaml ----> 21.A33.core\n",
      "S7.D12.yaml ----> 27.D42.core\n"
     ]
    },
    {
     "name": "stderr",
     "output_type": "stream",
     "text": [
      "71it [00:07,  9.69it/s]"
     ]
    },
    {
     "name": "stdout",
     "output_type": "stream",
     "text": [
      "S9.BB9.yaml ----> 29.BB39.core\n",
      "S7.A2.yaml ----> 27.A32.core\n"
     ]
    },
    {
     "name": "stderr",
     "output_type": "stream",
     "text": [
      "73it [00:07,  9.18it/s]"
     ]
    },
    {
     "name": "stdout",
     "output_type": "stream",
     "text": [
      "S11.F4.yaml ----> 31.F34.core\n",
      "S7.A1.yaml ----> 27.A31.core\n"
     ]
    },
    {
     "name": "stderr",
     "output_type": "stream",
     "text": [
      "\r",
      "75it [00:08,  9.61it/s]"
     ]
    },
    {
     "name": "stdout",
     "output_type": "stream",
     "text": [
      "S5.BB5.yaml ----> 25.BB35.core\n",
      "S11.A10.yaml ----> 31.A40.core\n",
      "S5.AA6.yaml ----> 25.AA36.core\n"
     ]
    },
    {
     "name": "stderr",
     "output_type": "stream",
     "text": [
      "79it [00:08,  9.91it/s]"
     ]
    },
    {
     "name": "stdout",
     "output_type": "stream",
     "text": [
      "S2.AA4.yaml ----> 22.AA34.core\n",
      "S2.CC12.yaml ----> 22.CC42.core\n",
      "S1.H5.yaml ----> 21.H35.core\n"
     ]
    },
    {
     "name": "stderr",
     "output_type": "stream",
     "text": [
      "\r",
      "81it [00:08, 10.02it/s]"
     ]
    },
    {
     "name": "stdout",
     "output_type": "stream",
     "text": [
      "S15.A15.yaml ----> 35.A45.core\n",
      "S11.J7.yaml ----> 31.J37.core\n",
      "S1.J5.yaml ----> 21.J35.core\n"
     ]
    },
    {
     "name": "stderr",
     "output_type": "stream",
     "text": [
      "84it [00:09,  9.85it/s]"
     ]
    },
    {
     "name": "stdout",
     "output_type": "stream",
     "text": [
      "S7.H8.yaml ----> 27.H38.core\n",
      "S7.H10.yaml ----> 27.H40.core\n"
     ]
    },
    {
     "name": "stderr",
     "output_type": "stream",
     "text": [
      "86it [00:09,  9.83it/s]"
     ]
    },
    {
     "name": "stdout",
     "output_type": "stream",
     "text": [
      "S1.J12.yaml ----> 21.J42.core\n",
      "S11.E14.yaml ----> 31.E44.core\n"
     ]
    },
    {
     "name": "stderr",
     "output_type": "stream",
     "text": [
      "88it [00:09,  8.07it/s]"
     ]
    },
    {
     "name": "stdout",
     "output_type": "stream",
     "text": [
      "S5.AA2.yaml ----> 25.AA32.core\n",
      "S1.E5.yaml ----> 21.E35.core\n"
     ]
    },
    {
     "name": "stderr",
     "output_type": "stream",
     "text": [
      "90it [00:09,  6.28it/s]"
     ]
    },
    {
     "name": "stdout",
     "output_type": "stream",
     "text": [
      "S11.G6.yaml ----> 31.G36.core\n",
      "S11.A14.yaml ----> 31.A44.core\n"
     ]
    },
    {
     "name": "stderr",
     "output_type": "stream",
     "text": [
      "92it [00:10,  5.49it/s]"
     ]
    },
    {
     "name": "stdout",
     "output_type": "stream",
     "text": [
      "S7.H1.yaml ----> 27.H31.core\n",
      "S1.A14.yaml ----> 21.A44.core\n"
     ]
    },
    {
     "name": "stderr",
     "output_type": "stream",
     "text": [
      "94it [00:10,  5.53it/s]"
     ]
    },
    {
     "name": "stdout",
     "output_type": "stream",
     "text": [
      "S15.I7.yaml ----> 35.I37.core\n",
      "S14.CC12.yaml ----> 34.CC42.core\n",
      "S11.J1.yaml ----> 31.J31.core\n"
     ]
    },
    {
     "name": "stderr",
     "output_type": "stream",
     "text": [
      "98it [00:11,  8.00it/s]"
     ]
    },
    {
     "name": "stdout",
     "output_type": "stream",
     "text": [
      "S15.D10.yaml ----> 35.D40.core\n",
      "S1.H14.yaml ----> 21.H44.core\n"
     ]
    },
    {
     "name": "stderr",
     "output_type": "stream",
     "text": [
      "\r",
      "99it [00:11,  7.50it/s]"
     ]
    },
    {
     "name": "stdout",
     "output_type": "stream",
     "text": [
      "S7.H2.yaml ----> 27.H32.core\n",
      "S2.AA5.yaml ----> 22.AA35.core\n"
     ]
    },
    {
     "name": "stderr",
     "output_type": "stream",
     "text": [
      "101it [00:11,  8.27it/s]"
     ]
    },
    {
     "name": "stdout",
     "output_type": "stream",
     "text": [
      "S1.C10.yaml ----> 21.C40.core\n",
      "S7.G11.yaml ----> 27.G41.core\n"
     ]
    },
    {
     "name": "stderr",
     "output_type": "stream",
     "text": [
      "103it [00:11,  8.77it/s]"
     ]
    },
    {
     "name": "stdout",
     "output_type": "stream",
     "text": [
      "S2.BB6.yaml ----> 22.BB36.core\n",
      "S9.BB11.yaml ----> 29.BB41.core\n"
     ]
    },
    {
     "name": "stderr",
     "output_type": "stream",
     "text": [
      "105it [00:11,  8.92it/s]"
     ]
    },
    {
     "name": "stdout",
     "output_type": "stream",
     "text": [
      "S1.G15.yaml ----> 21.G45.core\n",
      "S2.CC5.yaml ----> 22.CC35.core\n"
     ]
    },
    {
     "name": "stderr",
     "output_type": "stream",
     "text": [
      "107it [00:12,  7.55it/s]"
     ]
    },
    {
     "name": "stdout",
     "output_type": "stream",
     "text": [
      "S7.B8.yaml ----> 27.B38.core\n",
      "S1.D15.yaml ----> 21.D45.core\n"
     ]
    },
    {
     "name": "stderr",
     "output_type": "stream",
     "text": [
      "109it [00:12,  5.42it/s]"
     ]
    },
    {
     "name": "stdout",
     "output_type": "stream",
     "text": [
      "S15.I5.yaml ----> 35.I35.core\n",
      "S11.I14.yaml ----> 31.I44.core\n"
     ]
    },
    {
     "name": "stderr",
     "output_type": "stream",
     "text": [
      "\r",
      "110it [00:13,  4.57it/s]"
     ]
    },
    {
     "name": "stdout",
     "output_type": "stream",
     "text": [
      "S15.E5.yaml ----> 35.E35.core\n"
     ]
    },
    {
     "name": "stderr",
     "output_type": "stream",
     "text": [
      "112it [00:13,  5.00it/s]"
     ]
    },
    {
     "name": "stdout",
     "output_type": "stream",
     "text": [
      "S11.E2.yaml ----> 31.E32.core\n",
      "S15.H2.yaml ----> 35.H32.core\n"
     ]
    },
    {
     "name": "stderr",
     "output_type": "stream",
     "text": [
      "114it [00:13,  4.91it/s]"
     ]
    },
    {
     "name": "stdout",
     "output_type": "stream",
     "text": [
      "S11.E5.yaml ----> 31.E35.core\n",
      "S1.B8.yaml ----> 21.B38.core\n"
     ]
    },
    {
     "name": "stderr",
     "output_type": "stream",
     "text": [
      "116it [00:14,  6.55it/s]"
     ]
    },
    {
     "name": "stdout",
     "output_type": "stream",
     "text": [
      "S11.J10.yaml ----> 31.J40.core\n",
      "S1.B15.yaml ----> 21.B45.core\n"
     ]
    },
    {
     "name": "stderr",
     "output_type": "stream",
     "text": [
      "118it [00:14,  7.84it/s]"
     ]
    },
    {
     "name": "stdout",
     "output_type": "stream",
     "text": [
      "S15.E2.yaml ----> 35.E32.core\n",
      "S11.H6.yaml ----> 31.H36.core\n"
     ]
    },
    {
     "name": "stderr",
     "output_type": "stream",
     "text": [
      "120it [00:14,  8.68it/s]"
     ]
    },
    {
     "name": "stdout",
     "output_type": "stream",
     "text": [
      "S15.G2.yaml ----> 35.G32.core\n",
      "S15.H15.yaml ----> 35.H45.core\n"
     ]
    },
    {
     "name": "stderr",
     "output_type": "stream",
     "text": [
      "122it [00:14,  8.81it/s]"
     ]
    },
    {
     "name": "stdout",
     "output_type": "stream",
     "text": [
      "S15.I11.yaml ----> 35.I41.core\n",
      "S5.CC12.yaml ----> 25.CC42.core\n"
     ]
    },
    {
     "name": "stderr",
     "output_type": "stream",
     "text": [
      "124it [00:14,  8.82it/s]"
     ]
    },
    {
     "name": "stdout",
     "output_type": "stream",
     "text": [
      "S9.CC4.yaml ----> 29.CC34.core\n",
      "S1.A13.yaml ----> 21.A43.core\n"
     ]
    },
    {
     "name": "stderr",
     "output_type": "stream",
     "text": [
      "127it [00:15,  9.21it/s]"
     ]
    },
    {
     "name": "stdout",
     "output_type": "stream",
     "text": [
      "S15.A13.yaml ----> 35.A43.core\n",
      "S11.B4.yaml ----> 31.B34.core\n",
      "S7.E13.yaml ----> 27.E43.core\n"
     ]
    },
    {
     "name": "stderr",
     "output_type": "stream",
     "text": [
      "130it [00:15,  9.61it/s]"
     ]
    },
    {
     "name": "stdout",
     "output_type": "stream",
     "text": [
      "S7.F15.yaml ----> 27.F45.core\n",
      "S1.H3.yaml ----> 21.H33.core\n",
      "S15.F10.yaml ----> 35.F40.core\n"
     ]
    },
    {
     "name": "stderr",
     "output_type": "stream",
     "text": [
      "\r",
      "132it [00:15,  9.94it/s]"
     ]
    },
    {
     "name": "stdout",
     "output_type": "stream",
     "text": [
      "S5.BB1.yaml ----> 25.BB31.core\n",
      "S1.B5.yaml ----> 21.B35.core\n",
      "S9.BB3.yaml ----> 29.BB33.core\n"
     ]
    },
    {
     "name": "stderr",
     "output_type": "stream",
     "text": [
      "136it [00:16, 10.09it/s]"
     ]
    },
    {
     "name": "stdout",
     "output_type": "stream",
     "text": [
      "S1.B9.yaml ----> 21.B39.core\n",
      "S7.I3.yaml ----> 27.I33.core\n",
      "S1.A1.yaml ----> 21.A31.core\n"
     ]
    },
    {
     "name": "stderr",
     "output_type": "stream",
     "text": [
      "\r",
      "138it [00:16, 10.12it/s]"
     ]
    },
    {
     "name": "stdout",
     "output_type": "stream",
     "text": [
      "S1.C6.yaml ----> 21.C36.core\n",
      "S15.G1.yaml ----> 35.G31.core\n",
      "S7.I8.yaml ----> 27.I38.core\n"
     ]
    },
    {
     "name": "stderr",
     "output_type": "stream",
     "text": [
      "142it [00:16, 10.23it/s]"
     ]
    },
    {
     "name": "stdout",
     "output_type": "stream",
     "text": [
      "S7.J10.yaml ----> 27.J40.core\n",
      "S5.BB8.yaml ----> 25.BB38.core\n",
      "S5.BB13.yaml ----> 25.BB43.core\n"
     ]
    },
    {
     "name": "stderr",
     "output_type": "stream",
     "text": [
      "\r",
      "144it [00:16, 10.27it/s]"
     ]
    },
    {
     "name": "stdout",
     "output_type": "stream",
     "text": [
      "S1.J10.yaml ----> 21.J40.core\n",
      "S15.F13.yaml ----> 35.F43.core\n",
      "S14.CC15.yaml ----> 34.CC45.core\n"
     ]
    },
    {
     "name": "stderr",
     "output_type": "stream",
     "text": [
      "148it [00:17, 10.26it/s]"
     ]
    },
    {
     "name": "stdout",
     "output_type": "stream",
     "text": [
      "S14.BB8.yaml ----> 34.BB38.core\n",
      "S7.G12.yaml ----> 27.G42.core\n",
      "S1.E14.yaml ----> 21.E44.core\n"
     ]
    },
    {
     "name": "stderr",
     "output_type": "stream",
     "text": [
      "\r",
      "150it [00:17, 10.43it/s]"
     ]
    },
    {
     "name": "stdout",
     "output_type": "stream",
     "text": [
      "S7.J11.yaml ----> 27.J41.core\n",
      "S15.G11.yaml ----> 35.G41.core\n",
      "S15.J3.yaml ----> 35.J33.core\n"
     ]
    },
    {
     "name": "stderr",
     "output_type": "stream",
     "text": [
      "154it [00:17, 10.33it/s]"
     ]
    },
    {
     "name": "stdout",
     "output_type": "stream",
     "text": [
      "S1.C1.yaml ----> 21.C31.core\n",
      "S15.H9.yaml ----> 35.H39.core\n",
      "S14.BB1.yaml ----> 34.BB31.core\n"
     ]
    },
    {
     "name": "stderr",
     "output_type": "stream",
     "text": [
      "\r",
      "156it [00:18, 10.34it/s]"
     ]
    },
    {
     "name": "stdout",
     "output_type": "stream",
     "text": [
      "S15.C13.yaml ----> 35.C43.core\n",
      "S1.E7.yaml ----> 21.E37.core\n"
     ]
    },
    {
     "name": "stderr",
     "output_type": "stream",
     "text": [
      "\r",
      "158it [00:18, 10.19it/s]"
     ]
    },
    {
     "name": "stdout",
     "output_type": "stream",
     "text": [
      "S11.I9.yaml ----> 31.I39.core\n",
      "S15.A11.yaml ----> 35.A41.core\n",
      "S7.I10.yaml ----> 27.I40.core\n"
     ]
    },
    {
     "name": "stderr",
     "output_type": "stream",
     "text": [
      "162it [00:18, 10.18it/s]"
     ]
    },
    {
     "name": "stdout",
     "output_type": "stream",
     "text": [
      "S11.E6.yaml ----> 31.E36.core\n",
      "S14.BB7.yaml ----> 34.BB37.core\n",
      "S15.A4.yaml ----> 35.A34.core\n"
     ]
    },
    {
     "name": "stderr",
     "output_type": "stream",
     "text": [
      "\r",
      "164it [00:18, 10.20it/s]"
     ]
    },
    {
     "name": "stdout",
     "output_type": "stream",
     "text": [
      "S15.C15.yaml ----> 35.C45.core\n",
      "S7.D3.yaml ----> 27.D33.core\n",
      "S14.CC8.yaml ----> 34.CC38.core\n"
     ]
    },
    {
     "name": "stderr",
     "output_type": "stream",
     "text": [
      "168it [00:19, 10.18it/s]"
     ]
    },
    {
     "name": "stdout",
     "output_type": "stream",
     "text": [
      "S5.AA1.yaml ----> 25.AA31.core\n",
      "S11.C14.yaml ----> 31.C44.core\n",
      "S11.G13.yaml ----> 31.G43.core\n"
     ]
    },
    {
     "name": "stderr",
     "output_type": "stream",
     "text": [
      "\r",
      "170it [00:19, 10.33it/s]"
     ]
    },
    {
     "name": "stdout",
     "output_type": "stream",
     "text": [
      "S9.AA4.yaml ----> 29.AA34.core\n",
      "S15.A2.yaml ----> 35.A32.core\n",
      "S2.BB11.yaml ----> 22.BB41.core\n"
     ]
    },
    {
     "name": "stderr",
     "output_type": "stream",
     "text": [
      "174it [00:19, 10.38it/s]"
     ]
    },
    {
     "name": "stdout",
     "output_type": "stream",
     "text": [
      "S2.AA12.yaml ----> 22.AA42.core\n",
      "S1.J11.yaml ----> 21.J41.core\n",
      "S15.D5.yaml ----> 35.D35.core\n"
     ]
    },
    {
     "name": "stderr",
     "output_type": "stream",
     "text": [
      "\r",
      "176it [00:20, 10.18it/s]"
     ]
    },
    {
     "name": "stdout",
     "output_type": "stream",
     "text": [
      "S1.H11.yaml ----> 21.H41.core\n",
      "S7.I2.yaml ----> 27.I32.core\n",
      "S11.E13.yaml ----> 31.E43.core\n"
     ]
    },
    {
     "name": "stderr",
     "output_type": "stream",
     "text": [
      "180it [00:20, 10.11it/s]"
     ]
    },
    {
     "name": "stdout",
     "output_type": "stream",
     "text": [
      "S7.B15.yaml ----> 27.B45.core\n",
      "S1.D7.yaml ----> 21.D37.core\n",
      "S11.B12.yaml ----> 31.B42.core\n"
     ]
    },
    {
     "name": "stderr",
     "output_type": "stream",
     "text": [
      "\r",
      "182it [00:20, 10.15it/s]"
     ]
    },
    {
     "name": "stdout",
     "output_type": "stream",
     "text": [
      "S5.CC8.yaml ----> 25.CC38.core\n",
      "S1.D8.yaml ----> 21.D38.core\n",
      "S11.G4.yaml ----> 31.G34.core\n"
     ]
    },
    {
     "name": "stderr",
     "output_type": "stream",
     "text": [
      "186it [00:21, 10.26it/s]"
     ]
    },
    {
     "name": "stdout",
     "output_type": "stream",
     "text": [
      "S1.C14.yaml ----> 21.C44.core\n",
      "S15.I12.yaml ----> 35.I42.core\n",
      "S11.G2.yaml ----> 31.G32.core\n"
     ]
    },
    {
     "name": "stderr",
     "output_type": "stream",
     "text": [
      "\r",
      "188it [00:21, 10.09it/s]"
     ]
    },
    {
     "name": "stdout",
     "output_type": "stream",
     "text": [
      "S15.C1.yaml ----> 35.C31.core\n",
      "S15.D3.yaml ----> 35.D33.core\n",
      "S11.H4.yaml ----> 31.H34.core\n"
     ]
    },
    {
     "name": "stderr",
     "output_type": "stream",
     "text": [
      "192it [00:21, 10.27it/s]"
     ]
    },
    {
     "name": "stdout",
     "output_type": "stream",
     "text": [
      "S15.G13.yaml ----> 35.G43.core\n",
      "S5.AA14.yaml ----> 25.AA44.core\n",
      "S15.B9.yaml ----> 35.B39.core\n"
     ]
    },
    {
     "name": "stderr",
     "output_type": "stream",
     "text": [
      "\r",
      "194it [00:21, 10.51it/s]"
     ]
    },
    {
     "name": "stdout",
     "output_type": "stream",
     "text": [
      "S15.I9.yaml ----> 35.I39.core\n",
      "S15.C11.yaml ----> 35.C41.core\n",
      "S7.B1.yaml ----> 27.B31.core\n"
     ]
    },
    {
     "name": "stderr",
     "output_type": "stream",
     "text": [
      "198it [00:22, 10.27it/s]"
     ]
    },
    {
     "name": "stdout",
     "output_type": "stream",
     "text": [
      "S11.A12.yaml ----> 31.A42.core\n",
      "S7.F10.yaml ----> 27.F40.core\n",
      "S11.F5.yaml ----> 31.F35.core\n"
     ]
    },
    {
     "name": "stderr",
     "output_type": "stream",
     "text": [
      "\r",
      "200it [00:22, 10.05it/s]"
     ]
    },
    {
     "name": "stdout",
     "output_type": "stream",
     "text": [
      "S1.I1.yaml ----> 21.I31.core\n",
      "S11.G5.yaml ----> 31.G35.core\n",
      "S7.D5.yaml ----> 27.D35.core\n"
     ]
    },
    {
     "name": "stderr",
     "output_type": "stream",
     "text": [
      "204it [00:22, 10.31it/s]"
     ]
    },
    {
     "name": "stdout",
     "output_type": "stream",
     "text": [
      "S7.G5.yaml ----> 27.G35.core\n",
      "S11.E12.yaml ----> 31.E42.core\n",
      "S9.CC11.yaml ----> 29.CC41.core\n"
     ]
    },
    {
     "name": "stderr",
     "output_type": "stream",
     "text": [
      "\r",
      "206it [00:23, 10.42it/s]"
     ]
    },
    {
     "name": "stdout",
     "output_type": "stream",
     "text": [
      "S9.BB5.yaml ----> 29.BB35.core\n",
      "S9.AA1.yaml ----> 29.AA31.core\n",
      "S15.E14.yaml ----> 35.E44.core\n"
     ]
    },
    {
     "name": "stderr",
     "output_type": "stream",
     "text": [
      "210it [00:23, 10.36it/s]"
     ]
    },
    {
     "name": "stdout",
     "output_type": "stream",
     "text": [
      "S5.BB7.yaml ----> 25.BB37.core\n",
      "S7.I9.yaml ----> 27.I39.core\n",
      "S11.A15.yaml ----> 31.A45.core\n"
     ]
    },
    {
     "name": "stderr",
     "output_type": "stream",
     "text": [
      "\r",
      "212it [00:23, 10.32it/s]"
     ]
    },
    {
     "name": "stdout",
     "output_type": "stream",
     "text": [
      "S2.CC13.yaml ----> 22.CC43.core\n",
      "S1.C4.yaml ----> 21.C34.core\n",
      "S1.E12.yaml ----> 21.E42.core\n"
     ]
    },
    {
     "name": "stderr",
     "output_type": "stream",
     "text": [
      "216it [00:23, 10.47it/s]"
     ]
    },
    {
     "name": "stdout",
     "output_type": "stream",
     "text": [
      "S15.G7.yaml ----> 35.G37.core\n",
      "S9.CC1.yaml ----> 29.CC31.core\n",
      "S1.H15.yaml ----> 21.H45.core\n"
     ]
    },
    {
     "name": "stderr",
     "output_type": "stream",
     "text": [
      "\r",
      "218it [00:24, 10.33it/s]"
     ]
    },
    {
     "name": "stdout",
     "output_type": "stream",
     "text": [
      "S5.CC13.yaml ----> 25.CC43.core\n",
      "S2.BB1.yaml ----> 22.BB31.core\n",
      "S7.G1.yaml ----> 27.G31.core\n"
     ]
    },
    {
     "name": "stderr",
     "output_type": "stream",
     "text": [
      "222it [00:24, 10.41it/s]"
     ]
    },
    {
     "name": "stdout",
     "output_type": "stream",
     "text": [
      "S15.F14.yaml ----> 35.F44.core\n",
      "S11.D2.yaml ----> 31.D32.core\n",
      "S1.E4.yaml ----> 21.E34.core\n"
     ]
    },
    {
     "name": "stderr",
     "output_type": "stream",
     "text": [
      "\r",
      "224it [00:24, 10.42it/s]"
     ]
    },
    {
     "name": "stdout",
     "output_type": "stream",
     "text": [
      "S7.F13.yaml ----> 27.F43.core\n",
      "S9.AA10.yaml ----> 29.AA40.core\n",
      "S2.CC10.yaml ----> 22.CC40.core\n"
     ]
    },
    {
     "name": "stderr",
     "output_type": "stream",
     "text": [
      "228it [00:25, 10.24it/s]"
     ]
    },
    {
     "name": "stdout",
     "output_type": "stream",
     "text": [
      "S11.A2.yaml ----> 31.A32.core\n",
      "S11.B10.yaml ----> 31.B40.core\n",
      "S11.B11.yaml ----> 31.B41.core\n"
     ]
    },
    {
     "name": "stderr",
     "output_type": "stream",
     "text": [
      "\r",
      "230it [00:25, 10.21it/s]"
     ]
    },
    {
     "name": "stdout",
     "output_type": "stream",
     "text": [
      "S9.AA8.yaml ----> 29.AA38.core\n",
      "S2.AA9.yaml ----> 22.AA39.core\n"
     ]
    },
    {
     "name": "stderr",
     "output_type": "stream",
     "text": [
      "\r",
      "232it [00:25, 10.04it/s]"
     ]
    },
    {
     "name": "stdout",
     "output_type": "stream",
     "text": [
      "S7.H5.yaml ----> 27.H35.core\n",
      "S11.A1.yaml ----> 31.A31.core\n",
      "S7.B4.yaml ----> 27.B34.core\n"
     ]
    },
    {
     "name": "stderr",
     "output_type": "stream",
     "text": [
      "236it [00:25, 10.15it/s]"
     ]
    },
    {
     "name": "stdout",
     "output_type": "stream",
     "text": [
      "S11.J15.yaml ----> 31.J45.core\n",
      "S1.F9.yaml ----> 21.F39.core\n",
      "S1.G1.yaml ----> 21.G31.core\n"
     ]
    },
    {
     "name": "stderr",
     "output_type": "stream",
     "text": [
      "\r",
      "238it [00:26, 10.16it/s]"
     ]
    },
    {
     "name": "stdout",
     "output_type": "stream",
     "text": [
      "S15.B13.yaml ----> 35.B43.core\n",
      "S1.I12.yaml ----> 21.I42.core\n",
      "S5.BB15.yaml ----> 25.BB45.core\n"
     ]
    },
    {
     "name": "stderr",
     "output_type": "stream",
     "text": [
      "242it [00:26, 10.20it/s]"
     ]
    },
    {
     "name": "stdout",
     "output_type": "stream",
     "text": [
      "S15.G10.yaml ----> 35.G40.core\n",
      "S1.F5.yaml ----> 21.F35.core\n",
      "S2.AA2.yaml ----> 22.AA32.core\n"
     ]
    },
    {
     "name": "stderr",
     "output_type": "stream",
     "text": [
      "\r",
      "244it [00:26, 10.11it/s]"
     ]
    },
    {
     "name": "stdout",
     "output_type": "stream",
     "text": [
      "S1.C2.yaml ----> 21.C32.core\n",
      "S14.AA14.yaml ----> 34.AA44.core\n"
     ]
    },
    {
     "name": "stderr",
     "output_type": "stream",
     "text": [
      "\r",
      "246it [00:26, 10.03it/s]"
     ]
    },
    {
     "name": "stdout",
     "output_type": "stream",
     "text": [
      "S9.CC7.yaml ----> 29.CC37.core\n",
      "S7.A7.yaml ----> 27.A37.core\n",
      "S5.AA13.yaml ----> 25.AA43.core\n"
     ]
    },
    {
     "name": "stderr",
     "output_type": "stream",
     "text": [
      "250it [00:27, 10.18it/s]"
     ]
    },
    {
     "name": "stdout",
     "output_type": "stream",
     "text": [
      "S11.I3.yaml ----> 31.I33.core\n",
      "S1.A9.yaml ----> 21.A39.core\n",
      "S1.C15.yaml ----> 21.C45.core\n"
     ]
    },
    {
     "name": "stderr",
     "output_type": "stream",
     "text": [
      "\r",
      "252it [00:27, 10.01it/s]"
     ]
    },
    {
     "name": "stdout",
     "output_type": "stream",
     "text": [
      "S15.E6.yaml ----> 35.E36.core\n",
      "S5.CC1.yaml ----> 25.CC31.core\n"
     ]
    },
    {
     "name": "stderr",
     "output_type": "stream",
     "text": [
      "\r",
      "254it [00:27, 10.06it/s]"
     ]
    },
    {
     "name": "stdout",
     "output_type": "stream",
     "text": [
      "S11.G7.yaml ----> 31.G37.core\n",
      "S11.C6.yaml ----> 31.C36.core\n",
      "S11.F6.yaml ----> 31.F36.core\n"
     ]
    },
    {
     "name": "stderr",
     "output_type": "stream",
     "text": [
      "258it [00:28, 10.10it/s]"
     ]
    },
    {
     "name": "stdout",
     "output_type": "stream",
     "text": [
      "S1.B4.yaml ----> 21.B34.core\n",
      "S7.C3.yaml ----> 27.C33.core\n",
      "S11.I2.yaml ----> 31.I32.core\n"
     ]
    },
    {
     "name": "stderr",
     "output_type": "stream",
     "text": [
      "\r",
      "260it [00:28, 10.11it/s]"
     ]
    },
    {
     "name": "stdout",
     "output_type": "stream",
     "text": [
      "S11.J4.yaml ----> 31.J34.core\n",
      "S2.CC1.yaml ----> 22.CC31.core\n",
      "S7.F4.yaml ----> 27.F34.core\n"
     ]
    },
    {
     "name": "stderr",
     "output_type": "stream",
     "text": [
      "264it [00:28, 10.08it/s]"
     ]
    },
    {
     "name": "stdout",
     "output_type": "stream",
     "text": [
      "S7.I7.yaml ----> 27.I37.core\n",
      "S14.CC3.yaml ----> 34.CC33.core\n",
      "S15.D13.yaml ----> 35.D43.core\n"
     ]
    },
    {
     "name": "stderr",
     "output_type": "stream",
     "text": [
      "\r",
      "266it [00:28, 10.25it/s]"
     ]
    },
    {
     "name": "stdout",
     "output_type": "stream",
     "text": [
      "S11.G14.yaml ----> 31.G44.core\n",
      "S2.BB4.yaml ----> 22.BB34.core\n",
      "S1.D9.yaml ----> 21.D39.core\n"
     ]
    },
    {
     "name": "stderr",
     "output_type": "stream",
     "text": [
      "270it [00:29, 10.36it/s]"
     ]
    },
    {
     "name": "stdout",
     "output_type": "stream",
     "text": [
      "S9.BB10.yaml ----> 29.BB40.core\n",
      "S14.AA12.yaml ----> 34.AA42.core\n",
      "S7.D9.yaml ----> 27.D39.core\n"
     ]
    },
    {
     "name": "stderr",
     "output_type": "stream",
     "text": [
      "\r",
      "272it [00:29, 10.19it/s]"
     ]
    },
    {
     "name": "stdout",
     "output_type": "stream",
     "text": [
      "S7.E11.yaml ----> 27.E41.core\n",
      "S15.H5.yaml ----> 35.H35.core\n"
     ]
    },
    {
     "name": "stderr",
     "output_type": "stream",
     "text": [
      "\r",
      "274it [00:29, 10.01it/s]"
     ]
    },
    {
     "name": "stdout",
     "output_type": "stream",
     "text": [
      "S2.CC15.yaml ----> 22.CC45.core\n",
      "S11.C15.yaml ----> 31.C45.core\n",
      "S14.BB4.yaml ----> 34.BB34.core\n"
     ]
    },
    {
     "name": "stderr",
     "output_type": "stream",
     "text": [
      "278it [00:30, 10.16it/s]"
     ]
    },
    {
     "name": "stdout",
     "output_type": "stream",
     "text": [
      "S15.C10.yaml ----> 35.C40.core\n",
      "S9.CC8.yaml ----> 29.CC38.core\n",
      "S15.I4.yaml ----> 35.I34.core\n"
     ]
    },
    {
     "name": "stderr",
     "output_type": "stream",
     "text": [
      "\r",
      "280it [00:30, 10.13it/s]"
     ]
    },
    {
     "name": "stdout",
     "output_type": "stream",
     "text": [
      "S1.B1.yaml ----> 21.B31.core\n",
      "S7.F2.yaml ----> 27.F32.core\n",
      "S1.A11.yaml ----> 21.A41.core\n"
     ]
    },
    {
     "name": "stderr",
     "output_type": "stream",
     "text": [
      "284it [00:30, 10.09it/s]"
     ]
    },
    {
     "name": "stdout",
     "output_type": "stream",
     "text": [
      "S1.C7.yaml ----> 21.C37.core\n",
      "S11.E10.yaml ----> 31.E40.core\n",
      "S11.D11.yaml ----> 31.D41.core\n"
     ]
    },
    {
     "name": "stderr",
     "output_type": "stream",
     "text": [
      "\r",
      "286it [00:30, 10.24it/s]"
     ]
    },
    {
     "name": "stdout",
     "output_type": "stream",
     "text": [
      "S15.D7.yaml ----> 35.D37.core\n",
      "S5.AA10.yaml ----> 25.AA40.core\n",
      "S11.D4.yaml ----> 31.D34.core\n"
     ]
    },
    {
     "name": "stderr",
     "output_type": "stream",
     "text": [
      "290it [00:31, 10.22it/s]"
     ]
    },
    {
     "name": "stdout",
     "output_type": "stream",
     "text": [
      "S15.F3.yaml ----> 35.F33.core\n",
      "S9.AA14.yaml ----> 29.AA44.core\n",
      "S7.B9.yaml ----> 27.B39.core\n"
     ]
    },
    {
     "name": "stderr",
     "output_type": "stream",
     "text": [
      "\r",
      "292it [00:31, 10.16it/s]"
     ]
    },
    {
     "name": "stdout",
     "output_type": "stream",
     "text": [
      "S1.A7.yaml ----> 21.A37.core\n",
      "S1.B13.yaml ----> 21.B43.core\n",
      "S15.E9.yaml ----> 35.E39.core\n"
     ]
    },
    {
     "name": "stderr",
     "output_type": "stream",
     "text": [
      "296it [00:31, 10.14it/s]"
     ]
    },
    {
     "name": "stdout",
     "output_type": "stream",
     "text": [
      "S11.H2.yaml ----> 31.H32.core\n",
      "S2.BB9.yaml ----> 22.BB39.core\n",
      "S11.H7.yaml ----> 31.H37.core\n"
     ]
    },
    {
     "name": "stderr",
     "output_type": "stream",
     "text": [
      "\r",
      "298it [00:32, 10.15it/s]"
     ]
    },
    {
     "name": "stdout",
     "output_type": "stream",
     "text": [
      "S7.A3.yaml ----> 27.A33.core\n",
      "S1.D10.yaml ----> 21.D40.core\n",
      "S15.F7.yaml ----> 35.F37.core\n"
     ]
    },
    {
     "name": "stderr",
     "output_type": "stream",
     "text": [
      "302it [00:32, 10.32it/s]"
     ]
    },
    {
     "name": "stdout",
     "output_type": "stream",
     "text": [
      "S1.H12.yaml ----> 21.H42.core\n",
      "S7.A14.yaml ----> 27.A44.core\n",
      "S7.A12.yaml ----> 27.A42.core\n"
     ]
    },
    {
     "name": "stderr",
     "output_type": "stream",
     "text": [
      "\r",
      "304it [00:32, 10.14it/s]"
     ]
    },
    {
     "name": "stdout",
     "output_type": "stream",
     "text": [
      "S15.D12.yaml ----> 35.D42.core\n",
      "S2.AA13.yaml ----> 22.AA43.core\n"
     ]
    },
    {
     "name": "stderr",
     "output_type": "stream",
     "text": [
      "\r",
      "306it [00:32, 10.24it/s]"
     ]
    },
    {
     "name": "stdout",
     "output_type": "stream",
     "text": [
      "S15.G9.yaml ----> 35.G39.core\n",
      "S15.C4.yaml ----> 35.C34.core\n",
      "S7.C14.yaml ----> 27.C44.core\n"
     ]
    },
    {
     "name": "stderr",
     "output_type": "stream",
     "text": [
      "310it [00:33, 10.27it/s]"
     ]
    },
    {
     "name": "stdout",
     "output_type": "stream",
     "text": [
      "S1.F13.yaml ----> 21.F43.core\n",
      "S9.AA7.yaml ----> 29.AA37.core\n",
      "S11.H8.yaml ----> 31.H38.core\n"
     ]
    },
    {
     "name": "stderr",
     "output_type": "stream",
     "text": [
      "\r",
      "312it [00:33, 10.23it/s]"
     ]
    },
    {
     "name": "stdout",
     "output_type": "stream",
     "text": [
      "S1.G10.yaml ----> 21.G40.core\n",
      "S11.I8.yaml ----> 31.I38.core\n",
      "S9.CC9.yaml ----> 29.CC39.core\n"
     ]
    },
    {
     "name": "stderr",
     "output_type": "stream",
     "text": [
      "316it [00:33, 10.17it/s]"
     ]
    },
    {
     "name": "stdout",
     "output_type": "stream",
     "text": [
      "S11.G8.yaml ----> 31.G38.core\n",
      "S1.F1.yaml ----> 21.F31.core\n",
      "S1.C5.yaml ----> 21.C35.core\n"
     ]
    },
    {
     "name": "stderr",
     "output_type": "stream",
     "text": [
      "\r",
      "318it [00:33, 10.23it/s]"
     ]
    },
    {
     "name": "stdout",
     "output_type": "stream",
     "text": [
      "S15.C3.yaml ----> 35.C33.core\n",
      "S1.I2.yaml ----> 21.I32.core\n",
      "S11.E7.yaml ----> 31.E37.core\n"
     ]
    },
    {
     "name": "stderr",
     "output_type": "stream",
     "text": [
      "322it [00:34, 10.08it/s]"
     ]
    },
    {
     "name": "stdout",
     "output_type": "stream",
     "text": [
      "S5.BB10.yaml ----> 25.BB40.core\n",
      "S1.A12.yaml ----> 21.A42.core\n"
     ]
    },
    {
     "name": "stderr",
     "output_type": "stream",
     "text": [
      "\r",
      "324it [00:34, 10.17it/s]"
     ]
    },
    {
     "name": "stdout",
     "output_type": "stream",
     "text": [
      "S11.C1.yaml ----> 31.C31.core\n",
      "S5.BB9.yaml ----> 25.BB39.core\n",
      "S11.F8.yaml ----> 31.F38.core\n"
     ]
    },
    {
     "name": "stderr",
     "output_type": "stream",
     "text": [
      "\r",
      "326it [00:34, 10.08it/s]"
     ]
    },
    {
     "name": "stdout",
     "output_type": "stream",
     "text": [
      "S15.H6.yaml ----> 35.H36.core\n",
      "S15.J4.yaml ----> 35.J34.core\n",
      "S14.AA4.yaml ----> 34.AA34.core\n"
     ]
    },
    {
     "name": "stderr",
     "output_type": "stream",
     "text": [
      "330it [00:35, 10.29it/s]"
     ]
    },
    {
     "name": "stdout",
     "output_type": "stream",
     "text": [
      "S9.CC10.yaml ----> 29.CC40.core\n",
      "S1.B6.yaml ----> 21.B36.core\n",
      "S1.F6.yaml ----> 21.F36.core\n"
     ]
    },
    {
     "name": "stderr",
     "output_type": "stream",
     "text": [
      "\r",
      "332it [00:35, 10.26it/s]"
     ]
    },
    {
     "name": "stdout",
     "output_type": "stream",
     "text": [
      "S14.AA8.yaml ----> 34.AA38.core\n",
      "S1.B3.yaml ----> 21.B33.core\n",
      "S7.I6.yaml ----> 27.I36.core\n"
     ]
    },
    {
     "name": "stderr",
     "output_type": "stream",
     "text": [
      "\r",
      "334it [00:35, 10.40it/s]"
     ]
    },
    {
     "name": "stdout",
     "output_type": "stream",
     "text": [
      "S14.BB13.yaml ----> 34.BB43.core\n",
      "S15.C9.yaml ----> 35.C39.core\n"
     ]
    },
    {
     "name": "stderr",
     "output_type": "stream",
     "text": [
      "338it [00:35, 10.15it/s]"
     ]
    },
    {
     "name": "stdout",
     "output_type": "stream",
     "text": [
      "S1.I4.yaml ----> 21.I34.core\n",
      "S14.AA11.yaml ----> 34.AA41.core\n",
      "S11.D14.yaml ----> 31.D44.core\n"
     ]
    },
    {
     "name": "stderr",
     "output_type": "stream",
     "text": [
      "\r",
      "340it [00:36, 10.18it/s]"
     ]
    },
    {
     "name": "stdout",
     "output_type": "stream",
     "text": [
      "S1.E15.yaml ----> 21.E45.core\n",
      "S15.G15.yaml ----> 35.G45.core\n",
      "S14.CC5.yaml ----> 34.CC35.core\n"
     ]
    },
    {
     "name": "stderr",
     "output_type": "stream",
     "text": [
      "344it [00:36, 10.20it/s]"
     ]
    },
    {
     "name": "stdout",
     "output_type": "stream",
     "text": [
      "S14.CC13.yaml ----> 34.CC43.core\n",
      "S1.F8.yaml ----> 21.F38.core\n",
      "S1.J4.yaml ----> 21.J34.core\n"
     ]
    },
    {
     "name": "stderr",
     "output_type": "stream",
     "text": [
      "\r",
      "346it [00:36, 10.00it/s]"
     ]
    },
    {
     "name": "stdout",
     "output_type": "stream",
     "text": [
      "S1.H2.yaml ----> 21.H32.core\n",
      "S7.D4.yaml ----> 27.D34.core\n",
      "S15.D14.yaml ----> 35.D44.core\n"
     ]
    },
    {
     "name": "stderr",
     "output_type": "stream",
     "text": [
      "350it [00:37, 10.30it/s]"
     ]
    },
    {
     "name": "stdout",
     "output_type": "stream",
     "text": [
      "S15.E8.yaml ----> 35.E38.core\n",
      "S15.H1.yaml ----> 35.H31.core\n",
      "S7.C5.yaml ----> 27.C35.core\n"
     ]
    },
    {
     "name": "stderr",
     "output_type": "stream",
     "text": [
      "\r",
      "352it [00:37, 10.33it/s]"
     ]
    },
    {
     "name": "stdout",
     "output_type": "stream",
     "text": [
      "S11.A11.yaml ----> 31.A41.core\n",
      "S1.G13.yaml ----> 21.G43.core\n",
      "S7.A13.yaml ----> 27.A43.core\n"
     ]
    },
    {
     "name": "stderr",
     "output_type": "stream",
     "text": [
      "356it [00:37, 10.14it/s]"
     ]
    },
    {
     "name": "stdout",
     "output_type": "stream",
     "text": [
      "S1.J3.yaml ----> 21.J33.core\n",
      "S1.J7.yaml ----> 21.J37.core\n",
      "S7.C6.yaml ----> 27.C36.core\n"
     ]
    },
    {
     "name": "stderr",
     "output_type": "stream",
     "text": [
      "\r",
      "358it [00:37,  9.92it/s]"
     ]
    },
    {
     "name": "stdout",
     "output_type": "stream",
     "text": [
      "S1.B14.yaml ----> 21.B44.core\n",
      "S14.CC11.yaml ----> 34.CC41.core\n",
      "S7.E15.yaml ----> 27.E45.core\n"
     ]
    },
    {
     "name": "stderr",
     "output_type": "stream",
     "text": [
      "362it [00:38, 10.04it/s]"
     ]
    },
    {
     "name": "stdout",
     "output_type": "stream",
     "text": [
      "S15.J5.yaml ----> 35.J35.core\n",
      "S11.D3.yaml ----> 31.D33.core\n",
      "S9.AA13.yaml ----> 29.AA43.core\n"
     ]
    },
    {
     "name": "stderr",
     "output_type": "stream",
     "text": [
      "\r",
      "364it [00:38, 10.11it/s]"
     ]
    },
    {
     "name": "stdout",
     "output_type": "stream",
     "text": [
      "S1.G6.yaml ----> 21.G36.core\n",
      "S11.B6.yaml ----> 31.B36.core\n",
      "S15.F9.yaml ----> 35.F39.core\n"
     ]
    },
    {
     "name": "stderr",
     "output_type": "stream",
     "text": [
      "368it [00:38, 10.19it/s]"
     ]
    },
    {
     "name": "stdout",
     "output_type": "stream",
     "text": [
      "S7.H6.yaml ----> 27.H36.core\n",
      "S15.G5.yaml ----> 35.G35.core\n",
      "S5.AA9.yaml ----> 25.AA39.core\n"
     ]
    },
    {
     "name": "stderr",
     "output_type": "stream",
     "text": [
      "\r",
      "370it [00:39, 10.06it/s]"
     ]
    },
    {
     "name": "stdout",
     "output_type": "stream",
     "text": [
      "S5.BB11.yaml ----> 25.BB41.core\n",
      "S7.G14.yaml ----> 27.G44.core\n",
      "S7.H4.yaml ----> 27.H34.core\n"
     ]
    },
    {
     "name": "stderr",
     "output_type": "stream",
     "text": [
      "374it [00:39, 10.18it/s]"
     ]
    },
    {
     "name": "stdout",
     "output_type": "stream",
     "text": [
      "S11.B1.yaml ----> 31.B31.core\n",
      "S15.D11.yaml ----> 35.D41.core\n",
      "S7.E2.yaml ----> 27.E32.core\n"
     ]
    },
    {
     "name": "stderr",
     "output_type": "stream",
     "text": [
      "\r",
      "376it [00:39, 10.25it/s]"
     ]
    },
    {
     "name": "stdout",
     "output_type": "stream",
     "text": [
      "S15.H8.yaml ----> 35.H38.core\n",
      "S15.E11.yaml ----> 35.E41.core\n",
      "S11.C7.yaml ----> 31.C37.core\n"
     ]
    },
    {
     "name": "stderr",
     "output_type": "stream",
     "text": [
      "380it [00:40, 10.17it/s]"
     ]
    },
    {
     "name": "stdout",
     "output_type": "stream",
     "text": [
      "S7.D10.yaml ----> 27.D40.core\n",
      "S9.BB14.yaml ----> 29.BB44.core\n",
      "S7.J13.yaml ----> 27.J43.core\n"
     ]
    },
    {
     "name": "stderr",
     "output_type": "stream",
     "text": [
      "\r",
      "382it [00:40, 10.13it/s]"
     ]
    },
    {
     "name": "stdout",
     "output_type": "stream",
     "text": [
      "S15.G12.yaml ----> 35.G42.core\n",
      "S5.AA12.yaml ----> 25.AA42.core\n",
      "S1.B11.yaml ----> 21.B41.core\n"
     ]
    },
    {
     "name": "stderr",
     "output_type": "stream",
     "text": [
      "386it [00:40, 10.03it/s]"
     ]
    },
    {
     "name": "stdout",
     "output_type": "stream",
     "text": [
      "S1.C9.yaml ----> 21.C39.core\n",
      "S9.CC3.yaml ----> 29.CC33.core\n",
      "S9.AA15.yaml ----> 29.AA45.core\n"
     ]
    },
    {
     "name": "stderr",
     "output_type": "stream",
     "text": [
      "389it [00:41,  9.02it/s]"
     ]
    },
    {
     "name": "stdout",
     "output_type": "stream",
     "text": [
      "S11.A4.yaml ----> 31.A34.core\n",
      "S15.C6.yaml ----> 35.C36.core\n",
      "S2.CC3.yaml ----> 22.CC33.core\n"
     ]
    },
    {
     "name": "stderr",
     "output_type": "stream",
     "text": [
      "392it [00:41,  9.59it/s]"
     ]
    },
    {
     "name": "stdout",
     "output_type": "stream",
     "text": [
      "S2.AA11.yaml ----> 22.AA41.core\n",
      "S9.AA5.yaml ----> 29.AA35.core\n",
      "S5.CC5.yaml ----> 25.CC35.core\n"
     ]
    },
    {
     "name": "stderr",
     "output_type": "stream",
     "text": [
      "\r",
      "394it [00:41,  9.83it/s]"
     ]
    },
    {
     "name": "stdout",
     "output_type": "stream",
     "text": [
      "S11.H1.yaml ----> 31.H31.core\n",
      "S15.I1.yaml ----> 35.I31.core\n",
      "S7.I4.yaml ----> 27.I34.core\n"
     ]
    },
    {
     "name": "stderr",
     "output_type": "stream",
     "text": [
      "398it [00:41,  9.92it/s]"
     ]
    },
    {
     "name": "stdout",
     "output_type": "stream",
     "text": [
      "S7.E10.yaml ----> 27.E40.core\n",
      "S5.BB3.yaml ----> 25.BB33.core\n",
      "S15.H11.yaml ----> 35.H41.core\n"
     ]
    },
    {
     "name": "stderr",
     "output_type": "stream",
     "text": [
      "\r",
      "400it [00:42, 10.34it/s]"
     ]
    },
    {
     "name": "stdout",
     "output_type": "stream",
     "text": [
      "S7.I14.yaml ----> 27.I44.core\n",
      "S15.I6.yaml ----> 35.I36.core\n",
      "S11.B9.yaml ----> 31.B39.core\n"
     ]
    },
    {
     "name": "stderr",
     "output_type": "stream",
     "text": [
      "404it [00:42, 10.28it/s]"
     ]
    },
    {
     "name": "stdout",
     "output_type": "stream",
     "text": [
      "S7.J4.yaml ----> 27.J34.core\n",
      "S7.H12.yaml ----> 27.H42.core\n",
      "S15.B8.yaml ----> 35.B38.core\n"
     ]
    },
    {
     "name": "stderr",
     "output_type": "stream",
     "text": [
      "\r",
      "406it [00:42, 10.40it/s]"
     ]
    },
    {
     "name": "stdout",
     "output_type": "stream",
     "text": [
      "S7.E1.yaml ----> 27.E31.core\n",
      "S15.F5.yaml ----> 35.F35.core\n",
      "S7.B6.yaml ----> 27.B36.core\n"
     ]
    },
    {
     "name": "stderr",
     "output_type": "stream",
     "text": [
      "410it [00:43, 10.22it/s]"
     ]
    },
    {
     "name": "stdout",
     "output_type": "stream",
     "text": [
      "S1.F2.yaml ----> 21.F32.core\n",
      "S1.I8.yaml ----> 21.I38.core\n",
      "S15.D6.yaml ----> 35.D36.core\n"
     ]
    },
    {
     "name": "stderr",
     "output_type": "stream",
     "text": [
      "\r",
      "412it [00:43, 10.13it/s]"
     ]
    },
    {
     "name": "stdout",
     "output_type": "stream",
     "text": [
      "S15.A1.yaml ----> 35.A31.core\n",
      "S2.CC7.yaml ----> 22.CC37.core\n",
      "S1.I15.yaml ----> 21.I45.core\n"
     ]
    },
    {
     "name": "stderr",
     "output_type": "stream",
     "text": [
      "416it [00:43, 10.09it/s]"
     ]
    },
    {
     "name": "stdout",
     "output_type": "stream",
     "text": [
      "S15.A7.yaml ----> 35.A37.core\n",
      "S11.H3.yaml ----> 31.H33.core\n",
      "S1.C3.yaml ----> 21.C33.core\n"
     ]
    },
    {
     "name": "stderr",
     "output_type": "stream",
     "text": [
      "\r",
      "418it [00:43, 10.09it/s]"
     ]
    },
    {
     "name": "stdout",
     "output_type": "stream",
     "text": [
      "S14.AA13.yaml ----> 34.AA43.core\n",
      "S9.BB8.yaml ----> 29.BB38.core\n",
      "S7.J15.yaml ----> 27.J45.core\n"
     ]
    },
    {
     "name": "stderr",
     "output_type": "stream",
     "text": [
      "422it [00:44, 10.18it/s]"
     ]
    },
    {
     "name": "stdout",
     "output_type": "stream",
     "text": [
      "S11.C4.yaml ----> 31.C34.core\n",
      "S1.H13.yaml ----> 21.H43.core\n",
      "S7.H9.yaml ----> 27.H39.core\n"
     ]
    },
    {
     "name": "stderr",
     "output_type": "stream",
     "text": [
      "\r",
      "424it [00:44, 10.37it/s]"
     ]
    },
    {
     "name": "stdout",
     "output_type": "stream",
     "text": [
      "S15.C8.yaml ----> 35.C38.core\n",
      "S11.D5.yaml ----> 31.D35.core\n",
      "S15.I10.yaml ----> 35.I40.core\n"
     ]
    },
    {
     "name": "stderr",
     "output_type": "stream",
     "text": [
      "428it [00:44, 10.39it/s]"
     ]
    },
    {
     "name": "stdout",
     "output_type": "stream",
     "text": [
      "S7.J1.yaml ----> 27.J31.core\n",
      "S1.B2.yaml ----> 21.B32.core\n",
      "S14.CC1.yaml ----> 34.CC31.core\n"
     ]
    },
    {
     "name": "stderr",
     "output_type": "stream",
     "text": [
      "\r",
      "430it [00:45, 10.11it/s]"
     ]
    },
    {
     "name": "stdout",
     "output_type": "stream",
     "text": [
      "S14.BB9.yaml ----> 34.BB39.core\n",
      "S1.F10.yaml ----> 21.F40.core\n"
     ]
    },
    {
     "name": "stderr",
     "output_type": "stream",
     "text": [
      "\r",
      "432it [00:45, 10.09it/s]"
     ]
    },
    {
     "name": "stdout",
     "output_type": "stream",
     "text": [
      "S15.A3.yaml ----> 35.A33.core\n",
      "S7.B2.yaml ----> 27.B32.core\n",
      "S7.C1.yaml ----> 27.C31.core\n"
     ]
    },
    {
     "name": "stderr",
     "output_type": "stream",
     "text": [
      "436it [00:45, 10.07it/s]"
     ]
    },
    {
     "name": "stdout",
     "output_type": "stream",
     "text": [
      "S9.BB12.yaml ----> 29.BB42.core\n",
      "S5.CC9.yaml ----> 25.CC39.core\n",
      "S11.H10.yaml ----> 31.H40.core\n"
     ]
    },
    {
     "name": "stderr",
     "output_type": "stream",
     "text": [
      "\r",
      "438it [00:45, 10.05it/s]"
     ]
    },
    {
     "name": "stdout",
     "output_type": "stream",
     "text": [
      "S7.G2.yaml ----> 27.G32.core\n",
      "S14.BB3.yaml ----> 34.BB33.core\n",
      "S15.H4.yaml ----> 35.H34.core\n"
     ]
    },
    {
     "name": "stderr",
     "output_type": "stream",
     "text": [
      "442it [00:46, 10.27it/s]"
     ]
    },
    {
     "name": "stdout",
     "output_type": "stream",
     "text": [
      "S11.A3.yaml ----> 31.A33.core\n",
      "S7.J9.yaml ----> 27.J39.core\n",
      "S15.F6.yaml ----> 35.F36.core\n"
     ]
    },
    {
     "name": "stderr",
     "output_type": "stream",
     "text": [
      "\r",
      "444it [00:46, 10.33it/s]"
     ]
    },
    {
     "name": "stdout",
     "output_type": "stream",
     "text": [
      "S15.G3.yaml ----> 35.G33.core\n",
      "S11.D13.yaml ----> 31.D43.core\n",
      "S1.C11.yaml ----> 21.C41.core\n"
     ]
    },
    {
     "name": "stderr",
     "output_type": "stream",
     "text": [
      "448it [00:46, 10.47it/s]"
     ]
    },
    {
     "name": "stdout",
     "output_type": "stream",
     "text": [
      "S11.D9.yaml ----> 31.D39.core\n",
      "S14.AA3.yaml ----> 34.AA33.core\n",
      "S7.F6.yaml ----> 27.F36.core\n"
     ]
    },
    {
     "name": "stderr",
     "output_type": "stream",
     "text": [
      "\r",
      "450it [00:47, 10.39it/s]"
     ]
    },
    {
     "name": "stdout",
     "output_type": "stream",
     "text": [
      "S1.G7.yaml ----> 21.G37.core\n",
      "S14.BB14.yaml ----> 34.BB44.core\n"
     ]
    },
    {
     "name": "stderr",
     "output_type": "stream",
     "text": [
      "\r",
      "452it [00:47, 10.10it/s]"
     ]
    },
    {
     "name": "stdout",
     "output_type": "stream",
     "text": [
      "S15.H7.yaml ----> 35.H37.core\n",
      "S11.A6.yaml ----> 31.A36.core\n",
      "S11.C2.yaml ----> 31.C32.core\n"
     ]
    },
    {
     "name": "stderr",
     "output_type": "stream",
     "text": [
      "456it [00:47, 10.16it/s]"
     ]
    },
    {
     "name": "stdout",
     "output_type": "stream",
     "text": [
      "S15.J9.yaml ----> 35.J39.core\n",
      "S15.B3.yaml ----> 35.B33.core\n",
      "S11.F3.yaml ----> 31.F33.core\n"
     ]
    },
    {
     "name": "stderr",
     "output_type": "stream",
     "text": [
      "\r",
      "458it [00:47, 10.27it/s]"
     ]
    },
    {
     "name": "stdout",
     "output_type": "stream",
     "text": [
      "S11.C13.yaml ----> 31.C43.core\n",
      "S2.BB7.yaml ----> 22.BB37.core\n",
      "S11.I7.yaml ----> 31.I37.core\n"
     ]
    },
    {
     "name": "stderr",
     "output_type": "stream",
     "text": [
      "\r",
      "460it [00:48, 10.12it/s]"
     ]
    },
    {
     "name": "stdout",
     "output_type": "stream",
     "text": [
      "S11.J6.yaml ----> 31.J36.core\n",
      "S7.D13.yaml ----> 27.D43.core\n"
     ]
    },
    {
     "name": "stderr",
     "output_type": "stream",
     "text": [
      "464it [00:48, 10.02it/s]"
     ]
    },
    {
     "name": "stdout",
     "output_type": "stream",
     "text": [
      "S9.BB7.yaml ----> 29.BB37.core\n",
      "S11.J8.yaml ----> 31.J38.core\n",
      "S15.A12.yaml ----> 35.A42.core\n"
     ]
    },
    {
     "name": "stderr",
     "output_type": "stream",
     "text": [
      "\r",
      "466it [00:48, 10.06it/s]"
     ]
    },
    {
     "name": "stdout",
     "output_type": "stream",
     "text": [
      "S11.J9.yaml ----> 31.J39.core\n",
      "S7.B11.yaml ----> 27.B41.core\n",
      "S9.AA11.yaml ----> 29.AA41.core\n"
     ]
    },
    {
     "name": "stderr",
     "output_type": "stream",
     "text": [
      "470it [00:49, 10.22it/s]"
     ]
    },
    {
     "name": "stdout",
     "output_type": "stream",
     "text": [
      "S15.A8.yaml ----> 35.A38.core\n",
      "S7.J8.yaml ----> 27.J38.core\n",
      "S11.I6.yaml ----> 31.I36.core\n"
     ]
    },
    {
     "name": "stderr",
     "output_type": "stream",
     "text": [
      "\r",
      "472it [00:49, 10.00it/s]"
     ]
    },
    {
     "name": "stdout",
     "output_type": "stream",
     "text": [
      "S2.AA15.yaml ----> 22.AA45.core\n",
      "S5.CC10.yaml ----> 25.CC40.core\n"
     ]
    },
    {
     "name": "stderr",
     "output_type": "stream",
     "text": [
      "\r",
      "474it [00:49, 10.06it/s]"
     ]
    },
    {
     "name": "stdout",
     "output_type": "stream",
     "text": [
      "S9.BB2.yaml ----> 29.BB32.core\n",
      "S15.B14.yaml ----> 35.B44.core\n",
      "S11.H9.yaml ----> 31.H39.core\n"
     ]
    },
    {
     "name": "stderr",
     "output_type": "stream",
     "text": [
      "478it [00:49, 10.09it/s]"
     ]
    },
    {
     "name": "stdout",
     "output_type": "stream",
     "text": [
      "S5.CC15.yaml ----> 25.CC45.core\n",
      "S14.AA6.yaml ----> 34.AA36.core\n",
      "S9.AA12.yaml ----> 29.AA42.core\n"
     ]
    },
    {
     "name": "stderr",
     "output_type": "stream",
     "text": [
      "\r",
      "480it [00:50, 10.07it/s]"
     ]
    },
    {
     "name": "stdout",
     "output_type": "stream",
     "text": [
      "S11.J14.yaml ----> 31.J44.core\n",
      "S7.G15.yaml ----> 27.G45.core\n",
      "S7.H11.yaml ----> 27.H41.core\n"
     ]
    },
    {
     "name": "stderr",
     "output_type": "stream",
     "text": [
      "484it [00:50, 10.05it/s]"
     ]
    },
    {
     "name": "stdout",
     "output_type": "stream",
     "text": [
      "S11.I5.yaml ----> 31.I35.core\n",
      "S1.I7.yaml ----> 21.I37.core\n",
      "S11.E4.yaml ----> 31.E34.core\n"
     ]
    },
    {
     "name": "stderr",
     "output_type": "stream",
     "text": [
      "\r",
      "486it [00:50, 10.05it/s]"
     ]
    },
    {
     "name": "stdout",
     "output_type": "stream",
     "text": [
      "S11.G1.yaml ----> 31.G31.core\n",
      "S11.E8.yaml ----> 31.E38.core\n",
      "S1.E6.yaml ----> 21.E36.core\n"
     ]
    },
    {
     "name": "stderr",
     "output_type": "stream",
     "text": [
      "490it [00:51, 10.22it/s]"
     ]
    },
    {
     "name": "stdout",
     "output_type": "stream",
     "text": [
      "S7.B14.yaml ----> 27.B44.core\n",
      "S1.F3.yaml ----> 21.F33.core\n",
      "S7.F11.yaml ----> 27.F41.core\n"
     ]
    },
    {
     "name": "stderr",
     "output_type": "stream",
     "text": [
      "\r",
      "492it [00:51, 10.27it/s]"
     ]
    },
    {
     "name": "stdout",
     "output_type": "stream",
     "text": [
      "S7.C10.yaml ----> 27.C40.core\n",
      "S15.D15.yaml ----> 35.D45.core\n",
      "S14.AA1.yaml ----> 34.AA31.core\n"
     ]
    },
    {
     "name": "stderr",
     "output_type": "stream",
     "text": [
      "496it [00:51, 10.14it/s]"
     ]
    },
    {
     "name": "stdout",
     "output_type": "stream",
     "text": [
      "S11.D10.yaml ----> 31.D40.core\n",
      "S7.E8.yaml ----> 27.E38.core\n",
      "S11.E11.yaml ----> 31.E41.core\n"
     ]
    },
    {
     "name": "stderr",
     "output_type": "stream",
     "text": [
      "\r",
      "498it [00:51, 10.09it/s]"
     ]
    },
    {
     "name": "stdout",
     "output_type": "stream",
     "text": [
      "S5.AA11.yaml ----> 25.AA41.core\n",
      "S1.D5.yaml ----> 21.D35.core\n",
      "S5.AA5.yaml ----> 25.AA35.core\n"
     ]
    },
    {
     "name": "stderr",
     "output_type": "stream",
     "text": [
      "502it [00:52, 10.03it/s]"
     ]
    },
    {
     "name": "stdout",
     "output_type": "stream",
     "text": [
      "S5.CC7.yaml ----> 25.CC37.core\n",
      "S15.J11.yaml ----> 35.J41.core\n",
      "S7.F14.yaml ----> 27.F44.core\n"
     ]
    },
    {
     "name": "stderr",
     "output_type": "stream",
     "text": [
      "\r",
      "504it [00:52,  9.80it/s]"
     ]
    },
    {
     "name": "stdout",
     "output_type": "stream",
     "text": [
      "S15.J15.yaml ----> 35.J45.core\n",
      "S15.D9.yaml ----> 35.D39.core\n",
      "S11.F13.yaml ----> 31.F43.core\n"
     ]
    },
    {
     "name": "stderr",
     "output_type": "stream",
     "text": [
      "508it [00:52, 10.01it/s]"
     ]
    },
    {
     "name": "stdout",
     "output_type": "stream",
     "text": [
      "S11.E9.yaml ----> 31.E39.core\n",
      "S7.F3.yaml ----> 27.F33.core\n",
      "S1.A2.yaml ----> 21.A32.core\n"
     ]
    },
    {
     "name": "stderr",
     "output_type": "stream",
     "text": [
      "\r",
      "510it [00:52, 10.09it/s]"
     ]
    },
    {
     "name": "stdout",
     "output_type": "stream",
     "text": [
      "S1.E1.yaml ----> 21.E31.core\n",
      "S7.J3.yaml ----> 27.J33.core\n",
      "S14.AA9.yaml ----> 34.AA39.core\n"
     ]
    },
    {
     "name": "stderr",
     "output_type": "stream",
     "text": [
      "514it [00:53, 10.15it/s]"
     ]
    },
    {
     "name": "stdout",
     "output_type": "stream",
     "text": [
      "S7.A9.yaml ----> 27.A39.core\n",
      "S15.D1.yaml ----> 35.D31.core\n",
      "S5.AA8.yaml ----> 25.AA38.core\n"
     ]
    },
    {
     "name": "stderr",
     "output_type": "stream",
     "text": [
      "\r",
      "516it [00:53, 10.30it/s]"
     ]
    },
    {
     "name": "stdout",
     "output_type": "stream",
     "text": [
      "S11.H15.yaml ----> 31.H45.core\n",
      "S11.G3.yaml ----> 31.G33.core\n",
      "S9.BB1.yaml ----> 29.BB31.core\n"
     ]
    },
    {
     "name": "stderr",
     "output_type": "stream",
     "text": [
      "520it [00:53, 10.62it/s]"
     ]
    },
    {
     "name": "stdout",
     "output_type": "stream",
     "text": [
      "S5.CC11.yaml ----> 25.CC41.core\n",
      "S7.C2.yaml ----> 27.C32.core\n",
      "S1.I14.yaml ----> 21.I44.core\n"
     ]
    },
    {
     "name": "stderr",
     "output_type": "stream",
     "text": [
      "\r",
      "522it [00:54, 10.64it/s]"
     ]
    },
    {
     "name": "stdout",
     "output_type": "stream",
     "text": [
      "S15.G14.yaml ----> 35.G44.core\n",
      "S1.I11.yaml ----> 21.I41.core\n",
      "S1.J6.yaml ----> 21.J36.core\n"
     ]
    },
    {
     "name": "stderr",
     "output_type": "stream",
     "text": [
      "526it [00:54, 10.60it/s]"
     ]
    },
    {
     "name": "stdout",
     "output_type": "stream",
     "text": [
      "S7.D15.yaml ----> 27.D45.core\n",
      "S7.G7.yaml ----> 27.G37.core\n",
      "S9.AA2.yaml ----> 29.AA32.core\n"
     ]
    },
    {
     "name": "stderr",
     "output_type": "stream",
     "text": [
      "\r",
      "528it [00:54, 10.53it/s]"
     ]
    },
    {
     "name": "stdout",
     "output_type": "stream",
     "text": [
      "S11.I11.yaml ----> 31.I41.core\n",
      "S1.H7.yaml ----> 21.H37.core\n",
      "S14.AA10.yaml ----> 34.AA40.core\n"
     ]
    },
    {
     "name": "stderr",
     "output_type": "stream",
     "text": [
      "532it [00:55, 10.52it/s]"
     ]
    },
    {
     "name": "stdout",
     "output_type": "stream",
     "text": [
      "S2.BB14.yaml ----> 22.BB44.core\n",
      "S2.CC2.yaml ----> 22.CC32.core\n",
      "S11.B7.yaml ----> 31.B37.core\n"
     ]
    },
    {
     "name": "stderr",
     "output_type": "stream",
     "text": [
      "\r",
      "534it [00:55, 10.46it/s]"
     ]
    },
    {
     "name": "stdout",
     "output_type": "stream",
     "text": [
      "S11.J11.yaml ----> 31.J41.core\n",
      "S7.F12.yaml ----> 27.F42.core\n",
      "S11.D15.yaml ----> 31.D45.core\n"
     ]
    },
    {
     "name": "stderr",
     "output_type": "stream",
     "text": [
      "538it [00:55, 10.57it/s]"
     ]
    },
    {
     "name": "stdout",
     "output_type": "stream",
     "text": [
      "S9.CC5.yaml ----> 29.CC35.core\n",
      "S5.CC3.yaml ----> 25.CC33.core\n",
      "S2.BB8.yaml ----> 22.BB38.core\n"
     ]
    },
    {
     "name": "stderr",
     "output_type": "stream",
     "text": [
      "\r",
      "540it [00:55, 10.58it/s]"
     ]
    },
    {
     "name": "stdout",
     "output_type": "stream",
     "text": [
      "S1.G5.yaml ----> 21.G35.core\n",
      "S15.I15.yaml ----> 35.I45.core\n",
      "S15.G8.yaml ----> 35.G38.core\n"
     ]
    },
    {
     "name": "stderr",
     "output_type": "stream",
     "text": [
      "544it [00:56, 10.47it/s]"
     ]
    },
    {
     "name": "stdout",
     "output_type": "stream",
     "text": [
      "S7.E5.yaml ----> 27.E35.core\n",
      "S5.BB2.yaml ----> 25.BB32.core\n",
      "S1.H8.yaml ----> 21.H38.core\n"
     ]
    },
    {
     "name": "stderr",
     "output_type": "stream",
     "text": [
      "\r",
      "546it [00:56, 10.26it/s]"
     ]
    },
    {
     "name": "stdout",
     "output_type": "stream",
     "text": [
      "S1.B7.yaml ----> 21.B37.core\n",
      "S15.E1.yaml ----> 35.E31.core\n",
      "S1.F12.yaml ----> 21.F42.core\n"
     ]
    },
    {
     "name": "stderr",
     "output_type": "stream",
     "text": [
      "550it [00:56, 10.41it/s]"
     ]
    },
    {
     "name": "stdout",
     "output_type": "stream",
     "text": [
      "S11.B3.yaml ----> 31.B33.core\n",
      "S7.D14.yaml ----> 27.D44.core\n",
      "S11.F7.yaml ----> 31.F37.core\n"
     ]
    },
    {
     "name": "stderr",
     "output_type": "stream",
     "text": [
      "\r",
      "552it [00:56, 10.35it/s]"
     ]
    },
    {
     "name": "stdout",
     "output_type": "stream",
     "text": [
      "S7.B13.yaml ----> 27.B43.core\n",
      "S15.I8.yaml ----> 35.I38.core\n",
      "S15.H10.yaml ----> 35.H40.core\n"
     ]
    },
    {
     "name": "stderr",
     "output_type": "stream",
     "text": [
      "556it [00:57, 10.29it/s]"
     ]
    },
    {
     "name": "stdout",
     "output_type": "stream",
     "text": [
      "S5.AA3.yaml ----> 25.AA33.core\n",
      "S15.D4.yaml ----> 35.D34.core\n",
      "S7.E12.yaml ----> 27.E42.core\n"
     ]
    },
    {
     "name": "stderr",
     "output_type": "stream",
     "text": [
      "\r",
      "558it [00:57, 10.21it/s]"
     ]
    },
    {
     "name": "stdout",
     "output_type": "stream",
     "text": [
      "S11.C5.yaml ----> 31.C35.core\n",
      "S5.CC14.yaml ----> 25.CC44.core\n",
      "S1.C13.yaml ----> 21.C43.core\n"
     ]
    },
    {
     "name": "stderr",
     "output_type": "stream",
     "text": [
      "\r",
      "560it [00:57, 10.19it/s]"
     ]
    },
    {
     "name": "stdout",
     "output_type": "stream",
     "text": [
      "S11.H5.yaml ----> 31.H35.core\n",
      "S7.I1.yaml ----> 27.I31.core\n"
     ]
    },
    {
     "name": "stderr",
     "output_type": "stream",
     "text": [
      "564it [00:58,  9.99it/s]"
     ]
    },
    {
     "name": "stdout",
     "output_type": "stream",
     "text": [
      "S7.D1.yaml ----> 27.D31.core\n",
      "S7.A11.yaml ----> 27.A41.core\n",
      "S7.E14.yaml ----> 27.E44.core\n"
     ]
    },
    {
     "name": "stderr",
     "output_type": "stream",
     "text": [
      "567it [00:58,  8.53it/s]"
     ]
    },
    {
     "name": "stdout",
     "output_type": "stream",
     "text": [
      "S2.BB3.yaml ----> 22.BB33.core\n",
      "S7.C11.yaml ----> 27.C41.core\n",
      "S1.D6.yaml ----> 21.D36.core\n"
     ]
    },
    {
     "name": "stderr",
     "output_type": "stream",
     "text": [
      "570it [00:58,  9.24it/s]"
     ]
    },
    {
     "name": "stdout",
     "output_type": "stream",
     "text": [
      "S5.BB4.yaml ----> 25.BB34.core\n",
      "S2.BB5.yaml ----> 22.BB35.core\n",
      "S15.B10.yaml ----> 35.B40.core\n"
     ]
    },
    {
     "name": "stderr",
     "output_type": "stream",
     "text": [
      "572it [00:59,  9.36it/s]"
     ]
    },
    {
     "name": "stdout",
     "output_type": "stream",
     "text": [
      "S11.A9.yaml ----> 31.A39.core\n",
      "S9.CC2.yaml ----> 29.CC32.core\n",
      "S14.AA5.yaml ----> 34.AA35.core\n"
     ]
    },
    {
     "name": "stderr",
     "output_type": "stream",
     "text": [
      "576it [00:59,  9.86it/s]"
     ]
    },
    {
     "name": "stdout",
     "output_type": "stream",
     "text": [
      "S15.I2.yaml ----> 35.I32.core\n",
      "S7.F1.yaml ----> 27.F31.core\n",
      "S14.CC14.yaml ----> 34.CC44.core\n"
     ]
    },
    {
     "name": "stderr",
     "output_type": "stream",
     "text": [
      "\r",
      "578it [00:59, 10.21it/s]"
     ]
    },
    {
     "name": "stdout",
     "output_type": "stream",
     "text": [
      "S11.G15.yaml ----> 31.G45.core\n",
      "S1.D1.yaml ----> 21.D31.core\n",
      "S1.G8.yaml ----> 21.G38.core\n"
     ]
    },
    {
     "name": "stderr",
     "output_type": "stream",
     "text": [
      "582it [01:00, 10.21it/s]"
     ]
    },
    {
     "name": "stdout",
     "output_type": "stream",
     "text": [
      "S1.E8.yaml ----> 21.E38.core\n",
      "S7.G13.yaml ----> 27.G43.core\n",
      "S15.I14.yaml ----> 35.I44.core\n"
     ]
    },
    {
     "name": "stderr",
     "output_type": "stream",
     "text": [
      "\r",
      "584it [01:00, 10.13it/s]"
     ]
    },
    {
     "name": "stdout",
     "output_type": "stream",
     "text": [
      "S11.I12.yaml ----> 31.I42.core\n",
      "S1.D14.yaml ----> 21.D44.core\n",
      "S5.CC4.yaml ----> 25.CC34.core\n"
     ]
    },
    {
     "name": "stderr",
     "output_type": "stream",
     "text": [
      "588it [01:00, 10.30it/s]"
     ]
    },
    {
     "name": "stdout",
     "output_type": "stream",
     "text": [
      "S7.J7.yaml ----> 27.J37.core\n",
      "S1.I13.yaml ----> 21.I43.core\n",
      "S15.J6.yaml ----> 35.J36.core\n"
     ]
    },
    {
     "name": "stderr",
     "output_type": "stream",
     "text": [
      "\r",
      "590it [01:00, 10.23it/s]"
     ]
    },
    {
     "name": "stdout",
     "output_type": "stream",
     "text": [
      "S9.AA9.yaml ----> 29.AA39.core\n",
      "S14.AA2.yaml ----> 34.AA32.core\n",
      "S2.AA8.yaml ----> 22.AA38.core\n"
     ]
    },
    {
     "name": "stderr",
     "output_type": "stream",
     "text": [
      "594it [01:01, 10.17it/s]"
     ]
    },
    {
     "name": "stdout",
     "output_type": "stream",
     "text": [
      "S15.E15.yaml ----> 35.E45.core\n",
      "S15.C2.yaml ----> 35.C32.core\n",
      "S1.J8.yaml ----> 21.J38.core\n"
     ]
    },
    {
     "name": "stderr",
     "output_type": "stream",
     "text": [
      "\r",
      "596it [01:01, 10.09it/s]"
     ]
    },
    {
     "name": "stdout",
     "output_type": "stream",
     "text": [
      "S7.A5.yaml ----> 27.A35.core\n",
      "S7.D8.yaml ----> 27.D38.core\n"
     ]
    },
    {
     "name": "stderr",
     "output_type": "stream",
     "text": [
      "\r",
      "598it [01:01,  9.84it/s]"
     ]
    },
    {
     "name": "stdout",
     "output_type": "stream",
     "text": [
      "S9.BB13.yaml ----> 29.BB43.core\n",
      "S14.BB6.yaml ----> 34.BB36.core\n"
     ]
    },
    {
     "name": "stderr",
     "output_type": "stream",
     "text": [
      "601it [01:02,  9.89it/s]"
     ]
    },
    {
     "name": "stdout",
     "output_type": "stream",
     "text": [
      "S5.BB6.yaml ----> 25.BB36.core\n",
      "S7.A6.yaml ----> 27.A36.core\n",
      "S2.AA7.yaml ----> 22.AA37.core\n"
     ]
    },
    {
     "name": "stderr",
     "output_type": "stream",
     "text": [
      "604it [01:02,  9.93it/s]"
     ]
    },
    {
     "name": "stdout",
     "output_type": "stream",
     "text": [
      "S5.CC6.yaml ----> 25.CC36.core\n",
      "S15.G6.yaml ----> 35.G36.core\n",
      "S11.D1.yaml ----> 31.D31.core\n"
     ]
    },
    {
     "name": "stderr",
     "output_type": "stream",
     "text": [
      "\r",
      "606it [01:02, 10.05it/s]"
     ]
    },
    {
     "name": "stdout",
     "output_type": "stream",
     "text": [
      "S11.F10.yaml ----> 31.F40.core\n",
      "S11.A5.yaml ----> 31.A35.core\n",
      "S7.E4.yaml ----> 27.E34.core\n"
     ]
    },
    {
     "name": "stderr",
     "output_type": "stream",
     "text": [
      "610it [01:02, 10.03it/s]"
     ]
    },
    {
     "name": "stdout",
     "output_type": "stream",
     "text": [
      "S7.C15.yaml ----> 27.C45.core\n",
      "S1.A15.yaml ----> 21.A45.core\n",
      "S1.J14.yaml ----> 21.J44.core\n"
     ]
    },
    {
     "name": "stderr",
     "output_type": "stream",
     "text": [
      "\r",
      "612it [01:03, 10.09it/s]"
     ]
    },
    {
     "name": "stdout",
     "output_type": "stream",
     "text": [
      "S11.F1.yaml ----> 31.F31.core\n",
      "S7.I11.yaml ----> 27.I41.core\n",
      "S11.I10.yaml ----> 31.I40.core\n"
     ]
    },
    {
     "name": "stderr",
     "output_type": "stream",
     "text": [
      "616it [01:03, 10.11it/s]"
     ]
    },
    {
     "name": "stdout",
     "output_type": "stream",
     "text": [
      "S15.A10.yaml ----> 35.A40.core\n",
      "S7.H13.yaml ----> 27.H43.core\n",
      "S1.I3.yaml ----> 21.I33.core\n"
     ]
    },
    {
     "name": "stderr",
     "output_type": "stream",
     "text": [
      "\r",
      "618it [01:03, 10.23it/s]"
     ]
    },
    {
     "name": "stdout",
     "output_type": "stream",
     "text": [
      "S15.B15.yaml ----> 35.B45.core\n",
      "S11.B15.yaml ----> 31.B45.core\n",
      "S9.CC15.yaml ----> 29.CC45.core\n"
     ]
    },
    {
     "name": "stderr",
     "output_type": "stream",
     "text": [
      "622it [01:04, 10.12it/s]"
     ]
    },
    {
     "name": "stdout",
     "output_type": "stream",
     "text": [
      "S1.F7.yaml ----> 21.F37.core\n",
      "S7.J6.yaml ----> 27.J36.core\n",
      "S15.F8.yaml ----> 35.F38.core\n"
     ]
    },
    {
     "name": "stderr",
     "output_type": "stream",
     "text": [
      "\r",
      "624it [01:04, 10.13it/s]"
     ]
    },
    {
     "name": "stdout",
     "output_type": "stream",
     "text": [
      "S1.B10.yaml ----> 21.B40.core\n",
      "S11.C3.yaml ----> 31.C33.core\n",
      "S7.H14.yaml ----> 27.H44.core\n"
     ]
    },
    {
     "name": "stderr",
     "output_type": "stream",
     "text": [
      "\r",
      "626it [01:04, 10.14it/s]"
     ]
    },
    {
     "name": "stdout",
     "output_type": "stream",
     "text": [
      "S1.F4.yaml ----> 21.F34.core\n",
      "S14.AA15.yaml ----> 34.AA45.core\n"
     ]
    },
    {
     "name": "stderr",
     "output_type": "stream",
     "text": [
      "630it [01:04,  9.95it/s]"
     ]
    },
    {
     "name": "stdout",
     "output_type": "stream",
     "text": [
      "S9.BB4.yaml ----> 29.BB34.core\n",
      "S15.J10.yaml ----> 35.J40.core\n",
      "S1.F14.yaml ----> 21.F44.core\n"
     ]
    },
    {
     "name": "stderr",
     "output_type": "stream",
     "text": [
      "\r",
      "632it [01:05, 10.07it/s]"
     ]
    },
    {
     "name": "stdout",
     "output_type": "stream",
     "text": [
      "S15.B11.yaml ----> 35.B41.core\n",
      "S11.H12.yaml ----> 31.H42.core\n",
      "S1.F15.yaml ----> 21.F45.core\n"
     ]
    },
    {
     "name": "stderr",
     "output_type": "stream",
     "text": [
      "636it [01:05, 10.07it/s]"
     ]
    },
    {
     "name": "stdout",
     "output_type": "stream",
     "text": [
      "S15.A9.yaml ----> 35.A39.core\n",
      "S7.I15.yaml ----> 27.I45.core\n",
      "S1.I6.yaml ----> 21.I36.core\n"
     ]
    },
    {
     "name": "stderr",
     "output_type": "stream",
     "text": [
      "\r",
      "638it [01:05, 10.04it/s]"
     ]
    },
    {
     "name": "stdout",
     "output_type": "stream",
     "text": [
      "S15.H13.yaml ----> 35.H43.core\n",
      "S14.CC9.yaml ----> 34.CC39.core\n"
     ]
    },
    {
     "name": "stderr",
     "output_type": "stream",
     "text": [
      "\r",
      "640it [01:05,  9.96it/s]"
     ]
    },
    {
     "name": "stdout",
     "output_type": "stream",
     "text": [
      "S15.C14.yaml ----> 35.C44.core\n",
      "S15.F2.yaml ----> 35.F32.core\n",
      "S5.AA4.yaml ----> 25.AA34.core\n"
     ]
    },
    {
     "name": "stderr",
     "output_type": "stream",
     "text": [
      "644it [01:06, 10.34it/s]"
     ]
    },
    {
     "name": "stdout",
     "output_type": "stream",
     "text": [
      "S1.C8.yaml ----> 21.C38.core\n",
      "S15.J13.yaml ----> 35.J43.core\n",
      "S2.AA10.yaml ----> 22.AA40.core\n"
     ]
    },
    {
     "name": "stderr",
     "output_type": "stream",
     "text": [
      "\r",
      "646it [01:06, 10.37it/s]"
     ]
    },
    {
     "name": "stdout",
     "output_type": "stream",
     "text": [
      "S14.AA7.yaml ----> 34.AA37.core\n",
      "S7.D2.yaml ----> 27.D32.core\n",
      "S11.D7.yaml ----> 31.D37.core\n"
     ]
    },
    {
     "name": "stderr",
     "output_type": "stream",
     "text": [
      "650it [01:06, 10.18it/s]"
     ]
    },
    {
     "name": "stdout",
     "output_type": "stream",
     "text": [
      "S15.E13.yaml ----> 35.E43.core\n",
      "S1.D2.yaml ----> 21.D32.core\n"
     ]
    },
    {
     "name": "stderr",
     "output_type": "stream",
     "text": [
      "\r",
      "652it [01:07, 10.25it/s]"
     ]
    },
    {
     "name": "stdout",
     "output_type": "stream",
     "text": [
      "S7.G3.yaml ----> 27.G33.core\n",
      "S1.A5.yaml ----> 21.A35.core\n",
      "S2.AA3.yaml ----> 22.AA33.core\n"
     ]
    },
    {
     "name": "stderr",
     "output_type": "stream",
     "text": [
      "\r",
      "654it [01:07, 10.21it/s]"
     ]
    },
    {
     "name": "stdout",
     "output_type": "stream",
     "text": [
      "S7.F8.yaml ----> 27.F38.core\n",
      "S11.J2.yaml ----> 31.J32.core\n",
      "S2.CC14.yaml ----> 22.CC44.core\n"
     ]
    },
    {
     "name": "stderr",
     "output_type": "stream",
     "text": [
      "658it [01:07, 10.29it/s]"
     ]
    },
    {
     "name": "stdout",
     "output_type": "stream",
     "text": [
      "S7.E7.yaml ----> 27.E37.core\n",
      "S1.A6.yaml ----> 21.A36.core\n",
      "S7.G10.yaml ----> 27.G40.core\n"
     ]
    },
    {
     "name": "stderr",
     "output_type": "stream",
     "text": [
      "\r",
      "660it [01:07, 10.24it/s]"
     ]
    },
    {
     "name": "stdout",
     "output_type": "stream",
     "text": [
      "S1.D12.yaml ----> 21.D42.core\n",
      "S11.E15.yaml ----> 31.E45.core\n",
      "S7.A4.yaml ----> 27.A34.core\n"
     ]
    },
    {
     "name": "stderr",
     "output_type": "stream",
     "text": [
      "664it [01:08, 10.20it/s]"
     ]
    },
    {
     "name": "stdout",
     "output_type": "stream",
     "text": [
      "S7.E3.yaml ----> 27.E33.core\n",
      "S7.H15.yaml ----> 27.H45.core\n",
      "S1.F11.yaml ----> 21.F41.core\n"
     ]
    },
    {
     "name": "stderr",
     "output_type": "stream",
     "text": [
      "\r",
      "666it [01:08, 10.18it/s]"
     ]
    },
    {
     "name": "stdout",
     "output_type": "stream",
     "text": [
      "S5.BB14.yaml ----> 25.BB44.core\n",
      "S14.BB15.yaml ----> 34.BB45.core\n",
      "S15.F4.yaml ----> 35.F34.core\n"
     ]
    },
    {
     "name": "stderr",
     "output_type": "stream",
     "text": [
      "\r",
      "668it [01:08, 10.20it/s]"
     ]
    },
    {
     "name": "stdout",
     "output_type": "stream",
     "text": [
      "S2.BB10.yaml ----> 22.BB40.core\n",
      "S7.J12.yaml ----> 27.J42.core\n"
     ]
    },
    {
     "name": "stderr",
     "output_type": "stream",
     "text": [
      "672it [01:09, 10.04it/s]"
     ]
    },
    {
     "name": "stdout",
     "output_type": "stream",
     "text": [
      "S15.B2.yaml ----> 35.B32.core\n",
      "S2.CC4.yaml ----> 22.CC34.core\n",
      "S2.BB12.yaml ----> 22.BB42.core\n"
     ]
    },
    {
     "name": "stderr",
     "output_type": "stream",
     "text": [
      "\r",
      "674it [01:09, 10.03it/s]"
     ]
    },
    {
     "name": "stdout",
     "output_type": "stream",
     "text": [
      "S15.A14.yaml ----> 35.A44.core\n",
      "S5.BB12.yaml ----> 25.BB42.core\n",
      "S1.G4.yaml ----> 21.G34.core\n"
     ]
    },
    {
     "name": "stderr",
     "output_type": "stream",
     "text": [
      "678it [01:09,  9.84it/s]"
     ]
    },
    {
     "name": "stdout",
     "output_type": "stream",
     "text": [
      "S5.AA7.yaml ----> 25.AA37.core\n",
      "S2.CC9.yaml ----> 22.CC39.core\n",
      "S7.C8.yaml ----> 27.C38.core\n"
     ]
    },
    {
     "name": "stderr",
     "output_type": "stream",
     "text": [
      "680it [01:09,  9.66it/s]"
     ]
    },
    {
     "name": "stdout",
     "output_type": "stream",
     "text": [
      "S2.AA14.yaml ----> 22.AA44.core\n",
      "S15.J7.yaml ----> 35.J37.core\n"
     ]
    },
    {
     "name": "stderr",
     "output_type": "stream",
     "text": [
      "\r",
      "682it [01:10,  9.73it/s]"
     ]
    },
    {
     "name": "stdout",
     "output_type": "stream",
     "text": [
      "S7.C4.yaml ----> 27.C34.core\n",
      "S15.F12.yaml ----> 35.F42.core\n"
     ]
    },
    {
     "name": "stderr",
     "output_type": "stream",
     "text": [
      "684it [01:10,  9.73it/s]"
     ]
    },
    {
     "name": "stdout",
     "output_type": "stream",
     "text": [
      "S15.C5.yaml ----> 35.C35.core\n",
      "S15.E3.yaml ----> 35.E33.core\n",
      "S1.H9.yaml ----> 21.H39.core\n"
     ]
    },
    {
     "name": "stderr",
     "output_type": "stream",
     "text": [
      "688it [01:10, 10.00it/s]"
     ]
    },
    {
     "name": "stdout",
     "output_type": "stream",
     "text": [
      "S14.CC6.yaml ----> 34.CC36.core\n",
      "S15.B12.yaml ----> 35.B42.core\n",
      "S9.AA6.yaml ----> 29.AA36.core\n"
     ]
    },
    {
     "name": "stderr",
     "output_type": "stream",
     "text": [
      "690it [01:10,  9.94it/s]"
     ]
    },
    {
     "name": "stdout",
     "output_type": "stream",
     "text": [
      "S7.I12.yaml ----> 27.I42.core\n",
      "S11.A8.yaml ----> 31.A38.core\n",
      "S1.A8.yaml ----> 21.A38.core\n"
     ]
    },
    {
     "name": "stderr",
     "output_type": "stream",
     "text": [
      "693it [01:11, 10.02it/s]"
     ]
    },
    {
     "name": "stdout",
     "output_type": "stream",
     "text": [
      "S1.J15.yaml ----> 21.J45.core\n",
      "S11.B2.yaml ----> 31.B32.core\n",
      "S7.C12.yaml ----> 27.C42.core\n"
     ]
    },
    {
     "name": "stderr",
     "output_type": "stream",
     "text": [
      "697it [01:11, 10.23it/s]"
     ]
    },
    {
     "name": "stdout",
     "output_type": "stream",
     "text": [
      "S15.J2.yaml ----> 35.J32.core\n",
      "S1.G3.yaml ----> 21.G33.core\n",
      "S7.J5.yaml ----> 27.J35.core\n"
     ]
    },
    {
     "name": "stderr",
     "output_type": "stream",
     "text": [
      "\r",
      "699it [01:11, 10.25it/s]"
     ]
    },
    {
     "name": "stdout",
     "output_type": "stream",
     "text": [
      "S14.BB12.yaml ----> 34.BB42.core\n",
      "S1.J2.yaml ----> 21.J32.core\n",
      "S11.G11.yaml ----> 31.G41.core\n"
     ]
    },
    {
     "name": "stderr",
     "output_type": "stream",
     "text": [
      "703it [01:12, 10.28it/s]"
     ]
    },
    {
     "name": "stdout",
     "output_type": "stream",
     "text": [
      "S7.I5.yaml ----> 27.I35.core\n",
      "S11.D12.yaml ----> 31.D42.core\n",
      "S15.C12.yaml ----> 35.C42.core\n"
     ]
    },
    {
     "name": "stderr",
     "output_type": "stream",
     "text": [
      "\r",
      "705it [01:12, 10.14it/s]"
     ]
    },
    {
     "name": "stdout",
     "output_type": "stream",
     "text": [
      "S11.G9.yaml ----> 31.G39.core\n",
      "S15.I3.yaml ----> 35.I33.core\n"
     ]
    },
    {
     "name": "stderr",
     "output_type": "stream",
     "text": [
      "\r",
      "707it [01:12, 10.02it/s]"
     ]
    },
    {
     "name": "stdout",
     "output_type": "stream",
     "text": [
      "S7.A10.yaml ----> 27.A40.core\n",
      "S1.J13.yaml ----> 21.J43.core\n"
     ]
    },
    {
     "name": "stderr",
     "output_type": "stream",
     "text": [
      "\r",
      "709it [01:12,  9.88it/s]"
     ]
    },
    {
     "name": "stdout",
     "output_type": "stream",
     "text": [
      "S7.J14.yaml ----> 27.J44.core\n",
      "S7.H3.yaml ----> 27.H33.core\n",
      "S11.J13.yaml ----> 31.J43.core\n"
     ]
    },
    {
     "name": "stderr",
     "output_type": "stream",
     "text": [
      "712it [01:13,  9.77it/s]"
     ]
    },
    {
     "name": "stdout",
     "output_type": "stream",
     "text": [
      "S15.J14.yaml ----> 35.J44.core\n",
      "S7.B12.yaml ----> 27.B42.core\n",
      "S15.C7.yaml ----> 35.C37.core\n"
     ]
    },
    {
     "name": "stderr",
     "output_type": "stream",
     "text": [
      "716it [01:13, 10.18it/s]"
     ]
    },
    {
     "name": "stdout",
     "output_type": "stream",
     "text": [
      "S7.B3.yaml ----> 27.B33.core\n",
      "S11.C11.yaml ----> 31.C41.core\n",
      "S7.B10.yaml ----> 27.B40.core\n"
     ]
    },
    {
     "name": "stderr",
     "output_type": "stream",
     "text": [
      "\r",
      "718it [01:13, 10.31it/s]"
     ]
    },
    {
     "name": "stdout",
     "output_type": "stream",
     "text": [
      "S11.C9.yaml ----> 31.C39.core\n",
      "S11.H11.yaml ----> 31.H41.core\n",
      "S14.CC4.yaml ----> 34.CC34.core\n"
     ]
    },
    {
     "name": "stderr",
     "output_type": "stream",
     "text": [
      "722it [01:14, 10.10it/s]"
     ]
    },
    {
     "name": "stdout",
     "output_type": "stream",
     "text": [
      "S14.BB2.yaml ----> 34.BB32.core\n",
      "S15.A6.yaml ----> 35.A36.core\n"
     ]
    },
    {
     "name": "stderr",
     "output_type": "stream",
     "text": [
      "\r",
      "724it [01:14, 10.11it/s]"
     ]
    },
    {
     "name": "stdout",
     "output_type": "stream",
     "text": [
      "S7.G4.yaml ----> 27.G34.core\n",
      "S14.CC2.yaml ----> 34.CC32.core\n",
      "S15.B5.yaml ----> 35.B35.core\n"
     ]
    },
    {
     "name": "stderr",
     "output_type": "stream",
     "text": [
      "\r",
      "726it [01:14, 10.39it/s]"
     ]
    },
    {
     "name": "stdout",
     "output_type": "stream",
     "text": [
      "S11.D8.yaml ----> 31.D38.core\n",
      "S14.CC7.yaml ----> 34.CC37.core\n",
      "S15.B6.yaml ----> 35.B36.core\n"
     ]
    },
    {
     "name": "stderr",
     "output_type": "stream",
     "text": [
      "730it [01:14, 10.37it/s]"
     ]
    },
    {
     "name": "stdout",
     "output_type": "stream",
     "text": [
      "S1.E9.yaml ----> 21.E39.core\n",
      "S1.H6.yaml ----> 21.H36.core\n",
      "S1.B12.yaml ----> 21.B42.core\n"
     ]
    },
    {
     "name": "stderr",
     "output_type": "stream",
     "text": [
      "\r",
      "732it [01:14, 10.08it/s]"
     ]
    },
    {
     "name": "stdout",
     "output_type": "stream",
     "text": [
      "S11.A7.yaml ----> 31.A37.core\n",
      "S1.G14.yaml ----> 21.G44.core\n"
     ]
    },
    {
     "name": "stderr",
     "output_type": "stream",
     "text": [
      "\r",
      "734it [01:15, 10.05it/s]"
     ]
    },
    {
     "name": "stdout",
     "output_type": "stream",
     "text": [
      "S15.B7.yaml ----> 35.B37.core\n",
      "S1.D3.yaml ----> 21.D33.core\n",
      "S7.G9.yaml ----> 27.G39.core\n"
     ]
    },
    {
     "name": "stderr",
     "output_type": "stream",
     "text": [
      "738it [01:15, 10.34it/s]"
     ]
    },
    {
     "name": "stdout",
     "output_type": "stream",
     "text": [
      "S9.BB15.yaml ----> 29.BB45.core\n",
      "S15.E12.yaml ----> 35.E42.core\n",
      "S7.F7.yaml ----> 27.F37.core\n"
     ]
    },
    {
     "name": "stderr",
     "output_type": "stream",
     "text": [
      "\r",
      "740it [01:15, 10.33it/s]"
     ]
    },
    {
     "name": "stdout",
     "output_type": "stream",
     "text": [
      "S2.BB15.yaml ----> 22.BB45.core\n",
      "S9.CC6.yaml ----> 29.CC36.core\n",
      "S7.D6.yaml ----> 27.D36.core\n"
     ]
    },
    {
     "name": "stderr",
     "output_type": "stream",
     "text": [
      "744it [01:16, 10.34it/s]"
     ]
    },
    {
     "name": "stdout",
     "output_type": "stream",
     "text": [
      "S11.I4.yaml ----> 31.I34.core\n",
      "S7.H7.yaml ----> 27.H37.core\n",
      "S1.D11.yaml ----> 21.D41.core\n"
     ]
    },
    {
     "name": "stderr",
     "output_type": "stream",
     "text": [
      "\r",
      "746it [01:16, 10.21it/s]"
     ]
    },
    {
     "name": "stdout",
     "output_type": "stream",
     "text": [
      "S11.C10.yaml ----> 31.C40.core\n",
      "S9.CC13.yaml ----> 29.CC43.core\n",
      "S11.F12.yaml ----> 31.F42.core\n"
     ]
    },
    {
     "name": "stderr",
     "output_type": "stream",
     "text": [
      "750it [01:16, 10.31it/s]"
     ]
    },
    {
     "name": "stdout",
     "output_type": "stream",
     "text": [
      "S15.F15.yaml ----> 35.F45.core\n",
      "S7.I13.yaml ----> 27.I43.core\n",
      "S7.F5.yaml ----> 27.F35.core\n"
     ]
    },
    {
     "name": "stderr",
     "output_type": "stream",
     "text": [
      "\r",
      "752it [01:16, 10.26it/s]"
     ]
    },
    {
     "name": "stdout",
     "output_type": "stream",
     "text": [
      "S11.J3.yaml ----> 31.J33.core\n",
      "S2.AA1.yaml ----> 22.AA31.core\n"
     ]
    },
    {
     "name": "stderr",
     "output_type": "stream",
     "text": [
      "\r",
      "754it [01:17, 10.00it/s]"
     ]
    },
    {
     "name": "stdout",
     "output_type": "stream",
     "text": [
      "S15.E10.yaml ----> 35.E40.core\n",
      "S11.H14.yaml ----> 31.H44.core\n"
     ]
    },
    {
     "name": "stderr",
     "output_type": "stream",
     "text": [
      "\r",
      "756it [01:17, 10.00it/s]"
     ]
    },
    {
     "name": "stdout",
     "output_type": "stream",
     "text": [
      "S15.F1.yaml ----> 35.F31.core\n",
      "S11.C8.yaml ----> 31.C38.core\n",
      "S1.H10.yaml ----> 21.H40.core\n"
     ]
    },
    {
     "name": "stderr",
     "output_type": "stream",
     "text": [
      "760it [01:17, 10.24it/s]"
     ]
    },
    {
     "name": "stdout",
     "output_type": "stream",
     "text": [
      "S9.BB6.yaml ----> 29.BB36.core\n",
      "S2.CC8.yaml ----> 22.CC38.core\n",
      "S15.F11.yaml ----> 35.F41.core\n"
     ]
    },
    {
     "name": "stderr",
     "output_type": "stream",
     "text": [
      "\r",
      "762it [01:17, 10.29it/s]"
     ]
    },
    {
     "name": "stdout",
     "output_type": "stream",
     "text": [
      "S1.E10.yaml ----> 21.E40.core\n",
      "S11.F14.yaml ----> 31.F44.core\n",
      "S11.J12.yaml ----> 31.J42.core\n"
     ]
    },
    {
     "name": "stderr",
     "output_type": "stream",
     "text": [
      "766it [01:18, 10.11it/s]"
     ]
    },
    {
     "name": "stdout",
     "output_type": "stream",
     "text": [
      "S7.J2.yaml ----> 27.J32.core\n",
      "S9.CC14.yaml ----> 29.CC44.core\n",
      "S1.A10.yaml ----> 21.A40.core\n"
     ]
    },
    {
     "name": "stderr",
     "output_type": "stream",
     "text": [
      "\r",
      "768it [01:18, 10.09it/s]"
     ]
    },
    {
     "name": "stdout",
     "output_type": "stream",
     "text": [
      "S11.I15.yaml ----> 31.I45.core\n",
      "S7.B5.yaml ----> 27.B35.core\n",
      "S1.C12.yaml ----> 21.C42.core\n"
     ]
    },
    {
     "name": "stderr",
     "output_type": "stream",
     "text": [
      "772it [01:18, 10.24it/s]"
     ]
    },
    {
     "name": "stdout",
     "output_type": "stream",
     "text": [
      "S1.J9.yaml ----> 21.J39.core\n",
      "S7.A15.yaml ----> 27.A45.core\n",
      "S2.AA6.yaml ----> 22.AA36.core\n"
     ]
    },
    {
     "name": "stderr",
     "output_type": "stream",
     "text": [
      "\r",
      "774it [01:19,  9.85it/s]"
     ]
    },
    {
     "name": "stdout",
     "output_type": "stream",
     "text": [
      "S15.H12.yaml ----> 35.H42.core\n",
      "S7.C9.yaml ----> 27.C39.core\n"
     ]
    },
    {
     "name": "stderr",
     "output_type": "stream",
     "text": [
      "\r",
      "776it [01:19, 10.01it/s]"
     ]
    },
    {
     "name": "stdout",
     "output_type": "stream",
     "text": [
      "S11.B14.yaml ----> 31.B44.core\n",
      "S7.B7.yaml ----> 27.B37.core\n",
      "S11.C12.yaml ----> 31.C42.core\n"
     ]
    },
    {
     "name": "stderr",
     "output_type": "stream",
     "text": [
      "780it [01:19,  9.79it/s]"
     ]
    },
    {
     "name": "stdout",
     "output_type": "stream",
     "text": [
      "S11.G10.yaml ----> 31.G40.core\n",
      "S15.D8.yaml ----> 35.D38.core\n"
     ]
    },
    {
     "name": "stderr",
     "output_type": "stream",
     "text": [
      "\n"
     ]
    }
   ],
   "source": [
    "part2folders =   list(gc.listFolder('639736214da1ec8c4fff4dcc'))\n",
    "\n",
    "print(len(part1Items))\n",
    "p = re.compile(\"(?P<slideId>\\d+)\\.(?P<c>[A-Za-z]+)(?P<p2>\\d+).yaml\")\n",
    "\n",
    "\n",
    "for idx,i in tqdm.tqdm(enumerate(part1Items)):\n",
    "#     print(i,v)\n",
    "    m = p.search(i['name'])\n",
    "    if m:\n",
    "# #         print(m.groupdict())\n",
    "        newItemName = \"%d.%s%d.core\" % (int(m.groupdict()['slideId'])+20,m.groupdict()['c'],int(m.groupdict()['p2'])+30)\n",
    "        print(i['name'],\"---->\",newItemName)\n",
    "        newItem = gc.post(\"item/%s/copy?folderId=%s&name=%s\" % (i['_id'],part2folders[idx%9]['_id'],newItemName ))\n",
    "        gc.addMetadataToItem(newItem['_id'],{'origFileName': i['name']})\n",
    "                          \n",
    "#     else:\n",
    "#         print(i['name'],\"nomatcho\")\n",
    "#         sys.exit()       \n"
   ]
  },
  {
   "cell_type": "code",
   "execution_count": 9,
   "id": "68616a88",
   "metadata": {},
   "outputs": [],
   "source": [
    "part2Info = []\n",
    "\n",
    "for f in gc.listFolder('639736214da1ec8c4fff4dcc'):\n",
    "    for i in gc.listItem(f['_id']):\n",
    "        itemInfo = {'folderName': f['name'], 'coreName': i['name'], 'coreId': i['_id'], \n",
    "                    'folderPath' : '/RING Ki67/Part 2/%s' % (f['name'])}\n",
    "        part2Info.append(itemInfo)"
   ]
  },
  {
   "cell_type": "code",
   "execution_count": 10,
   "id": "2918878e",
   "metadata": {},
   "outputs": [],
   "source": [
    "import pandas as pd\n",
    "\n",
    "df = pd.DataFrame(part2Info)"
   ]
  },
  {
   "cell_type": "code",
   "execution_count": 12,
   "id": "01cf620b",
   "metadata": {},
   "outputs": [],
   "source": [
    "df.to_csv(\"RingKI67.Study.Part2.csv\")"
   ]
  }
 ],
 "metadata": {
  "kernelspec": {
   "display_name": "Python 3 (ipykernel)",
   "language": "python",
   "name": "python3"
  },
  "language_info": {
   "codemirror_mode": {
    "name": "ipython",
    "version": 3
   },
   "file_extension": ".py",
   "mimetype": "text/x-python",
   "name": "python",
   "nbconvert_exporter": "python",
   "pygments_lexer": "ipython3",
   "version": "3.8.10"
  }
 },
 "nbformat": 4,
 "nbformat_minor": 5
}
