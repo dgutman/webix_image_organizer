{
 "cells": [
  {
   "cell_type": "code",
   "execution_count": 1,
   "id": "e4292910",
   "metadata": {},
   "outputs": [
    {
     "data": {
      "text/plain": [
       "{'_id': '5cacfa86e62914004a60e139'}"
      ]
     },
     "execution_count": 1,
     "metadata": {},
     "output_type": "execute_result"
    }
   ],
   "source": [
    "### This will look for all the autoTMA images, and check if the corresponding cores are on the server\n",
    "### if not, generate and upload them\n",
    "## It also generate a composite core of the H&E and the TMA core\n",
    "import dagSecrets, io\n",
    "import girder_client, os, random, re, tqdm\n",
    "%load_ext autoreload\n",
    "%autoreload 2\n",
    "import tmaHelpers as tma\n",
    "\n",
    "gc = girder_client.GirderClient(apiUrl=dagSecrets.apiUrl)\n",
    "gc.authenticate(apiKey=dagSecrets.apiToken)\n",
    "## Samples Images 62bb03e4e70def4ae72689f5"
   ]
  },
  {
   "cell_type": "code",
   "execution_count": 2,
   "id": "6a67d399",
   "metadata": {},
   "outputs": [
    {
     "name": "stdout",
     "output_type": "stream",
     "text": [
      "B1\n",
      "B2\n",
      "B3\n",
      "B4\n",
      "B5\n",
      "B6\n",
      "B7\n",
      "B8\n",
      "B9\n"
     ]
    }
   ],
   "source": [
    "part1rootFolder = '62e9287be70def4ae7275e94'\n",
    "\n",
    "part1Items = []\n",
    "\n",
    "for f in gc.listFolder(part1rootFolder):\n",
    "    print(f['name'])\n",
    "    for i in gc.listItem(f['_id']):\n",
    "#         print(\"\\t\",i['name'])\n",
    "        part1Items.append(i)\n",
    "        \n",
    "random.seed(42)\n",
    "random.shuffle(part1Items)     "
   ]
  },
  {
   "cell_type": "markdown",
   "id": "dd12bf70",
   "metadata": {},
   "source": []
  },
  {
   "cell_type": "code",
   "execution_count": 3,
   "id": "d39a692d",
   "metadata": {},
   "outputs": [
    {
     "name": "stdout",
     "output_type": "stream",
     "text": [
      "780\n"
     ]
    },
    {
     "name": "stderr",
     "output_type": "stream",
     "text": [
      "780it [00:49, 15.63it/s]\n"
     ]
    }
   ],
   "source": [
    "part2folders =   list(gc.listFolder('639736214da1ec8c4fff4dcc'))\n",
    "\n",
    "print(len(part1Items))\n",
    "p = re.compile(\"(?P<slideId>\\d+)\\.(?P<c>[A-Za-z]+)(?P<p2>\\d+).yaml\")\n",
    "shuffleNameMap = []\n",
    "\n",
    "for idx,i in tqdm.tqdm(enumerate(part1Items)):\n",
    "    m = p.search(i['name'])\n",
    "    if m:\n",
    "        newItemName = \"%d.%s%d.core\" % (int(m.groupdict()['slideId'])+20,m.groupdict()['c'],int(m.groupdict()['p2'])+30)\n",
    "        shuffleNameMap.append(\"%s,--->,%s\" % ( i['name'],newItemName))\n",
    "        newItem = gc.post(\"item/%s/copy?folderId=%s&name=%s\" % (i['_id'],part2folders[idx%9]['_id'],newItemName ))\n",
    "        #gc.addMetadataToItem(newItem['_id'],{'origFileName': None, 'oid': i['_id']})\n"
   ]
  },
  {
   "cell_type": "code",
   "execution_count": 4,
   "id": "68616a88",
   "metadata": {},
   "outputs": [],
   "source": [
    "part2Info = []\n",
    "\n",
    "for f in gc.listFolder('639736214da1ec8c4fff4dcc'):\n",
    "    for i in gc.listItem(f['_id']):\n",
    "        itemInfo = {'folderName': f['name'], 'coreName': i['name'], 'coreId': i['_id'], \n",
    "                    'folderPath' : '/RING Ki67/Part 2/%s' % (f['name'])}\n",
    "        part2Info.append(itemInfo)"
   ]
  },
  {
   "cell_type": "code",
   "execution_count": 6,
   "id": "2918878e",
   "metadata": {},
   "outputs": [],
   "source": [
    "import pandas as pd\n",
    "\n",
    "df = pd.DataFrame(part2Info)\n",
    "df.to_csv(\"RingKI67.Study.Part2.csv\")\n"
   ]
  },
  {
   "cell_type": "code",
   "execution_count": null,
   "id": "b707fa9d",
   "metadata": {},
   "outputs": [],
   "source": [
    "# part1rootFolder = '62e9287be70def4ae7275e94'\n",
    "\n",
    "# for f in gc.listFolder(part1rootFolder):\n",
    "#     print(f['name'])\n",
    "#     for i in gc.listItem(f['_id']):\n",
    "# #         print(\"\\t\",i['name'])\n",
    "#         part1Items.append(i)\n",
    " "
   ]
  },
  {
   "cell_type": "code",
   "execution_count": 7,
   "id": "01cf620b",
   "metadata": {},
   "outputs": [],
   "source": [
    "import pandas as pd\n",
    "dfShuffle = pd.DataFrame(shuffleNameMap)\n",
    "dfShuffle.to_csv(\"RingKi67.Part2.ShuffleMap.csv\")"
   ]
  },
  {
   "cell_type": "code",
   "execution_count": null,
   "id": "4ed5f83d",
   "metadata": {},
   "outputs": [],
   "source": [
    "part2folders =   list(gc.listFolder('639736214da1ec8c4fff4dcc'))\n",
    "\n",
    "for f in part2folders:\n",
    "    for i in gc.listItem(f['_id']):\n",
    "        gc.delete(\"item/%s\" % i['_id'])\n",
    "#             if 'origFileName' in i['meta']:\n",
    "#                 print(i)\n",
    "#                 break\n",
    "            \n",
    "#         if '(1)' in i['name']:\n",
    "#             print(i['name'])\n",
    "#             gc.delete(\"item/%s\" % i['_id'])"
   ]
  }
 ],
 "metadata": {
  "kernelspec": {
   "display_name": "Python 3 (ipykernel)",
   "language": "python",
   "name": "python3"
  },
  "language_info": {
   "codemirror_mode": {
    "name": "ipython",
    "version": 3
   },
   "file_extension": ".py",
   "mimetype": "text/x-python",
   "name": "python",
   "nbconvert_exporter": "python",
   "pygments_lexer": "ipython3",
   "version": "3.8.10"
  }
 },
 "nbformat": 4,
 "nbformat_minor": 5
}
