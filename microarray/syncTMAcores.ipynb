{
 "cells": [
  {
   "cell_type": "code",
   "execution_count": 1,
   "metadata": {},
   "outputs": [
    {
     "data": {
      "text/plain": [
       "{'_id': '5cacfa86e62914004a60e139'}"
      ]
     },
     "execution_count": 1,
     "metadata": {},
     "output_type": "execute_result"
    }
   ],
   "source": [
    "### This will look for all the autoTMA images, and check if the corresponding cores are on the server\n",
    "### if not, generate and upload them\n",
    "## It also generate a composite core of the H&E and the TMA core\n",
    "import dsaSecrets, io\n",
    "import girder_client, os\n",
    "%load_ext autoreload\n",
    "%autoreload 2\n",
    "import tmaHelpers as tma\n",
    "\n",
    "gc = girder_client.GirderClient(apiUrl=dsaSecrets.apiUrl)\n",
    "gc.authenticate(apiKey=dsaSecrets.apiToken)\n",
    "## Samples Images 62bb03e4e70def4ae72689f5"
   ]
  },
  {
   "cell_type": "code",
   "execution_count": 2,
   "metadata": {},
   "outputs": [
    {
     "name": "stdout",
     "output_type": "stream",
     "text": [
      "2 autoTMA annotations found... will use the most recent one\n",
      "150 total ROIs to export\n",
      "1 autoTMA annotations found... will use the most recent one\n",
      "150 total ROIs to export\n",
      "1 autoTMA annotations found... will use the most recent one\n",
      "45 total ROIs to export\n",
      "1 autoTMA annotations found... will use the most recent one\n",
      "150 total ROIs to export\n",
      "1 autoTMA annotations found... will use the most recent one\n",
      "45 total ROIs to export\n",
      "1 autoTMA annotations found... will use the most recent one\n",
      "150 total ROIs to export\n",
      "1 autoTMA annotations found... will use the most recent one\n",
      "150 total ROIs to export\n",
      "1 autoTMA annotations found... will use the most recent one\n",
      "150 total ROIs to export\n",
      "1 autoTMA annotations found... will use the most recent one\n",
      "45 total ROIs to export\n",
      "1 autoTMA annotations found... will use the most recent one\n",
      "150 total ROIs to export\n"
     ]
    }
   ],
   "source": [
    "tmaCoreInfo = {}  ### I'm going to stuck all of the information for all of the TMA slides into this dictionary for processing\n",
    "### This will grab all the \n",
    "studyImageId = '62ded6cbe70def4ae726b228'\n",
    "studyImages = list(gc.listItem(studyImageId))\n",
    "for s in studyImages:\n",
    "    autoTMAdata = tma.getAutoTMAcoreInfo(gc,s['_id'])\n",
    "    tmaCoreInfo[s['name']] = {'itemInfo': s, 'autoTMAdata': autoTMAdata}"
   ]
  },
  {
   "cell_type": "code",
   "execution_count": 7,
   "metadata": {},
   "outputs": [
    {
     "name": "stdout",
     "output_type": "stream",
     "text": [
      "1185 TMA Cores have been uploaded\n"
     ]
    }
   ],
   "source": [
    "### get information for the TMA cores that are on the server..\n",
    "tmaCorePath = '/collection/Badve_TMA_Project/StudyImages/autoTMAcores'\n",
    "tcp = gc.get('resource/lookup?path=%s' % tmaCorePath)\n",
    "\n",
    "tmaCoreImages = list(gc.listItem(tcp['_id']))\n",
    "print(len(tmaCoreImages),'TMA Cores have been uploaded')\n",
    "\n",
    "uploadedTmaCores = [x['name'] for x in tmaCoreImages]"
   ]
  },
  {
   "cell_type": "code",
   "execution_count": 8,
   "metadata": {},
   "outputs": [
    {
     "name": "stdout",
     "output_type": "stream",
     "text": [
      "Processing 254461.svs\n",
      "2 autoTMA annotations found... will use the most recent one and\n",
      "150 total ROIs to export\n",
      "Processing 254462.svs\n",
      "1 autoTMA annotations found... will use the most recent one and\n",
      "150 total ROIs to export\n",
      "Processing 257591.svs\n",
      "1 autoTMA annotations found... will use the most recent one and\n",
      "45 total ROIs to export\n",
      "Processing 257593.svs\n",
      "1 autoTMA annotations found... will use the most recent one and\n",
      "150 total ROIs to export\n",
      "Processing 257595.svs\n",
      "1 autoTMA annotations found... will use the most recent one and\n",
      "45 total ROIs to export\n",
      "Processing 257597.svs\n",
      "1 autoTMA annotations found... will use the most recent one and\n",
      "150 total ROIs to export\n",
      "Processing 257600.svs\n",
      "1 autoTMA annotations found... will use the most recent one and\n",
      "150 total ROIs to export\n",
      "Processing 257601.svs\n",
      "1 autoTMA annotations found... will use the most recent one and\n",
      "150 total ROIs to export\n",
      "Processing 257603.svs\n",
      "1 autoTMA annotations found... will use the most recent one and\n",
      "45 total ROIs to export\n",
      "Processing 257604.svs\n",
      "1 autoTMA annotations found... will use the most recent one and\n",
      "150 total ROIs to export\n"
     ]
    }
   ],
   "source": [
    "# export_tma_cores( gc, imgId, roiUploadDir, tmaAnnotationName='autoTMA'):\n",
    "roiNameSet = []\n",
    "\n",
    "for i in studyImages:\n",
    "    print(\"Processing\",i['name'])\n",
    "    roiNameSet.extend( tma.export_tma_cores(gc,i['_id'],uploadedTmaCores) )"
   ]
  },
  {
   "cell_type": "code",
   "execution_count": 9,
   "metadata": {},
   "outputs": [],
   "source": [
    "for x in tmaCoreImages:\n",
    "    if x['name'] not in roiNameSet:\n",
    "        print(x['name'],x['_id'])\n",
    "        gc.delete('item/%s' % x['_id'])"
   ]
  },
  {
   "cell_type": "code",
   "execution_count": null,
   "metadata": {},
   "outputs": [],
   "source": [
    "yamlFolder = '62e33fcde70def4ae726fcb7'\n",
    "f = io.StringIO(yaml.dump(members))\n",
    "\n",
    "gc.uploadFile(yamlFolder,f,'hellomoto.yaml',70,parentType='folder')"
   ]
  },
  {
   "cell_type": "code",
   "execution_count": 22,
   "metadata": {},
   "outputs": [
    {
     "ename": "KeyError",
     "evalue": "'K1'",
     "output_type": "error",
     "traceback": [
      "\u001b[0;31m---------------------------------------------------------------------------\u001b[0m",
      "\u001b[0;31mKeyError\u001b[0m                                  Traceback (most recent call last)",
      "\u001b[0;32m<ipython-input-22-7dca40f31654>\u001b[0m in \u001b[0;36m<module>\u001b[0;34m\u001b[0m\n\u001b[1;32m     26\u001b[0m     \u001b[0;32mif\u001b[0m \u001b[0mslide\u001b[0m  \u001b[0;32mnot\u001b[0m \u001b[0;32min\u001b[0m \u001b[0;34m[\u001b[0m\u001b[0;34m'S17'\u001b[0m\u001b[0;34m,\u001b[0m\u001b[0;34m'S18'\u001b[0m\u001b[0;34m]\u001b[0m\u001b[0;34m:\u001b[0m\u001b[0;34m\u001b[0m\u001b[0;34m\u001b[0m\u001b[0m\n\u001b[1;32m     27\u001b[0m         \u001b[0;31m## So these are then.. NOT H&E cores\u001b[0m\u001b[0;34m\u001b[0m\u001b[0;34m\u001b[0m\u001b[0;34m\u001b[0m\u001b[0m\n\u001b[0;32m---> 28\u001b[0;31m         \u001b[0mmcYaml\u001b[0m \u001b[0;34m=\u001b[0m \u001b[0mwriteMultiCoreYaml\u001b[0m\u001b[0;34m(\u001b[0m\u001b[0mgc\u001b[0m\u001b[0;34m,\u001b[0m \u001b[0mc\u001b[0m\u001b[0;34m[\u001b[0m\u001b[0;34m'_id'\u001b[0m\u001b[0;34m]\u001b[0m\u001b[0;34m,\u001b[0m \u001b[0mHEslideDict\u001b[0m\u001b[0;34m[\u001b[0m\u001b[0mcoreId\u001b[0m\u001b[0;34m]\u001b[0m\u001b[0;34m[\u001b[0m\u001b[0;34m'_id'\u001b[0m\u001b[0;34m]\u001b[0m \u001b[0;34m)\u001b[0m\u001b[0;34m\u001b[0m\u001b[0;34m\u001b[0m\u001b[0m\n\u001b[0m\u001b[1;32m     29\u001b[0m         \u001b[0mf\u001b[0m \u001b[0;34m=\u001b[0m \u001b[0mio\u001b[0m\u001b[0;34m.\u001b[0m\u001b[0mStringIO\u001b[0m\u001b[0;34m(\u001b[0m\u001b[0mmcYaml\u001b[0m\u001b[0;34m)\u001b[0m\u001b[0;34m\u001b[0m\u001b[0;34m\u001b[0m\u001b[0m\n\u001b[1;32m     30\u001b[0m         \u001b[0mgc\u001b[0m\u001b[0;34m.\u001b[0m\u001b[0muploadFile\u001b[0m\u001b[0;34m(\u001b[0m\u001b[0myamlFolder\u001b[0m\u001b[0;34m,\u001b[0m\u001b[0mf\u001b[0m\u001b[0;34m,\u001b[0m \u001b[0;34mf'{slide}.{coreId}.yaml'\u001b[0m\u001b[0;34m,\u001b[0m\u001b[0mlen\u001b[0m\u001b[0;34m(\u001b[0m\u001b[0mmcYaml\u001b[0m\u001b[0;34m)\u001b[0m\u001b[0;34m,\u001b[0m\u001b[0mparentType\u001b[0m\u001b[0;34m=\u001b[0m\u001b[0;34m'folder'\u001b[0m\u001b[0;34m)\u001b[0m\u001b[0;34m\u001b[0m\u001b[0;34m\u001b[0m\u001b[0m\n",
      "\u001b[0;31mKeyError\u001b[0m: 'K1'"
     ]
    }
   ],
   "source": [
    "### Generate the pairs of images for the multicore yaml file..\n",
    "## An HE image should be paired with the corresponding \n",
    "### The H&E images are 17 and 18 \n",
    "### These need to be mapped\n",
    "HEslideDict = {}\n",
    "\n",
    "for c in tmaCoreImages:\n",
    "    (slide,coreId,cx,cy,ext) = c['name'].split(\".\")\n",
    "    if slide in ['S17','S18']:\n",
    "        if coreId not in HEslideDict:\n",
    "            HEslideDict[coreId] = c\n",
    "        else:\n",
    "            print(\"Duplicate HE core detected for\",coreId,slide)\n",
    "\n",
    "## Now that I have the HEs to pair, I Can loop through all the cores and generate the composite\n",
    "\n",
    "yamlFolder = '62e33fcde70def4ae726fcb7'\n",
    "# f = io.StringIO(yaml.dump(members))\n",
    "\n",
    "# gc.uploadFile(yamlFolder,f,'hellomoto.yaml',70,parentType='folder')\n",
    "\n",
    "for c in tmaCoreImages:\n",
    "    (slide,coreId,cx,cy,ext) = c['name'].split(\".\")\n",
    "    if slide  not in ['S17','S18']:\n",
    "        ## So these are then.. NOT H&E cores\n",
    "        mcYaml = writeMultiCoreYaml(gc, c['_id'], HEslideDict[coreId]['_id'] )\n",
    "        f = io.StringIO(mcYaml)\n",
    "        gc.uploadFile(yamlFolder,f, f'{slide}.{coreId}.yaml',len(mcYaml),parentType='folder')"
   ]
  },
  {
   "cell_type": "code",
   "execution_count": null,
   "metadata": {},
   "outputs": [],
   "source": []
  },
  {
   "cell_type": "code",
   "execution_count": 25,
   "metadata": {},
   "outputs": [
    {
     "data": {
      "text/plain": [
       "{'_id': '62e33ae9e70def4ae726ee37',\n",
       " '_modelType': 'item',\n",
       " 'baseParentId': '62ba525ae70def4ae7268918',\n",
       " 'baseParentType': 'collection',\n",
       " 'created': '2022-07-29T01:42:01.843000+00:00',\n",
       " 'creatorId': '5cacfa86e62914004a60e139',\n",
       " 'description': '',\n",
       " 'folderId': '62e310b4e70def4ae726d5d9',\n",
       " 'largeImage': {'fileId': '62e33ae9e70def4ae726ee38', 'sourceName': 'tiff'},\n",
       " 'meta': {},\n",
       " 'name': 'S1.K1.35600.3408.tiff',\n",
       " 'size': 30119552,\n",
       " 'updated': '2022-07-29T01:42:01.843000+00:00'}"
      ]
     },
     "execution_count": 25,
     "metadata": {},
     "output_type": "execute_result"
    }
   ],
   "source": [
    "c"
   ]
  },
  {
   "cell_type": "code",
   "execution_count": null,
   "metadata": {},
   "outputs": [],
   "source": [
    "# import yaml\n",
    "# x = yaml.dump(members)\n",
    "# len(x)\n",
    "\n",
    "len(yaml.dump(members))\n",
    "# # dict object\n",
    "# members = [{'name': 'Zoey', 'occupation': 'Doctor'},\n",
    "#            {'name': 'Zaara', 'occupation': 'Dentist'}]\n",
    "\n",
    "# # Convert Python dictionary into a YAML document\n",
    "# print(yaml.dump(members))"
   ]
  },
  {
   "cell_type": "code",
   "execution_count": 21,
   "metadata": {},
   "outputs": [],
   "source": [
    "def writeMultiCoreYaml( gc, imgIdOne, imgIdTwo):\n",
    "    ### This will take two images and concanetate them together with imgOne on the left and image two on the right\n",
    "    ### Using the nifty new YAML configuration...\n",
    "    ### Get the tileInfo for these two slides..\n",
    "    imgOneTs = gc.get('item/%s/tiles' % imgIdOne)\n",
    "    imgTwoTs = gc.get('item/%s/tiles' % imgIdTwo)\n",
    "#     print(imgOneTs)\n",
    "    mcWidth = imgOneTs['sizeX'] + imgTwoTs['sizeX']\n",
    "    mcHeight = max([imgOneTs['sizeX'],imgTwoTs['sizeX']])\n",
    "    \n",
    "    return (\n",
    "    f'---\\r\\n'\n",
    "    f'width: {mcWidth}\\r\\n'\n",
    "    f'height: {mcHeight}\\r\\n'\n",
    "    'sources:\\r\\n'\n",
    "    f'  - path: girder://{imgIdOne}\\r\\n'\n",
    "    f'    z: 0\\r\\n'\n",
    "    f'    position:\\r\\n'\n",
    "    f'      x: 0\\r\\n'\n",
    "    f'      y: 0\\r\\n'\n",
    "    f'  - path: girder://{imgIdTwo}\\r\\n'\n",
    "    f'    z: 0\\r\\n'\n",
    "    f'    position:\\r\\n'\n",
    "    f'      x: {imgOneTs[\"sizeX\"]}\\r\\n'\n",
    "    f'      y: 0\\r\\n'\n",
    "    )"
   ]
  },
  {
   "cell_type": "code",
   "execution_count": null,
   "metadata": {},
   "outputs": [],
   "source": [
    "tmaCoreImages[2]"
   ]
  },
  {
   "cell_type": "code",
   "execution_count": null,
   "metadata": {},
   "outputs": [],
   "source": [
    "f=writeMultiCoreYaml(gc,tmaCoreImages[1]['_id'],tmaCoreImages[2]['_id'])\n",
    "print(f)"
   ]
  },
  {
   "cell_type": "code",
   "execution_count": null,
   "metadata": {},
   "outputs": [],
   "source": [
    "# def getAutoTMAcoreInfo( gc, imgId, tmaAnnotationName='autoTMA'):\n",
    "#     ### This will find and return the latest autoTMA record associated with a given image\n",
    "#     i = gc.get('item/%s' % imgId)\n",
    "#     fileRoot = i['meta']['slideNumber']\n",
    "    \n",
    "#     ## Get autoTMA documents for this item\n",
    "#     tmaDocs=  gc.get('annotation?itemId=%s&name=%s' % (imgId, tmaAnnotationName))\n",
    "#     print(len(tmaDocs),'autoTMA annotations found... will use the most recent one')\n",
    "    \n",
    "#     if tmaDocs:\n",
    "#         ae = gc.get('annotation/%s' % tmaDocs[-1]['_id']) ## Grab the last one... assume that's the most recent.. may need to check\n",
    "#         print(len(ae['annotation']['elements']),'total ROIs to export')\n",
    "#     else:\n",
    "#         ae = None\n",
    "#         print(\"No tma cores found for this image..\")\n",
    "    \n",
    "#     return ae\n",
    "#     roiDir = 'ROI_Export'\n",
    "    \n",
    "#     if not os.path.isdir(roiDir):\n",
    "#         os.mkdir(roiDir)\n",
    "\n",
    "#     for roi in ae['annotation']['elements']:\n",
    "#         roiFileName = \"%s/%s.%s.%d.%d.tiff\" % (roiDir,fileRoot,roi['label']['value'],roi['center'][0],roi['center'][1])\n",
    "        \n",
    "#         if not os.path.isfile(roiFileName):\n",
    "#             print(roiFileName)\n",
    "#             r= tma.get_annotation_region(gc,imgId,roi)        \n",
    "\n",
    "#             with open(roiFileName,\"wb\") as fpi:\n",
    "#                 fpi.write(r)\n",
    "        \n",
    "       "
   ]
  }
 ],
 "metadata": {
  "kernelspec": {
   "display_name": "Python 3",
   "language": "python",
   "name": "python3"
  },
  "language_info": {
   "codemirror_mode": {
    "name": "ipython",
    "version": 3
   },
   "file_extension": ".py",
   "mimetype": "text/x-python",
   "name": "python",
   "nbconvert_exporter": "python",
   "pygments_lexer": "ipython3",
   "version": "3.7.3"
  }
 },
 "nbformat": 4,
 "nbformat_minor": 2
}
