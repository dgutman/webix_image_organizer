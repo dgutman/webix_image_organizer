{
 "cells": [
  {
   "cell_type": "code",
   "execution_count": 11,
   "metadata": {},
   "outputs": [
    {
     "name": "stdout",
     "output_type": "stream",
     "text": [
      "The autoreload extension is already loaded. To reload it, use:\n",
      "  %reload_ext autoreload\n"
     ]
    },
    {
     "data": {
      "text/plain": [
       "{'_id': '5cacfa86e62914004a60e139'}"
      ]
     },
     "execution_count": 11,
     "metadata": {},
     "output_type": "execute_result"
    }
   ],
   "source": [
    "### This will look for all the autoTMA images, and check if the corresponding cores are on the server\n",
    "### if not, generate and upload them\n",
    "## It also generate a composite core of the H&E and the TMA core\n",
    "\n",
    "import dsaSecrets\n",
    "import girder_client, os\n",
    "%load_ext autoreload\n",
    "%autoreload 2\n",
    "import tmaHelpers as tma\n",
    "\n",
    "gc = girder_client.GirderClient(apiUrl=dsaSecrets.apiUrl)\n",
    "gc.authenticate(apiKey=dsaSecrets.apiToken)\n",
    "## Samples Images 62bb03e4e70def4ae72689f5"
   ]
  },
  {
   "cell_type": "code",
   "execution_count": 13,
   "metadata": {},
   "outputs": [
    {
     "name": "stdout",
     "output_type": "stream",
     "text": [
      "2 autoTMA annotations found... will use the most recent one\n",
      "150 total ROIs to export\n",
      "1 autoTMA annotations found... will use the most recent one\n",
      "150 total ROIs to export\n",
      "1 autoTMA annotations found... will use the most recent one\n",
      "45 total ROIs to export\n",
      "1 autoTMA annotations found... will use the most recent one\n",
      "150 total ROIs to export\n",
      "1 autoTMA annotations found... will use the most recent one\n",
      "45 total ROIs to export\n",
      "1 autoTMA annotations found... will use the most recent one\n",
      "150 total ROIs to export\n",
      "0 autoTMA annotations found... will use the most recent one\n",
      "No tma cores foudn for this image..\n",
      "0 autoTMA annotations found... will use the most recent one\n",
      "No tma cores foudn for this image..\n",
      "0 autoTMA annotations found... will use the most recent one\n",
      "No tma cores foudn for this image..\n",
      "1 autoTMA annotations found... will use the most recent one\n",
      "150 total ROIs to export\n"
     ]
    }
   ],
   "source": [
    "tmaCoreInfo = {}  ### I'm going to stuck all of the information for all of the TMA slides into this dictionary for processing\n",
    "\n",
    "### This will grab all the \n",
    "studyImageId = '62ded6cbe70def4ae726b228'\n",
    "studyImages = list(gc.listItem(studyImageId))\n",
    "for s in studyImages:\n",
    "    autoTMAdata = getAutoTMAcoreInfo(gc,s['_id'])\n",
    "    tmaCoreInfo[s['name']] = {'itemInfo': s, 'autoTMAdata': autoTMAdata}"
   ]
  },
  {
   "cell_type": "code",
   "execution_count": 17,
   "metadata": {},
   "outputs": [
    {
     "name": "stdout",
     "output_type": "stream",
     "text": [
      "610 TMA Cores have been uploaded\n"
     ]
    }
   ],
   "source": [
    "### get information for the TMA cores that are on the server..\n",
    "tmaCorePath = '/collection/Badve_TMA_Project/StudyImages/autoTMAcores'\n",
    "tcp = gc.get('resource/lookup?path=%s' % tmaCorePath)\n",
    "\n",
    "tmaCoreImages = list(gc.listItem(tcp['_id']))\n",
    "print(len(tmaCoreImages),'TMA Cores have been uploaded')"
   ]
  },
  {
   "cell_type": "code",
   "execution_count": 19,
   "metadata": {},
   "outputs": [
    {
     "data": {
      "text/plain": [
       "{'levels': 5,\n",
       " 'magnification': 19.82553515625,\n",
       " 'mm_x': 0.0005044000033889375,\n",
       " 'mm_y': 0.0005044000033889375,\n",
       " 'sizeX': 3040,\n",
       " 'sizeY': 3616,\n",
       " 'tileHeight': 256,\n",
       " 'tileWidth': 256}"
      ]
     },
     "execution_count": 19,
     "metadata": {},
     "output_type": "execute_result"
    }
   ],
   "source": [
    "gc.get('item/%s/tiles' % tmaCoreImages[2]['_id'])  ## This gets the individual tile info..."
   ]
  },
  {
   "cell_type": "code",
   "execution_count": 41,
   "metadata": {},
   "outputs": [
    {
     "data": {
      "text/plain": [
       "{'_id': '62e3424fe70def4ae726fcbb',\n",
       " '_modelType': 'file',\n",
       " 'assetstoreId': '5ec45b61b3228813f0440a19',\n",
       " 'created': '2022-07-29T02:13:35.411442+00:00',\n",
       " 'creatorId': '5cacfa86e62914004a60e139',\n",
       " 'exts': ['yaml'],\n",
       " 'itemId': '62e3424fe70def4ae726fcba',\n",
       " 'mimeType': 'application/octet-stream',\n",
       " 'name': 'hellomoto.yaml',\n",
       " 'size': 70}"
      ]
     },
     "execution_count": 41,
     "metadata": {},
     "output_type": "execute_result"
    }
   ],
   "source": [
    "yamlFolder = '62e33fcde70def4ae726fcb7'\n",
    "f = io.StringIO(yaml.dump(members))\n",
    "\n",
    "gc.uploadFile(yamlFolder,f,'hellomoto.yaml',70,parentType='folder')"
   ]
  },
  {
   "cell_type": "code",
   "execution_count": 39,
   "metadata": {},
   "outputs": [
    {
     "data": {
      "text/plain": [
       "70"
      ]
     },
     "execution_count": 39,
     "metadata": {},
     "output_type": "execute_result"
    }
   ],
   "source": [
    "# x = yaml.dump(members)\n",
    "# len(x)\n",
    "import io\n",
    "len(yaml.dump(members))"
   ]
  },
  {
   "cell_type": "code",
   "execution_count": 20,
   "metadata": {},
   "outputs": [
    {
     "name": "stdout",
     "output_type": "stream",
     "text": [
      "- name: Zoey\n",
      "  occupation: Doctor\n",
      "- name: Zaara\n",
      "  occupation: Dentist\n",
      "\n"
     ]
    }
   ],
   "source": [
    "import yaml\n",
    "\n",
    "# dict object\n",
    "members = [{'name': 'Zoey', 'occupation': 'Doctor'},\n",
    "           {'name': 'Zaara', 'occupation': 'Dentist'}]\n",
    "\n",
    "# Convert Python dictionary into a YAML document\n",
    "print(yaml.dump(members))"
   ]
  },
  {
   "cell_type": "code",
   "execution_count": 57,
   "metadata": {},
   "outputs": [],
   "source": [
    "def writeMultiCoreYaml( gc, imgIdOne, imgIdTwo):\n",
    "    ### This will take two images and concanetate them together with imgOne on the left and image two on the right\n",
    "    ### Using the nifty new YAML configuration...\n",
    "    ### Get the tileInfo for these two slides..\n",
    "    imgOneTI = gc.get('item/%s/tile')\n",
    "    \n",
    "    \n",
    "    return (\n",
    "    f'---\\r\\n'\n",
    "    f'width: {7040}\\r\\n'\n",
    "    f'height: {3000}]\\r\\n'\n",
    "    'sources:\\r\\n'\n",
    "    f'  - path: girder://{imgIdOne}\\r\\n'\n",
    "    f'    z: 0\\r\\n'\n",
    "    f'    position:\\r\\n'\n",
    "    f'      x: 0\\r\\n'\n",
    "    f'      y: 0\\r\\n'\n",
    "    f'  - path: girder://{imgIdTwo}\\r\\n'\n",
    "    f'    z: 0\\r\\n'\n",
    "    f'    position:\\r\\n'\n",
    "    f'      x: {imgIdOne}\\r\\n'\n",
    "    f'      y: 0\\r\\n'\n",
    "    )\n",
    "    \n"
   ]
  },
  {
   "cell_type": "code",
   "execution_count": null,
   "metadata": {},
   "outputs": [],
   "source": [
    "\n"
   ]
  },
  {
   "cell_type": "code",
   "execution_count": 58,
   "metadata": {},
   "outputs": [
    {
     "name": "stdout",
     "output_type": "stream",
     "text": [
      "---\r\n",
      "width: 7040\r\n",
      "height: 3000]\r\n",
      "sources:\r\n",
      "  - path: girder://123123\r\n",
      "    z: 0\r\n",
      "    position:\r\n",
      "      x: 0\r\n",
      "      y: 0\r\n",
      "  - path: girder://1231231\r\n",
      "    z: 0\r\n",
      "    position:\r\n",
      "      x: 123123\r\n",
      "      y: 0\r\n",
      "\n"
     ]
    }
   ],
   "source": [
    "f=writeMultiCoreYaml(gc,'123123','1231231')\n",
    "print(f)"
   ]
  },
  {
   "cell_type": "code",
   "execution_count": 9,
   "metadata": {},
   "outputs": [],
   "source": [
    "def getAutoTMAcoreInfo( gc, imgId, tmaAnnotationName='autoTMA'):\n",
    "    ### This will find and return the latest autoTMA record associated with a given image\n",
    "    i = gc.get('item/%s' % imgId)\n",
    "    fileRoot = i['meta']['slideNumber']\n",
    "    \n",
    "    ## Get autoTMA documents for this item\n",
    "    tmaDocs=  gc.get('annotation?itemId=%s&name=%s' % (imgId, tmaAnnotationName))\n",
    "    print(len(tmaDocs),'autoTMA annotations found... will use the most recent one')\n",
    "    \n",
    "    if tmaDocs:\n",
    "        ae = gc.get('annotation/%s' % tmaDocs[-1]['_id']) ## Grab the last one... assume that's the most recent.. may need to check\n",
    "        print(len(ae['annotation']['elements']),'total ROIs to export')\n",
    "    else:\n",
    "        ae = None\n",
    "        print(\"No tma cores found for this image..\")\n",
    "    \n",
    "    return ae\n",
    "#     roiDir = 'ROI_Export'\n",
    "    \n",
    "#     if not os.path.isdir(roiDir):\n",
    "#         os.mkdir(roiDir)\n",
    "\n",
    "#     for roi in ae['annotation']['elements']:\n",
    "#         roiFileName = \"%s/%s.%s.%d.%d.tiff\" % (roiDir,fileRoot,roi['label']['value'],roi['center'][0],roi['center'][1])\n",
    "        \n",
    "#         if not os.path.isfile(roiFileName):\n",
    "#             print(roiFileName)\n",
    "#             r= tma.get_annotation_region(gc,imgId,roi)        \n",
    "\n",
    "#             with open(roiFileName,\"wb\") as fpi:\n",
    "#                 fpi.write(r)\n",
    "        \n",
    "       "
   ]
  }
 ],
 "metadata": {
  "kernelspec": {
   "display_name": "Python 3",
   "language": "python",
   "name": "python3"
  },
  "language_info": {
   "codemirror_mode": {
    "name": "ipython",
    "version": 3
   },
   "file_extension": ".py",
   "mimetype": "text/x-python",
   "name": "python",
   "nbconvert_exporter": "python",
   "pygments_lexer": "ipython3",
   "version": "3.7.3"
  }
 },
 "nbformat": 4,
 "nbformat_minor": 2
}
