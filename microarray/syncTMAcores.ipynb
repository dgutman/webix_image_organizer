{
 "cells": [
  {
   "cell_type": "code",
   "execution_count": 2,
   "metadata": {},
   "outputs": [
    {
     "data": {
      "text/plain": [
       "{'_id': '5cacfa86e62914004a60e139'}"
      ]
     },
     "execution_count": 2,
     "metadata": {},
     "output_type": "execute_result"
    }
   ],
   "source": [
    "### This will look for all the autoTMA images, and check if the corresponding cores are on the server\n",
    "### if not, generate and upload them\n",
    "## It also generate a composite core of the H&E and the TMA core\n",
    "import dsaSecrets, io\n",
    "import girder_client, os\n",
    "%load_ext autoreload\n",
    "%autoreload 2\n",
    "import tmaHelpers as tma\n",
    "\n",
    "gc = girder_client.GirderClient(apiUrl=dsaSecrets.apiUrl)\n",
    "gc.authenticate(apiKey=dsaSecrets.apiToken)\n",
    "## Samples Images 62bb03e4e70def4ae72689f5"
   ]
  },
  {
   "cell_type": "code",
   "execution_count": 3,
   "metadata": {},
   "outputs": [],
   "source": [
    "tmaCoreInfo = {}  ### I'm going to stuck all of the information for all of the TMA slides into this dictionary for processing\n",
    "### This will grab all the ['B7']\n",
    "studyImageId = '62ded6cbe70def4ae726b228'\n",
    "studyImages = list(gc.listItem(studyImageId))\n",
    "for s in studyImages:\n",
    "    autoTMAdata = tma.getAutoTMAcoreInfo(gc,s['_id'])\n",
    "    tmaCoreInfo[s['name']] = {'itemInfo': s, 'autoTMAdata': autoTMAdata}\n",
    "## This gets the individual slides that have the tmas on them"
   ]
  },
  {
   "cell_type": "code",
   "execution_count": 5,
   "metadata": {},
   "outputs": [
    {
     "name": "stdout",
     "output_type": "stream",
     "text": [
      "997 TMA Cores have been uploaded\n"
     ]
    }
   ],
   "source": [
    "### get information for the TMA cores that are on the server..\n",
    "tmaCorePath = '/collection/RING Ki67/Cores'\n",
    "tcp = gc.get('resource/lookup?path=%s' % tmaCorePath)\n",
    "\n",
    "tmaCoreImages = list(gc.listItem(tcp['_id']))\n",
    "print(len(tmaCoreImages),'TMA Cores have been uploaded')\n",
    "\n",
    "uploadedTmaCores = [x['name'] for x in tmaCoreImages]"
   ]
  },
  {
   "cell_type": "code",
   "execution_count": 6,
   "metadata": {},
   "outputs": [
    {
     "name": "stdout",
     "output_type": "stream",
     "text": [
      "Processing 254461.svs\n",
      "Processing 254462.svs\n",
      "Processing 257591.svs\n",
      "Processing 257593.svs\n",
      "Processing 257595.svs\n",
      "Processing 257597.svs\n",
      "Processing 257600.svs\n",
      "Processing 257601.svs\n",
      "Processing 257603.svs\n",
      "Processing 257604.svs\n"
     ]
    }
   ],
   "source": [
    "roiNameSet = []\n",
    "for i in studyImages:\n",
    "    print(\"Processing\",i['name'])\n",
    "    roiNameSet.extend( tma.export_tma_cores(gc,i['_id'],uploadedTmaCores,roiDir='/mnt/c/devel/tmaCores') )"
   ]
  },
  {
   "cell_type": "code",
   "execution_count": 7,
   "metadata": {},
   "outputs": [
    {
     "name": "stdout",
     "output_type": "stream",
     "text": [
      "S11.G14.45735.24473.tiff 62e9d9b9e70def4ae727d44a\n",
      "S11.G15.48839.24019.tiff 62e9d9bae70def4ae727d44d\n",
      "S11.H15.48925.27538.tiff 62e9d9c2e70def4ae727d47a\n",
      "S11.I1.5568.32119.tiff 62e9d9c3e70def4ae727d47d\n",
      "S11.I10.33495.31437.tiff 62e9d9c8e70def4ae727d498\n",
      "S11.I11.36598.31361.tiff 62e9d9c8e70def4ae727d49b\n",
      "S11.I15.49011.31057.tiff 62e9d9cbe70def4ae727d4a7\n",
      "S11.I2.8671.32043.tiff 62e9d9c3e70def4ae727d480\n",
      "S11.I3.11774.31967.tiff 62e9d9c4e70def4ae727d483\n",
      "S11.I4.14877.31892.tiff 62e9d9c4e70def4ae727d486\n",
      "S11.I5.17980.31816.tiff 62e9d9c5e70def4ae727d489\n",
      "S11.I6.21083.31740.tiff 62e9d9c6e70def4ae727d48c\n",
      "S11.I7.24186.31664.tiff 62e9d9c6e70def4ae727d48f\n",
      "S11.I8.27289.31588.tiff 62e9d9c7e70def4ae727d492\n",
      "S11.I9.30392.31512.tiff 62e9d9c7e70def4ae727d495\n",
      "S11.J10.33581.34956.tiff 62e9d9d0e70def4ae727d4c5\n",
      "S11.J12.39787.34804.tiff 62e9d9d1e70def4ae727d4cb\n",
      "S11.J13.42890.34728.tiff 62e9d9d2e70def4ae727d4ce\n",
      "S11.J15.49009.34707.tiff 62e9d9d3e70def4ae727d4d4\n",
      "S11.J8.27375.35107.tiff 62e9d9cfe70def4ae727d4bf\n",
      "S11.J9.30478.35031.tiff 62e9d9cfe70def4ae727d4c2\n",
      "S18.D12.36676.13061.tiff 62e9dab7e70def4ae727d98a\n"
     ]
    }
   ],
   "source": [
    "## Delete cores that were uploaded but no longer match current centroid i.e. I updated the base image\n",
    "for x in tmaCoreImages:\n",
    "    if x['name'] not in roiNameSet:\n",
    "        print(x['name'],x['_id'])\n",
    "        gc.delete('item/%s' % x['_id'])"
   ]
  },
  {
   "cell_type": "code",
   "execution_count": 10,
   "metadata": {},
   "outputs": [
    {
     "name": "stdout",
     "output_type": "stream",
     "text": [
      "975 TMA Cores have been uploaded\n",
      "336 yaml files already generated\n"
     ]
    },
    {
     "name": "stderr",
     "output_type": "stream",
     "text": [
      "975it [03:04,  5.29it/s]  \n"
     ]
    }
   ],
   "source": [
    "### Generate the pairs of images for the multicore yaml file..\n",
    "## An HE image should be paired with the corresponding \n",
    "### The H&E images are 17 and 18 \n",
    "### These need to be mapped\n",
    "import random\n",
    "import tqdm\n",
    "\n",
    "clearYamlFolder = False\n",
    "random.seed(42)\n",
    "\n",
    "HEslideDict = {}\n",
    "### get information for the TMA cores that are on the server..\n",
    "tmaCorePath = '/collection/RING Ki67/Cores'\n",
    "tcp = gc.get('resource/lookup?path=%s' % tmaCorePath)\n",
    "\n",
    "tmaCoreImages = list(gc.listItem(tcp['_id']))\n",
    "print(len(tmaCoreImages),'TMA Cores have been uploaded')\n",
    "\n",
    "\n",
    "\n",
    "for c in tmaCoreImages:\n",
    "    (slide,coreId,cx,cy,ext) = c['name'].split(\".\")\n",
    "    if slide in ['S17','S18']:\n",
    "        if coreId not in HEslideDict:\n",
    "            HEslideDict[coreId] = c\n",
    "        else:\n",
    "            print(\"Duplicate HE core detected for\",coreId,slide)\n",
    "\n",
    "## Now that I have the HEs to pair, I Can loop through all the cores and generate the composite\n",
    "\n",
    "yamlRootFolder = '62e9287be70def4ae7275e94'\n",
    "\n",
    "## GEt a list of all the existing YAML files in the target directory\n",
    "\n",
    "\n",
    "if clearYamlFolder:\n",
    "    #curYamlFileList = gc.listResource(f'resource/{yamlRootFolder}/items?type=folder')\n",
    "    curYamlFileList = gc.get(f'resource/{yamlRootFolder}/items?type=folder&limit=5000')\n",
    "    for y in tqdm.tqdm(curYamlFileList):\n",
    "        gc.delete('item/%s' % y['_id'])\n",
    "    curlYamlFileList = []\n",
    "else:\n",
    "    curYamlFileList = [x['name'] for x in gc.get(f'resource/{yamlRootFolder}/items?type=folder&limit=5000')]  ## NEED TO MAKE THIS RECURSIVE IN NEXT ITERATION\n",
    "    \n",
    "\n",
    "print(len(curYamlFileList),'yaml files already generated')\n",
    "    \n",
    "batchFolderList = list(gc.listFolder(yamlRootFolder))\n",
    "random.shuffle(tmaCoreImages) ## Shuffle core images\n",
    "\n",
    "\n",
    "for i,c in tqdm.tqdm( enumerate(tmaCoreImages)):\n",
    "    (slide,coreId,cx,cy,ext) = c['name'].split(\".\")\n",
    "    if slide  not in ['S17','S18']:\n",
    "        ## So these are then.. NOT H&E cores\n",
    "        yamlFileName = f'{slide}.{coreId}.yaml'\n",
    "        if yamlFileName not in curYamlFileList:\n",
    "            batchFolderId = batchFolderList[i% len(batchFolderList)]['_id']\n",
    "#             try:\n",
    "            mcYaml = tma.writeMultiCoreYaml(gc, c['_id'], HEslideDict[coreId]['_id'] )\n",
    "            f = io.StringIO(mcYaml)\n",
    "            gc.uploadFile(batchFolderId,f,yamlFileName,len(mcYaml),parentType='folder')\n",
    "#             except:\n",
    "#                 print(\"Some error with\",slide,coreId)"
   ]
  },
  {
   "cell_type": "code",
   "execution_count": null,
   "metadata": {},
   "outputs": [],
   "source": [
    "HEslideDict.keys()"
   ]
  },
  {
   "cell_type": "code",
   "execution_count": null,
   "metadata": {},
   "outputs": [],
   "source": [
    "c"
   ]
  },
  {
   "cell_type": "code",
   "execution_count": null,
   "metadata": {},
   "outputs": [],
   "source": []
  },
  {
   "cell_type": "code",
   "execution_count": null,
   "metadata": {},
   "outputs": [],
   "source": [
    "# def getAutoTMAcoreInfo( gc, imgId, tmaAnnotationName='autoTMA'):\n",
    "#     ### This will find and return the latest autoTMA record associated with a given image\n",
    "#     i = gc.get('item/%s' % imgId)\n",
    "#     fileRoot = i['meta']['slideNumber']\n",
    "    \n",
    "#     ## Get autoTMA documents for this item\n",
    "#     tmaDocs=  gc.get('annotation?itemId=%s&name=%s' % (imgId, tmaAnnotationName))\n",
    "#     print(len(tmaDocs),'autoTMA annotations found... will use the most recent one')\n",
    "    \n",
    "#     if tmaDocs:\n",
    "#         ae = gc.get('annotation/%s' % tmaDocs[-1]['_id']) ## Grab the last one... assume that's the most recent.. may need to check\n",
    "#         print(len(ae['annotation']['elements']),'total ROIs to export')\n",
    "#     else:\n",
    "#         ae = None\n",
    "#         print(\"No tma cores found for this image..\")\n",
    "    \n",
    "#     return ae\n",
    "#     roiDir = 'ROI_Export'\n",
    "    \n",
    "#     if not os.path.isdir(roiDir):\n",
    "#         os.mkdir(roiDir)\n",
    "\n",
    "#     for roi in ae['annotation']['elements']:\n",
    "#         roiFileName = \"%s/%s.%s.%d.%d.tiff\" % (roiDir,fileRoot,roi['label']['value'],roi['center'][0],roi['center'][1])\n",
    "        \n",
    "#         if not os.path.isfile(roiFileName):\n",
    "#             print(roiFileName)\n",
    "#             r= tma.get_annotation_region(gc,imgId,roi)        \n",
    "\n",
    "#             with open(roiFileName,\"wb\") as fpi:\n",
    "#                 fpi.write(r)\n",
    "        \n",
    "       "
   ]
  }
 ],
 "metadata": {
  "kernelspec": {
   "display_name": "Python 3 (ipykernel)",
   "language": "python",
   "name": "python3"
  },
  "language_info": {
   "codemirror_mode": {
    "name": "ipython",
    "version": 3
   },
   "file_extension": ".py",
   "mimetype": "text/x-python",
   "name": "python",
   "nbconvert_exporter": "python",
   "pygments_lexer": "ipython3",
   "version": "3.8.10"
  }
 },
 "nbformat": 4,
 "nbformat_minor": 2
}
