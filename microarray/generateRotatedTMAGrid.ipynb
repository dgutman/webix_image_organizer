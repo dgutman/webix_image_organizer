{
 "cells": [
  {
   "cell_type": "code",
   "execution_count": 1,
   "metadata": {},
   "outputs": [],
   "source": [
    "##https://www.statology.org/matplotlib-rectangle/\n",
    "from PIL import Image\n",
    "from io import BytesIO\n",
    "import numpy as np\n",
    "import matplotlib.pyplot as plt\n",
    "import girder_client\n",
    "import dsaSecrets \n",
    "import random\n",
    "from matplotlib.patches import Rectangle\n",
    "from IPython.display import display\n",
    "import matplotlib.pylab as plt\n",
    "import numpy as np\n",
    "from ipywidgets import interact,FloatSlider,IntSlider,interactive,HBox,VBox, fixed\n",
    "%matplotlib inline\n",
    "\n",
    "%load_ext autoreload\n",
    "%autoreload 2\n",
    "\n",
    "\n",
    "import tmaHelpers as tma\n",
    "\n",
    "gc = girder_client.GirderClient(apiUrl=dsaSecrets.apiUrl)\n",
    "gc.authenticate(apiKey=dsaSecrets.apiToken)\n",
    "## Samples Images 62bb03e4e70def4ae72689f5\n",
    "\n",
    "%matplotlib inline"
   ]
  },
  {
   "cell_type": "code",
   "execution_count": 2,
   "metadata": {},
   "outputs": [],
   "source": [
    "## SEt all the variables needed to pull an image, as well as the fiducial points.. for now the fiducials are at 0.625X\n",
    "\n",
    "imgId = '62bb03e4e70def4ae72689f5'\n",
    "dispMag = 0.625 ### For testing I don't want to try and view the entire 20 or 40X image..\n",
    "\n",
    "#add rectangle\n",
    "topLeft = (115,50)\n",
    "bottomRight = (1540,1180)\n",
    "topRight = (1560,70)\n",
    "\n",
    "colLabels = [1,2,3,4,5,6,7,8,9,10,11,12,13,14,15]\n",
    "rowLabels = [\"A\",\"B\",\"C\",\"D\",\"E\",\"F\",\"G\",\"H\",\"I\",\"J\"]\n",
    "\n",
    "\n",
    "tileInfo = gc.get('item/%s/tiles' % imgId)\n",
    "#https://styx.neurology.emory.edu/girder/api/v1/item/62bb03e4e70def4ae72689f5/tiles/region?units=base_pixels&magnification=0.625&exact=false&encoding=JPEG&jpegQuality=95&jpegSubsampling=0\n",
    "imgThumb = gc.get(\"item/%s/tiles/region?units=base_pixel&magnification=%s\" % (imgId, dispMag),jsonResp=False)"
   ]
  },
  {
   "cell_type": "code",
   "execution_count": null,
   "metadata": {},
   "outputs": [],
   "source": []
  },
  {
   "cell_type": "code",
   "execution_count": 3,
   "metadata": {},
   "outputs": [
    {
     "data": {
      "application/vnd.jupyter.widget-view+json": {
       "model_id": "ff0b959f7e7343d1a13a394b3a169885",
       "version_major": 2,
       "version_minor": 0
      },
      "text/plain": [
       "VBox(children=(HBox(children=(IntSlider(value=100, continuous_update=False, description='w', max=112, min=10),…"
      ]
     },
     "metadata": {},
     "output_type": "display_data"
    },
    {
     "data": {
      "application/vnd.jupyter.widget-view+json": {
       "model_id": "6aebb5d6fd27462aa13ec3f8fb0b31a4",
       "version_major": 2,
       "version_minor": 0
      },
      "text/plain": [
       "Output()"
      ]
     },
     "metadata": {},
     "output_type": "display_data"
    },
    {
     "data": {
      "text/plain": [
       "(134, 33)"
      ]
     },
     "execution_count": 3,
     "metadata": {},
     "output_type": "execute_result"
    }
   ],
   "source": [
    "# ## Convert image to a numpy array so I can plot it with matplotlib\n",
    "region_im = np.array(Image.open(BytesIO(imgThumb.content)))\n",
    "tmaCore = region_im\n",
    "    \n",
    "### can use the region_im.shape to set sensible defaults for the tmaWidth and Height\n",
    "tmaWidth_s,tmaHeight_s, theta_s,leftX_s,leftY_s = tma.generateTMAcontrols(rowLabels,colLabels, region_im)\n",
    "\n",
    "ip = interactive(tma.plotGrid,w=tmaWidth_s,h=tmaHeight_s,x1=leftX_s,y1=leftY_s,theta=theta_s,\n",
    "                 baseImage=fixed(region_im),colLabels=fixed(colLabels),rowLabels=fixed(rowLabels))\n",
    "\n",
    "ctrlLineOne = HBox([tmaWidth_s,tmaHeight_s,theta_s])\n",
    "ctrlLineTwo = HBox([leftX_s,leftY_s])\n",
    "\n",
    "display(VBox([ctrlLineOne,ctrlLineTwo ]))#Show all controls\n",
    "\n",
    "display(ip.children[-1])#Show the output\n",
    "#display(ip)#Show the output\n",
    "\n",
    "#97, 113, -2.60\n",
    "134,33\n",
    "\n",
    "#plotGrid(1,2,3,4,5)\n",
    "# display(ip)"
   ]
  },
  {
   "cell_type": "code",
   "execution_count": null,
   "metadata": {},
   "outputs": [],
   "source": [
    "# x=1\n",
    "# y=1\n",
    "# x1 = int(tmaWidth*x+topLeft[0])\n",
    "# y1 = int(tmaHeight*y+topLeft[1])\n",
    "# w =  int(tmaWidth)\n",
    "# h = int(tmaHeight)\n",
    "# print(x1,y1,w,h)\n",
    "# plt.imshow(region_im[y1:(y1+h),x1:(x1+w),:])\n",
    "\n",
    "# tmaCore = region_im[y1:(y1+h),x1:(x1+w),:]"
   ]
  },
  {
   "cell_type": "code",
   "execution_count": null,
   "metadata": {},
   "outputs": [],
   "source": []
  },
  {
   "cell_type": "markdown",
   "metadata": {},
   "source": [
    "### Rotating a grid...  need to also deal with offset..\n",
    "X=xcos(θ)+ysin(θ)\n",
    "Y=−x*sin(θ)+y*cos(θ)\n"
   ]
  },
  {
   "cell_type": "code",
   "execution_count": null,
   "metadata": {},
   "outputs": [],
   "source": []
  },
  {
   "cell_type": "code",
   "execution_count": null,
   "metadata": {},
   "outputs": [],
   "source": [
    "\n",
    "# r= tma.get_annotation_region(gc,imgId,ae)"
   ]
  },
  {
   "cell_type": "code",
   "execution_count": null,
   "metadata": {},
   "outputs": [],
   "source": [
    "# imgLocalFileName = 'imabig2.tiff'\n",
    "\n",
    "# with open(imgLocalFileName,\"wb\") as fpi:\n",
    "#     fpi.write(r)\n"
   ]
  },
  {
   "cell_type": "code",
   "execution_count": null,
   "metadata": {},
   "outputs": [],
   "source": [
    "import cv2\n",
    "## dont forget the damn scale factor\n",
    "s = int(elementScaleFactor)\n",
    "\n",
    "xs = leftX_s.value\n",
    "ys = leftY_s.value\n",
    "xe = (leftX_s.value+tmaWidth_s.value)\n",
    "ye = (leftY_s.value+tmaWidth_s.value)\n",
    "\n",
    "print(xs,ys,xe,ye)\n",
    "\n",
    "tmaCore = region_im[ys:ye,xs:xe,:]\n",
    "img = tmaCore\n",
    "### numpy is columns row, not row columns.. and yes this is confusing\n",
    "\n",
    "gray_image = cv2.cvtColor(img, cv2.COLOR_BGR2GRAY)\n",
    "\n",
    "\n",
    "gray_image = ~gray_image\n",
    "# # convert the grayscale image to binary image\n",
    "ret,thresh = cv2.threshold(gray_image,127,255,0)\n",
    "\n",
    "# # calculate moments of binary image\n",
    "M = cv2.moments(thresh)\n",
    "cX = int(M[\"m10\"] / M[\"m00\"])\n",
    "cY = int(M[\"m01\"] / M[\"m00\"])\n",
    "# # put text and highlight the center\n",
    "cv2.circle(img, (cX, cY), 5, (0, 0, 255), -1)\n",
    "# 16\n",
    "cv2.putText(img, \"centroid\", (cX - 25, cY - 25),cv2.FONT_HERSHEY_SIMPLEX, 0.5, (255, 255, 255), 2)\n",
    "# 17\n",
    "print(cX,cY,img.shape)\n",
    "plt.imshow(img)"
   ]
  },
  {
   "cell_type": "code",
   "execution_count": 4,
   "metadata": {},
   "outputs": [
    {
     "ename": "NameError",
     "evalue": "name 'ys' is not defined",
     "output_type": "error",
     "traceback": [
      "\u001b[0;31m---------------------------------------------------------------------------\u001b[0m",
      "\u001b[0;31mNameError\u001b[0m                                 Traceback (most recent call last)",
      "\u001b[0;32m<ipython-input-4-7736fc1ec095>\u001b[0m in \u001b[0;36m<module>\u001b[0;34m\u001b[0m\n\u001b[0;32m----> 1\u001b[0;31m \u001b[0mtmaCore\u001b[0m \u001b[0;34m=\u001b[0m \u001b[0mregion_im\u001b[0m\u001b[0;34m[\u001b[0m\u001b[0mys\u001b[0m\u001b[0;34m:\u001b[0m\u001b[0mye\u001b[0m\u001b[0;34m,\u001b[0m\u001b[0mxs\u001b[0m\u001b[0;34m:\u001b[0m\u001b[0mxe\u001b[0m\u001b[0;34m,\u001b[0m\u001b[0;34m:\u001b[0m\u001b[0;34m]\u001b[0m\u001b[0;34m\u001b[0m\u001b[0;34m\u001b[0m\u001b[0m\n\u001b[0m\u001b[1;32m      2\u001b[0m \u001b[0;34m\u001b[0m\u001b[0m\n\u001b[1;32m      3\u001b[0m \u001b[0mimg\u001b[0m\u001b[0;34m=\u001b[0m\u001b[0mnp\u001b[0m\u001b[0;34m.\u001b[0m\u001b[0mcopy\u001b[0m\u001b[0;34m(\u001b[0m\u001b[0mtmaCore\u001b[0m\u001b[0;34m)\u001b[0m\u001b[0;34m\u001b[0m\u001b[0;34m\u001b[0m\u001b[0m\n\u001b[1;32m      4\u001b[0m \u001b[0;31m#ret,th2 = cv2.threshold(~img,20,255,cv2.THRESH_BINARY)\u001b[0m\u001b[0;34m\u001b[0m\u001b[0;34m\u001b[0m\u001b[0;34m\u001b[0m\u001b[0m\n\u001b[1;32m      5\u001b[0m \u001b[0;34m\u001b[0m\u001b[0m\n",
      "\u001b[0;31mNameError\u001b[0m: name 'ys' is not defined"
     ]
    }
   ],
   "source": [
    "tmaCore = region_im[ys:ye,xs:xe,:]\n",
    "\n",
    "img=np.copy(tmaCore)\n",
    "#ret,th2 = cv2.threshold(~img,20,255,cv2.THRESH_BINARY)\n",
    "\n",
    "gray = cv2.cvtColor(img, cv2.COLOR_BGR2GRAY)\n",
    "blurred = cv2.GaussianBlur(gray, (7, 7), 0)\n",
    "\n",
    "ret = [0,0,0,0]  ## intialize array with 4 values\n",
    "\n",
    "ret[1],th1 = cv2.threshold(~gray,127,255,cv2.THRESH_BINARY)\n",
    "(ret[2], th2) = cv2.threshold(blurred, 0, 255,cv2.THRESH_BINARY_INV | cv2.THRESH_OTSU)\n",
    "ret[3],th3 = cv2.threshold(~img,30,255,cv2.THRESH_BINARY)\n",
    "\n",
    "### OTSU THRESHOLIND ON BLURRED IMAGE WORKED THE BEST\n",
    "\n",
    "\n",
    "\n",
    "titles = ['Original Image ', 'Global Thresholding (v = 10) ',\n",
    "            'Otsu Thresholding ', 'Adaptive Gaussian Thresholding ']\n",
    "images = [img, th1, th2, th3]\n",
    "for i in range(4):\n",
    "    plt.subplot(2,2,i+1),plt.imshow(images[i],'gray')\n",
    "    plt.title(titles[i]+str(ret[i]))\n",
    "    plt.xticks([]),plt.yticks([])\n",
    "    \n",
    "    ## Computing Centroid of images as well... will eventually do something with this..\n",
    "    cX,cY = tma.calculateImgCentroid(images[i],ret[i])\n",
    "    print('Centroid of image %d is %s %s' % (i,cX,cY))\n",
    "    \n",
    "plt.show()"
   ]
  },
  {
   "cell_type": "code",
   "execution_count": null,
   "metadata": {},
   "outputs": [],
   "source": [
    "\n",
    "\n",
    "\n",
    "# plt.rcParams[\"figure.figsize\"] = (15,15)\n",
    "# plt.imshow(region_im)\n",
    "\n",
    "# tmaWidth = ( bottomRight[0] - topLeft[0] ) / len(colLabels)\n",
    "# tmaHeight = ( bottomRight[1] - topLeft[1] ) / len(rowLabels)\n",
    "# elementScaleFactor = tileInfo['magnification']/dispMag\n",
    "\n",
    "# cmap = tma.get_cmap( len(colLabels) * len(rowLabels))\n",
    "\n",
    "# ## While I display the ROI in a matplotlib figure below\n",
    "# annotationElements = []\n",
    "\n",
    "# for x,r in enumerate(colLabels):\n",
    "#     #print(\"Row: %s\" % r)\n",
    "#     for y,c in enumerate(rowLabels):\n",
    "#         #print(\"\\t\",r,c)\n",
    "\n",
    "#         x1 = tmaWidth*x+topLeft[0]\n",
    "#         y1 = tmaHeight*y+topLeft[1]\n",
    "        \n",
    "#         plt.gca().add_patch(Rectangle((x1,y1),tmaWidth,tmaHeight,\n",
    "#                             angle=1,\n",
    "#                             edgecolor=cmap( random.randint(0,len(colLabels) * len(rowLabels))),\n",
    "#                             facecolor='none',\n",
    "#                             lw=2))\n",
    "        \n",
    "#         annotationElements.append( {'fillColor': 'rgba(0, 0, 0, 0)',\n",
    "#     'label': {\"value\": \"%s%s\" % (r,c)},\n",
    "#     'lineColor': tma.generate_random_color(),\n",
    "#     'lineWidth': 1,\n",
    "#     'type': 'rectangle',\n",
    "#     'center': [(x1+tmaWidth/2)*elementScaleFactor,(y1+tmaHeight/2)*elementScaleFactor,0],\n",
    "#     'width': tmaWidth*elementScaleFactor,\n",
    "#     'height': tmaHeight*elementScaleFactor,\n",
    "#     })\n",
    "        \n",
    "# #plot fiducial for upper left \n",
    "# plt.plot(topLeft[0],topLeft[1], marker='v', color=\"red\")\n",
    "# #plot fiducial for bottom right\n",
    "# plt.plot(bottomRight[0],bottomRight[1], marker='x', color=\"blue\")\n",
    "\n",
    "# #add fiducial for topRight\n",
    "# plt.plot(topRight[0],topRight[1], marker='o', color=\"pink\")\n",
    "\n",
    "# tmaAe = {\n",
    "#   \"name\": \"autoTMA\",              # Non-empty string.  Optional\n",
    "#   \"description\": \"This is a description\",  # String.  Optional\n",
    "#   \"elements\": annotationElements                           # A list.  Optional.\n",
    "#                                            # See below for valid elements.\n",
    "# }\n",
    "# gc.post('annotation?itemId=%s' % imgId,json=tmaAe)\n"
   ]
  },
  {
   "cell_type": "code",
   "execution_count": null,
   "metadata": {},
   "outputs": [],
   "source": []
  },
  {
   "cell_type": "code",
   "execution_count": null,
   "metadata": {},
   "outputs": [],
   "source": [
    "# th2 = cv2.adaptiveThreshold(img,255,cv2.ADAPTIVE_THRESH_MEAN_C,\\\n",
    "#             cv2.THRESH_BINARY,11,2)\n",
    "# th3 = cv2.adaptiveThreshold(img,255,cv2.ADAPTIVE_THRESH_GAUSSIAN_C,\\\n",
    "#             cv2.THRESH_BINARY,11,2)\n",
    "# convert the image to grayscale and blur it slightly\n",
    "# gray = cv2.cvtColor(image, cv2.COLOR_BGR2GRAY)\n",
    "# blurred = cv2.GaussianBlur(gray, (7, 7), 0)\n",
    "\n",
    "# plt.imshow(region_im)\n"
   ]
  },
  {
   "cell_type": "code",
   "execution_count": null,
   "metadata": {},
   "outputs": [],
   "source": [
    "import cv2 as cv\n",
    "import numpy as np\n",
    "from matplotlib import pyplot as plt\n",
    "\n",
    "img = cv2.cvtColor(tmaCore, cv2.COLOR_BGR2GRAY)\n",
    "\n",
    "\n",
    "# global thresholding\n",
    "ret1,th1 = cv.threshold(img,127,255,cv.THRESH_BINARY)\n",
    "# Otsu's thresholding\n",
    "ret2,th2 = cv.threshold(img,0,255,cv.THRESH_BINARY+cv.THRESH_OTSU)\n",
    "# Otsu's thresholding after Gaussian filtering\n",
    "blur = cv.GaussianBlur(img,(5,5),0)\n",
    "ret3,th3 = cv.threshold(blur,0,255,cv.THRESH_BINARY+cv.THRESH_OTSU)\n",
    "# plot all the images and their histograms\n",
    "images = [img, 0, th1,\n",
    "          img, 0, th2,\n",
    "          blur, 0, th3]\n",
    "titles = ['Original Noisy Image','Histogram','Global Thresholding (v=127)',\n",
    "          'Original Noisy Image','Histogram',\"Otsu's Thresholding\",\n",
    "          'Gaussian filtered Image','Histogram',\"Otsu's Thresholding\"]\n",
    "for i in range(3):\n",
    "    plt.subplot(3,3,i*3+1),plt.imshow(images[i*3],'gray')\n",
    "    plt.title(titles[i*3]), plt.xticks([]), plt.yticks([])\n",
    "    plt.subplot(3,3,i*3+2),plt.hist(images[i*3].ravel(),256)\n",
    "    plt.title(titles[i*3+1]), plt.xticks([]), plt.yticks([])\n",
    "    plt.subplot(3,3,i*3+3),plt.imshow(images[i*3+2],'gray')\n",
    "    plt.title(titles[i*3+2]), plt.xticks([]), plt.yticks([])\n",
    "plt.show()"
   ]
  }
 ],
 "metadata": {
  "kernelspec": {
   "display_name": "Python 3",
   "language": "python",
   "name": "python3"
  },
  "language_info": {
   "codemirror_mode": {
    "name": "ipython",
    "version": 3
   },
   "file_extension": ".py",
   "mimetype": "text/x-python",
   "name": "python",
   "nbconvert_exporter": "python",
   "pygments_lexer": "ipython3",
   "version": "3.7.3"
  }
 },
 "nbformat": 4,
 "nbformat_minor": 2
}
